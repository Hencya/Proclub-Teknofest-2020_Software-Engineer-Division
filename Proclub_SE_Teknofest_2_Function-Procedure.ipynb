{
  "nbformat": 4,
  "nbformat_minor": 0,
  "metadata": {
    "colab": {
      "name": "Proclub SE Teknofest 2 : Function.ipynb",
      "provenance": [],
      "collapsed_sections": []
    },
    "kernelspec": {
      "name": "python3",
      "display_name": "Python 3"
    }
  },
  "cells": [
    {
      "cell_type": "markdown",
      "metadata": {
        "id": "l0gJgKvc1Bn8"
      },
      "source": [
        "## **Procedure : Basic**"
      ]
    },
    {
      "cell_type": "code",
      "metadata": {
        "id": "IPu6u6mU0-Mw",
        "colab": {
          "base_uri": "https://localhost:8080/"
        },
        "outputId": "e5b78e7b-007e-4f30-9a3e-35fefcf9931a"
      },
      "source": [
        "def barang():\n",
        "    print(\"Apple\")\n",
        "    print(\"Jeruk\")\n",
        "    print(\"Papaya\")\n",
        "\n",
        "barang()\n",
        "barang()"
      ],
      "execution_count": null,
      "outputs": [
        {
          "output_type": "stream",
          "text": [
            "Apple\n",
            "Jeruk\n",
            "Papaya\n",
            "Apple\n",
            "Jeruk\n",
            "Papaya\n"
          ],
          "name": "stdout"
        }
      ]
    },
    {
      "cell_type": "markdown",
      "metadata": {
        "id": "Pmgt7DLb05Px"
      },
      "source": [
        "## **Function : Basic Parameter**"
      ]
    },
    {
      "cell_type": "code",
      "metadata": {
        "id": "ar9HbOGU0kCM",
        "colab": {
          "base_uri": "https://localhost:8080/"
        },
        "outputId": "658c47c9-c936-4e4c-e9bb-f635c5b043b7"
      },
      "source": [
        "def diskon(harga, persen):\n",
        "    diskon = harga * persen / 100\n",
        "    return int(harga - diskon)\n",
        "\n",
        "print(diskon(1000, 10))"
      ],
      "execution_count": null,
      "outputs": [
        {
          "output_type": "stream",
          "text": [
            "900\n"
          ],
          "name": "stdout"
        }
      ]
    },
    {
      "cell_type": "markdown",
      "metadata": {
        "id": "aVM9Xf1K2ips"
      },
      "source": [
        "## **Function : Non-Keyword Arguments Parameter (args)**"
      ]
    },
    {
      "cell_type": "code",
      "metadata": {
        "id": "O-3mt-xT2ziu",
        "colab": {
          "base_uri": "https://localhost:8080/"
        },
        "outputId": "67f37698-dc7c-4373-bc79-92f261fb0dae"
      },
      "source": [
        "def diskon(*args):\n",
        "    harga, persen = args \n",
        "    diskon = harga * persen / 100\n",
        "    return int(harga - diskon)\n",
        "\n",
        "print(diskon(100,10))"
      ],
      "execution_count": null,
      "outputs": [
        {
          "output_type": "stream",
          "text": [
            "90\n"
          ],
          "name": "stdout"
        }
      ]
    },
    {
      "cell_type": "markdown",
      "metadata": {
        "id": "ZH0H-7mC14Sw"
      },
      "source": [
        "## **Funtion : Variable Assignment**"
      ]
    },
    {
      "cell_type": "code",
      "metadata": {
        "id": "g0XutgBW19Zn",
        "colab": {
          "base_uri": "https://localhost:8080/"
        },
        "outputId": "8608b84a-0eef-4ad8-9dc1-62b754da4acf"
      },
      "source": [
        "def diskon(harga, persen):\n",
        "    diskon = harga * persen / 100\n",
        "    return int(harga - diskon)\n",
        "\n",
        "diskon = diskon(1000, 10)\n",
        "\n",
        "print(diskon)"
      ],
      "execution_count": null,
      "outputs": [
        {
          "output_type": "stream",
          "text": [
            "900\n"
          ],
          "name": "stdout"
        }
      ]
    },
    {
      "cell_type": "markdown",
      "metadata": {
        "id": "I0lxGkWy3uuH"
      },
      "source": [
        "## **Function : Scope Error**"
      ]
    },
    {
      "cell_type": "code",
      "metadata": {
        "id": "r2XIcqR23ywO",
        "colab": {
          "base_uri": "https://localhost:8080/",
          "height": 195
        },
        "outputId": "c2dae400-bb09-4298-ca27-ae9f0c006660"
      },
      "source": [
        "def angka():\n",
        "  y = 300\n",
        "\n",
        "angka()\n",
        "\n",
        "# Error Karena Variabel (y) Terdapat Dalam Function Dan Bersifat Lokal\n",
        "print(y)\n"
      ],
      "execution_count": null,
      "outputs": [
        {
          "output_type": "error",
          "ename": "NameError",
          "evalue": "ignored",
          "traceback": [
            "\u001b[0;31m---------------------------------------------------------------------------\u001b[0m",
            "\u001b[0;31mNameError\u001b[0m                                 Traceback (most recent call last)",
            "\u001b[0;32m<ipython-input-5-c248422b2880>\u001b[0m in \u001b[0;36m<module>\u001b[0;34m()\u001b[0m\n\u001b[1;32m      5\u001b[0m \u001b[0;34m\u001b[0m\u001b[0m\n\u001b[1;32m      6\u001b[0m \u001b[0;31m# Error Karena Variabel Total Diskon Terdapat Dalam Function Dan Bersifat Lokal\u001b[0m\u001b[0;34m\u001b[0m\u001b[0;34m\u001b[0m\u001b[0;34m\u001b[0m\u001b[0m\n\u001b[0;32m----> 7\u001b[0;31m \u001b[0mprint\u001b[0m\u001b[0;34m(\u001b[0m\u001b[0my\u001b[0m\u001b[0;34m)\u001b[0m\u001b[0;34m\u001b[0m\u001b[0;34m\u001b[0m\u001b[0m\n\u001b[0m",
            "\u001b[0;31mNameError\u001b[0m: name 'y' is not defined"
          ]
        }
      ]
    },
    {
      "cell_type": "markdown",
      "metadata": {
        "id": "4HWy3q_w4Zr9"
      },
      "source": [
        "## **Function : Scope Global**"
      ]
    },
    {
      "cell_type": "code",
      "metadata": {
        "id": "N-GbhbWo4J8P",
        "colab": {
          "base_uri": "https://localhost:8080/"
        },
        "outputId": "eb11256b-8e3e-477f-85e3-fa116bf09102"
      },
      "source": [
        "def angka():\n",
        "  global x # Gunakan Global Untuk Keluar Dari Scope Local Function\n",
        "  x = 300\n",
        "\n",
        "angka()\n",
        "print(x)\n"
      ],
      "execution_count": null,
      "outputs": [
        {
          "output_type": "stream",
          "text": [
            "300\n"
          ],
          "name": "stdout"
        }
      ]
    },
    {
      "cell_type": "markdown",
      "metadata": {
        "id": "AsW5e_e86r_m"
      },
      "source": [
        "## **Function : Input Variable**"
      ]
    },
    {
      "cell_type": "code",
      "metadata": {
        "id": "iWx9hIiN6wpe",
        "colab": {
          "base_uri": "https://localhost:8080/"
        },
        "outputId": "20686b30-6c68-4d30-e76c-42306dda2891"
      },
      "source": [
        "def diskon(harga, persen):\n",
        "    diskon = harga * persen / 100\n",
        "    return int(harga - diskon)\n",
        "    \n",
        "diskon = diskon(int(input()), 10)\n",
        "\n",
        "print(diskon)"
      ],
      "execution_count": null,
      "outputs": [
        {
          "output_type": "stream",
          "text": [
            "10\n",
            "9\n"
          ],
          "name": "stdout"
        }
      ]
    },
    {
      "cell_type": "markdown",
      "metadata": {
        "id": "V77wXYvK9-YL"
      },
      "source": [
        "## **Function : Case Recursive (Perpangkatan)**"
      ]
    },
    {
      "cell_type": "code",
      "metadata": {
        "id": "oJzddHVH9fTb",
        "colab": {
          "base_uri": "https://localhost:8080/"
        },
        "outputId": "efcdb4c4-633c-4a2d-975f-bbce61294535"
      },
      "source": [
        "def pangkat(x,y):\n",
        "   if y == 0:\n",
        "      return 1\n",
        "   else:\n",
        "      return x * pangkat(x,y-1) \n",
        "\n",
        "x = 3  \n",
        "y = 2\n",
        "\n",
        "print(pangkat(x,y)) # 3^2 = 9\n",
        "\n",
        "# pangkat(3,2)\n",
        "# y == 2 \n",
        "# 3 * pangkat(3, 1)\n",
        "# y == 1\n",
        "# 3 * 3 * pangkat(3,0)\n",
        "# y == 0\n",
        "# 3 * 3 * 1\n",
        "# 9"
      ],
      "execution_count": null,
      "outputs": [
        {
          "output_type": "stream",
          "text": [
            "9\n"
          ],
          "name": "stdout"
        }
      ]
    },
    {
      "cell_type": "markdown",
      "metadata": {
        "id": "-74YzOe2BBSN"
      },
      "source": [
        "## **Function : Args Dan Kwargs**"
      ]
    },
    {
      "cell_type": "code",
      "metadata": {
        "id": "QBIB3TTW9xXj",
        "colab": {
          "base_uri": "https://localhost:8080/"
        },
        "outputId": "bc6d6961-116d-4766-bccf-13b461c6d008"
      },
      "source": [
        "# Fungsi dengan parameter *args\n",
        "def send(*number):\n",
        "    print(number)\n",
        "\n",
        "# Fungsi dengan parameter **kwargs\n",
        "def message(**contents):\n",
        "    print(contents)\n",
        "\n",
        "# Pemanggilan fungsi *args\n",
        "send(123, 888, 4444)\n",
        "\n",
        "# pemanggilan fungsi **kwargs\n",
        "message(number=123, message=\"Gimana ?\")"
      ],
      "execution_count": null,
      "outputs": [
        {
          "output_type": "stream",
          "text": [
            "(123, 888, 4444)\n",
            "{'number': 123, 'message': 'Gimana ?'}\n"
          ],
          "name": "stdout"
        }
      ]
    }
  ]
}