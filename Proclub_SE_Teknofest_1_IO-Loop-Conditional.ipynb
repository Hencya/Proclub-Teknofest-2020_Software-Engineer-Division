{
  "nbformat": 4,
  "nbformat_minor": 0,
  "metadata": {
    "colab": {
      "name": "Proclub SE Teknofest - 1.ipynb",
      "provenance": [],
      "collapsed_sections": []
    },
    "kernelspec": {
      "name": "python3",
      "display_name": "Python 3"
    }
  },
  "cells": [
    {
      "cell_type": "markdown",
      "metadata": {
        "id": "6jVB-ceja-yv"
      },
      "source": [
        "## **Base Input Output**"
      ]
    },
    {
      "cell_type": "code",
      "metadata": {
        "id": "lW5OVo08azIZ",
        "colab": {
          "base_uri": "https://localhost:8080/"
        },
        "outputId": "3f46d85e-5d80-4d17-87ac-35ca5ddd4f2d"
      },
      "source": [
        "print('Hello World')"
      ],
      "execution_count": null,
      "outputs": [
        {
          "output_type": "stream",
          "text": [
            "Hello World\n"
          ],
          "name": "stdout"
        }
      ]
    },
    {
      "cell_type": "markdown",
      "metadata": {
        "id": "CjUvYonKbK5O"
      },
      "source": [
        "## **Data Type : Basic Operation**"
      ]
    },
    {
      "cell_type": "code",
      "metadata": {
        "id": "nG37ICdlbFnV",
        "colab": {
          "base_uri": "https://localhost:8080/"
        },
        "outputId": "cd5903b1-6d9b-4757-bd44-9f03c7020e16"
      },
      "source": [
        "# Numeric Operators\n",
        "print(1)\n",
        "print(1+1)\n",
        "print(2.3*2) \n",
        "print(2**3) # Exponent\n",
        "print(2%2) \n",
        "print(2//2) # Division\n",
        "print(3.5, '\\n')\n",
        "\n",
        "# Comparison Operators\n",
        "print(1>2)\n",
        "print(2<10)\n",
        "print(10>=10)\n",
        "print(10==1, '\\n')\n",
        "\n",
        "# Logical Operators\n",
        "print(True and True)\n",
        "print(True and False)"
      ],
      "execution_count": null,
      "outputs": [
        {
          "output_type": "stream",
          "text": [
            "1\n",
            "2\n",
            "4.6\n",
            "8\n",
            "0\n",
            "1\n",
            "3.5 \n",
            "\n",
            "False\n",
            "True\n",
            "True\n",
            "False \n",
            "\n",
            "True\n",
            "False\n"
          ],
          "name": "stdout"
        }
      ]
    },
    {
      "cell_type": "markdown",
      "metadata": {
        "id": "Yu3D473vbhDm"
      },
      "source": [
        "## **Data Type : Error**"
      ]
    },
    {
      "cell_type": "code",
      "metadata": {
        "id": "_cOPLHZxbXJS",
        "colab": {
          "base_uri": "https://localhost:8080/",
          "height": 163
        },
        "outputId": "29b1ddf6-55a5-4a11-afcc-b9a2d81dd643"
      },
      "source": [
        "print(\"1\"+ 1)"
      ],
      "execution_count": null,
      "outputs": [
        {
          "output_type": "error",
          "ename": "TypeError",
          "evalue": "ignored",
          "traceback": [
            "\u001b[0;31m---------------------------------------------------------------------------\u001b[0m",
            "\u001b[0;31mTypeError\u001b[0m                                 Traceback (most recent call last)",
            "\u001b[0;32m<ipython-input-3-6544514f3f00>\u001b[0m in \u001b[0;36m<module>\u001b[0;34m()\u001b[0m\n\u001b[0;32m----> 1\u001b[0;31m \u001b[0mprint\u001b[0m\u001b[0;34m(\u001b[0m\u001b[0;34m\"1\"\u001b[0m\u001b[0;34m+\u001b[0m \u001b[0;36m1\u001b[0m\u001b[0;34m)\u001b[0m\u001b[0;34m\u001b[0m\u001b[0;34m\u001b[0m\u001b[0m\n\u001b[0m",
            "\u001b[0;31mTypeError\u001b[0m: must be str, not int"
          ]
        }
      ]
    },
    {
      "cell_type": "markdown",
      "metadata": {
        "id": "rTpJkzs2eovm"
      },
      "source": [
        "## **Data Type : Casting**"
      ]
    },
    {
      "cell_type": "code",
      "metadata": {
        "id": "61mYYZ8SenfW",
        "colab": {
          "base_uri": "https://localhost:8080/"
        },
        "outputId": "d5dbc65d-2402-44ac-b1e9-56b63857b68d"
      },
      "source": [
        "print(int(1) , int(2.8) , int(\"3\"))"
      ],
      "execution_count": null,
      "outputs": [
        {
          "output_type": "stream",
          "text": [
            "1 2 3\n"
          ],
          "name": "stdout"
        }
      ]
    },
    {
      "cell_type": "markdown",
      "metadata": {
        "id": "r00i6oncgHJn"
      },
      "source": [
        "## **Data Type : Checking Type**"
      ]
    },
    {
      "cell_type": "code",
      "metadata": {
        "id": "mtHx1Ll6gOGX",
        "colab": {
          "base_uri": "https://localhost:8080/"
        },
        "outputId": "94504bed-9970-469f-a4f7-d0de84b65faf"
      },
      "source": [
        "print(isinstance(1, int), isinstance(\"Hello World\", str), isinstance(2.2, float))\n",
        "print(type(1), type(\"Hello World\"), type(2.2))"
      ],
      "execution_count": null,
      "outputs": [
        {
          "output_type": "stream",
          "text": [
            "True True True\n",
            "<class 'int'> <class 'str'> <class 'float'>\n"
          ],
          "name": "stdout"
        }
      ]
    },
    {
      "cell_type": "markdown",
      "metadata": {
        "id": "S0cqXeAfcJJt"
      },
      "source": [
        "## **Comments**"
      ]
    },
    {
      "cell_type": "code",
      "metadata": {
        "id": "wKH8S1ymcLyO",
        "colab": {
          "base_uri": "https://localhost:8080/"
        },
        "outputId": "2b21bc38-6439-47d9-ccb1-94821e4bdf68"
      },
      "source": [
        "# print(\"Halo Dunia\") // Single Line Comment\n",
        "print(\"Hello World\")\n",
        "\n",
        "\"\"\" Multi Line Comment\n",
        "\n",
        "Ini Adalah\n",
        "Sebuah Komen\n",
        "\"\"\"\n",
        "\n",
        "print(\"Hello, World!\")"
      ],
      "execution_count": null,
      "outputs": [
        {
          "output_type": "stream",
          "text": [
            "Hello World\n",
            "Hello, World!\n"
          ],
          "name": "stdout"
        }
      ]
    },
    {
      "cell_type": "markdown",
      "metadata": {
        "id": "DEUnF_ygbqIm"
      },
      "source": [
        "## **Variables**"
      ]
    },
    {
      "cell_type": "code",
      "metadata": {
        "id": "9jbwUfVQbmbp",
        "colab": {
          "base_uri": "https://localhost:8080/"
        },
        "outputId": "5f108c5b-85cb-4eff-a6e5-7314217309d3"
      },
      "source": [
        "a = 1\n",
        "b = 2\n",
        "print(a+b)"
      ],
      "execution_count": null,
      "outputs": [
        {
          "output_type": "stream",
          "text": [
            "3\n"
          ],
          "name": "stdout"
        }
      ]
    },
    {
      "cell_type": "markdown",
      "metadata": {
        "id": "PzoXz9N1b0FO"
      },
      "source": [
        "## **Variables Assignment**"
      ]
    },
    {
      "cell_type": "code",
      "metadata": {
        "id": "m52ZP20EbvzQ",
        "colab": {
          "base_uri": "https://localhost:8080/"
        },
        "outputId": "d6067beb-7a09-4e88-abfd-44d882592af0"
      },
      "source": [
        "a = 1\n",
        "b = 2\n",
        "\n",
        "print(\"Sebelum Dirubah :\", a, b)\n",
        "\n",
        "a = 2\n",
        "b = 3\n",
        "print(\"Setelah Dirubah :\", a, b, '\\n')\n",
        "\n",
        "c = \"\"\"\n",
        "Baris String :\n",
        "AAAAAAAAAA\n",
        "BBBBBBBBBB\n",
        "CCCCCCCCCC\n",
        "DDDDDDDDDD\n",
        "\"\"\"\n",
        "print(c)"
      ],
      "execution_count": null,
      "outputs": [
        {
          "output_type": "stream",
          "text": [
            "Sebelum Dirubah : 1 2\n",
            "Setelah Dirubah : 2 3 \n",
            "\n",
            "\n",
            "Baris String :\n",
            "AAAAAAAAAA\n",
            "BBBBBBBBBB\n",
            "CCCCCCCCCC\n",
            "DDDDDDDDDD\n",
            "\n"
          ],
          "name": "stdout"
        }
      ]
    },
    {
      "cell_type": "code",
      "metadata": {
        "id": "vIDs0z5XX3zh",
        "colab": {
          "base_uri": "https://localhost:8080/"
        },
        "outputId": "04b5dff7-3311-439a-b640-c040f86c42e8"
      },
      "source": [
        "print(\"Umur: \", end=' ')\n",
        "age = input()\n",
        "print(\"Tinggi: \", end=' ')\n",
        "height = input()\n",
        "print(\"Berat: \", end=' ')\n",
        "weight = input()\n",
        "\n",
        "print(f\"Umur: {age}, Tinggi : {height} dan Berat : {weight}.\")"
      ],
      "execution_count": null,
      "outputs": [
        {
          "output_type": "stream",
          "text": [
            "Umur:  10\n",
            "Tinggi:  20\n",
            "Berat:  40\n",
            "Umur: 10, Tinggi : 20 dan Berat : 40.\n"
          ],
          "name": "stdout"
        }
      ]
    },
    {
      "cell_type": "markdown",
      "metadata": {
        "id": "6lR0iZvXdRt3"
      },
      "source": [
        "## **Variables - Assignment Operators**"
      ]
    },
    {
      "cell_type": "code",
      "metadata": {
        "id": "58XMuGc-dQs2",
        "colab": {
          "base_uri": "https://localhost:8080/"
        },
        "outputId": "5f97a4b8-2f8f-4fd6-9839-75167d58e9bd"
      },
      "source": [
        "a = 1\n",
        "a += 1\n",
        "\n",
        "b = 2\n",
        "b -= 2\n",
        "\n",
        "c = 1\n",
        "c *= 3\n",
        "\n",
        "print(a, b, c)"
      ],
      "execution_count": null,
      "outputs": [
        {
          "output_type": "stream",
          "text": [
            "2 0 3\n"
          ],
          "name": "stdout"
        }
      ]
    },
    {
      "cell_type": "markdown",
      "metadata": {
        "id": "MhQfgKWIc1kO"
      },
      "source": [
        "## **Variables Mass Assignment**"
      ]
    },
    {
      "cell_type": "code",
      "metadata": {
        "id": "g_tWLSCSczQf",
        "colab": {
          "base_uri": "https://localhost:8080/"
        },
        "outputId": "5aca2990-4f59-47f3-aeea-19affebc46f1"
      },
      "source": [
        "x, y, z = \"Kurniadi\", \"Ahmad\", \"Wijaya\"\n",
        "print(x, y, z)"
      ],
      "execution_count": null,
      "outputs": [
        {
          "output_type": "stream",
          "text": [
            "Kurniadi Ahmad Wijaya\n"
          ],
          "name": "stdout"
        }
      ]
    },
    {
      "cell_type": "code",
      "metadata": {
        "id": "VYoGwHZMb_Xh",
        "colab": {
          "base_uri": "https://localhost:8080/"
        },
        "outputId": "ee2ce25f-3d5b-4e3d-9c5a-79f459efec2b"
      },
      "source": [
        "x = y = z = \"Kurniadi\"\n",
        "print(x, y, z)"
      ],
      "execution_count": null,
      "outputs": [
        {
          "output_type": "stream",
          "text": [
            "Kurniadi Kurniadi Kurniadi\n"
          ],
          "name": "stdout"
        }
      ]
    },
    {
      "cell_type": "markdown",
      "metadata": {
        "id": "7-76JQBufXuf"
      },
      "source": [
        "## **Variables : Numeric Assignment Inside String**"
      ]
    },
    {
      "cell_type": "code",
      "metadata": {
        "id": "BazIBoROdEol",
        "colab": {
          "base_uri": "https://localhost:8080/"
        },
        "outputId": "271ec6bd-69b6-4a6a-a20d-4b8285c05a51"
      },
      "source": [
        "jumlah = 3\n",
        "harga = 20000\n",
        "order = \"{} Apel Seharga {}\"\n",
        "print(order.format(jumlah, harga))"
      ],
      "execution_count": null,
      "outputs": [
        {
          "output_type": "stream",
          "text": [
            "3 Apel Seharga 20000\n"
          ],
          "name": "stdout"
        }
      ]
    },
    {
      "cell_type": "code",
      "metadata": {
        "id": "1bqc_Qawdy8v",
        "colab": {
          "base_uri": "https://localhost:8080/"
        },
        "outputId": "99cb514c-f7dc-4498-cf6b-e76c6a3a2747"
      },
      "source": [
        "jumlah = 3\n",
        "harga = 20000\n",
        "print(f\"{jumlah} Apel seharga {harga}\")"
      ],
      "execution_count": null,
      "outputs": [
        {
          "output_type": "stream",
          "text": [
            "3 Apel seharga 20000\n"
          ],
          "name": "stdout"
        }
      ]
    },
    {
      "cell_type": "markdown",
      "metadata": {
        "id": "zdNTGpAwEcjF"
      },
      "source": [
        "## **Conditional**"
      ]
    },
    {
      "cell_type": "code",
      "metadata": {
        "id": "ti4Ic_RPEcDw",
        "colab": {
          "base_uri": "https://localhost:8080/"
        },
        "outputId": "d0a35235-eb72-4040-97aa-1030dcf091d9"
      },
      "source": [
        "a = 100\n",
        "b = 200\n",
        "\n",
        "if a > b:\n",
        "  print(True)\n",
        "else:\n",
        "  print(False)"
      ],
      "execution_count": null,
      "outputs": [
        {
          "output_type": "stream",
          "text": [
            "False\n"
          ],
          "name": "stdout"
        }
      ]
    },
    {
      "cell_type": "code",
      "metadata": {
        "id": "eXV8UtmmfroX",
        "colab": {
          "base_uri": "https://localhost:8080/"
        },
        "outputId": "ae6ec088-6dcd-44a8-ce6c-5e331276c25a"
      },
      "source": [
        "a = 10 \n",
        "b = 10\n",
        "\n",
        "if a > b:\n",
        "  print('a lebih besar')\n",
        "elif a == b:\n",
        "  print('a sama dengan b')\n",
        "else:\n",
        "  print('a lebih kecil')\n"
      ],
      "execution_count": null,
      "outputs": [
        {
          "output_type": "stream",
          "text": [
            "a sama dengan b\n"
          ],
          "name": "stdout"
        }
      ]
    },
    {
      "cell_type": "markdown",
      "metadata": {
        "id": "orOQEv702PDQ"
      },
      "source": [
        "## **Looping**"
      ]
    },
    {
      "cell_type": "code",
      "metadata": {
        "id": "wgrRoOu32Tb0",
        "colab": {
          "base_uri": "https://localhost:8080/"
        },
        "outputId": "a67946bd-9a7a-421d-8c6f-4ee230e859b2"
      },
      "source": [
        "i = 0\n",
        "\n",
        "while i < 10:\n",
        "  print(i)\n",
        "  i += 1"
      ],
      "execution_count": null,
      "outputs": [
        {
          "output_type": "stream",
          "text": [
            "0\n",
            "1\n",
            "2\n",
            "3\n",
            "4\n",
            "5\n",
            "6\n",
            "7\n",
            "8\n",
            "9\n"
          ],
          "name": "stdout"
        }
      ]
    },
    {
      "cell_type": "code",
      "metadata": {
        "id": "GyeK_Bmd2a5H",
        "colab": {
          "base_uri": "https://localhost:8080/"
        },
        "outputId": "abbb7190-b999-4fc1-bfd4-237475cd9f0f"
      },
      "source": [
        "for i in range(0,10):\n",
        "  print(i)"
      ],
      "execution_count": null,
      "outputs": [
        {
          "output_type": "stream",
          "text": [
            "0\n",
            "1\n",
            "2\n",
            "3\n",
            "4\n",
            "5\n",
            "6\n",
            "7\n",
            "8\n",
            "9\n"
          ],
          "name": "stdout"
        }
      ]
    },
    {
      "cell_type": "code",
      "metadata": {
        "id": "_dbQH_Zy5a0B",
        "colab": {
          "base_uri": "https://localhost:8080/"
        },
        "outputId": "606a6c8d-36a8-463f-d593-4c07c020fc81"
      },
      "source": [
        "for i in range(1, 10):\n",
        "  if i % 2 == 0:\n",
        "    print(i)"
      ],
      "execution_count": null,
      "outputs": [
        {
          "output_type": "stream",
          "text": [
            "2\n",
            "4\n",
            "6\n",
            "8\n"
          ],
          "name": "stdout"
        }
      ]
    }
  ]
}