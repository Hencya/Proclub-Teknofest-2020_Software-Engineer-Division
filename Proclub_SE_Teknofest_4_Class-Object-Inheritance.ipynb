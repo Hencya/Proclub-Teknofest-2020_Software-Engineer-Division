{
  "nbformat": 4,
  "nbformat_minor": 0,
  "metadata": {
    "colab": {
      "name": "Week 3 : Inheritance.ipynb",
      "provenance": [],
      "collapsed_sections": []
    },
    "kernelspec": {
      "name": "python3",
      "display_name": "Python 3"
    }
  },
  "cells": [
    {
      "cell_type": "markdown",
      "metadata": {
        "id": "ARpAOrvrBKcH"
      },
      "source": [
        "### **Struktur Class**\n",
        "\n",
        "![Manajemen (1).png](data:image/png;base64,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)"
      ]
    },
    {
      "cell_type": "markdown",
      "metadata": {
        "id": "Bpsi7B4q-EjG"
      },
      "source": [
        "### **Pendefinisian Class Dan Objek Person Beserta Pemanggilannya**"
      ]
    },
    {
      "cell_type": "code",
      "metadata": {
        "colab": {
          "base_uri": "https://localhost:8080/"
        },
        "id": "x5phoxjs4MH6",
        "outputId": "08059758-90aa-4288-e7de-5dc5653ed2b8"
      },
      "source": [
        "class Person:\n",
        "    def __init__(self, name, age, email):\n",
        "        self.name = name\n",
        "        self.age = age\n",
        "        self.email = email\n",
        "\n",
        "    def data(self):\n",
        "        print('Class Person')\n",
        "        print(f'Nama \\t: {self.name}')\n",
        "        print(f'Umur \\t: {self.age}')\n",
        "        print(f'Email \\t: {self.email}')\n",
        "\n",
        "    def check_age(self):\n",
        "        print(f'Is 18+ \\t: {self.age >= 18}')\n",
        "\n",
        "Kurniadi = Person(\"Kurniadi Ahmad Wijaya\", 17, \"k@gmail.com\")\n",
        "Kurniadi.data()\n",
        "Kurniadi.check_age()"
      ],
      "execution_count": null,
      "outputs": [
        {
          "output_type": "stream",
          "text": [
            "Class Person\n",
            "Nama \t: Kurniadi Ahmad Wijaya\n",
            "Umur \t: 18\n",
            "Email \t: k@gmail.com\n",
            "Is 18+ \t: False\n"
          ],
          "name": "stdout"
        }
      ]
    },
    {
      "cell_type": "markdown",
      "metadata": {
        "id": "wJJQfu9Z-L87"
      },
      "source": [
        "### **Pendefinisian Class Dan Objek MahaStudent Beserta Pemanggilannya**"
      ]
    },
    {
      "cell_type": "code",
      "metadata": {
        "colab": {
          "base_uri": "https://localhost:8080/"
        },
        "id": "E39H3bu58_ot",
        "outputId": "79931632-b36a-4e5f-9014-9f6f5b17461c"
      },
      "source": [
        "class Person:\n",
        "    def __init__(self, name, age, email):\n",
        "        self.name = name\n",
        "        self.age = age\n",
        "        self.email = email\n",
        "\n",
        "    def data(self):\n",
        "        print('\\nClass Person')\n",
        "        print(f'Nama \\t: {self.name}')\n",
        "        print(f'Umur \\t: {self.age}')\n",
        "        print(f'Email \\t: {self.email}')\n",
        "\n",
        "    def check_age(self):\n",
        "        print(f'Is 18+ \\t: {self.age >= 18}')\n",
        "\n",
        "\n",
        "class MahaStudent(Person):\n",
        "    def __init__(self, name, age, email, nim, kelas, subject):\n",
        "        super().__init__(name, age, email)\n",
        "        self.nim = nim\n",
        "        self.kelas = kelas\n",
        "        self.subject = subject\n",
        "\n",
        "    def data(self):\n",
        "        super().data()\n",
        "        super().check_age()\n",
        "        print(f'\\nClass MahaStudent')\n",
        "        print(f'NIM \\t: {self.nim}')\n",
        "        print(f'Class \\t: {self.kelas}')\n",
        "\n",
        "    def enroll_subject(self):\n",
        "        print(f'Enroll  : {self.subject}')\n",
        "\n",
        "\n",
        "Kurniadi = MahaStudent(\"Kurniadi Ahmad Wijaya\", 17, \"k@gmail.com\", 1301194024, \"IF-43-09\", ['Alpro', 'Strukdat', 'DAP'])\n",
        "Kurniadi.data()\n",
        "Kurniadi.enroll_subject()"
      ],
      "execution_count": null,
      "outputs": [
        {
          "output_type": "stream",
          "text": [
            "\n",
            "Class Person\n",
            "Nama \t: Kurniadi Ahmad Wijaya\n",
            "Umur \t: 17\n",
            "Email \t: k@gmail.com\n",
            "Is 18+ \t: False\n",
            "\n",
            "Class MahaStudent\n",
            "NIM \t: 1301194024\n",
            "Class \t: IF-43-09\n",
            "Enroll  : ['Alpro', 'Strukdat', 'DAP']\n"
          ],
          "name": "stdout"
        }
      ]
    },
    {
      "cell_type": "markdown",
      "metadata": {
        "id": "3hiA_sHJQ3Tl"
      },
      "source": [
        "### **Pendefinisian Class Dan Objek Lecture Beserta Pemanggilannya**"
      ]
    },
    {
      "cell_type": "code",
      "metadata": {
        "colab": {
          "base_uri": "https://localhost:8080/"
        },
        "id": "HmECsCOr-6GW",
        "outputId": "697f65db-1d1c-430c-bea0-5be3a918319d"
      },
      "source": [
        "class Person:\n",
        "    def __init__(self, name, age, email):\n",
        "        self.name = name\n",
        "        self.age = age\n",
        "        self.email = email\n",
        "\n",
        "    def data(self):\n",
        "        print('\\nClass Person')\n",
        "        print(f'Nama \\t: {self.name}')\n",
        "        print(f'Umur \\t: {self.age}')\n",
        "        print(f'Email \\t: {self.email}')\n",
        "\n",
        "    def check_age(self):\n",
        "        print(f'Is 18+ \\t: {self.age >= 18}')\n",
        "\n",
        "\n",
        "class MahaStudent(Person):\n",
        "    def __init__(self, name, age, email, nim, kelas, subject):\n",
        "        super().__init__(name, age, email)\n",
        "        self.nim = nim\n",
        "        self.kelas = kelas\n",
        "        self.subject = subject\n",
        "\n",
        "    def data(self):\n",
        "        super().data()\n",
        "        super().check_age()\n",
        "        print(f'\\nClass MahaStudent')\n",
        "        print(f'NIM \\t: {self.nim}')\n",
        "        print(f'Class \\t: {self.kelas}')\n",
        "\n",
        "    def enroll_subject(self):\n",
        "        print(f'Enroll  : {self.subject}')\n",
        "\n",
        "\n",
        "class Lecture(Person):\n",
        "    def __init__(self, name, age, email, nip, certificate):\n",
        "        super().__init__(name, age, email)\n",
        "        self.nip = nip\n",
        "        self.certificate = certificate\n",
        "\n",
        "    def data(self):\n",
        "        super().data()\n",
        "        super().check_age()\n",
        "        print(f'\\nClass Lecture')\n",
        "        print(f'NIP \\t: {self.nip}')\n",
        "\n",
        "    def certification(self):\n",
        "        print(f'Certif  : {self.certificate}')\n",
        "\n",
        "\n",
        "Kurniadi = MahaStudent(\"Kurniadi Ahmad Wijaya\", 17, \"k@gmail.com\", 1301194024, \"IF-43-09\", ['Alpro', 'Strukdat', 'DAP'])\n",
        "Kurniadi.data()\n",
        "Kurniadi.enroll_subject()\n",
        "\n",
        "for i in range(50): print('_', end='')\n",
        "print()\n",
        "\n",
        "Dian = Lecture(\"Ir. Dian\", 22, \"ABCD@gmail.com\", 12345, ['CCNA 2019', 'BNSP 2020'])\n",
        "Dian.data()\n",
        "Dian.certification()"
      ],
      "execution_count": null,
      "outputs": [
        {
          "output_type": "stream",
          "text": [
            "\n",
            "Class Person\n",
            "Nama \t: Kurniadi Ahmad Wijaya\n",
            "Umur \t: 17\n",
            "Email \t: k@gmail.com\n",
            "Is 18+ \t: False\n",
            "\n",
            "Class MahaStudent\n",
            "NIM \t: 1301194024\n",
            "Class \t: IF-43-09\n",
            "Enroll  : ['Alpro', 'Strukdat', 'DAP']\n",
            "__________________________________________________\n",
            "\n",
            "Class Person\n",
            "Nama \t: Ir. Dian\n",
            "Umur \t: 22\n",
            "Email \t: ABCD@gmail.com\n",
            "Is 18+ \t: True\n",
            "\n",
            "Class Lecture\n",
            "NIP \t: 12345\n",
            "Certif  : ['CCNA 2019', 'BNSP 2020']\n"
          ],
          "name": "stdout"
        }
      ]
    },
    {
      "cell_type": "markdown",
      "metadata": {
        "id": "0hqBDKYLSEM9"
      },
      "source": [
        "### **Pendefinisian Class Dan Objek International Beserta Pemanggilannya**"
      ]
    },
    {
      "cell_type": "code",
      "metadata": {
        "colab": {
          "base_uri": "https://localhost:8080/"
        },
        "id": "OaNZhnECRMcc",
        "outputId": "cd0bb5d7-6e79-4251-84be-f21dfc586ee3"
      },
      "source": [
        "# Inheritance \n",
        "\n",
        "class Person:\n",
        "    def __init__(self, name, age, email):\n",
        "        self.name = name\n",
        "        self.age = age\n",
        "        self.email = email\n",
        "\n",
        "    def data(self):\n",
        "        print('\\nClass Person')\n",
        "        print(f'Nama \\t: {self.name}')\n",
        "        print(f'Umur \\t: {self.age}')\n",
        "        print(f'Email \\t: {self.email}')\n",
        "\n",
        "    def check_age(self):\n",
        "        print(f'Is 18+ \\t: {self.age >= 18}')\n",
        "\n",
        "\n",
        "class MahaStudent(Person):\n",
        "    def __init__(self, name, age, email, nim, kelas, subject):\n",
        "        super().__init__(name, age, email)\n",
        "        self.nim = nim\n",
        "        self.kelas = kelas\n",
        "        self.subject = subject\n",
        "\n",
        "    def data(self):\n",
        "        super().data()\n",
        "        super().check_age()\n",
        "        print(f'\\nClass MahaStudent')\n",
        "        print(f'NIM \\t: {self.nim}')\n",
        "        print(f'Class \\t: {self.kelas}')\n",
        "\n",
        "    def enroll_subject(self):\n",
        "        print(f'Enroll  : {self.subject}')\n",
        "\n",
        "\n",
        "class Lecture(Person):\n",
        "    def __init__(self, name, age, email, nip, certificate):\n",
        "        super().__init__(name, age, email)\n",
        "        self.nip = nip\n",
        "        self.certificate = certificate\n",
        "\n",
        "    def data(self):\n",
        "        super().data()\n",
        "        super().check_age()\n",
        "        print(f'\\nClass Lecture')\n",
        "        print(f'NIP \\t: {self.nip}')\n",
        "\n",
        "    def certification(self):\n",
        "        print(f'Certif  : {self.certificate}')\n",
        "\n",
        "\n",
        "class InternationalClass(MahaStudent):\n",
        "    def __init__(self, name, age, email, nim, kelas, subject, is_short_semester):\n",
        "        super().__init__(name, age, email, nim, kelas, subject)\n",
        "        self.is_short_semester = is_short_semester\n",
        "\n",
        "    def data(self):\n",
        "        super().data()\n",
        "        super().check_age()\n",
        "        super().enroll_subject()\n",
        "        print('\\nMahaStudent International')\n",
        "\n",
        "    def short_semester(self):\n",
        "        print(f'Short Semester : {self.is_short_semester}')\n",
        "\n",
        "\n",
        "def separator():\n",
        "    for _ in range(50):\n",
        "        print('_', end='')\n",
        "    print()\n",
        "    \n",
        "\n",
        "Kurniadi = MahaStudent(\"Kurniadi Ahmad Wijaya\", 17, \"k@gmail.com\",\n",
        "                       1301194024, \"IF-43-09\", ['Alpro', 'Strukdat', 'DAP'])\n",
        "Kurniadi.data()\n",
        "Kurniadi.enroll_subject()\n",
        "\n",
        "separator()\n",
        "\n",
        "Dian = Lecture(\"Ir. Dian\", 22, \"ABCD@gmail.com\",\n",
        "               12345, ['CCNA 2019', 'BNSP 2020'])\n",
        "Dian.data()\n",
        "Dian.certification()\n",
        "\n",
        "separator()\n",
        "\n",
        "Avole = InternationalClass(\"Avole Voldigoad\", 100, \"avole@gmail.com\",\n",
        "                      130119400, \"IF-43-11\", ['DS', 'ML', 'AI'], True)\n",
        "Avole.data()\n",
        "Avole.short_semester()\n"
      ],
      "execution_count": null,
      "outputs": [
        {
          "output_type": "stream",
          "text": [
            "\n",
            "Class Person\n",
            "Nama \t: Kurniadi Ahmad Wijaya\n",
            "Umur \t: 17\n",
            "Email \t: k@gmail.com\n",
            "Is 18+ \t: False\n",
            "\n",
            "Class MahaStudent\n",
            "NIM \t: 1301194024\n",
            "Class \t: IF-43-09\n",
            "Enroll  : ['Alpro', 'Strukdat', 'DAP']\n",
            "__________________________________________________\n",
            "\n",
            "Class Person\n",
            "Nama \t: Ir. Dian\n",
            "Umur \t: 22\n",
            "Email \t: ABCD@gmail.com\n",
            "Is 18+ \t: True\n",
            "\n",
            "Class Lecture\n",
            "NIP \t: 12345\n",
            "Certif  : ['CCNA 2019', 'BNSP 2020']\n",
            "__________________________________________________\n",
            "\n",
            "Class Person\n",
            "Nama \t: Avole Voldigoad\n",
            "Umur \t: 100\n",
            "Email \t: avole@gmail.com\n",
            "Is 18+ \t: True\n",
            "\n",
            "Class MahaStudent\n",
            "NIM \t: 130119400\n",
            "Class \t: IF-43-11\n",
            "Is 18+ \t: True\n",
            "Enroll  : ['DS', 'ML', 'AI']\n",
            "\n",
            "MahaStudent International\n",
            "Short Semester : True\n"
          ],
          "name": "stdout"
        }
      ]
    },
    {
      "cell_type": "markdown",
      "metadata": {
        "id": "9xAF3s6wJw34"
      },
      "source": [
        "### **Mengecek Objek Bagian Dari Kelas (Instance), Mengecek Kelas Bagian Subclass (Sub Class)**"
      ]
    },
    {
      "cell_type": "code",
      "metadata": {
        "colab": {
          "base_uri": "https://localhost:8080/"
        },
        "id": "_q-XyIbwJrxD",
        "outputId": "bc85e412-04ee-443c-ebce-3eab976ded73"
      },
      "source": [
        "print(isinstance(Avole, InternationalClass))\n",
        "print(issubclass(InternationalClass, Person))"
      ],
      "execution_count": null,
      "outputs": [
        {
          "output_type": "stream",
          "text": [
            "True\n",
            "True\n"
          ],
          "name": "stdout"
        }
      ]
    },
    {
      "cell_type": "markdown",
      "metadata": {
        "id": "-cQCilKK33IT"
      },
      "source": [
        "### **Multiple Inheritance :)**"
      ]
    },
    {
      "cell_type": "code",
      "metadata": {
        "colab": {
          "base_uri": "https://localhost:8080/"
        },
        "id": "svHqYB9yyEH6",
        "outputId": "33e09ae9-07e4-4233-d448-0699e481f01c"
      },
      "source": [
        "class A:\n",
        "    def hello(self):\n",
        "        print(\"Hello\")\n",
        "\n",
        "\n",
        "class B:\n",
        "    def world(self):\n",
        "        print(\"World\")\n",
        "\n",
        "\n",
        "class C(A, B):\n",
        "    pass\n",
        "\n",
        "\n",
        "c = C()\n",
        "c.hello()\n",
        "c.world()"
      ],
      "execution_count": null,
      "outputs": [
        {
          "output_type": "stream",
          "text": [
            "Hello\n",
            "World\n"
          ],
          "name": "stdout"
        }
      ]
    },
    {
      "cell_type": "markdown",
      "metadata": {
        "id": "IVrdNEqy5O87"
      },
      "source": [
        "### **Multiple Inheritance Case : Diamond Problem**\n",
        "Reference: https://medium.com/@harshamw/deadly-diamond-of-death-e8bb4355c343"
      ]
    },
    {
      "cell_type": "code",
      "metadata": {
        "colab": {
          "base_uri": "https://localhost:8080/"
        },
        "id": "fKGTK1W35Og7",
        "outputId": "627f54fd-bbc0-4484-8a01-7b90e60ed3be"
      },
      "source": [
        "class A():\n",
        "    def __init__ (self):\n",
        "        super().__init__()\n",
        "        print('A')\n",
        "\n",
        "class B(A):\n",
        "    def __init__ (self):\n",
        "        super().__init__()\n",
        "        print('B')\n",
        "\n",
        "class C(A):\n",
        "    def __init__ (self):\n",
        "        super().__init__()\n",
        "        print('C')\n",
        "\n",
        "class D(C, B):\n",
        "    def __init__ (self):\n",
        "        super().__init__()\n",
        "        print('D')\n",
        "\n",
        "D()"
      ],
      "execution_count": null,
      "outputs": [
        {
          "output_type": "stream",
          "text": [
            "A\n",
            "B\n",
            "C\n",
            "D\n"
          ],
          "name": "stdout"
        },
        {
          "output_type": "execute_result",
          "data": {
            "text/plain": [
              "<__main__.D at 0x7fb0dc80d908>"
            ]
          },
          "metadata": {
            "tags": []
          },
          "execution_count": 1
        }
      ]
    }
  ]
}