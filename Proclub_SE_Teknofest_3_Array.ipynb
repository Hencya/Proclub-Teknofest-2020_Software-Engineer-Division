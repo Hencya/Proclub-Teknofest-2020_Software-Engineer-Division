{
  "nbformat": 4,
  "nbformat_minor": 0,
  "metadata": {
    "colab": {
      "name": "Proclub SE Teknofest 3 : Array.ipynb",
      "provenance": [],
      "collapsed_sections": []
    },
    "kernelspec": {
      "name": "python3",
      "display_name": "Python 3"
    }
  },
  "cells": [
    {
      "cell_type": "markdown",
      "metadata": {
        "id": "O_N093wRhvNk"
      },
      "source": [
        "## **List : Basic**"
      ]
    },
    {
      "cell_type": "code",
      "metadata": {
        "id": "3LQQEYWzhnPZ",
        "colab": {
          "base_uri": "https://localhost:8080/"
        },
        "outputId": "7cebe2bf-e908-4a5c-db53-8d07a61ed0ea"
      },
      "source": [
        "Angka = [66, 87, 64, 32, 57]\n",
        "\n",
        "for n in Angka:\n",
        "  print(n, end=' ')"
      ],
      "execution_count": null,
      "outputs": [
        {
          "output_type": "stream",
          "text": [
            "66 87 64 32 57 "
          ],
          "name": "stdout"
        }
      ]
    },
    {
      "cell_type": "code",
      "metadata": {
        "id": "VvjPgo7smIiF",
        "colab": {
          "base_uri": "https://localhost:8080/"
        },
        "outputId": "6ddc3b11-53f7-4ed7-cd2a-ec1457b79597"
      },
      "source": [
        "Angka = [66, 87, 64, 32, 57]\n",
        "\n",
        "print(Angka, '\\n')\n",
        "print(f'Index Ke-0 : {Angka[0]}')\n",
        "print(f'Index Ke-1 : {Angka[1]}')\n",
        "print(f'Index Ke-2 : {Angka[2]}')\n",
        "print(f'Index Ke-3 : {Angka[3]}')"
      ],
      "execution_count": null,
      "outputs": [
        {
          "output_type": "stream",
          "text": [
            "[66, 87, 64, 32, 57] \n",
            "\n",
            "Index Ke-0 : 66\n",
            "Index Ke-1 : 87\n",
            "Index Ke-2 : 64\n",
            "Index Ke-3 : 32\n"
          ],
          "name": "stdout"
        }
      ]
    },
    {
      "cell_type": "markdown",
      "metadata": {
        "id": "ntdERsEYiM_z"
      },
      "source": [
        "## **List : Get Index**"
      ]
    },
    {
      "cell_type": "code",
      "metadata": {
        "id": "wc4I1ZK4tMUB",
        "colab": {
          "base_uri": "https://localhost:8080/"
        },
        "outputId": "e9966cb5-939b-4676-da5c-0f3525679ad8"
      },
      "source": [
        "Angka = [66, 87, 64, 32, 57]\n",
        "\n",
        "i = 0\n",
        "for n in Angka:\n",
        "  print(f'Index Ke {i}, adalah {n}')\n",
        "  i = i + 1"
      ],
      "execution_count": null,
      "outputs": [
        {
          "output_type": "stream",
          "text": [
            "Index Ke 0, adalah 66\n",
            "Index Ke 1, adalah 87\n",
            "Index Ke 2, adalah 64\n",
            "Index Ke 3, adalah 32\n",
            "Index Ke 4, adalah 57\n"
          ],
          "name": "stdout"
        }
      ]
    },
    {
      "cell_type": "code",
      "metadata": {
        "id": "8WBxbTVIiFHE",
        "colab": {
          "base_uri": "https://localhost:8080/"
        },
        "outputId": "f463b192-5708-44aa-ef25-3ed6b3c7686a"
      },
      "source": [
        "Angka = [66, 87, 64, 32, 57]\n",
        "\n",
        "for index, n in enumerate(Angka):\n",
        "  print(f'Index Ke {index}, adalah {n}')"
      ],
      "execution_count": null,
      "outputs": [
        {
          "output_type": "stream",
          "text": [
            "Index Ke 0, adalah 66\n",
            "Index Ke 1, adalah 87\n",
            "Index Ke 2, adalah 64\n",
            "Index Ke 3, adalah 32\n",
            "Index Ke 4, adalah 57\n"
          ],
          "name": "stdout"
        }
      ]
    },
    {
      "cell_type": "markdown",
      "metadata": {
        "id": "KM19y1Y3mlnv"
      },
      "source": [
        "## **List : Slice**"
      ]
    },
    {
      "cell_type": "code",
      "metadata": {
        "id": "2ibnR2HomWET",
        "colab": {
          "base_uri": "https://localhost:8080/"
        },
        "outputId": "2977c828-857c-4441-995a-76af77236bbc"
      },
      "source": [
        "Angka = [66, 87, 64, 32, 57]\n",
        "\n",
        "objek = slice(-1)\n",
        "print('Hasil slice(-1) :', Angka[objek])\n",
        "\n",
        "objek = slice(1)\n",
        "print('Hasil slice(1)  :', Angka[objek])\n",
        "\n",
        "objek = slice(3)\n",
        "print('Hasil slice(3)  :', Angka[objek], '\\n')\n",
        "\n",
        "# Slice Indexing\n",
        "print('Hasil Indexing Angka[::2] :', Angka[::2])\n",
        "print('Hasil Indexing Angka[0::2]:', Angka[0::2], '\\n')\n",
        "\n",
        "# Slice Reverse\n",
        "print('Hasil Slice Reverse Angka[::-2]   :', Angka[::-2])\n",
        "print('Hasil Slice Reverse Angka[-1::-4] :', Angka[-1::-4])"
      ],
      "execution_count": null,
      "outputs": [
        {
          "output_type": "stream",
          "text": [
            "Hasil slice(-1) : [66, 87, 64, 32]\n",
            "Hasil slice(1)  : [66]\n",
            "Hasil slice(3)  : [66, 87, 64] \n",
            "\n",
            "Hasil Indexing Angka[::2] : [66, 64, 57]\n",
            "Hasil Indexing Angka[0::2]: [66, 64, 57] \n",
            "\n",
            "Hasil Slice Reverse Angka[::-2]   : [57, 64, 66]\n",
            "Hasil Slice Reverse Angka[-1::-4] : [57, 66]\n"
          ],
          "name": "stdout"
        }
      ]
    },
    {
      "cell_type": "markdown",
      "metadata": {
        "id": "9H2NbijsevPW"
      },
      "source": [
        "## **List : Methods**"
      ]
    },
    {
      "cell_type": "markdown",
      "metadata": {
        "id": "xwBm9MRNfPAG"
      },
      "source": [
        "### **List : Add Data**"
      ]
    },
    {
      "cell_type": "code",
      "metadata": {
        "id": "LyL1VtrReuxP",
        "colab": {
          "base_uri": "https://localhost:8080/"
        },
        "outputId": "5b3189c3-debf-4d8f-b6b7-6863a79bd718"
      },
      "source": [
        "data = []\n",
        "data.append(1)\n",
        "data.append(2)\n",
        "\n",
        "print(data)"
      ],
      "execution_count": null,
      "outputs": [
        {
          "output_type": "stream",
          "text": [
            "[1, 2]\n"
          ],
          "name": "stdout"
        }
      ]
    },
    {
      "cell_type": "markdown",
      "metadata": {
        "id": "Z3tsku9zfWmd"
      },
      "source": [
        "### **List : Add Data By Index**"
      ]
    },
    {
      "cell_type": "code",
      "metadata": {
        "id": "w0Lcycc7e2OS",
        "colab": {
          "base_uri": "https://localhost:8080/"
        },
        "outputId": "00398d14-db1a-416b-dc98-f7ccc4838379"
      },
      "source": [
        "data = [1, 3, 5]\n",
        "\n",
        "data.insert(2, 4)\n",
        "print(data)\n",
        "\n",
        "data.insert(1, 2)\n",
        "print(data)"
      ],
      "execution_count": null,
      "outputs": [
        {
          "output_type": "stream",
          "text": [
            "[1, 3, 4, 5]\n",
            "[1, 2, 3, 4, 5]\n"
          ],
          "name": "stdout"
        }
      ]
    },
    {
      "cell_type": "markdown",
      "metadata": {
        "id": "YL_ynBPogMDY"
      },
      "source": [
        "### **List : Remove Data**"
      ]
    },
    {
      "cell_type": "code",
      "metadata": {
        "id": "VPEfmykkfphr",
        "colab": {
          "base_uri": "https://localhost:8080/"
        },
        "outputId": "c6b71ac4-7f9a-4496-cf8a-70f81eea7a14"
      },
      "source": [
        "data = [1, 2, 3, 4, 5]\n",
        "data.remove(4)\n",
        "\n",
        "print(data)"
      ],
      "execution_count": null,
      "outputs": [
        {
          "output_type": "stream",
          "text": [
            "[1, 2, 3, 5]\n"
          ],
          "name": "stdout"
        }
      ]
    },
    {
      "cell_type": "markdown",
      "metadata": {
        "id": "I-OhipUdiB0H"
      },
      "source": [
        "### **List : Remove Data (No Data In List)**"
      ]
    },
    {
      "cell_type": "code",
      "metadata": {
        "id": "NPcQRbZegXVF",
        "colab": {
          "base_uri": "https://localhost:8080/"
        },
        "outputId": "9fb5e004-fbb7-4e7e-dfaa-73d327073ec4"
      },
      "source": [
        "data = [1, 2, 3, 4, 5]\n",
        "\n",
        "n = int(input())\n",
        "\n",
        "if n in data :\n",
        "   data.remove(n)\n",
        "else:\n",
        "   print('No Data')"
      ],
      "execution_count": null,
      "outputs": [
        {
          "output_type": "stream",
          "text": [
            "8\n",
            "No Data\n"
          ],
          "name": "stdout"
        }
      ]
    },
    {
      "cell_type": "markdown",
      "metadata": {
        "id": "07lIFJYzisfe"
      },
      "source": [
        "### **List : Pop Data**"
      ]
    },
    {
      "cell_type": "code",
      "metadata": {
        "id": "Dk_3DxUsiTMm",
        "colab": {
          "base_uri": "https://localhost:8080/"
        },
        "outputId": "2e7d0b89-f42e-4604-82a8-55d383dc9b22"
      },
      "source": [
        "data = [1, 2, 3, 4, 5]\n",
        "\n",
        "data.pop()\n",
        "\n",
        "print(data)\n"
      ],
      "execution_count": null,
      "outputs": [
        {
          "output_type": "stream",
          "text": [
            "[1, 2, 3, 4]\n"
          ],
          "name": "stdout"
        }
      ]
    },
    {
      "cell_type": "markdown",
      "metadata": {
        "id": "trRGDy4ri_Al"
      },
      "source": [
        "### **List : Sort Data**"
      ]
    },
    {
      "cell_type": "code",
      "metadata": {
        "id": "BUQsT8f1i457",
        "colab": {
          "base_uri": "https://localhost:8080/"
        },
        "outputId": "c40bbfc9-5a35-484e-f7f7-0564f02227ce"
      },
      "source": [
        "data = [5, 3, 1, 6, 8, 9]\n",
        "data.sort()\n",
        "\n",
        "print(data)"
      ],
      "execution_count": null,
      "outputs": [
        {
          "output_type": "stream",
          "text": [
            "[1, 3, 5, 6, 8, 9]\n"
          ],
          "name": "stdout"
        }
      ]
    },
    {
      "cell_type": "markdown",
      "metadata": {
        "id": "0Fe-YHAjjL3m"
      },
      "source": [
        "### **List : Reverse Data**"
      ]
    },
    {
      "cell_type": "code",
      "metadata": {
        "id": "mL8DGtKWjGcQ",
        "colab": {
          "base_uri": "https://localhost:8080/"
        },
        "outputId": "c41b373a-610d-4f9f-aa16-0181fd2c5993"
      },
      "source": [
        "data = [1, 2, 3, 4, 5]\n",
        "data.reverse()\n",
        "\n",
        "print(data)"
      ],
      "execution_count": null,
      "outputs": [
        {
          "output_type": "stream",
          "text": [
            "[5, 4, 3, 2, 1]\n"
          ],
          "name": "stdout"
        }
      ]
    },
    {
      "cell_type": "markdown",
      "metadata": {
        "id": "G5FIMs8kzvQt"
      },
      "source": [
        "### **List : Multidimensional Array**"
      ]
    },
    {
      "cell_type": "code",
      "metadata": {
        "id": "ZSNl1ADO6-Gk",
        "colab": {
          "base_uri": "https://localhost:8080/"
        },
        "outputId": "d9b817c7-45ed-4d4d-93db-1243bcc022d5"
      },
      "source": [
        "data = [[1,2], [1,3], [5,6]]\n",
        "# 0 => 0,1\n",
        "\n",
        "print(data[0][1])\n",
        "\n",
        "for n in data:\n",
        "    for m in n:\n",
        "        print(m, end=' ')\n",
        "\n",
        "    print('')"
      ],
      "execution_count": null,
      "outputs": [
        {
          "output_type": "stream",
          "text": [
            "2\n",
            "1 2 \n",
            "1 3 \n",
            "5 6 \n"
          ],
          "name": "stdout"
        }
      ]
    },
    {
      "cell_type": "markdown",
      "metadata": {
        "id": "Q5NDF7FuaBe6"
      },
      "source": [
        "### **List : Add Data Multidimensional Array**"
      ]
    },
    {
      "cell_type": "code",
      "metadata": {
        "id": "H6mtuiJlaD0p",
        "colab": {
          "base_uri": "https://localhost:8080/"
        },
        "outputId": "cdfa8dba-6796-417d-a729-356dca5dd854"
      },
      "source": [
        "data = [[1,2], [1,3], [5,6]]\n",
        "\n",
        "data[0].append(5)\n",
        "print(data)"
      ],
      "execution_count": null,
      "outputs": [
        {
          "output_type": "stream",
          "text": [
            "[[1, 2, 5], [1, 3], [5, 6]]\n"
          ],
          "name": "stdout"
        }
      ]
    },
    {
      "cell_type": "markdown",
      "metadata": {
        "id": "JTHt5Gj4aULZ"
      },
      "source": [
        "### **Tuple : Basic**"
      ]
    },
    {
      "cell_type": "code",
      "metadata": {
        "id": "tjr0K-5zaXrY",
        "colab": {
          "base_uri": "https://localhost:8080/"
        },
        "outputId": "e820e754-b9f0-4054-f50f-5cde488d73d7"
      },
      "source": [
        "tup1 = ('Apel', 1997)\n",
        "\n",
        "print(tup1[0])"
      ],
      "execution_count": null,
      "outputs": [
        {
          "output_type": "stream",
          "text": [
            "Apel\n"
          ],
          "name": "stdout"
        }
      ]
    },
    {
      "cell_type": "markdown",
      "metadata": {
        "id": "Pb44QoKHaXUg"
      },
      "source": [
        "### **Tuple : Print Data**"
      ]
    },
    {
      "cell_type": "code",
      "metadata": {
        "id": "5Dp-4yuJafZ5",
        "colab": {
          "base_uri": "https://localhost:8080/"
        },
        "outputId": "c73fba42-b60e-4868-fe5b-9686bcc6563a"
      },
      "source": [
        "tup1 = ('Apel', 1997, 'Jeruk', [1, 2, 3])\n",
        "\n",
        "print(tup1, '\\n')\n",
        "\n",
        "for n in tup1:\n",
        "  print(n, end=' ')\n",
        "  if(type(n) == list):\n",
        "    print(\"\")\n",
        "    for m in n:\n",
        "      print(m, end=' ')"
      ],
      "execution_count": null,
      "outputs": [
        {
          "output_type": "stream",
          "text": [
            "('Apel', 1997, 'Jeruk', [1, 2, 3]) \n",
            "\n",
            "Apel 1997 Jeruk [1, 2, 3] \n",
            "1 2 3 "
          ],
          "name": "stdout"
        }
      ]
    },
    {
      "cell_type": "markdown",
      "metadata": {
        "id": "c59tkNlai0qg"
      },
      "source": [
        "### **Tuple : Merge**"
      ]
    },
    {
      "cell_type": "code",
      "metadata": {
        "id": "7pMbsM6-i0Tz",
        "colab": {
          "base_uri": "https://localhost:8080/"
        },
        "outputId": "359be994-ec84-44b4-da86-c3fcdcbbe798"
      },
      "source": [
        "tup1 = (1, 2, 3)\n",
        "tup2 = (4, 5, 6)\n",
        "\n",
        "tup3 = tup1 + tup2\n",
        "\n",
        "print(tup3)"
      ],
      "execution_count": null,
      "outputs": [
        {
          "output_type": "stream",
          "text": [
            "(1, 2, 3, 4, 5, 6)\n"
          ],
          "name": "stdout"
        }
      ]
    },
    {
      "cell_type": "markdown",
      "metadata": {
        "id": "g9wYqK9HV3fp"
      },
      "source": [
        "### **Set : Basic**"
      ]
    },
    {
      "cell_type": "code",
      "metadata": {
        "id": "j86o5uao6-cy",
        "colab": {
          "base_uri": "https://localhost:8080/"
        },
        "outputId": "7f2b0fde-b432-49ef-f809-4617f5ceff10"
      },
      "source": [
        "data = {1, \"Hello World\", (1, 2, 3)}\n",
        "\n",
        "for n in data:\n",
        "  print(n, end=\" \")"
      ],
      "execution_count": null,
      "outputs": [
        {
          "output_type": "stream",
          "text": [
            "1 Hello World (1, 2, 3) "
          ],
          "name": "stdout"
        }
      ]
    },
    {
      "cell_type": "code",
      "metadata": {
        "id": "ydiNemmdV-dF",
        "colab": {
          "base_uri": "https://localhost:8080/",
          "height": 197
        },
        "outputId": "4f44189e-97da-461f-93c2-e967afd4d1cf"
      },
      "source": [
        "data = {1, \"Hello World\", [1, 2, 3]} # Set Tidak Dapat Memiliki Mutable Value (List)\n",
        "\n",
        "print(data)"
      ],
      "execution_count": null,
      "outputs": [
        {
          "output_type": "error",
          "ename": "TypeError",
          "evalue": "ignored",
          "traceback": [
            "\u001b[0;31m---------------------------------------------------------------------------\u001b[0m",
            "\u001b[0;31mTypeError\u001b[0m                                 Traceback (most recent call last)",
            "\u001b[0;32m<ipython-input-4-9b5543761a30>\u001b[0m in \u001b[0;36m<module>\u001b[0;34m()\u001b[0m\n\u001b[0;32m----> 1\u001b[0;31m \u001b[0mdata\u001b[0m \u001b[0;34m=\u001b[0m \u001b[0;34m{\u001b[0m\u001b[0;36m1\u001b[0m\u001b[0;34m,\u001b[0m \u001b[0;34m\"Hello World\"\u001b[0m\u001b[0;34m,\u001b[0m \u001b[0;34m[\u001b[0m\u001b[0;36m1\u001b[0m\u001b[0;34m,\u001b[0m \u001b[0;36m2\u001b[0m\u001b[0;34m,\u001b[0m \u001b[0;36m3\u001b[0m\u001b[0;34m]\u001b[0m\u001b[0;34m}\u001b[0m\u001b[0;34m\u001b[0m\u001b[0;34m\u001b[0m\u001b[0m\n\u001b[0m\u001b[1;32m      2\u001b[0m \u001b[0;34m\u001b[0m\u001b[0m\n\u001b[1;32m      3\u001b[0m \u001b[0mprint\u001b[0m\u001b[0;34m(\u001b[0m\u001b[0mdata\u001b[0m\u001b[0;34m)\u001b[0m\u001b[0;34m\u001b[0m\u001b[0;34m\u001b[0m\u001b[0m\n",
            "\u001b[0;31mTypeError\u001b[0m: unhashable type: 'list'"
          ]
        }
      ]
    },
    {
      "cell_type": "markdown",
      "metadata": {
        "id": "LNR_05SOWbSo"
      },
      "source": [
        "### **Set : Menambah Data**"
      ]
    },
    {
      "cell_type": "code",
      "metadata": {
        "id": "rkHRkczBWNgS",
        "colab": {
          "base_uri": "https://localhost:8080/"
        },
        "outputId": "27bf99d9-28e5-4040-c6ec-c537f61d0907"
      },
      "source": [
        "data = {1, 2}\n",
        "\n",
        "data.add(5)\n",
        "data.add(2) # Tidak Ada Duplikasi Pada Data Set\n",
        "\n",
        "print(data)"
      ],
      "execution_count": null,
      "outputs": [
        {
          "output_type": "stream",
          "text": [
            "{1, 2, 5}\n"
          ],
          "name": "stdout"
        }
      ]
    },
    {
      "cell_type": "markdown",
      "metadata": {
        "id": "rTekPo80XIZY"
      },
      "source": [
        "### **Set : Menghapus Data**"
      ]
    },
    {
      "cell_type": "code",
      "metadata": {
        "id": "GLj9weiiXFT7",
        "colab": {
          "base_uri": "https://localhost:8080/"
        },
        "outputId": "38890bde-fb20-495e-d3f1-e46a8f4766fe"
      },
      "source": [
        "data = {1, 2, 3, 4, 5}\n",
        "data.discard(5) # Cara paling aman menghapus data pada suatu set\n",
        "data.remove(4)  # Akan Terjadi Error Jika Data Yang Di Remove Tidak Ada\n",
        "data.pop()      # Menghapus Data Index Ke-0\n",
        "data.clear()    # Menghapus Seluruh Data\n",
        "\n",
        "print(data)"
      ],
      "execution_count": null,
      "outputs": [
        {
          "output_type": "stream",
          "text": [
            "set()\n"
          ],
          "name": "stdout"
        }
      ]
    },
    {
      "cell_type": "markdown",
      "metadata": {
        "id": "NgR-L8NdSkRh"
      },
      "source": [
        "## **Set : Operation**"
      ]
    },
    {
      "cell_type": "markdown",
      "metadata": {
        "id": "o7pcniq2SY7z"
      },
      "source": [
        "![15_union_intersection_difference_symmetric.png](data:image/png;base64,iVBORw0KGgoAAAANSUhEUgAABkAAAAe+CAMAAACfPQ1IAAADAFBMVEX/AAAAAAAAAAAAAAAAAAAAAAAAAABHcEz/AAAJGScAAAAAAAAAAAADKGArYI8AAAD/AAAAAAAAAAAAAAAAAAAAAAAxZ5M1aZYAAAA3apY5a5g6bZk6bJkAAAA/cZ36AQIAAABAcZ07bpo7bppAcZ3YFR4+cZ3vBwsAAAD1BAc/cZ0/cZ0+cZ3/AABAcZ0+cZ09cZ08b5vNGyc+cZ3nDBJ/S2jCIjA9cJ0+cZ09cZ09cJ2uLkF3UG88b5s9cJw8cJw8cJxJa5U8b5s/cp7gEBi3KDmkNElMapNCcJuRQFmHRWE8b5sAAABTZo1CcJxvVHaaOlFSZo5Bb5paYohoWXxEbplAc58AAABAc59Cb5pYYokAAABkW35fX4RKa5RfXoIAAAAAAAAAAABMaZIAAAAAAABuVXYAAAAAAABBdaOYO1MAAADJHiqDSGWwLT8AAABhXYEAAAAAAAAAAAAAAAAvWX1bm9X///8AAAD+/v8EBARamtSRkZH5+fmEhIT9/v4EBghcndgJCQn29vYlJSU+apPp6elamdN2dnYjIyNNhLdZmtR4eHgsLCyOjo6Tk5MCAgLz8/Ph4eE+Pj7c3Nz6+vtTltP8/PwNDQ3W1tbZ2dn19fUeHh7s7Ozw8PDx8fEXFxcQEBBWmNRRUVHS0tJ+fn6hoaGysrIbGxswMDA0NDQUFBRISEi1tbVpaWlhYWE4ODi+vr5in9ednZ3Ozs6CgoKpqanj4+NMTEzl5eVfot+IiIilpaUSEhK7u7v2+fzw9vvn5+fMzMxlZWWsrKwpRmGZmZm4uLjHx8fBwcFxcXFFRUVnotjP4vNCQkLExMR+sd4oKChrpdmLi4tfndZhpuSVlZXr8/o6Ojr39/dbW1ttbW1YWFheXl6lyOgWFhZxqNqVvuRVVVW10uzg7Pedw+XX5/R3rNyvr6++1+6Pu+Jzc3Pm8PjG3PDb6fatzeozV3mKuOEuT21Yls8zVnfe3t7f39+FtN8/Pz8NFh/d3d3Kyso9PT13d3c8PDxdnNVSM9H2AAAAdXRSTlOKiwxgb/vzAIkD3RrmAQYHjMAVhtoeDBFrFhwqI9LIjCLcODHWmrKR/o66waGG6ZmJQJ2RlMmicqqBeqzQVGtbY/ZNz5ansvD6vcNHlej01bfw0eTZ7u8P4uLuR9/e5uWks+3bMzzhVXv8xiqp1LjJ7tdlG2wo9BqIAAHxTklEQVR42uycTY+jyBmAJ4oSKdmV9rK/MMohUm6JZLtTB7KnkVKXubT7zk/gOBe4zM1IyPLKNwTCgLCMWc9GQnsifBpj0x/u9Np4+3k0I824G6iq9616iqLwh79P/vj9n+FW+csfviV8cC2+z/OPVni3wZ/87bsPf51M/g03y6fJv2gEIP/gGsH/3Xcf/jn55ef/wK3yZfKFRoAr5t9XGuHdBv/TP/704ZvJLz/+ADfKx6+TnwgfXIsfv0x++kwzvNfgf/p9JZAR3Cg/f5389zPNAFficy6QH2iG9xp8BIJAABAIIBAEAoBAAIEAAgEEAggEEAggEEAggEAAEAggEAQCgEAAgSAQAAQCCAQQCCAQQCCAQACBAAIBBAKAQACBIBAABAIIBBAIIBBAIIBAAIEAAgEEAggEEAggEAAEAggEgQAgEEAggEAAgQACAQQCCAQQCCAQQCCAQACBACAQQCAIBACBAAIBBAIIBBAIIBBAIIBAAIEAAgEEAggEAIEAAkEgAAgEEAggEEAggEAAgQACAQQCCAQQCCAQQCAACAQQCAIBQCCAQACBAAIBBAIIBBAIIBBAIAAIBIEgEAQCgEAAgSAQAAQCCAQQCCAQQCCAQACBAAIBBAKAQACBIBAABAIIBIEAIBBAIIBAAIEAAgEEAggEEAggEAAEAggEgQAgEEAgCASBAAIBBAIIBBAIIBBAIIBAAIEAAgFAIIBAEAgAAgEEAggEEAggEEAggEAAgQACAQQCCAQQCAACAQSCQAAQCCAQQCCAQACBAAIBBAIIBBAIIBBAIIBAABAIIBAEAoBAAIEAAgEEAggEEAggEEAggEAAgQACAQQCgEAAgSAQAAQCCAQQCCAQQCCAQACBAAIBBAIIBIEgENoCgQAgEEAgCAQAgQACAQQCCAQQCCAQQCCAQACBACAQBIJAEAgAAgEEgkAAEAggEEAggEAAgQACAQQCCAQQCAACAQSCQAAQCCAQBAKAQACBAAIBBAIIBBAIIBBAIIBAABAIIBAEAoBAAIEAAgEEAggEEAggEEAggEAAgQACAQQCgEAAgSAQAAQCCAQQCCAQQCCAQACBAAIBBAIIBBAIvAqxGAkEQuwQCPz2kxSBvG1s5c7cGMvAnkkEcpux2yaXjB0CgfOSNI3LJJ3LoQT/VQIR2Tz1vSixd79ybxOZtfaTKL+Sm2rDnxxOXUNRxmNlHInLFXYIAhGjTNOyx2ZGIltog5/aq+sqdkosuAu5hkDE6Aay5NpJuluOyyQ1B5KkrxKI5gZ5JSqUlT0Xv0rY87PO3fh+vEfZJpYcdIaJqVmVdLyy1HckECEjvUqG8DSvpeaVP9Tt6VViJ+beZrlnE5iR5ztZLjvxSOw2qTqCCwtEZMmyaP5louGQJwaYqE7S5U4dSPDPFYjQ1kZZhbom+d9k9vbDej6ldTylvVD9DzPNBqwQqW3r8hq7dyUQrQxP/ic+6f5i6utV8FbqNSIn5GZ8im76s+5SstSCJnZrBHJ5gcyLLl4EwEEgjw8wC7NOUt2f3qZAxCw+GNTrgT16+axBZLN5zmwhnvHH3NaPLlT9N3aGYZCmItlBaeR8VZf0koPQAJaw1GUzMM9PBCKi8V0ZvPgqKS8W1eVPEslInEUndtumDu6UoeriAnGayJwhkL4+OMgbh9eUU2Ta7HiklDOzSdIbFUhRA0U57o/L2UtbRsjUM4PAjF1NPumPMB73XKjo+dt0CPki5C4qKhKtDwIsF80gdMllkAEIRHpVte/GuxO3hPVd2ZXG5Xxqq4z7MfxZu44ls6DJ5h13IFcTyDl3IL19cIj+kOuqnOeMXL0jpczi/Qz1JgUi8gr0dEf9DIHUc3Tj6RE2Dfr0Ud3lLodgECmMWhUHTzvENKoLbV5wl8QABCKsxu/x4ugnqqs3s4yrbBwp10Z6Myn/E7W3s23sAodtWDchkN4+OMiFp1dklpDb05FSTJP6VCvnJp+BqO7DXhqbbbBa3p8pELlYVQZ6cponws2BP5QHXVcOO/7KGUBSaMtqaaSTvDKMjYexYgRr9X3twhrVDxrujlNBZEkdtuusYI0+PiaQUiFm+9RfrWKnB67KKvxtCKS3Dw5QILP7avzahi8XSLGaUY2Uh6vh0omMB0XRt756i7uw5KhZolECf2eF6dqPNnktjbME8uw6gdDM/X2Osops33X9xDT2H/U8qr2KQHpmP6qz9m1/HV5yk90gBNJoYrzr1lw69bPphys9mm7vQGIvJ4rNzeG+jHjeGmRexM4N2cV7QwIZ34ZAqnJunfME0jNSqvNdkaTWULYSnScQNTXqkd0MpVoys+zNePW2AlGTg2Vqayan+XUyJ43bnV/uUAUyqpvlkuUbhEDCJjaROEqZegXLuNK6Y3sHYmmaNpvNHcv1jDaVvHYyItXppWOHQBDIWQK5xgDzdgKZJnVLLJslGiHlIrR32VsKRFp6cwMSWJmUxbmFkOrMbxexBiuQoqwXLsogXiTU9nuYOrkgMrv+PJpeqWR7gYSyQhWa1U5GFOuasUMgCOQ8gQwsSc8SyOFzxoMHO3LR926GGPW9VvoSgeRXqS+z6SwniIW9vzNJ+yMhRk9+T0xepmcbPzt9kyHrOeoVySuyl2wWOf+bbgYhkL0ouqGR82Y1shsxIRYvmHSIxQt+Rbz0DmS/AC3yq3v7yYiZPV+9xf+7Zip60+olR57UTwztde1LCeSkJZ7tg/1j0POdu77e08f2Hdk/wDwnkCITxBkCeUVdOj3mLdcCzrwDaXYhm4c7avL+ePTgdOTY5kbX9eU22rVhzz/epbv6aauRpAVhz9A8q/dWjO933RMXz0aaXl83qgxd23aroUGG3ta411dx364+sUi9YJmXaRMkYbcFZeiX5xD5BZK82BuvibPILNtcLfV73VhF/j76IgvzitSlXNpVRWRd+HId3TlqERnm5zF03dgEXro4qlSaX36tVUf7Zl7GZWCfs4lrEAIR7RqW2ql4s4Il2zyY+2VjLFex2814OSsWeKuUkXO7iNfG9OddIxUNnJYdTjpJYBS/4j6xwUucCqQo7sjbL2JZ4vDq3WcgUkuTvLD3RVA8t2fEyEI3iTeblZms04ZqNChT0y/SSmr2Kj9B1My68oPsuE6r2O8+WJVOcZRVlEHINCqOCxKnaTyplQnydI1/IwKpWiIto1F37U281uSzfbD5eZKPQff5GHTc49omFpkb6PdGXPqn+ng/lATL+6KdOyFvR4oqpO1IUY4VXrApBxjPageYvBxpuq63Hm38o3J2MsFuZziPj5RNko6OHzX6xUBVDjA77ShFywGm3LEuNLcYmPMB5q12Gp4lELkXyDZ8dBFOjLJ0Vb8UUH2DhVb1SFEPJsr48P3y01uJadLs9IqOeokYpc1hD9U51XV5SsOdCmlt9yc2dln3OKH5jZWKYq12WTtKqL5Sv/qnWvUveWr57SxO8QUdd/vSKsWWnSIK9bp+pyIPZRIWD4nKT5P913YUh7idl6EfkoMJR/liZnFPl0+2tURvf2fx4me5g3gGImbNaxTGQWrkVa9bqNZK3q6hedgW0eGrGPPqR6bMT+e1+/3s7GCr1KpZEJNOsw51N1662WPN9bFPIMWd5mq/JaP6XLWq+azi7WOXpebD+CDKetT5zoX8n1bQs7krKk5Qb1/W/alq1eGPp2VazT3j4LsVxkpgtTMwNV1W4Z/m5dm2Z5xX3d/X24eDUvyPvKvJkRRXwrcmVfLCB/A6yT1H4AJwgERCCIkdIpVACsSPWLHM578I20BWV77paVVNz2q6ygV2+HN8EeGIgPyXCSRYB70bXG8n2JNiUEf3kzN4oINi0EGWiPmDWZWovx74xgSKjfh+Eft98c0cRJ2DGt18wAqHtf5lfiusFw69/ivi385O+ap85iNQ6HmBhE80JWBJYQwVTF87ALzbMNXO9pQRLzf4oV34W/Dzf3ogtHwFX+IJLYA5uOJ/hlWJhSwHNST3XYDPx2j6PvgHhZiUpvLU+6WUyHn2Q6QddTXqGB1PAUZnTkmGIvbvKkuo8RUbCSM6Z2odJyd9mI8J5UKa/UJo6ev5UKWUCNq6EsvUfk7UYCcmkikVFIdPoRvN5W6bMfKTCATii/QjtSz9EAqf1A8JCbtNe5rIaEKm2WFgasNMqhSyDJz+1s9vsT1kfnUeyAsC8VIkKPWXouWK3DvoU/dM6x0C4tVmkKw7qHalpyFnaAdxU2IpdKOXJORLzcbdQ6mZvK+OOB39sDyjYhHBD2GWJvgT0f4h/zb99P4NAvFvsbLa/LyJ7J0uf3EGPZCUfd5rQ9LmwY/p9CE3RpQoaclf7tv3deHGtL2U/hLrLR3FVgtHYtq8sFUVRoTd9/OUVeREmY5HSCDeS00pJi9f3BKGCkZaMdR9jjGocqUz48yrWnvYUDHyhwmEwR0I5TI4hi/xHoXcFbvyL+6FS8f9xYNc/G5LEiwrINNr52aZWxBaBhaBcC/HabBCP053y4vMuQtJN3Oqqx2BcP9DjxpDxqrDTirN04n326zvm/mckEAIseFooSGEAdpyL679BgTJV6MU34NAWAqzv/uWWoghgqWkkbW7utDLDFsF7sWQ3zay6CBygQQi9sAZUr64DHnlgVjxUG2MaPOMJnpr1j070BNd8diRbDgdVrkPGcOEk8tsapo4gQh0H8AKJw9qbBREa6+vzp4Gn5ozvb+AQC7J877Z6dvnZ1DooHivgxZvQyCjaapRZBaB5K7kqWnUhATibKkMEkU7BTM8lO65H9RdC6J7gQTBIJ9oSj35ExIIdyv6ePsgaXMBToFAqvXsynH6HcXOb3og4ALxgzQ/Dm44iYgC7U0yabd9kUACCGye7juKIgxiWLosDQik2zfowkobEUY5mBOmHmsCie4tjuIEYm7y3Y15vEkgeUkPTCVhPzKXQBp3klyxNl+0EL7H90Ag/nSihTXvRfv0d7V9rg0ECy312UYPZCeLaGHEIZC63A6Jq2OD/JUHYsFxDhxwA4G0pyMExMDrwrs6bpIyXC0C6cwobhL4lqNsw2F1TxhN7tv1lUu0+cmQfo9kzn/XA2nn3U5nn57BVzoISiesB8Mom0DG+06VlBoQevPOnSlTEwRCWE8PXjhU0mp+RSCvkfAegTxvxwomAZsLCKQ8b+RI59+AnzfrQKrBzLAu031ehOlIV7dJW5/14Fa0fCfLgVjmYHcFAiR10C4sSOGXg00g9Lzn4Bj4lTzg5MV1krQDOFHAT+CBRGYjuMHrJ/ofl6gYigg92lG5z6fXISybQMhTOD9YUX+xVGKj8AwEcrCC8YsWwvcgEHOkzyYnhltzalUPdQUMxt1laJOkjihoQiUt8EAOZAFWIBDIwZDyOLnklQfiMVRZSXDogWis03NsI4DOOk7CSj2FYkqSKbam0ooHAIFYsEpC9OFPVMDKlKMkuUsglx3RRuednii9v4BADna6+fQMmo6mrg5Krq4HYm2MFcKi0f59Fx0KAQ/E/CUVappVsaNg4Nps5IAkbD4gENEV7iUShAuyvtKUOwLx1uhYwZzBQdUEct6TzO/o2fMegRBDm5RbltO8hpvkzLuWbTGvWZ6lc6xvloTbyao6jlFSccH/EQ/pdg0+XI0eNd9jD2j7GstLJKWw4caraLlSQidS34USbLE+Nek1r5ZRDfnQ1yiaQJzO8R0hahrR1M1Nv/RNhwqCOy5B6ixE/ldL9bTzQDjj6nFF0pXz2KILN8mbNCAQ1QydK9a6MJfH/ddckG/yRUIsGaQmhgUJdXUu49Y3BXYadWuVixJUqtChi/m0B6JlEQ01Nh84RanOmlgL60Yyqq0hwjB95w4Ew2snbYxsPRA5mbi9lxwBtzIBZA3q1yzTJ3e6VXn4aLTWGsZxlDX3ikAcWI06EZ5eaoBVgWrTJhD4q7gezlZgW6gBIxT6VlnBDyUQau206d0afnIGCelsHVStd9RB3sGD1QOfbCN5rkqmyJgvSpUo7eduqQg4gUPCTWquYNZOKxh57R30g5nnRc1TFkH43UUiYTxAgtKUF0dTFlJdbQmEXCdLwcxzl8SWg2oRCFUX/LSwFMyXYxy/jUDERxOc73MMdpquyhHQ/Vs8X5Zs3XQ6QR2KcE7a9z0mpy38H/2yjTtgptfH0Sc1uGRBozBiK2zxxG55VKIuHmHGVOoEXKmkQcCnFFyVx0GhOZP2QPT57+Z7WzSB6FpGo7FJc19UJ/uQ/0JPC/dZQ76QG6YQyoWs7nw0gTzRTZ6WzPODsCpjjHvLpZvsJRmYWdOljNFHCn8SgWAM61Tjpq46giWvObAm5FyGEh06Z42eCqXbwQNRXw/jsujRG4VbAkMgIjze8CGQrUVBQXzVAyHoLcf+kQfy5N5T0d0eTCDA968AE5VD4wXaARlWBSsdea2r61U5NLNl8xUcVkkx+/LjKFHSpKGC1fMGsOo3QWIZmO3TtZlso3EQQrnjkIWR/ziBwNdbbmLdyJyfnUGRIAU6KBAo85qz5tvn7sGneOQbM4j0uI3kuSppatMslrn5obilpU8CSNKdViZfGM7U1BqwcOXzxDReMc1eOtzifWcLCZjBc1PfYQVN+RHZmnJLIOgGn+o+e/p+XjUFJhIpdOSJhZ954QoGgzDjP08Gf7edO+SpIoUUnWnLQoJZkf/lHsAVTwenV/4+8AmUx6z+YUk+8dtPOqIbJRWFzCWQ4hbykxwwhEckDUHCJqpTe9W7iOgvbjOMTSBjevXCKuVyZdl477MA1sHyzvIkxUKeWMRkLWRDIORqWr8Eos6EBU9kItWw1yIQmjw88aDFHfFTCAS8dRFuhp0zESyx+EWbhglj4NDqpd9UXYchkMv44EIOvNvFbX9mEUh0r0Rbh7ABMN7f9EDw2woXRf5bDyRN5vUKCCVBNTmeMcQ4Z0+ZgqEGSB8wsiWQZJWwyiSsur4CWAmXHS78dgQSN1eBq9Qi1TblAPHzmWIs568gkGjOhCRC7Lf2yRkkgQ6CnGc4u9gCXZVS2AQyca2bZ6nw5LaS56oEbmPp5RZsCWSELSWBBkKkm3ASBpkikneYMD8jKCRU81SqrHuNBEdTLraCcQmE5JBx1KZMKRjvVrgxDotA2vTJH8RWM+KPEwghlgmoHOuiAScEJVdgyZROlpRxSznkV5XoDO8u68cRgYz45SKXQLi9IQ8ug+6vp4tsnoGBFUzkwbBkpBjKIpAx47tAmNRvLLsyq/iN9O6t/3EV7IZAWAMfM8JIHWMQolNq1hAIHa8SJCQYTaLdDyIQk/5wgWuCp/7BdJVVDFC7h8Ig18j2tQyBXLpQyYKhV3PdEEg054qkQxBg+6YHgvOhyhjZeCDEy0IbAayzrkD58MH5yolM1ZBLYXCXBwTykVQvYYXJxOOWQOJGApp4jXHKKg1xLYOPOf8bCCQun1IS5nIjeX0GZZ6GSoVDHbSCDmIbAplSszE7yVuih5QdQyAjbmkAUXXMmiSs0bjS/UOPK9FdJHhbJBxXom8IJOhBwaAzyoLuYlvQFoEkqjKAoMYr/vlXi97/IqFXTW6+Gvc3rBtOqlKsTapjsRHLrwgEmyodXfGwKzgCUeUQSNSYSgEIYiW+tenU9D8GqJy1JkACae1EHre+njDc33cIBKKjiQlGBQugUF5xGAJpgeHwVfHjRxGIcQ9bfU0AC5HxJ1ZBf2pzbODrMG3mEAhNcpDF6n6zDAnk0nkgHEhZGd70QMCiPdErO/BAuH5wEADu0lnRox87OCbBAju/JZD6YesJF1aoN5MNgUSlDnKzB+i7AhL3sdloF/4FBHKeMeEI0jSm12cwWHY6iMFl17ghkMK+ZDSSh/dZeKw3BDKZLdXlQ3btcAAxBH0Z+KKVidvAA3GavEMgkOLXmmAFlkOfSqnykEBqGBNAe4ho+fMEwhnkagqmdRxLA/l/7F1LjqNIEL21kZULlrPIte09R/AFzAGwhCxL7BAWP4EAyysvGSAzIj9kYru6urq62l70TNfUmAQi4+WLz4tt7upZ1DHJw1b/MoAYGUjQKmFJ4bDPeMTHyEQ3vlGINEgzZr3ah25OBUAO94WQshduHp5+5gACr/ImtZ578MPp/CgARCileNxON38XgAwnG9iZ7Jl4vInKnYK+tNzwA7l4YEAwokQFENwO5KzOykUAibB8A11P9EEG4riEmKqw9OqOmNnJjhWLbiPOQKDFnh9XKx1ADhe7WRFyOij0Cd1YgRCKrTPo7iiw4Tb4BwCkE6EDOE009j0Ib2kj+SDOXNadCiC7VA6gi/MDWhaFsKQTsZKd625e3gLVVNKMWdQ0OC4CiH7QUS3hKQDZAh+Xgplkm7EVrVnQBQEkFL/B06ybPwEgUzl/q9Ue39jPU0iSrvbwgVNp9CyA4GRRk0KalAMhStK6Eu1dGFjPhj1IVw3kOntYUn+LFGIKAJKeDeJo+G9QQPwCgNCEP6WdbDjbFpVaFAAR08S9Ro/1/BUAgsg8RnmmcHQkcUnRXpue0Togs8T4JALIThT3QRRspwNIT/Wdd3iVgSCbNVdhaRagAshq27nSMY8Q4MZXHUCq+fBm6fsTC4DgIgiemW7o2EKMSfwLAELEfYMYuHUPog865OiDzhjVUgEkU1LIhtdPvFwpyEEAqc5CzYoWmLNHB8PzVm7xEEBkWYPXAYQGO35kl2NR6NBYDhUBpBS/wW3Xqf8IgIxxtrL15a7YsbAOAXveXil290MAId7SaGpRhSWX8SoAMljCRjQE01NkX9NRBZB4pgnZ74MwT9tjkTVN5L4OIHcRfJDcbCqfH40Akjla5uTvABCK99J6E+Vgz5mF6kmfO4ZXwTeAHUAiICV2APGXAMTOQNAzRwqASAxktIDTPU+PRZdh/Sw/20L1dxZOka7+rrl5BJB0RkAGsyrzKzMrmG61ACDVDECSfxRAUJnTugcp184x7ndfBZBCeTHw5NfS+QHHMfuJJwHIWnqllIdYTBfkka8FABkt4WK2hGcAxAt3kE+VT6i8yGLNkgAmACn+MICM1bZJFUltKymV40uGz+ZZAEG9Ld9wd9gHojYSqgCCQ7gHs/JK376mYhFASH+qjyJYtwbUeQFAIDrfyRvdg0juFPg3Akj3dwII0HmXhR8BKTfT8UgW459/SiuANL8IIORxGW9nZiBkdU7yYuYWOAOhIS8AKO6nIDjVvN7ugKIkFgAZzOrW+jPn9hKAnP5VAPEfAsiSDzpQQxRogYGIshA2lxwZiPRKvSSzXo87KWsOZNESngIQyKc2sm17+Q4zNRYAOf5xABmWuS2lux/nzYn4kuHjPxvCwgjPYakTHdiDAUAwkDJeQmSUDO93kYGQ4JJN/Yba//UCgCADPsqxau+CAEJ/GIDghhs1TQlE4pimmUg5GD675FcAJPoIAyEk2Sh1EYYqrKlpR7cAiK5vK15F4nZtC6pYbizOgUYAIfu6M5nVG0A+B0AWfdAzAKIwELC2Q21jIF7Z2B3MIgN5YAlPAcjFNRQcbaExJfvWALIi3vYilE1Kuvzynq3CGvw5EJt4O9fCAjUU9+o9BpDh2KD0reik6LoAIDRIDUqrLwJI/I8BCN3Dcaway4f4i2SaCosA0qlVWJ8JIFYtrBUq6+RmLaykNVoAZyDDDTVy8ILLcGIezQwgNLg6RgXGN4B8DoAkxYIPepmBmAFEYSDhAoAsVWENluAuWcJTAJKbAAR5yTcHkKl0EZtCLlQ0abhRpn26KnwaQCACNepV6xc8Q2c3zxqZcyByCAsYyKHR11SkJ2oFkGngEIrV+M2HciDIQIwhrPUx+GkhLIoxrK70YLv5ty28O779Z9bRspnIX8tAhBZiYlLjnfoMFQtQcyDDDc3PS5koBDcCCCFX+UsjYVZvAPlcBmLyQSV5lYHUxhCWkYHsDA4moVYAGSxB5JBNlvAUgNSuDBV6CMueA/kmAML2A57iMP64S8tQ/ZS99yyAQGOO6xSzKlYRtt6ciRVAYhyIOwBIAg4nD/U1UbqyAsg4qYpL5bXxpb7d7/nrZbxYbql0BHrVwyT63wogqy0QvsPF83ipB++nFzmQVn8TIesa/FoGssIIViTmgUi+m6Leb1PlowWElVKFRehVPz76kiqDGUAEIfa5WV0ObwD5HTmQjdUHvcJALop8jYmBYFmPH88cDAGnZwAQ0RFrsYSnAOS+g7OyIYm+UIX1fQAklAEE6iJ3V9Z8L32whP0hgFBwGc5OL6AnPXjkdeGtLABCsMopC0QVFkqnzJdkAhCCj7irT94kVlN+oIz3rnQ94tuDPpD9jwMQQjKoiSalNN5xJVVhOa3NOryvZCA9yKxA54bKQMiKi0Ss23CSFPG0DgOPKUNuUOTv0NaB3JhmAJBJS9HlykV0egynN4B8KoDABLPD3AcR8gyASAxkFFwGoU5qYyDQ6OZf5hdcWQFEWEJz4ZYQfKCMF6LEO6WMF3R+tT6Q7wggYsbsqG8GHbIgU2iCh4cAQlCOd6ZnLklP8s1kaiTEKGgxThCFTK5J29cOIPTUQLMq927UCiB3K4CQAJ5OLfX5nH2M+v04AIGHOQr480fh1zzigxrVmc1qv5KBUDFGgU+bVn039loUCTBVtZGwZw1GRRjG6bFN87o8EfnAYwIQKrwNNyvyBpDPABDcg3h85F3Cxhj5AwYiGglROKlRGwnlM4HH/fMutjs9BJBStDsXDywBAUSpRtUA5AwsWpplQFdQEMzmmHwnAKGnXitJjKXdSbADI+ttno/2ArAtv4JCAI6bayMeMA3b8P8gpEwuKGUCwafJhASVuNoGgJoABCU9UeBmBiDnyHRAUAGERqoUIItQunxY/DQP6IcBCDbsH0Jut0UAepTwBDe2/ukvZCAUQ5TT2IY5A0ERZ9SbUhkIWGm1ped9EOzPK6ryZROAjDfoqj1sbwD5BQCZ78HBB0EN64p+DEAOMD9qCji6cr2mgYEQcd63ThhGABHVtnNLmAGI0VOqiyfbDHVXiRx9h8z/NwMQL8yaWqUEqK4+HrFRhspUgQvPu1Mk6YypeUBQ56BMoBZR6cHXaw7b8bkOiaSWNS1iG0NJQui9ACCQPWuhEoxqUiZki9RmQcoETjDuSTTKZ7yyh6W4fhiA4GNx+IADt9rqUptsuvOfZCCE5mIMT2kMgmMFHcZRVQYCdlV5BD6aWZkABDZIAQ/lzUB+AUBMexDreqw+6BGADB6bcwKsG+TswsRApJodqy4I+e8g5+IVS+hsloCy5JvYCiAin+qEaC+IDpmmxvvnAWR6VkVIeQc+0ePIoo63C2TFUdlH4LiPlouJzbeAF2NlpBv37DeIMkE02usA4jKwIVK7Gotbis6RqzTFnUh/GgEEGho4nyXCmEDJCeUAUulGdDn3GlbX7dnvEA8F2WJKfh6AiD77na5BJh7hIZlZB/kKBgIX7W+ZyH+LidcqA8nV4ADB0ChjINCI7seBUfjECCBbcBsZv0FRmvYGkNcBxLQHxTGl2Jt90CMAGVxJPXydlLSDHKaJgQg13rFq1OhgVMkqPlMi1C2h1yyBYENcu6LCwaiLhyyr62SnFXcwMZyN9Hkg3wBA2FjdKE6Y5sstQ5d+50VRO14S34V9z15qfw5urX/XMjzjTNdRKSs3hDNIrwzOZRcrU2kkdDg78U8jfoP9PkCWAkpmvG1/HEN+Gtc04t55uPCxOdHFEBYcK6aM6rCL164KIC3/Xv8yLC/J98aBUr54wftzP1wYcmeQ+PtpAEJLGFbBKfpeKjyB2KRfT9bBXkWYRtxJ/2YGkt+HT51fjxupFaPDPJvGQGpZonn4QVlwC1AYyPiT7HhsqyqN6yTY9yvyIIQFsDqZ1YCp63cn+scBxLAHtzDOaZx+IXxQ3frhkwxknMV0GlxJDuITXLLCzEDEIpw24Q5mlCi5HIWAEScTwzrv4zoveyIs4cIt4apZAjTEDZ4yFp5SXzzK5jlRwhzMFWZoAyP6PgAiDbR1ouM0PdZV2wThsbhrNtTrlCR3Ngv02msufwSiIhu16ExO6CB397tRo3YDXjE1Ig2UGj1WVog1gVQxtNVMyHdLhk95u44v1OW815hE30NwsQuDIDjdO2wpQwBJxfcWDe9Gm420jQW+FeklHnv3uYO9qjPRfwqArLZKY5Wcy5RlJtpLOFpHmLeRqJb4rQxEbgkU3b+SBoTKQGgCQFgNuBCcLhF8A2MgNMHBkXLrcY5ZQmMSnW9m12nug1kFYYHLegPIRwDEsAdlH5SafNBDAOGuxBcdO9zPGhkIlmYPF/Svt3J0MPfr5KFzDFhV+MXNsM5N7T22BNlT+ugpZxMJcWSJs+5GBxOhg6nUmejfJoRlaqSNuCETKaQ0brXxL+v1eng06Vl73Bj7Mt2CJ42XdLV/OhtpEKM80tZxlV+DSjAxn4lpFYmh6bkdQJAouc6mqKpO+l4AEK8+yB7E5edSFUDEtCNXu58jn3fz4wCEXpXWCCkwTND7s2crhnvzVpHfzEBMWhM3QwMq891wahyOjccKpUokNd6rrnEwFUdkFx4SM/aBcBc06p8MZlVIZvEGkA8AiGkPDsfcg2G/jz7oWQDRXQmPZVgYiEij6xfEwzH2k7iY/+XmYbcEs6ecL/5odjBuB0P9vlMSvTbrgjQ47oKSaqfdCH/kPXqRVsaftRFABi8UWRXR0r03T1rvdvqaROvFvvufvbPnkRwpAzCI20NECF1CSHg/5QJ+BsFmZN49CuEEdCfVBSehmYmxRAARskREMJ1chFuyrBYjkpZb7m7Lrf5QRw6Ny99lV/f2LLs70+PnCSbocdtl1+v3cbXtt96Y2nRuBKLeD7J7hSrubjSBCGdtDwpcDAQiYuOO2Pu09ttLE0ibCQbP4xX3rt8Ma/La008wAjGF0i52hndDqzfRpX7+quvDMls1tbDmN8N+VXPdW+KkQGSw7oeVfY9A3lcgxnPwZA66cARi91PJQyytMyOQZlw52GAzAhGWVnFRCUQG0/4IVo+EfqY8IRARmIs5Lo/10P8ZCUR6O9uUDI+dmwdedG/an3nW/g486a7E/ESOcBZL21zgcu6annpaT/Vu776dIeOpaV11DX1zLazbY0+Wk91SE0jn9nz5k5RJIKri0t5UxtGvu/fFCcSS+2E1oOaXwfnE1BWJ9xFHIN6J0cdkOndvTRmkyt1NoaHmnCyLhzZvovumSLff3JVPT5prYd2mD3ZPYnsE8r4CMZ6DlhMkxhy0uuweyHKnXxg8NFnWPAJRFXl3d6YNbpr1y2O314sHxG79bT8S1ppAjJlyKBDhG6p/2eu0Ce3n9B6IE0cPg/oNUawVIZytlgbHxN2HrLoX5YsTVd2lH20HucZ+iHztFZMmYUehFjRr7ZE6GUTDccBd/W7GiWq8zmqriWsVT3WBWE53mHS3Md4DUTuy64fzQxTfWhcIxL5KgbSTeBfvuuhysTbru0G3bjfvfgprMKGUdalALNOw+WabLEJHGn+gravxZtFEPyfLJ0TrN9E39VRl6/1yuX1ob8Fuq9mHjNV4bxdLLaDn4U4XyGScAvnmvQRiOgfzD925KQeFlwlkF2jXwPt29sETI5CiMOKD4Sqx84CQ6MZSVVlLi4Q3/UgYpKCF+ScsIeNkMszJ7aXRs3oT3XH9w7r7W+HykLqO/qCu8Odr7bpgu1vF3bn9srQZyGgHuTcGmfmHqabgyXSwsbaUieMt6mf67O0h1ktoSzfVdXS/jDbNDMHVD3OTjf4ly2+jQlU5Kk9k+yBNO5LrqHhoOC0HTvdzp62HoJ4AaTd+t4zSziBKuNW72/u2dGT9qO+5GTCfsUCC5neFm8HLVVKGq6kWHQ/TuT+ri85Vd566U/1Ueq8CRYZF7Ns3u/YAV/fm7d2JEdFq3/4+rMoiLqfJfON7t70s4PhV3x2q2ivCPTZXJXlMheXUD/akOJPbV03TWFVdSo9N0iqt6VRjjfuVcyas0qx6uDmqG7HXGlGUgCknHml/lBWzsqX24QXNie7uy9tDe6+ua1OG0X078Wz9moDd/u5tOAerHLS/OZGDDCvWx36Ou6kjOL9ijbvTg5RdWj45pcVYlh6W3VHI3TK/QNFrtzc3K27KCQ2FFeuRMNMioYyVfqZ04n2/8XmCOSad63p7m3QTjJVVbyxtvc41/P35d+M+mkAs6cxCfxHtpvvlOj8P09B1BhUPZRb65Sxua1XjIY09S0/NTpCqCdmmySENzkwS7MyCeHNIqm1FizgYbKxTC0ta4SaZLvfTZBHP+kW0pHTDdJ5M10vVpsPCDz3Zno7xcbFYHGO3/yXXz5u5zvPNKvby/gryxTZp97JC1jsyT+uKgfFxo9bVmS0z37gXb6pDtisOmfbmgOdv1HrDznrrjzJxhQLJD5Rqfk6epYezuUoRVAG0n+6SPDqCrLnYtoJU7bjfPfWC6lhUD61lYblIGzjNt4IT7cnDsVviLg5DL3McaVjuuOk2WnVcOo92KqY2qteyuPh/UcJMrJvqFArHcbK0MshN8QpbEwq9GW3zsI7LsNqt/E5YNY1ItUaoyXL9YonORZioF7JejEAsK/TLvq/foTD0dPPRuXOwzUGJMQcZVtz78TBPJcc6lbjdWspNphjkPKESzKpOMJGWYKoFwqOa3DRvZ9235yOhXMKrM+WxSjCGxpcJ5lAlmINKPlr7PO0M0hLMTHxqgRTNzVzPCwJVv0FIw/v7orOI52ZqGdFfQv3f82ZCvmNTlltvy83kYG5QrZhivi7XU0tmhkbl/xWzpk2q7EQ3BoWVZWKw9vw7xW54XlYWJhFZ1lOhLHfEnbUDSrUuqzcJXdG0Yk1ql0V/K8U3tHArPhq26DpGIKrbMoVl3IEqOoqjoQ5cpyvKb2rHojk8Qj/Asr89S546XEJ2cNQfIcwN6/ddGTRBETGi7pbi/041A2E7vhBqOu7uo8vGUKiyWzeshBZWhkYYoqHaY/Ec/PGBBDLoRcPxM8SH4Rw05CCty80d0737VKaSYJBKTnZpmWBObbDXTinPRYL+vTpTuhcnGLefk/tn0OMTzIcVSLGjJ8o3GBcRZ//9iG0ZltWr8Z5f55lVnfqWvrjhm4YVmtd1bi8Mn190bJ6rQN7VEe/sCXH2owsW+b/afVEE1I9udmoxi9uD9pzvBWElTN1/shHnQ+bqRyDWib28LD5OhdKlUdarxnsqgj9I0rs0Esx540zDziaYy3fkYwvkGWGaD2R0PD+BvHhEXZFn6zcjEDWbgT0oXjQCPpRAnjiVGOYDAQSCQODDI5tKdwdZF4azFnfd2YcQyHUK5GsEgkAQCHzkwKsLIN0fQs9VN+rCQz2NQFNqF4EwAkEgCASBwKl0o95PnyZRtGursE38cQ1AGIEgEASCQOAxSHdtd2o0ft3WpJiM7A4IIxAEgkAQCDwy8tK9sdbOduWM7VAwAkEgCASBwKNw/GRYI2WSHJ3RBSIjEARytQJZVL1+cBAIfFqDeMdIq5dxvz8cvRHG4csQSFNqPHEQyGgEIt1FlOx2ySpkBAKfOvgcL/QXqtaOmpJQ1cdx5RjD8GUIRLobUsnoBGKVVTHcbMx9jkCeiLJeRlFqoiq1M8owfBkCsZqKKAT2iARiiWdV1QGBjM4hl5flQSCkEgQCCATgBQoEEAgCAUAggEAAgQACAQQCCAQQCCAQQCAACAQQCAIBQCCAQBAIAAIBBAIIBBAIIBBAIIBAAIEAAgFAIIBAEAgAAgEEAggEEAggEEAggEAAgQACAQQCCAQQCAACAQSCQAAQCCAQQCCAQACBAAIBBAIIBBAIIBBAIIBAABAIIBAEAoBAAIEAAgEEAggEEAggEEAggEAAgQACAQQCgEAAgSAQAAQCCAQQCCAQQCCAQACBAAIBBAIIBBAIIBAABAIIBIEAIBBAIIBAAIEAAgEEAggEEAggEAAEgkAQCAIBQCCAQBAIAAIBBAIIBBAIIBBAIIBAAIEAAgFAIIBAEAgAAgEEgkAAEAggEEAggEAAgQACAQQCCAQQCAACAQSCQAAQCCAQBIJAAIEAAgEEAggEEAggEEAggEAAgQAgEEAgCAQAgQACAQQCCAQQCCAQQCCAQACBAAIBBAIIBACBAAJBIAAIBBAIIBBAIIBAAIEAAgEEAggEEAggEEAgAAgEEAgCAUAggEAAgQACAQQCCAQQCCAQQCCAQACBAAIBQCCAQBAIAAIBBAIIBBAIIBBAIIBAAIEAAgEEgkAQCMcCgQAgEEAgCAQAgQACAQQCCAQQCCAQQCCAQACBACAQBIJAEAgAAgEEgkAAEAggEEAggEAAgQACAQQCCAQQCAACAQSCQAAQCCAQBAKAQOCpBPINXCmFQDgM8EQUAuEwjLXzlUB+9fYvX/0JrpW/v/2B7oOn4qu/vf2BozDazv/+s5/96DdvAQAAHsmXv/65GoH88zu4Ur7986tfvP4C4Gl4/dsv/81ZOFL++o/vX6t7IH98A1fLvz7/5U8BnoovXv2Hk3CsfPe7nyCQ6+a/f/j8M7IYPBk/fvV7zsKx8i0CQSAACAQQCAIBQCCAQACBAAIBBAIIBBAIIBBAIAAIBBAIAgFAIIBAEAgAAgEEAggEEAggEEAggEAAgQACAUAggEAQCAACAQQCCAQQCCAQQCCAQACBAAIBBAIIBBAIAAIBBIJAABAIIBBAIIBAAIEAAgEEAggEEAggEEAggEAAEAggEAQCgEAAgQACAQQCCAQQCCCQ/7F3L7+Jcn8YwNn9cCFxhfESiRckqNQ73qlYwGLjXZtqLC6aNJnd+/+vfgdsp51L5207VYH3eTKTppNJ06eL74fD4VAEgCAABAEgCABBAAiCABAEgAAQBAEgCABBAAgCQBAAggAQBIAgAAQBIAgAQQAIAkAQBIAgAASAIAgAQQAI4j9AAgzLhuPp8qDXVxrtVqn6nFKr1W70L3s3qVg0zLJM0CdT1ikcfSn8vXGpRAorXi4MQAAIAAEgJxqkbDSevrlslIrZXH6xeCAZj8fzl5DPLPKPi0Uin2tW2/2BPVgZ78oRZCMEyl6jVWzm8olF5pfCduOXwi2lV07HIywAQQAIAkBewkTLl+1qM3eVTFrL1bRbH5kzw+joslyp8BXeDvlYqciy3jFm5qjena7uHzbJTKJZbCmDGOs1OwKRFClcIIXvrOX96qfCL42fCpPGpPDYSiavsoVSo5eKBAEIAkCQ/zogQSaSUopkkK4n8113ZOhyha8JgiByXChEkdCvQj4NhThRFMl/0Cqybpj11VZdbxb5ZnsQZQOeWHYw4XS/mk0kLybz/XQ06+hOYVLqzcLcoTBPMJmNpsvhZJNJZEu9mPsLAxAAAkAAyLEuw8OxQSl/MRmSSWrqZIxyHEc5M5R6lR/G6cs/Oh/IbBU0edbdjYfr26tCPxV19R2tICncyt3drufL6ahTcZj8Q2Hq94VrFYO4SQrfZRvlOAtAEACC/McACbLpy1L+9tuQXIV3NOfa+7dSvJlX1+mhUEiwFZlff7sqKuWoOy/MmVivnb34ptp28GS1EaI/U9j+QFYlIc5RRP1212wMogEAggAQ5L8BSJBh4/3CYn09f5zJGkfberx3ir45Wu2vYV+ab9VJMttORZhA0FWFe8XE+lrdmbomkqKhv+5rI0KLfGe0V683ieog6qbCAAQBIADkODsA8Zt2fj3c7syKKD1dUv/FMH09U8kHidKM7n6uZqq9NEHEDQsPNlpWsmt1vhvJIi3Rh2+W+rLCtKDX/5mrF81+yn27QAAEgAAQAPJlt62iqctqYjh/HHVqkvSR+zcfuKklSaJsdrfDh0KjHA+fd6Qy0XSvlLPmu7rBH7GwVJnV96qVbQ1iEQaAIAAE8R0gTLTcaD7M/6l3eE762kn6y1CVaE02H8dWvtSLnc0QJppSmovxvmuQtZZ0rMLUEyJCZfa4tRbFfioSACAIAEF8BMhBj/GKLD3o483Sl5FK/toLkeneytnPu55+eyAQSSmFxZgsPTTKvm911MbOF6clirefR0sU++lwAIAgAATxByDhdJ9ciu9GuiYdfZj+cFkuyrPp8iHXKp/48V42dllIjPejDk8fb7H1K5rkp8t36nsrUe3FGQCCABDE84AE4v1C4sE+6CFKNHWKYfoaEaomG937RbZdPt2BiehlMfFAFlu8eBo8frx7J1Q69fsHsvAKAxAEgCCeBoRNlRLWfqTXuJMO09czlRMqs6mVKfSip7iTxaTb+c2y3tFEiqbOUNj+I/Kd7niTU86+DAEgAASAAJDP37saFC6GU8MepjR16mH6aj+Eq8mj5UVeiR17b4C9KSat1Yx/KkyfrbBQMe/XmVaKASAIAEG8CEi0kb8dmxUxRJ1j9fHTMkTkjZWarKaOSUi4n7sdj2SBO39fmuIEvTu8aA5YAIIAEMRjgATi7cz10qi9vMfprLHPbov6VL0olI91UR5RriZbU+NClAv6UvYbXih+NJzkzrgZAkAACAABIJ84MhhrZ9SdIZ7pPs6bZ7fl7nxSuPn6p1yDTLyfUfez2jmXHr+aSUnaaHmd653reCEAASAABIB8dJqGU9WN2pUpyTXD9GmkkqGqmct17vJr3z8YZNKlpDrVOYlyVWH7xy8Jnb26aJxnPx2AABAAAkA+ykdpMyd80O6aps8X5YSQvZXtfd3JkCCbbi2GhA8XFrbvZEmCsR8u+ucgBIAAEAACQD70HFK6lCF8SG5bfbx6zlWyCWl+FSFsur2YT3WKdmdh+/uSOONxmFdiDABBAAjiXkDINE1s6zrlUj6+P6TEm7uHwuUXHAxhUu38uNsRXVzYIUQwHsc5JR4AIAgAQdwJSCDWToy7sj1NKRfHOSnhEDKI/G3hBuFDF2iadnVlm5CaMbWy/QgAQQAI4kJAghElb007osuH6fNuOseby0zxr95wElVypLBAu3Hz4zdm1ozd5rTnQgAIAAEgAOR9N3N6WTJNa5QH/Hi6jyVWzOWilP7sbR3WKax5o7DzXXLa7P6uWAYgCABB3AVIrLjZGrWQN6bp8zOuoly3Ev3PHbRLF+/uZxrlmb4HQnhTzbQjAAQBIIh7AGGV5LDOH+4OeSb2tyoY+3XhE+83CStXpDDnIT8Od+4oTl5N8jdBAIIAEMQlgMSqk71OUV4apt/PhWij4dXlBxchwVhxct8RKe+FFBZn87tGGIAgAARxASDBsJJUTdF7fDyvQuTpOlsOfKzw3KxRnmxsb6dr3evEDQtAEACCnBsQJtVUdzJNeZGPw0CVBHObbL/7UAiTyqormfZuY4rmjO2kdIJDIQAEgAAQAPLHl+4qi63p6nN073mmV55azXL4PYQEokpmawqeLkzTEl9Xc4MwAEEACHI+QJhyczjlaQ9P0wMh9vuiMu13/L4p9iY77FY83tcxU9+vq7EgAEEACHImQCL28kOQKG+P08MjvXLXav7rxkC0sViaNdrzhW0z+fowd+RjhQAEgAAQAPLW3Zx01fLyZsBP1+Q1c5noR/50Tc6ki9ZUpry+/njZCdknG1EAggAQ5PSAhPuJsan5YpoeTtmJeveh+IczIeF+fmlqlD8KO5UrdSt7wwAQBIAgJwYkXtqsdNEXy4/v+wLaaJzvvXVXJ0oKO2/6ovzTWJgtM30WgCAABDkpILHm2j567p9x6pzTFjv3yTcO2TmFOdpPhZ2tn9VFOwxAEACCnA4QZnA1ngl+4uNpKz1U6W6K8d807iUOhX3XWKuvs3EAggAQ5FSAsP2LbYfymR+HU4VUbbTOpn4BU7nb6lzId4WdxqaaSQEQBIAgpwEkUrpeVSTKd9P0MFDF2Twx+HFnOVJdryr+8/L5gd7O9rYfACAIAEGOD0gwXlBHAu3Pcepshei7pBL+YfvDKUz5trA2nRxlIwSAABAAAkB+ehVUbmhylF/HqfN+RXm1eXk3FlPOzU3/+uE0rtUnxXgQgCAABDkqIOzgaj6TKD+PU/uAxNSqPr3YhO0l5gbnZz9sQbiRmk0HAAgCQJAjAhJWMjudpnw9Tu3NDr4+LqQYp/Bi58nf/PHBxtxsnP/yM4UABIAAEADyaje5bU0rks/9cBYhwmyZLTP/CzeSfnl5yb811veLHgtAEACCHAmQaGld1/w/TZ2NZdG4z96E+8kuT9O+F9O5byfvkl98Kh2AAJD/s3duMU1laxzfb2fxAOGpBjihGbSSqj1obavYeqn2Pimltp1Mm4JvJEOA+OaKAbcRYw6JzoixqQLlEqCKgkpwFHKQxMEwOiYSYjIZ0Mkk54mE5yHmMDFnrZabSKGXfVDP9/0fBNq19+6q2d9vf+u7LAQIAmS5e0lJJeeHAECckvqKwj0nDV98s/rkp6z2+g/IECAoBAjqfwCQv++xOjQCDGsa8zksTptXAWS+8ciP13coBwGCQoCgJAdIfonRoSSA7KnGYfzOoxMEODMmGpftQA4CBIUAQUkMkPw9wPhRXG10esqCClAEKXbZDmUhQFAIEJSkAMk7aLSrQJnSamOFzmT4zquWEzjzFojLVpqFAEEhQFASAoT5H3ZAdpQImmpjUM2jAjavTi7AcbxylYayQzIECAoBggCRDCC8/RWk5SvB5HAHdXzG6iAjiFIAIyIUu3xSNcZCgCBAECAIkL/lH7TC8j8UtVavmtd/8NxWW4VZCWbyPPhj8EnkgyBAECAIEARI/v7K/+v2iR/zw+H26mIOF6+vW1zFguODmAz+IzIECAoBggCRZPsPqx3SI7igqXa71IsLdjEfpCwWSYeTQGBy+SWpSUeAIEAQINABkldaqdXA4YfA+BHw6pYnHCeISw1pEYvNeMfhHAQICgGCAMm0/+4Bv8EEKA1JKK4OVJhXTZivYlXY+HcAiSCndkjQmxcBggBBgMAGSM5hv0sBJwFLILl1Aaf+A1iwyZudNoOGQCKI2XmiIBsBgkKAIEAyUNa+k0E1JH4I5lNOyxpngzdWdJfZlXCW8dj/uN69Mx8BgkKAIEAyUMHugE4FafGmpsparlwLTGZPy61GCySCCCqLbY8MAYJCgCBAMilAt6hAFaDXGrXr7H9OBLnd6DSDSuZVaTNui4UAQYAgQAADJG8/pAZYvAFvrdGw7o4nRFAabBU6AdJiHjGUHclCgKAQIAiQtCQ75DPIQdVgV/MGJgnsqTpoMyhAEURz6h+HESAoBAgCJB1lf/2tF1TqUW6dx6MnCZe3zB4jnA21YlNWOwsLECAoBAgCJA1t312hVgFKPBJqqpzliSvOidzidFqKBUi5WHpnST4CBIUAQYCk3oH3oNtMIEWNFbVue/EGDgZR2q0esxxSKpZQ7iuVIUBQCBAESKoBkL0+ey6sAEjAtdEO6AymJoPNpRAEQATRuPyHsxEgKAQIAiS1CvRjfkgdsAhR1p3mHUw2rq7TVRgdoHqaCOpgYRECBIUAQYCkpH0nTikIoNUaeU2V++MKwo98EIvbCikMEqtIP5iPAEEhQBAgqVSAlFj1sFJWa61azSY9W9jbckeZR5cLKY4ud/iO5SBAUAgQBEjyLbCOfuUoBuWA1AUq1JtOmIdBvDYGGkAAIaZg2rm8CBAECAIEIECyiwq9JkA7gMQyePXJpAwQlc5ptMgBsVVQ6dx78hAgKAQIAiTpBSy3noDKwKo1JudxsW+l3OeB1Z9Y5bCluYiFAEGAIEDgAUR2rFJbDKniWl4XCKpVJDl7qvHaIO2wJfBFLP92BAgKAYIASSoAUnQyqIBTgi6Q3JrTTn2yRCDE7DGWKwVYi1g78xAgKAQIAiTJBSwVpDixqdbtUCYNEIHYjR6zACnFQOUoO5SNAEEhQBAgm5cQHvdpIfXrILl1bm8KTb94eXaZwSRAaoqlCX5VgABBIUAQIJv3wNoFq4SQZ2BZUqEB3yLdqYeUiUWI2VoiQ4CgECAIkM0i6KVWPaQkI94Dy5FSZQc7xGH0KiB5IILc/s1RBAgKAYIA2URFfq8clG2sOc13GkzpEEHttdpBFVoKJmdhHgIEhQBBgGzsgOx0m0E5ILyJe6o5VURugdbYXV7uK0WAoBAgCJANa9CP+rQEWA+TlDu0sy9I4bU5NKCiIMXeHUUIEBQCBAGygfJ3B2C1KzdVBcqVqZKADbdYnWa5AEhys3FvDgIEhQBBgCSuISz9phzUnq3F1QGDKXVPghCNwWYAtbcUKTZ8exwBgkKAIEASqqAwCKrVbK6iiifkpnGoyuy06kFlGxCde/+2TwOQ6ccd67zaeK0V7/F1FZoWRQQIassBknOgUg/pqVpI0wGJ7WCojbXEAgQQpfbEvuxPApCel8/WeXXy1dgntdKTAwMtn+Fd3/HTWHTi2WT75iPFkYFbkzE0i5GBWy8iCBBUZgDZvptXWENK4a2qSLMpCVHpPG69ElIiFtF5SvI+CUAG6et1Xp2lUYlulEst86GUDxppo/T3z+6eF+d7L1KmuxNJIHCC0tvPY0fNUvpkAAGCygggstJKPaDd9gQhXkNI0nsgl9vLXKBK9olc6z+eLT1AxMePhoZmmzcY8eLq9+u8eouObnTa9sHZW0yzPz+/ObKJg3O/v3si5burpZPSl5/dPR+ZoXG9SsI+vKa0a5D/Fh6i9MYoAgSVEUCAbSMlkJqqtLsisgdytceoB1ULQszu1FyQ5AByafyPrq67g6LEAJmbaovpYt9f/b0LG8UELjN7O9WQDkD6P7dbPsxcCdo03vvmwXhyAHkSB0iUAeQRAgSVCUBkpbwnFCCLqKwOaE3pTpjZU4cN1r6NzAXxfZ0lNUDCz2JPzK8bpAXI9at0RWevvN5g6O/c6CYRAWj8s6V1iwESafkzpXB4Rz+lbaPt0+03/4MAQW0tQIoKXSZgXRQD6bf94g/kHr67LSCC8N1tt0kNkMidmI2/3yotQEZ5IOBi08W2C7HTd24w9gfGmnebf9Dm3s7bbyNbCpDH79uaelMCzg1KZ+IpayICBLWVAJEdsFpAFaHnVrsNGVSTs+9Ky10QSFEQlcGfSiJWMgAJT1B6/jylv3VIC5A3zDhONEaYet5wZ6Q7cVpSaPb10Ehy4YWpp1sKkId/sA+eygEjbKZJEwcBgpIQIAW7grBiwjVVfOMsksEZdNBqQVSptXVPBiDtTygd/jfzFiLSAuQBpW0L8UdxsZ6Z1Ts9iUaKbIQobv7E/ikA0pkaQMSHfDHwjIgAQW01QHKOVtpB8SPXwh2QzOypwebSgPLaiNdfIC1ALlN6+2cexn4sLUCYU3NlMbNLbGWnb8u4aORLAMgApWd/QA8EtfUAyS/xgNoInWhq3ZYMbT97IHfqBFDbo5ttR7KkBMg8s+1vzzBLRsdEKQHSQ3mS7eIpW7sYTRYSD25onF6+uDjd3B5pbw2vNc2h0MhbBpBroYaGhvBqgISb29tbQ2s+vDjdEYm0N4cTWnp+lY4PC8bFUAe7cvPyqcTQmYUYQNgVQ+t8OWID/6QdjctvhRumZxlA6vkBYoLhzdNhBAhKeoBk7TupFSC1UcytOe1VZDhfonSVAdsXRBncnS8lQLqZbzB5JsosfL2kAOGRlbklgPDIwKv5xPyInqu/ufh7R8/E3PBf3b2Djz8w/mLj6FD9A+Ys1Q8xvVgBSPjS2NzL4cvPeqZXj25fqJ959a57buzaupMSIwv1b/rfvf3X86er7tabo+P97/vHR1sWrX9LNNp7g9I7o+yK0WsfnaO5J3pv+P3Lt+cmRxYvMjY09IbSqzP8gLX+XOjpw+i97vfdv9QPRkQECEpqgGzb61arIK3FMAekPOP4BdFbK9QCqEQsve1otnQAGWNPzOPsRxOl42EpATLOLOJyofoQA8i9xHz6ib09E//1+o83lgrxWj7wDnpWJQXTqRWADA7HX7oQXQnSizf/uTTyt8np9dyjX5ZyjFeyup5OdC2+1haNLC3urWjtFynOn7uw9F7/8/hFulaN711DrEfDy2/NLA5HgKAkA0j29pMuJajOTswBUWfqO5Bck9eXejf4L9oF0QR2ySQDSOsdSpuuM4vKfj6QFCB9lN5dCptHmmIhkIQEWThLr96Pj+xnBvZ2X18TM87fhxIC5MESQN49Yv+cj1vy3uWlp1uv2J9dU1OdV3km2Mcl9vPsw51t6+trO0/pktV+eJ9TqOlKLOt4jueEib2rL/nrGn6Mdcew1Rm7duevMeQ0rRp/7r/snVtIG3sawPOYPpzFp5azhZWeHitlK7unVLtLu2ePZ61Woe3xaF9Kt307D4dzlr7Nn8E6YQzBgJfxholN1BAvk8QYxXoJGiEa1ERQghC0qQg+CT5XytqW/f6TyWQyyYxZnbeZ76Ho5H+ZCfX7zff/btnfczO+ZnNYh0045yWqA0QXdQHyh+8rfyozaCqJsL7uwsTEjfpqtBXJazCWP/5ONYB0MIgcBc3u3AQF1qciQFrgbdya1teToGlbFYpdrQgA+YwQsz+3vTHe4SazAfKmLTYZB327GgMZwzDCABn2IZd7saltClBBT6eX8+FxM8vTS60HcDn3Jt/DwyaPNraPmicYXmuHMXMWOsejkUUPrNWKr23Ejt8BH8ytsOOxPZt/pwALxhvrGOtI4pmmJhxMlojFACvMFkxIZsechb3I9uU4Mecfa8ZZNwGnDhBdVAXI139+qaUYXkMZruN+cWAai2431N/TVDKhoaLmlloA+WBGKD6EVeMhqLWgigDZpnE1KFh48G0ErArTqlMhtlUASBcgoieVjzI/NiCdYMFRWMFUyC8PELBsEtiNMQJ7MIf8uAlcypCzO6gIsGRLGp9sge3epcyt3nT+ySxYBq0pP8fKFChzO7cFscI50fGORHaBdtiDdHP1Wfrs2Hbx2rlw5P5xLgqLGy8e7lztSYykrkTB/HFFdYDooiZALv34tE5bSYRcJ1sVHrj0fmV5qabqmRQ1XruqEkCSJELc2zxO+0PLKgKkCRQye+h2L3xsZ0HLd1qUciMEgJyyfBZFzmB8QRTGS/FHWIhdT41+C09iTgHgiERkkuBXGQXFLDl9IvwkoseEXbh/RkCrf+rir825OJcM/kAUxpt1S7AH2sW3glERBosGzaZGyITx9p0MCAzCDqE5HSC6qAmQy3+pr9CUAXLn9/paNQwHY3G11tzohuqnd9UByLaV83zgHL4d7HRQESD74kpYaLJXMbdOAMgGAGRS0NfSKXnyQGzj6ZFbXDQZ730ZDqbhYAGQBaT3TSJTc3qX1CbY3REVgAIrhHjPiEweCIygZ3ggUFwQwBcujEwmD4QSE+gUvppOSgeILioC5Oq3jWXaykJ/9bxCDbVvNJb8u0ZjbvTSRzeuqAKQ/YzaxM7ogIoAaRfzA9HWCFEIQJxmkes9R/IAZEtQzmBCDR/hHwddosJa1Os4EKBF4kMHqHiywnL7YGXfkKDtDxlEB5UAcgJ7mDO584NfgF5RBYBksWQE1mx7owNEF/UAculuTXWZlt6iS399Vq5KMyijsbSuUlOdCcHoKi+0OboyQMbhfX8h5QsgNsAY8f6fADliZAHidIBGnkkkEp2zq1xsEusvBCAEjnX1jVEFA2RCUOKLCLm4niKnNsQk05epvgnAiTSHI44jgddFF4Iwaiudy0gRxySit5UAsmxD6FD0dw4GDD1eGEAIwg5fSGuXDhBd1API5Rv1dzR1jl9yv0GlOrpG44P6hgfFWjr/M1Q8/rsKABnCR/e8Z5eYx4cy8mdd+QoE9q/RsnbFtE+keI9wqOtCAQChiG4W08a85szXU1yxlAnWwNzDLsFujk+7aYEb8axIbQCSiwWODKV3wVHMvqn0lE9AP9OYEkDWaMQciwyYBEKp7owKAKH6uwaWx5pjxwEwX451gOiiIkCuX7uvqRyQot9ePVfLcWEsacRnWBrih6HqZYFnWIoAWcKVx8ODvHiVwrBWbHmyDLtafetyEzpoIRMClPQcfuPfKMACoYjTuInLmPjcm1s8pDCANJuQRKbs0lOkdZZDCLsTTD3WtFU6hz5SAkgriQuWZFAa4UooKgGE2htpC2WW1wGii4oAufTPxw805QEprX5WfkelJzYW11aWVxVpCcDFtde+uTBAuvFxkaeHly2cRS3LA7t5IpxrELitK3ITAowoqIvChRXZo0KOsCii5bOVS+j2jb2hzgWQGLAhZLaKZDTXDxFedXAZ7+ZlLtlkHPvjxVOsW3tKAIHHI2dE6/nPBIgTp7WTrgOWZXF6ow4QXVQEyJVbDVVF2ipj0lCtltFg5MuZaMgGKXrw4u6lCwIEtwGRimzXQMv7+Nuci/PWLdk+6rsIMYMZfQ0v+MNzhQAE+y6cHZssjuEa6z8XQJpoxMSGwhkZytvb6WS0x4fSscvbcViqWzQnzM+RAcioCTGzoiOsNcSHQ8sBpGsUvhDr+6a56e2NJVYHiC6qAuT6tbpibdVR/KWxwqAaQEoaH1VrqQyMwVDVeOPrCwJkwAMqi3UIEgKdvS83mOogZ6RKuH+cicmNPwGF7Mio7RYmU77jDICktoss0Ai5gucCiJ/OXozIxw98ZWhmF4wVKzY1Br4gNPU6zxwZgMzAHpPZTnSXXwEgVBQH+vLfQK9VB4guagLkqx+e3tOUAXKz+mWdWidYeLm6yvIqTfmQbtb965uLAWQPF2eajMyl5QjXnfXI8YM4dXikjoT5dnZDLrvDz+Ia8cKHy9gRESwUINizbcGVpsbPBRA7PEjP2X+beBc7dvxg34xzQRTGKxYZgERhj11ROMJC2scjA5DX8G2HInwmoV0HiC6qAuTyrUclRZqqB/g7jsFSCyAG471HjbeLNRTEZjDce/H9hQBCjYRS5Tcy6hh0vksWIP2j6DhbwVLHKCn7H7/DJi5fu/cRcbnhhVsgFDHnk9YjJIjBAEJs8CyAvIYnY3uJghCCC+pyvoyAjAfInso1kUrQBV+W0N+EwmnwC/MKAOla4DoypoiqA0QXdQFy9VttFeI1/PYLziJUDyAljbizrYYsEOPtZ7euXAQge6AxyQ7x4c4eqDXTiSxB5ifo47DI3rC00j1h2fTyVf7NPuUhwP5jxwqf8ReNTHedBRAYegQ8W5PedAwh5sNZAMHpkYq4Eu2Cg8U4O2cGiPApX+SwA+XVwGAgkcId98Hj0glCCSBbABDei9S3ZNIBoouaAPnHi9oiTSXC/efVExUr6BqNpeUPa0sNWiLInSd/un4RgGyDTv94kgUAL6g+v6yqJey7tCdzpjTnpT0Dsvx4jYuyv+F/GXGDlqbT97HEHjhGZQGSWEw3W2pjEMpJSZ+FZZf6lQFCEd1g/hysCbXdw9ODUhd4Z7pHiJtBjAXP6cJ3nHwj/OH604YOYJUeyf06RgACttFUueC+JPyymSr2JQOQvaRQFbgvMqyH8eqiJkC++uujCoPW0tDvqAgQg/GnyidVmgJIce2LHy8CkN2UuqVEOvEQlOmO/Ms6EXYzto+TndP29abJXRdyWwhZgAwAjFxNnSDN+x4foAB7nFODJ1GeRuYCQNyMtRmnjTtnfWC05FgqMyRCvjnL/MyikgXCccYW2MAsskQCw3FpkUgr3d4Jd090T9JC+v0R7isytY4bGHZF28yudOY9Bov3dHBkdCPXxrIdzn3oG1iawHHDfFCvDED6l7jcd2BfMEbreSC6qAqQKzca7hi1FcT7qvqmmhZI2b2ahgpNAaTsQU0hgbxyAMGZfT2D2QDAoakBheMeghqPI4YhSZJhkMffJ88Pwu+A9RlOuPBgMiEMDigDBKaZQt52G563LclGp4j/fsSLmUzIsycPEIrY28Xbkyar2WUimdwqKma8C+s1Y1Vu+8AXY8RmBKx90H6A56BZfst1mrtMoo6s/oiE08s9mIk24ZREW/o0UC6M14JBRMYnvDSDHJs6QHRRESDf/ayteuTYBXK7TFV9evv5Q201BYEn/tsfzw8QB1c4Kls/j9FZkUX5fM6Efefd5tTEflMvoVhdd8knSi5hTG5RMyYACLMqnSwAZOlAmGaaydOBKsH3u/UqWSCw+I4oG53ZlOZALgq9aJGL75MID+dnMwWEGZ+Q9rLA5OtISBH9mYa3jHUj3S1ENpFwJJ3rzvSc7Ai1sDrAohIA4tIBost5APLDi+pirblAVG2eZTTeLH9Ypy0r7ub9n6+fGyDdByHfeykBBqwh3/5ZXud8P+aK3T18wMlw+0Sgc1A82o0PoXLuxxFim7lFB5IOl81mcw1PBnP3ACUd9YZcNpcjwSUcekO+TCZK1BWKZ0pz2Q/jMNDmCpkD09KFKGJlfxh/6GJHW4TPKKIl+T/2zi2krWUNwOtx7QelTy29sKW7x0p7mp5e1JbqPj3ZrbZ6qHcfGmx9OFA4pd30LYNol0QpFWxrrCGmNcaQGKMmXoiXJV5AI4lGqIgg1RgEnwI+K0V3y5nJyt3YqmQVPPP/L8lMZv41a8L6v/XP/DPT1S1k8yaVPx9fsnJtHLfomzFSC07M/zXua2vthjKkZUqvj7HzMFajqzcT5WQCyKZQVFYJ8+kKfZ8PVdyEQt/ZDwABOThAEq/cu8ZSNgWSkxLfO5YUSEuSqZpHkuSU/pFwSIBga6dT7Tarct3y97mwX+H2ztiqQGgudns4f8Gmfu/ssDz6BMCgE6TbcRoDZ4Aol8Psvzy04tz3UTXgdU69itUe32IMp3d+cncjm5wdM1vhdcglh2cnGndpIUnljtU7+yHqCjEXvvtuZstpFRwbtSp43okyWFonj0/vA0AoA8iZm2V3aVpFnZT6XJYRX36wkqwHhVQFIjD4jm8dP6wHwsWyz9wPHYs4CFnJMR/TonORrOG477GJi6q1KxX6+t074riYnOO4PS4ZG4vRl43Zdi6oh4vsbU6szgeA0AGQq3eomwIpT5fEVyebXCbNSKLKBUku38ckyI+OtP3Z8kGPKgZFpxQIAIQigNx+WEDhFEi8o5IypbkpdJ0qlX/n9JEDiL0BWVQAEAAISNwAknjjcQZVUyBJT2W58T6+g5XkSkuSqepGSdrDqwlHDCBGM2ozAj8AICDxA8iJ6+VUzaEnpTwvLIj7DZOVIHSFIkiy791OPGIA2ahQ2IAfABCQOALkzM2SuzQFoDLJmbL4u1xscnFhFl1hWOmFN44aQJpmB6oAIAAQkDgC5PTFtAssXTsplsTfV2CTHkmpOhOEZVNl108cLYD8lDgvEAAITQBJ+HdRThJNADn2rDw//i4Xy+ST/RSpWkr45PypIwgQEAAISPwAkviv/2QzNBm+Y3/K0lLiDxA2Ny+NqrXoDJNbdC7hiEVhgQBAQOIKkOO3itNZmo6zTXkqy00SASDZpfl0zSWxBY+v/gIAAQGA0AyQE9fLk1m6TiOUibD1F8umP35E16b4kizp7wAQEAAI1QA5dakklaErCOtROisCQO7SFobFXJP+MAwLAAIAAYD8PwPkl3MXM1NoC8ISweXCnk2JNJuqaATmruz6cQAICACEYoAkXi3KTaLrPHQxgrCw3gtpeQV0xUOnlJ8/CQABAYBQDJDjfzzOoS0IKzNVDIAwOXm5dG1KyeQXnQKAgABA6AVIwsnb97IlVHkgT8WI4iVBSdmlmXTF8UrSSs8AQEAAIBQD5NQ/pRkSyrZSzBFjxTjLZJRStScM2UDy/ukEAAgIAIRagPxy7lZhFl3HET6XFTCsGADJom07RTbn/tWTABAQAAi1AEn8/YosnSarx2CAZItxwyyTXiijDCAF0tu/AUBAACD0AuTGP6jazJ1lUzMfZEjE0MxcK76XThdAMqS3bgNAQAAg9ALkys0yqhaiJ6U+eZAljgeS/EhKGUDSC6/cAICAAECoBcjxSxfp2sGJffakWCSApJbkZVC1FJ29Jrt0RTSAcEqNZrNG5AeEa9VotqrAUAS6o1GjmQSAgOwfIBd/pWohOsM+e1GcLg5AUkrysqk6XJ5NLj5/STSAqMcQMs+L/ICo3iFUawRD4ZfWLoTWASAg+wfInSKqjpNiJM9ePBIJIBfy8wroAkhq+a/nRQNIVSVCeqvID0hNO0LjO2Ao/LK1gFAXAARk/wA5+7c0hiqA/Pmi7Jo4AEnKzMu5QBVALpTd+btoAFEt/QyADCK0BgAJSOMbhPoAICD7BsiJyw9zWYYugJSIBBCGNoAwbNnZoiMHEO3Wq8MDpGa4sYoDgABAACB+gNx/nCuhzAPJTxYHIGwmbZthSUouPzxqANF8+WzpOCxAlIN9ffXLABAACADED5D/lubQtJMJAUimOHHLLJNGF0AYVlKSd/moAcSKUMXgYQEyModQpxIAAgABgFAMEHHiltljaXlptAHkfulRA0gHQorDA8SCUBcABAACAAkCRAoAAYAcHiB5ABAACAAEAAIAAYAcBiD3DwQQjkjMNBeQGACJ+iFKya6KYZnRzwPOEQAS+DUIkL11BHPxl2EfQGKqjnULciEVpYXbo/6eWiJ/3dUjMYvv1ZbInokuFADI9/o0SudeDQCAAEAAIACQ7wMk/4AAUQ45pkfC0lM2x4DPBNVoJ9p7LZ7BIeMytxsg2jHHxMeg0dLYbBp1MFVjHO3lDW7TSNh6cu7jjsPFr9Y7W1WRz4PG6WxHqNoza7VaZ6tCAFG1DtkNG9ObyyEzqFaOTL/2WOyLHVsqIbem3znWhVCdF1d2NkU/alW6Jod73eBa6teqg1r6HUPLcvXmKG9o3xIs//Kmo4c32N82xV5jzy1r51/a+ZV200BNDJOsmnZMcLhpXjff+1Ljay33sd/Fu4eaIqb2fb1iIb0S6oAtk22bky9PVnp495iQr5o0edYH+18FGywAhFvefrfCe0a3w3Vyqkmvy8B7Bgd0oYZ1OLxqudpYzxsWtQAQAAgABAAi5hAWN4sQ6g0NAQ3UYnvFYXM3Y1cgv/Rsq6IBoh7F36aDb8mfEPoyHLCoRou/nmJUG0TPDu/PNJsin4cuFCYaLgAQpU0vZLlHAq/mOmtAB9Iv+nK5+fDKc1GGf9LRGfjpjVXnz93uRmiM8/qUr5Pb5rY2AqU8I7sBwVUZN8YDBdaNql0F+hHq3uGsb4QSvZP4CZ/pExJ2bZjzZpwL9Mpiqz9b6cIVWrWjDb78NRMGmNYk3HazNwArASCbX/21X7eGLq21Bf6i95pAwwZwakJdWe3rOgAIAAQAAgA5YBTWwSbRJ80ILUwFk5XYJo1ycpWNWDXFeJu+An8uzMQCSFsIIBgZn/wAUZpaEGrQt7QR47b6wT8a1oGNsKKtzozN40KEp1D1OZwBA36AtHk9OFVNro0MjUJJnctnfsfXmknTeOI1cRPhlfnIB22TmPGG5u5un5Vt9+c24daZvP4KmCqq/i/EXpvbmvFH56x6F0CspHq1XuiIbmssgLRMvMUGu9rHAV67vNQcbPpw0M8zmUO9suLvFSVGV88Uwa0AApt6uBcFFDnCATKFUdig8OX3Bt1FDekjRZtZj/P1Q37XZKoaNXcs+WkGAKETIBDGG0eAQBjvD4awyAt40CuoWcGpJk6u/YaqFwyut7aX9lryLq2LBshiNEDmBGOpcmBzVudZ7LB9/YaNqEHYB3CbjDO5TBNjL3lzZ+Q+V6MGA7b0DQsGg4Ff1/mHsMbrcHmD2/6FvI+PCrZxpg41d67Wv7O1r5qJgSXv3CMGg2UNt4nHlQ1L8ggHYrEarf3VO+hY+jpH7PNUCCCuNqTotMy1uJVybgZfodswOD02yONStbsm7zkeVdTx7kXbYg9xMj5pY3kg6wpk5l2eT/iGq+vfKlC3xW2fI0Ra5ELkRXW9uFdefya98irY9RaMhjcrrvUFXKDFiV2s2lW35w3Bz1YIIC11qLrLs+H5Rm5k3a9zBFdRfKo3DS2uYK+qYSwIEIVbj5q7+C8tgwAQKgFCFhIysJAwDtaUrESnbyHh2YNFYZG3+N6AXZzBVslSI5e3riy87heGRTowQdYm9gsQI7Z3XV7BVq9glgyRd3puGr/k2wQVQ5WtkVPogUl0tRpfz++BkFf5DuIe1WP73iK4IMa5vpcCBbhKDI2FSYEXZBK9U6dWqzl55KyxacFg2xScrN7qoH9CANKMFPadj6+sA2p5Da5trvTN1ejqcSl39DbAnLuuxyqM8M1jCjY7YgCE+C42TLkRO3FmmtFCJa6gfY3Vvd/2DyyRDa06fF8/rOJCXnWQ3dhNI9tTTpChPNw2i5P8C+/JYFUIILjX3QS7jS6sU+EUfuj5H3vnFtpGdgZgvUV5SB532bQQ6JKG3e7SbJpLu8l265I4m5a0m03yEtrkbR9Kt+zbHITlIxRjIrAUySthSdbFwpIsyXd8kYxlgxxj+QI2ImAsy8bgJ0GebYKVhP7/nJnRbRRLInrJaMAkGs05c+ZI+r/zn/8G/11l6sgSECTiFQEC+sxgl+NJNOtsAkSRAGmmMnlvCojyUpmoakxlQrluUABColawBMIqDtLNNrlBBfHOnwtWCZDeACzIB7BbaOgEofi2Uzj72iopCEVOXxwfSCi68UoAGT3kX3j2UdzyDSwbfpE5aZTUR6xxAr2wnpT1C28kE/w5uL4bFBpfHiBENyIafYBs+gDfknI2uJdhpRQgjvm0OBEwTrIqC5DIChttB29wYaRw494UA68FZyUpzIoDdI5X7jxAMm6+bdDOw4Q9VbYPGhQARG96wuYG6GNmuXlzcwDFHjZyrgsuaZMAQnxTNpkJaQJEGQDBZIpnm8kU34s4bSZTPF4DSbcjINjmv3sUtA2rIHlE8ePHvZgqAWIFjQGkM2XNsWeHYC0Wdq6ojFgrjwMhO1HhYrQTz9q4kiHhjtAGe1EpDqToLq8AGt48QF55xLdBMwhHhRe8P8EzrnJXXp2MXQEBkhpnD0bxgQ1ZRgoaRBgzawXMSkaalQDuEkoAee5mc2JFrWMoKrAM7TfePEBmqdDYD0qdC6eU64dHWhBnxQ30GZIAotlOcxV8kpsAUQBAlJbOXd3IdO4tzXTuxwUSzoN422F7WDkDb+8oVhGcsBx+aakKIGjVNgelltMg/ZMUDSNw2lQxYVU5QHxMIsPfPIwoYysV6HE7U5S4qgIJKbdrJjq/BBDfpPiEUfS9kq46hAftslXuxwIKRr+7HCCajMg33A7MiMIeeWTS8ob4vI0CzgdhVuapAJA50X8hjdanSZEI/QJ6GUCMWukjAeLNYVdpGEsq/4Cg1Yz1igBJHVbiRxMgSgDI579TVEEpdbOg1Hucy5oLSlGuOwYCnFkLcNE8UPqNPUIZ7q0KIHhBaF5c0XPJECGbKJGXNbhhn6DVAqQvJ4rAHMjP/bL6hNlBwYpeZST6iIboliWAvJaUinH0NZaGOxMpsAbJAQTEdCxRDhBdQOzCkff3otzyHPAIR2ZrA7VhXLrNAMzKUo8AkJBDHMsItE2IbWHAwvYXAmRLvIZyGULsJlRq4Dl28qcBOEarABDzNtcEiJIB0ixp+94AgiVtzzZL2h6TymQW97Bswg6W0SGdt3VvLLYFApm5qgGSXgX5NhYbYkdsDNbaL7WCEYSYB1etVQIkn8rEOQZd5wGSdq7ETYGpfX11AKFef3KiPdAeMRcCZL1wK0xjFIc7tI5mhW6ZbnpmctnNQKCrrwJAusQX0QKHYW7BJWhuT1Dqb0mzEoHBP7XlASIc6KUsueiiBX5YAkhBKpMXwu2Se4QYpJEPhUTzDQJktyI/mgBRAEBOX/jjv84pCiDnfrzTIIDc+HfLTUXtBqqv3L1wtTaAUG4eJF0MN0AcIIdWvcLZTpMhH2NRJUAs/aT0eKPlOxsVQi9yMsLtnQDZkgBCOedTX77jYwFCuZV9s3R5EUAKhXbxEYuW9eKdCBe8XxtAnuLIvLGy23TVC5CgEN+x5Cvt0rCRBwjXBIhiAXLq9NUvHl9UktQ7e+n6nWuNAcjFe7euKAsg11q+/rZWDaQTxX6C8t62JCt8TflgNJ0ej+oB4sWQDr294NDnBNNxPMUC5J576wWIB32vzPyQdNUA5NAoXa+pABD08SoeblsJ36htAJ9fw0+EWR4g+mMAgmXNS2ZlgdYJkAHBajMFo9IVdmnvp02ANAGCGsg3Fx4qS+qd/+lha2PceK/cuXtRWQBpbfnLb2rOxtvOIp8924S8dvIqghZ9d31bbzYXh5MToaoB0gsoMixGD6TD2pN3ZJpe78MAuTVvfQDxjoAY3lubWsoOzwfsxwMEi4nrDDsvggPD4zGzPEBAgttnEwXD9ZSaD9AATuzhTNv08HC2oz4NBPWyjmz5rNQDkCXhdpjpZXQm3+XBDBt5EyCKB8jJT7++e1NpAPm+EVXg1aqbt+4pDCC3v/vqkxoBQrkNkLVbPdwBCKUuXrZRdN1NTQtSsaMcINQkeAOV2EDe8Eb0ku6lf5Z35opqR9UEEETaW+H8QBVG9DW41a4g7jMaeYBAn/p22eGKhxuYFxJ8e22R+jSQJwiK8fLb1AOQAOBsE13n+gjZlxl5EyCKB8ipM39uuaakXCbqs/95ePszVSMAcu3B/RuKAsiXf/vuV6dq1kBsuId1QON8ECDKoR4ghX6CY7HdR3IAgWt1m+VeWLhAjleyaMOfSYPpouoBiAcUkMFJQUyWeGHJVSR0wKjDYnT6SAWArIBS8/ydP9dFtuLnu7FE6tNAcNr0izJeXXUABJ52Lys8R1hmvE2A4DctMRCM+21KBcjH395qVVIuEwTI5UY4LqvVrQ+uX1KSP4Lqy8sPfn2iVoBQzmQnZMoWA1nNRJh2hxCjaO+WBQgGOYhCn44bhGSKFMPqKlcoh/6AB2OOktPzhTK4EkCsW3wOKTakAoAkMH+UDECm91CWiy6yFQCSwEy2nnf9XAFboWGhG0udGghN4ul0/QBxSd5rCT28wogWLSiNvsMPEiCe4MvVrlxP2Zbk7Opqeyetpgd3V5/dN+agygTIiY/++ui2SlEA+d/DRsh56PC20lJhqf75w5k6AOIEcZSKaiTpl8ZC40KIG03aZQBiJVJOQOrHIGqWjfcQhGbHQuWlYXqHN7MUH/6izLEVAOIwSjfkbLM6CSAW6FEvwwB0UxIJZ1mrYETnxuCBJt71c4XeQ0lxnHv1aSD8TVOT9QOExA7zO1hmltVrFD6tkQ8SIH5MCLPaW7YiQBeMZFVQwNBXQiZsygTIqdNf/XD5rJIAovrvz42IfFGrPrv8j+/PKkoDOf/4t5/UDBDBHQkW2wYhCNCGkQtBQb0wynhhcW5MLzWBy0TKyl8gQCinbcN8sUdS1is/by92t28IJ2Yw/q00LtCD1g33MQCJxqSUXekJV94Li0PfrPHyJ0q6+MImvJdZRi8PEMonIglL+a9o92SpnjDFkmXhMfmW1KWBwKyYMDvLoTQrk8yKXj1AyBCD8jRIRvswnynFGiJkLih16d3wfCgAyQ2ip1mZq8UEzsN0T1UI4suhvNAqVAM5+enn188rCyA/3j/XCIBcut/SqiwU33j4+49qBwjlsI4RSNk1QX724HIvMg+/VvdsSC4OhMnE0Kzf4ggYiG5Oqgdy9BrWyJG4E6S7zRrccfEND0jHyAZ2vQwU0LSX/SZALOozh57clKcyQHq7UHw7QHZaM76COBAU8cQ47o7Gi20vM2G41UsPVvyIaSrFgXA2rKlhmPX3Qr+JbCYVK91ew606wzTcyrvZUW8cCHsKTWSazcrEjmvVUhNA4JMxtjs9y1N8Ii9RGTETMjiSw6JVnvnAWHj4gwHIXnGNs0KALFYFECf/nY0rVAM5ceLMF/cvKUrsnbveiGRYavWNe3dvqhSlgVxsuXq6Hg3E4uKrNUmm7E6snze4tR1z6cnemgxA2I9U34clkjSjU2IuLGaeIL4+w3rE0Oczs9xRByA+Bw2vhsJ7Zt6GXuIpi+HVRB9y7ZEcreyFtQyS1Bxa310L6Ug4JQKEcgu4RB90hfSxYoHRhnWdOmLbEaBbv04eIJRaO9hj/LJlCPl0xFi6/YZ7bsQX2envsBN9f502EFAd5opmZd9TE0BMKX6MexiR4poUUm31YiUszV4o8kvKNagnvngTINK3GRcb4W5OqQD5+A+PFRWKrrr008+tqgYA5OKje1dUivLivdnyTV0AwXSDIJwWJNk+yS/i8GR4sk3GBsLRFTFQXfcUkz2tRcWW64Xx0c9Q8XAP5U+MyVSpYGnQCyoSlgOEstAHfkjmHSyqIWogXJeONR4qsddvm4Xrdc+cvgoaCEdnRgqHu+su1c0SKb4XzIK7MVCvBgIvXhXeZlNbE0CyUaluYzialyQmTUGXxqMmQKQPrSe64ddySjWin/joT/euKKoiyHn0433vyFSrrz24f05Rqpy69dHfT9YFkIU+FMwF4pc3HMDCdySN6TOYD1FPXKqYAVf4Y/wVb8f5eIr9TrGp9oWRiXSz4aWDT2zOeZ+lmJhzBWUS/VHOwzKdrCOmbM8ISUlVC7Hcx66Qzt3B70WRvhccNypWCeGD3FHpIXNLpYVGhhniwuP/Z+/cYppa1gDcty4fMDxh3Jo0XmpTlXPcbECPxUuPXKQGgW3dORKUh53wYMT4tlYIMARMs01UKGkDLbSFcNvcIVQL4ZK0GiiS2BATAwgx4YnEZxoj25OzZlYva7XAAVnV3TXzP1g7q51OF5355r/M/9PNrUwNF8lkWwjn3w0sNt3DTdzgWldHGqNHZ6xCl8tXbLSPYVaM0REATRX8IKl3wSew8EegmiK8KxPBu/KYuys0XVnFDu4Lz9tSHsLX8yamnoOorZdhfHRtFSrMXjNUGx4gAJb+Pm7kTf2TgQzu/iam+ivuGgjg/YslQK7+rsEqDCvxYVFaLACSezMtFasgLEr36/GEbwEIO9ls7uZwTT/4H7Pl9eQIV8vJESzksWQwB6cnfLBMrjegdqNNcGKQ9nePdm/ag09R4afprkmvbet5DT/M+brbFSi51GwAvM5s9vCQjJ7JyU2utZbmDdU1+9IbueOE7e65rvUN1KuhMTgSgz2qohVtmB59PefactWB39u63jWNPm/JFnVSnQZuI2+08Elw/QIGo/CubETeFaOB9wKjm9drszs4YGBA38zs65qcM0cN0Ojtmpw2hT4BDsexw9KJB0AkLbsAyIEbv+ZiFTyU+KAkBmFYlCz/ei5W0QiUuvTU/4vi3UYDAZGrJwgtbEB4HURv9CLfDCL64F0EO2wZw7SJeD3Yfkj8y9v3CgTbUrDd67YcHADb3qPIDkHUl9nxroDtPxxE9ga2vH9b319AE4BgDRD5kdNYlZRiAVIag6K2lPquNluNFUBSi35J+jaAEMFCJAMQh9/EKWxLJu/0tK9DGPVbOW7yGyNY63b6RmZHfB02YbvZZWqo5V6wOTI7t+lulABAjl7Ix+sAtTLjlvj5eCnlrZwsrEyBySmF5wlAiEgfIEvP28dWXeyjt6r/cdtUy19/8I8YNo6sjLVP8JlSOVIx1Pukr+njk8VXdZt8tdCzNtb+2kzTX0aHnrU2tfasjtpA3APk0C94JXSnVGWFBaJ/4WQNbqkUk7NzrhwkACEieYA0wBItA7Rh4lmoHMpM+Ayo8Q8Y2c1L9OJ8usALWOutCkf4wgBCZsgB1seCIW3Vgw1xD5Ck87EpkPF3FUXi/SKdWnSA6LR6JWapFO/8nEAAQkTyAPHD7AcD7rWaMBbaOkMqh/ErjKkLA2T2L2Htrfp2qwAgr2wTLbzL89Z4B4j8yp0CrCqxJj58lK8U9wtTFJWh1aVidQxEkX/tqJwAhIj0NRAIkNF5FBnev8iFYYfLCyCA/BkCyACnppQvrHxY7uEUjVDlYk4DeQOPGDUN9weONq3EPUB+/jUNrySAD0pL0pNFBoiyWKtRYKWBKEsu/EQAQgQTgLQiy1WDze2qQFgIndERAsSETraWv7CO2xw2wxx3MPQNHyBtrCJTPmhx28ane5EVyxrvADl6oTgTo5VPJkstKxLZaEcla/IKsTqHLkvOyvtXEgEIEUwAAhODcRkqAaz0C/PubwEQ8BXx42XQNe5C+kjLAA8gUP2Y5VwoVtTxq3gHSNI5vEqxBs6iiwuQAm2xEisLVnLB7UsJBCBEsAHIfG3wMA0siRbKIiMAyCYCxlz4QI0D6SCfBACZ8oBAR++hNasNxDlA5JfvZSsw4gelePgoQ1SHN0Up0rR4nUOn1BknT8gJQIjgApDecPYBL3w+ZN8CIHUoTxr/OCiqLNLbwQNIUyijP22HvKnpiHeAYOgEKU4RFyApeugCwQkgyuJduEAIQAhAJAKQqXBeZ7AEk3/2+6MBMo50kxG+SrGEXObrPIB08U78w7SiNevxDpDDp+7ildE9tawkW0SPN0VRmry8dKz4QWUVXjxIAEIEF4As8pK2LEFP+WdrNECc0GDVw+8NNMLEx0xFGCB9Xl5PL2D1sdF4B4j8XB5eDmD1/aI0EU/fUzKqQJuRiZMVkFLk3vu3nACECC4AGeYvq7Cm5rAlGiDTyCkuKJAL1plQ0VwEkCkf72odBEhd3APk0p1crOwvCnQSREQNRJUGMyniBJDM/DNHCECI4AmQ1bBfQwAQ5PB4IahUDDiHiW1rgMzAQmTP4x4gR0/mq3FzgqSLVz2QopT6HA1WcQhUStHZJAIQIngCZGhrgIAZ+LZRQbFK4Idta+6tATIqDYAknc1TJmKVSLbsVrZoKYiRC0SfosCJwDLNvfNyAhAi8Q4QDwTImiOyGZEgUEVs9wCpfA7fNiAMyzXAtnaXpAGScPUfGpwAIlNll+hSxQOIWqdNwysMQa27dpwAhEjcA8QJ81INR9QWps1VcNWf3itAzAggLxsFfbnQuXWDpAEiP3FMp8BJA4E1QdLFSr4OLVj3MKsFkqk/dZgAhEjcA8QCT2K0GiJa7ah2fcdeAQKQ5auiUmDC8iDHul3aADl0tiQTOxuWWIG8FKXJuZuuwCmOLTHr3vkDBCBE4h4gpkW4vrsiWl1jsDWY32rXAOGc6E+FTvT1cJt0AZJw9bcsCqtyrNniBfJSilwUxIvR/VPkHtuVBYsAhADk7w0QN4zIZbwR2USssALIE/eeAYLCeJcFLnmADg/O0NIGiPz4nTQZXjasR3qxcldRmfnaXDVW2cRS9acPE4AQiX+ANE6gNV+gNATSJQ459gwQJ0zRXjMuWIJhyt3WWXR4UMIAOXy6SIVXJo7SW+LkHqEoKr0wD69U7rJ07bmEmAAEAADIyksA8r0E0N3VEBY+oQULJb/qMu8ZIC6UyuQ9/yc8B1vemqSugRy4eDs7GaMVkFLdL0pTicMilQ4zC5ZMofvPJXkMAGJ3mUa8frvUEALsG1/c5n3MYv+XhmYCkBg5QVChqF43789lRCkRn/npvTrRaRqFYT3jqSDGfthSRUsdIPITJ/XJeJ0lfFQsSv4WVpm5m1OAVy0pVd4uLVh7AojZstoHZ9vguMQAUtnJMD2ub3+/j2GaJglAYiTvkQqy7A1ZsTYqUNHBuhDydx+FRW+i7O2rppAu0wmf93g4FkkZIElnsSoKQiWnlhWKk79FkZ1TnCLD6d7JNDcvysUHyHSgVHTb7HY7eYtvzmeKzUyptXicrHg6TC6b2H07BhmmdR/jXmeYmgoCkBjZsDizE9Py3Gu1geYG53p7sA4t2LMJi90rIBz1+2DYrnncu4zytwcJIWWAHLhxW0fh5EdPfFiUL4obXZWhTVNhxY9E/bEj4gMEeRt72teGe+a224nPt7S2rJhjMlNmPvcgGe5f/tBlFdeI5vjArjD7BEgdAUisCOLp5TYuPf1DnwbbF5EWzPRu0t8AEEA3oABgZmFo4n3FmzVUXqp60BjoSsoAkR8+U5KJV03v0jyNCABJTLlViJULnZKl55yViw+QLnYufd602Z2zhm1+zMha3WeJxUQxNDEhqa/u7/rBAHE0jAMCkO8EENr7tp4RSv28N8yPvWgggO6YD3TWVMM9Vn9wB7uSNECSLmuzsfKCqO4X6kQ4Pq4oyNErsSIvlXbzRgwAMsROvOnQpN5CRtEiPxWT8jswbrOt5c+WVm7Wt3T/UIAYVt/OzxCAfDeCNHxqE/Cj76mf/yPcE0DojcEafl9PZuyhriQNkIQTJ/PxSsfx4JF+324fSpapv12gxkoBSS06kxQDgMBwlZ1MR67/srs6dil9F4uJ8pTtu9PidHq83UPlMPmd40cCxMmuZ2sEIN+PIA7L14XQkt/TaTUKNjF2+NNc5r3D3MmrSIgyKPaO8zrzLn8M9fXCH66ESzfCk+oLTl5Ps1Ps3/a1JAAiP3QOLzc6pSorKtivG51K1OTcTZFhpYBorl+RxwAgi+zmjN6BIFXVDPOOYepfxWKivGWY1sDO0A4T6fU4fyhAPhKAfE+CsL+6JYe1q+rN4NN3k37HEtcUvm7v8HUIygw2W71OW7AubS3vCXonaLbPVXR+eDMxanFU8lEEKv1ej5vftdm16W0wSwMgB2/8rsMomIhCbvTM/QJEnXFTh5ULnVKUXjsaA4DYell1f4frHez1MRu7ts/HYqKwW/4ntsAO0ghtWAMEINgAhFvjQVAibaiAO94qQEq4BfCfRHUW1VfkS6O6jl+AyH/6Z4kSq6UwNaMwe59fmErPKcxKxMryl3X98oFYAKSH2XGpgVYDD81q/L1G8efJRjnbb2hXyC7fj+cIQDACCJH/sXd2IW2laRz3LmcuWrzqMLtDC9PtlFnqzraoQ1eXnUKrrYPrONplW7a7d70Y3GXv8hLUE6KIQmLjR0jUxCQk0URjYnDUiBrQiMYGFFkofqQUvBK8HhHTyj7P+UiO+Tg2pheRc94rk5z3fIT4/N7/8/V+CoBc/b76R0k15Cj+ub4yrwYuFAaU60qlFUKve3ZTkR9A6J3eN3sxh39608qtvaybgZUusLLroVDImXE9FtliNo7bJmTLee560mA50L4N7h6uWJLeAcvMyADAYSIcDB+kXWFGRVRhfiGICmRsUPQCRmtk2u+I+VZ7d5IO7tGpAHbv7gzurg5lAojBeuBz7LriO2fWsjsnzb59R3j+lx7ObdKxvv4GBFHfJnwXm5YkQOiWQKdjb2Fwh5YBIo9CBIji5vXGh5KyhU0vn1fkk3lGUfdqq6sk1UexpLz6zrX8AGIY9CZSVCZ6GHO4Ikhb0WUKPwwdghEFcoTBFJ/nXaI7WtXcuVQu3jnd0kyId87CZOmbZlKnHOqJ5k0isIlB9BZRSXFg4+82Nsszap2Q8bjBxSRxTqcD5KRnhEv1cfQnEWBwTibirZttfDw/OVaTAAl42LeiJ7QMEHkUIkCufVddRUnJGoIEyaepO8wse9z4UFJuv5LKZ3ev5AUQ6wJjfTVssqOrF83hjBAg8Qw/5AAYX22PUgkYMJ3jzTHEGUqoTYwp34gbEgBxLG+wpe5TqXOO4bQR/n8GTPr4gphf+uSQgZNJxWb8cnIjAH8HXOwzHKYBxLwZw5tipmwkRJZlVSP4LrqxIZPxgxAgTF8+AIhpvhmgqGKme+IyQORRiABRfHW9TlrFhE0vGyounjhAUeUND6qktJMUVVL+/M7ninwAstMKhl2z7TjUOiZxSe5ow+qrYPQYU3S90eiGNkMrEcsuqBUnHBhKs85p+mPTDJZW5/W5YsfYXLsrkgBI1Ksntu0Nj240dRIg7R3XC8kCB+pjYnEWplerO+p3haNYaaxeTQDEHTYR+9jGpLs7DSC2LbiVoM9/ivT0cKWSQ3uoh/r2PxwGx5AhfsTFaNQ7CbCwwXcRjUYQZKhA2k3k3bHfv8Fs4W2RASKPQgTItfvVVZLq6vTNz8/LLoxMmCY5AXKj7OkPn+UFkDU3IYsfZvHPXhe2jThgElXoJQ9mYRkNxgx1hEbc1a3VgI2L0GskHrEGlaF2MCm5wyvo9dmz8gDR6Ilnaq7HubKUGrS2YwwdLjt0FHkN/PAOigmQMBwxNoPCxhBBZ9zYEQ8QvYa4XYNDJwv9aQDBwoFRhk9uFBbsB+jUsk0zOOjfwzLJAJs/Gh/HILrRaGDzSQ9YF9cboFpbMwDIPiEDRB6FCBBWgkgojF6EEqT4Ygigiqh7Lx5USGkv+aJcBUg6QCx+sLPNNGsZDa1gQbesjLVOZmHR6UENWPOPDeAHBlibR0UX4OgNc8xypwmARDCFeIDAtQLKTJeYguX/1rTL5dpzwITxPacYP+Jg6dvRi4RPcOTFQAsPEJj7ik6/AAsQfy/79jzOZ0IsSzBZPcKdqe0QbmLbwBwiyMLiXFiEnG6yr6bR77cjA0QehQiQq/f/WVEsJYCABKm5YBQEluM1f5UUb6miG2XPfriSF0DWwHxGrbxx7EFvENt4SiSNl34F6qGbyZo3wlEesTSsoS0mzM5l4DP7ifqsPEAwep4JDXsqYdwhJqo/lEFARquSLwKIY5eLQR4g6tctGeYyANntYAsElB3Yu28N38cAyH7iTBYzzGeda+lpvMTDN2dygjp5a5EBIo9CBIji5vXKUgnxgypuevni0cW8dlRJeQOmYEmIH9S9hm+/UOQDEAPuIDqTLJ1ygQ31nweQObCnx7PMHGOMEPOayC/+FxQghsT5I2ZusyAGIJ1tmdHw/kwnJHOf2AU63ITYku2NhgAH7jUeIH1zmS6AAFlcTrrA9IRo8Z/Th1vhJWue4X1VZxaAqDlk0UxHF++sDBB5FCRArn4nPQlSebEwBvVN2ePKh5KqIbxd9tPdK3kBZBi3xkgoCFoZgPV033kAAftr56IGtAt0xJTIL34BjK0ref45B1yvlwMIxg4yAcTaDp/NT09Pu17vYtydtIeyXyAyLiyGp7EtkmaBA4i6U5kNIOYTJe/cmrKznZXw3sxLyXs9UBP9fhaAYB0IBzCYNdkvA0QeBQkQxW+vN0pIggA5ml7WXiyOUfKotrpCUilYVHntt58r8gLIXJAQT3/Syg7Cet59DkAGVAAZTjvQM2lVFmeHi4FN4vzDYTh+kAPIYiizAInATWwod3AMWUcwHSooQigw/2FBf7wpOLyZB4g2M6DOVqJP2FhoDmwT8l7gjFrW8OXwYpXoFngi3YAMEHkUJkCu3P9blbRW1SBBSqkLTCwFAXJLYgLkY7dCzwqQfs9ZBww6/jUGcYB4gQn8Bh00uqh8Ir/4XVAcgobvLZ1wfIROACTjQEmgTb7C3N/spRatmsQW18wNYdmhiwOIRptxSgpANt1s168IqJ2YoOvvnIbvBiYGENRwMkDkUagAAQnSUCqp7uRYjp7zhlAURT2qrZdSChazkVSuAiQNIE5Yfe8LsmgNYEQ1VlGAhLBuJOjgBubNOkRiyLCqd4fOKhISOAcgr1VMMjE/4JUte4dtn4qrD+cAskk4+rAK5CMA4gRomvHBFkHLCApOegAg5hYZIPK41ABRfP+0plhStSAX2NsW+HGr7nGZpPINikrrfndXka8C0RGy0Zt8PQvG9J24C8tDUse2iP3ch/MJOpUwpXoCF1Y2iUPmkrGILTgye5hlWsMpDs6FhV1YunNSIOugQI5RiQA8HcPJwwbhzDpZgcjjkgPk2tf15VLa4KKktLL+SY5baVHUjarqhkeSKrosrnr6R0W+AJkFY60TNCqMM/EAWgQg2MLDZE8OeNkl0ipXe7bXSccuE0SnxQCCebXCnUg0ooleuPOuXyChupkgOp2DApkZZ8+AbbAmBWIqxATRaRkg8rjUAFHcfVYnqdhw8X/+1ZgbMoEb9xofPJHUPiBFDxuuf5k3QDAEbBcEGEaYkLSIAplrx70C5xOj9VR8C7cRQlSCXieDcPjkkrgCWQcl4E0CBKMsuuzNeNfB/G8L/sP8PG4+WoFMc1GU2SAh4wI11qwiKm1CgThkgMjjcgLk6v3qCkmtrW9jT8VcCEJRt2se1Elq85SiG0/+8BdF3gDZwULq7mQh9b6ekCkxgByqzyz4lcruZCeQTAML+047Ei9X1IJCwiwAWbULE7vot+LdUmbdbF9gbvQu8i41cQWimTDymiUKFxhF9xpmiC0YExd+D0cdJCJFXhkg8ricAFF8+fsX0tpZKudU3huPamtzj7xf7hTe+lzauGetRJ8wEeI54V8FwBq3W0QAgplK40fCPdxGMWjNtVDvia+fpOwHijUdi4kgd0cMTTctDpBOvjKcOf8UIO3dGpc07FxfHko9HHSDPpkHBkBUaenzFQjxRLiHGMXMZeaZsRJ9O+HDOoBvZoy92pKbj4aIAoRe2owPywCRR6EB5Oqfn9ZIKr+ouKoe9EQOM0rrmBpCKam0xr/fVOQNEJrphUVis6wxjR/rsZMJnRUg6CAirWeKK5xsWxAmQt6s00XP7h5CYyUh0a2xMyyvwUSHmbLx7AChsc86r1l+/WDDekDugqFJ3Vh3ytHKCBj6xWaWW/QrECAetvWJuAKBw0bZ+8eW8v/DNivKOYzehzmChOD59aPco5oJsR+dC5CToE53uCQDRB4FBhDFb+7UV5RIKcHo1r+ra3JoSkI9kVgEvajkydM/fab4BApEOYHdaKNTy0M98WbsCnXapsyuQEZtjEIRbiL9q52QYzag0IHOoNTNoayn2DSxNWAxDMzsq2Gxz/ZPzA6Qoz5CTCMLMFa1sTHsiuXo4a6I+34cp01AH9eib6LX0Lvmg5vRcFUh4goE7sS8tzzcv4r8sHG8mlrEosUF585wZH6LCNxWcEt6x4B18JVTBCBGZKUpLgNEHoUGkCtf/fQPCTmxKKq46b+1FR/7wFgC8uBH4I2EvqDy+q+/UHwCgNDKHWx/Rezu9i03NjB/z3e+zQQQ9ECRBfpMdfccUKeLbSy1tA0fpwbU6XUzbtFk69oyj4O+cY+wjbGyA2S9Haz1Ig47s6+T3pUgFgYp+lLPr+xF7qnfdW112QA3mk4ON+IKxBfVE7W7y2zHqpaF/7N3b6FtX3ccwP9v5+8HCz0pWBYSsiULWY4ty7rZ+vuiWHfztyTr72AZSX4IBBrisDeLQKcxRqCQDqfUNAu5tCzJ2qUdCV3TmGWFDpOse0gIg7Bs68ueAnveGLQPO0e+yBf5EllSJJ3vD0JAOJKP8/f5nOvvt5Hr8crvWOnEP15/8YtP2Ud//t/NxIoP6evL19+7vrxZUKocIO+y7aD8dwAE0WiAEM1YOGbgSpBzScVxtAaLgjUeYYW3OPrxWJX+LkKqMgNZKqxdL13p+Mu3W8X5ygDCtsDv77o1eONftKN+sAXI8tM973/t16X3v//DRuLG/QFZ+3jHJZNnD14tFbYBsnc/vXDz36Uvv/f6ow1uDp6B3Ln0/eY/+fjpymajV4pzkI34aSlFIyuRuF6R8IAZyMrd/LZCigAE0TiAsEWsIFdDbOeiP3qk4ub0p5IIy26uTmCdjEbGVNUBhHWRH/x9vYTr8mevS6XHX/24Z7S/8hUDorD7kabzl+dbk5HflsntfqVYtIl11ZdvLm1owHrb956X+x25/Wyjs16+99mjOx+ulFIFs8Wqqy93p7diVUmevr/+T67+84PND2CbM1d/Wf638HI+/9dXS4+LiRrz//v99p/FtUfr9dsv3n+wsi0TY2G9Nu6L4gLVc+rU3a3G0Tf7cf0UwjUq8feXAAii8QAhg5N8DbKF8xm2rXEEakS3HEnwlMVdFB3zlS1glZ2BFOsP/nntyd1vVpdKXSb9+9KlnX017clvrBaW9r749XrRjcJ3bNheKPf+S9e++PLL39wuvT/968pquVodZcpXlSD6hA7296nddOPp3SdrPxS2N2Bl9VbZXIrsW75Z/MI/PX7yxddb4mxq9Pzhk8cPbuz4ZPoVhV+tPbxdxKyw9Gr1yraG3Py2OOmhX/PRh6tLB9YuASCItwSIypOLWnk6iWVgGU0OF5POVeIRycnT5Iy22NjVXj1AtnW6hV2vFfZ+WaGwtM+Ltx7l88+uHYhC4aC3PzQuL+c/eb2PCeVfK/8BOz+7UDj0Z3FQS7a9WSVtAiCIugBCOgaSQYGjflJwLoYPL05YLEOYcnOVhNcQm51QkWoCUpVgaQzvPaxhB3rjU3aHsYBeBIAAkApiajJjFjiagqjPn50PHXL9hfoSSoYTFp4mIIIv6dWSxgPk3c/zF/9RyxH4nZ/l378FQAAIAKko2ib6XVwt1Rgu/CQbPPDsGdsAyfpjTp4OYAmOzGQXaUBA6ATkb/+pYf+++iJ/9Rv4AUAASIVxwh6OGrg6iXWumNhdPOAAVkCajvNURUoQnFJ6vK0RAXmUv75Wy/79Dz+/eAd+ABAAUnFoe5JBrlb7zYvz0QMmXaJoYVfQecryIhgSs8Ma0oiAPH75tFDLDv75y8dYwAIgAKTy337Spc9wVbRVff5sKrTv2TNWBEQOh6xcFQEJypVvgNQUkFofQWr0I04ABNHwgLRNzSlOrg4cXZhP+fZdwBKCKa42QGibHSl9J2lUQAq17N9hBwBBHBMQohmedvFzIV0UWWkQxbFfewNKJG5W83S02ZqppAhIfZawEAAE0eCAkBN9/sRJjgQRnIt+V6Bcg2lvKkWyboGfJLx05OCKjBAAggAgAKTC0NmSQZ5Smpw0n/WXO3tWrIIeDnGVYVJMRPraAAgCgACQiqN7csEh8NRtnl+Q926UUz98YX/CwNOGkODz92gIAEEAEAByjI10k8KVIOoL83sK3NLmB+VIzMJVhvtg0qYjAAQBQADIMUI1kZbMHK38swK3qZ0Fz5kfqYgU4Ok8geBOmboJAEEAEAByrNB40lJA4KjvtJybX9ie04S64c5G4mau9s8dC6apdgCCACAA5JjRMZyLWTi6/CA6zyUV9xYXtDc1KxHFwZGhrMXG8TYCQBAABIAcN7QDuYSVr/qEScmxsQ/CRuPx6Yybp/mH4JT6x1QEgCAACACpiiBRK08bAOZYMu4uClL0I5LhKwNWQEp7NASAIAAIAKmKIF7OMvOaF8Nxx/po3KFEskEDR0t4bP4xXBU/AAgAASAAhEZnjz8h8iWInwpCG2xWIgtBni4QClbXtL2DABAEAAEgVQKEaLkShFUCX/QrZkEIxCNZt4GnDRAD9UNDAAgCgACQqgFCdL3FtFj8EOJkcxCn650UT/vnxQRYAyoCQBAABIBUERAqSDhk4Kk8iHMxkpH8zA+O9j+ssekBDQEgCACCqCog7do+f9TK00YIFeQdmavzu6JTmh6p2vwDgAAQAAJASnMQb5iVfOWkP2VJTeRpxcxRgwWzNGuvoh8ABIAAEABS2knvy8WcnNzIZgl4s/q+GRcvgrAbL0p/NecfAASAABAAsl2QoZwrwMl43OLL9p7qmDC5+KgLT8F0K8axqvoBQAAIAAEgO/JipeMcZIWio3FLItUz2EZOeIzsTjoHhBiCCzPj1fUDgAAQAAJAdhS5HUln3K0uCG1dICYzP2iDPSYlaOXAj5A8eaqNABAEAEHUDBCiGZ2UQ619FovdP5dyQ51tGw3Wy6EWz0bMju+Ge7qq7QcAASAABIDsqlE4qA+HBLXYyn444mm7tlSUUZ9MWFpaTLU1Nu3VVf1RASAABIAAkN2CdHr9LZycl7bLraQ9J3ZmAotaWnfSJaqdUsR+ggAQBABB1BoQlpw34nIKLbmOJYpsN9k4ptmVS3LWFVC35FY6/V9UOzIRu4oAEAQAQdQBkHbNyOmsW2jBvXRqhCUatu2p5qoZ7s+yAiGt12D6JxSeGyUEgCAACKIegBCiGjel2M6y2GqjcYPZlevrLmPmxCRrcKtNQkRR7YzN2roJAEEAEES9ACGkqycXM7eWILQtFp9iHO7Yv8GGFmuwaHBL/UNaAkAQAARRR0CIdiitBFuoQ2UNMUdl2+h+uwE6O21wK826GJihlGlMRQAIAoAg6goI0YxNyolAq+wL0FZY3dKZvq72/S9RTuhTiUDLCMKOK7tyvVPtBIAgAAiizoCQ9sG+nNQiiU1oG5yh7IxHe/AVGG/O5WiRWZcoWIOZtF1XwwcEgAAQAAJADljG8phSCWcLTEJEweCWZO+pw2op6UZmsglnKwgiiuaYbBvVEACCACCItwIIUQ32+KXm30sXBYtvwTisO3w1RzXVO+tq/lmXqBbdC7MDne0EgCAACOItAULatcPplM/a1D0qy33lCh9xNN4iDXZGw6YJTY0fDgACQAAIADlsEmLzN3WKd1G0hFL9R98MaJuy+Zt664d+48GFSJ+unQAQBABBvFVACNHaTyd9hqa8mC6uTz/8+lHVmzV4vpkT9FpifuO4qg5PBgABIAAEgBwaU73TksPafPe0WeYrZyI196Znkdqnemclt7U5Zx+WYOb0gK4uzwUAASAABIAc4U6IZ06OmZswWZTTp/R7BysorOUxyTFHs+UkXr/sMqs/VZ+nAoAAEAACQI6W2sTbnw0FDE20jsUG4+6YrPd0VNbgvjml6RpsMCdko11LAAgCgCAaCBCiGu/NxX3OZrlmxwbjjmjWZK84kaBmtDcd9zXPzXRRMAQS2f6+wbo9EgAEgAAQAHLU0HlsZyRfc2SLor2pI6rMDJzSHKvBvbLka457hazOe0jJecc1BIAgAAii4QAhpHNELxc3l8UmWMtRznhHO47X3vbOEZssNX6GRfbdWXzxXO+Etq7PAwABIAAEgLzBOla33ZSKOQyNXDJdFNTqQELJ9Yx3VKXBM7LLbVU39vxDzfjQe+pw9QOAIAAIAKn8PFaX3UR71MY9j8XWchKZnHdcW52bEJru4Rk6C2ngA1miYPDFwzZPp6reDwMAASAABIC8KSEDszLLF9WIXWox625m1jahbateg7uH0knJ3ZjHB9hyXTAeNnp0qvo/CgAEgAAQAPLm2U28/UmX2aBusC5VFNSUj4Vp/Zi2ums5bd0Dc36X26ButKU72mKrO+M32uu9eAVAAAgAASAVD8qnKCGx9bvaYqP0pbQ3DYQykUlPLXaSBwdO+4t7IQ20eEcbbAnGI0Z759t5CgAIAAEgAKSyQXnX0P/Zu9OnNJIwDOCCgI6CCF5RuUSRAS0P5D6UKJCAICTgtQYEhMIqPlCafJg/f6cbvOKFRoEZnqdqa5PNlrVvzVb/Zvrt4+RbOmqlEzvDPTCRM2C0ORKpI/vOzGctQfOdHPyKOXvjUDD6X2CLZLIHn+MlAEEACAD53EW9G3uH+YzD2vUhlfQBbJFA8NuJd/czOwFzfsNaPu5w9kLBAzanO5Fas4dnuvh/AAABIAAEgLx/RPUsL2RdAYu1qyMq2YLtzuRODVubn90JmA17F1KugMPa3XoHjE5HLF1YWg1Nd/X5AxAAAkAAyL80QzY3DIV8Ihrp0ls53ULnyARTS96djkzljJl9K6f5RKBLBTenrhwBV3bB7plnuvz0AQgAASAA5N+aIfPb3p+pdNztNI53eEht6hFz5S/svv3OTeXowut7F+l4NGIbGO80H+PjNksgkSsY1kOzXX/0AASAABAA8s+Z2fTbL7LpjMPZ4bdyfjDl9TBshTq8inXa7FleSqUzFM3hDvIxEIkmcvzXVnhxrBcePAABIAAEgHzAxI5u3+/lDUlEncOdQIR2kR2Z4HlhZWNnsQt95LG5Tc/qRSqXCDgHOlXwsCXm+pX6uR42z/XGUwcgAASAAJAPG1L99tPUL1c0Yhv/zPdyMo9jdDri6VRhbys0P63qVsGz5u3l08K5K2DhC/7ULxH+p9sssWC2sLAaXpxheuaZAxAAAkAAyIcNqTOLvCGH/wUDDusnjahUD0s0cf711LAemuuaHrcFby8vHf4Ixtx8wZ+zTX2Y/8FOdyb94/Dnalg3zfTSAwcgAASAAJCPbKlPz4e29r5/PQ/GLPyb8wcjQm/8TuR+fF/zbptnGVUvFDym2/UZvn/NBjOWD7++kP9p40b+Wyv7/WDFvz83puqxpw1AAAgAASAfPabObvoMRwffzl2BiI0szWoOq8Pvn/1vfnjYrI547sfXo6X1kG6slwpWzZg99rWDb/ynV8RqJBNOA/9eMKnYaokF//t6sLYcnp/uwQcNQAAIAAEgn7PlLrS+snB0cO7KRB1Oq9VmfMeg2vqXeTmsFncskft2sGbwehaZnix4ZnfDvnR0wH+JkIJt/1pwxB2Ip398P9pb9m2O9epDBiAABIAAkE/bqG4OrxtOjgrZHM+IJcIPq8aHB2cNPzOC3h5vZXVGCB3pfOpwbcnr3+3NF/E7Nc07Gyu04GA86rA4qZsv1fuoYJszEnEE4sFf2cOjE7sv1I0VZgAEASAApEdmd3S7fq9haaFQyKddmUDU7aCS2Ix8Ho2o5JAOo9HGv4A7LQ53NJBJBH+lCqdLe/aNncXZsSEhZEa371k17C2cEjfjsduCbbTgm2VVjwuOkIpj8WAuSwpeWd/enJvu9VoBCAABIACkE9tEtn3r3pWlk9OLfC4dTCTimVggyg+ufCyt8L9082gEYpl4whXM5VOFkwXD8uqGp8dfw590c24zTAreOyGOpIOum4LdjwuONQtO57OFtZM9u3fLv2OeFUaZAASAABAA0qkJnnnz7s62b2vVu7xiMPy8uLjIN5PL5Vq/yvL/0GBYsS971zc84dDm4tzYkHAzoyMF+zf4gu0r9wvO/1WwgRbsD4f2zbppARUIQAAIAAEgnX05H5uemdPNm/d3d8LbHo/fdxO/37Md3gntbprn52ZnppkhkYQUPMsXvPl3wb6bghfndXzBAqQSgAAQAAJAujq88mEY/i/+70P9EBWtlWnVK+yaAQgAASAABEEACAJAAAiCABAEgCAABAEgCABBAAgCQBAAggAQBAEgCAABIAgCQBAAAkAQBIAgAAQBIAgAQQAIAkBeibZSJTExoh5oGVP171Tqpt9aNQBBAAgCQN4ZdU2jJ0maRA2I9FJ/pX+YhqZUSn6pmtQABAEgCAB5T0aLLEcyMijqc0yOk9yTKV+VZFMMAEEACAJA3hxVVd8cSRVFU98B0qRToTljAAgCQBAA8uapHVm5NZjqz/rxC4QgwpeuAiAIAEEAyBtTL/EDaFlJXsQnpOIHRK9ppdFoXCnlLULYqyoAQQAIAkDe2kIf4Ti5JskPpfJSRfyA1LR3GZ2q15JKOo3Fao4BCAJAEADythZ6kh9AFcnqCOknf1GLHpBH03SVEv0MKV+rAAgCQBAA8pYW+pmeYznlH1OJH0TlYm6j3wDyyIm6hggiL40CEASAIADkLcPqBBk99ZVjmYK8hteY/gNkqEZnsSbPAAgCQBAA0n6YioZ+eaiH6GJeeXG0DwGRalg6hwVAEACCAJD2I/1C1vCWB4eGRiV0M+EZ03+ADBXlHMspLgEIAkAQANJ+B4Ss4eW4hon/Fqkp+VFUnjzuP0BUSTp9JwMgCABBAEjbUdfo/g8J2f/RtETAO+re/wVC12EpawAEASAIAGk72gmOto/JvJWUttEVEnXfAWLSk83omjoAQQAIAkDe2kKfor+pasipHo163wFyWSZbYSYYAIIAEASAtN9Cp5P/182Pjt8SOpMj1jN5nwOEGRyhp2EJFU4AAkAACADpRkxFcgxUo3rTEJkU8oa6NgGpPvzQUJsuSRuIVdZUAAQBIAgAaXsGq0bW8MqT2tbv6bGKgm0mtwmIpHaTwWvZZVFTpmcpCrhoAAJAAAgA6UYLXUKaHiO1m7b58aWCtkSkYgaE5blo5u5Ad4VGwAfZAxAAAkAASBdCD1CUl27Pv2LO9OR1fPJMxICwT10oVRLywgEAAkAACADpwoh6SQZPpexu3a6WHOrOKYpq8QLy5I1SV8VanQEgCABBAEibUdUbZPBsVB8sSBLvzYQtQOT3w958hShKZ2oAggAQBIC0FzU9BkshOb6/LKsk51i2LMrNhC1ASsnbFIulUmNSwVJCrq6PAQgCQBAA0t4aXnKAB3v1YPmRmtyPzso1VfECcv9Gwt9Tpkr1uti8k3BEpgYgCABBAEg7a3jPlCzLyRuy2v1clummiEtGtIA8mp5jtIOT9COkUQEgCABBAEhbLXSyZpeVlx+GXu/aOtxEnIA8sWGwNkIEUUwcAxAEgCAA5PVUGuyjRa3NljJLJrZU/QTIEI+pYD9BAAgAASAApCst9OeiuN2d3heAMPVJ2gUR5IW+AASAABAA0pUWOit/HPoJIsKVvC99gWibl9r+UQMQBIAgAOSVqJr3D15JLv+OZISj/QBpPwHC0CulWEEWDUAACAABIJ1Nc895eeLxn0gl8vtH9PYHIOoiXTwAQBAAggCQV9fwVvX0CI+zp5b3kt3oXFkm7SNAtBp6hosMU1gIAEEAyGuD6UTz3N2n1q2OFskcllxT7yNA6LGSaKIjAAQBIK93QMhVtiynvH5yfRa9JYRT/lH3DSDHSTJtx2mwjBcBIAgAeXUNL7mFj2tMPbNAi24mLE31CyBSGT3M5OGxYAAEASAIAHkiU3SWqvzMgSXSL/R9fLLG9AUg6kpSSY8y0VdVAAQBIAgAebmFfkYOcucmq89NcNE/Vki0ogREfRfp8e/KYFIvb26elAhz2QAAASAABIB0MFp6coe8+BwQ2glOwG/krwBSHrmLUqksK5qXgnByoV5LCEAACAABIB1soddpk0M5+JwP6toVHWov1SIE5N5d6PevRhfuqjMAAkAACADpXKSDdJlVo/5ij4SP3iRCQJ660paVl4U7XwdAAAgAASCdi6lIJqgUyeen/KV/FLTLLhM9IOQ0MEV5slgRbl0ABIAAEADSuRmsaoPM/zdeWGTFVEu0R1AU027044mRvzM5eaXXFCWDgl6wDEAACAABIB3soVcrfOov4aA2VWjE1ARhpiqPUq+btEJfKQBAAAgAASAIAkAQAAJA/mfv3lnlRu8AjO8avEIQyeSChC4IdEEsr4QuTKEL6ILUGBSmEHiY6VOsSZcUawJJkVSGVEmZXVLlU6RKm2K/QL5IqhCNfVJlWR8fnzMjnfM84Mr42P9jzvvTq1czQwQgBCAEIAQgBCAEIAQgBCAEIEQAQgACIEQAQgACIEQAQgBCAEIAQgBCAEIAQgBCAEIEIAQgAEIEIAQgAEIEIAQgBCAEIAQgBCAEIAQgBCBEAEIAAiBEAEIAQgBCAEIAQgBCAEIAQgBCAEIAQgBCBCAEIABCBCAEIAQgBCAEIAQgBCAEIAQgBCAEIAQgRABCAAIgRABCAEIAQgBCAEIAQgBCAEIAQgBCAEIAQgQgBCAAQgQgBCAEIAQgBCAEIAQgBCAEIAQgBCAEIEQAQgACIEQAQgBCAEIAQgBCAEIAQgBCAEIEIAACIABCBCAEIABCBCAEIAQgBCAEIAQgBCAEIAQgRABCAAIgRABCAAIgRABC1wDk7dd/pY327d+++Ep5RnSdlM+f//0P/Bg+zb7+5xmQX775/Xd/po32n2+e/+zHRNfqR1++/Tc/hk+z775589MXn/3iDW24L/kWENF1+vzFZ79+8/a3/6CN9qc/fvHVs58QXadnP3/+u2/5MXya/eVfv/kVh+gcohNxiE48hQUgRABCAEIAQgBCAEIAQgBCAEIAQgQgBCAAQgQgBCAAQgQgBCAEIAQgBCAEIAQgBCAEIEQAQgACIEQAQgACIABCAEIAQgBCAEIAQgBCAEIAQgBCBCAEIABCBCAEIAQgBCAEIAQgBCAEIAQgBCAEIAQgRABCAAIgRABCAEIAQgBCAEIAQgBCAEIAQgBCAEIAQgQgBCAAQgQgBCAEIAQgBCAEIAQgBCAEIAQgBCAEIEQAQgACIEQAQgBCAEIAQgBCAEIAQgBCAHLHFFXTDdsb2moXh9HsJof9TckpmKMyzYp+skxD1+THsci+G9hcBq5vBn61zPr6ZuAxCtOs7if/PLAKIAQgBCDfs4wqimpYyzKalZH78vXrl/vEDUYnioQIl8rllxBR5ATuKdkvv38Iwl3R5L6pyYqySTfeDzz1VRy5+5uB5/PA/5v3PLDjzDcD7wORVt3k2foysAIgBCAEIOcrcFUzvX6BI0j2CwzLOtk3k+fbpvF/mwxFXS7WLT+fuiIrnWRxxHXCtJjs5fJ8MxsSRVY1w++qMpqPy1bDFXHWLgNbtql/z8CaYdq+N3VtFkenw+v9aRRx3VjngRUAIQChJwvIspKaVt7vIvd0Orli106WcesbNbKm216XhfP5D49lMfmmrqrKyrHUjOUfvRPvBo7iYrAM/YVy2++WbvhNHTvu6Xh0w6rx7eW7pQAIAQg9NUAUzVjsqEJ3f3LKhQ7zzl9J97oqFu6rJEqL5qzIage282XfERyS865psO+89KtWU6fh/Oowx3XnrXZgAAEQAAGQh0g1vaFIQydwliUwt+/hKtrwmiIV4yziqsstXVndwP5Q7EJndMqqn+wXn/4VNWvos3Cco3LXT74hAwgBCD1+QFTdb6rYCaIy631DvddrfHuoYzGOYdZ7prYWRORlra/jKHDCXbv8s+7zS2tm/s7h6HwOpCkAQgBCjxgQ1czbOJrHsm58/WH+Bntq02hervQHawVLqmx4/XlnFFad9zADK0beZ2Kexa7z17bzAhAAARAAube1vcnC89Le+OaD3rfXrfx8PytKW0+76sTmUJejE2bdAw+s2V6/C+cxricDQAhA6LEBoujTznHduPeMSzw5pOpWkzmnuezta50xa3kmXLds84vcTZM1e6pFEojaVwGEAIQeESCaV81JEHe2frnTXkUz88UQNx7Myx8xq34RHd2wt/QLPmir6n4h3ERcD00AIQABkHteyc0uTpKwsC7+0jdFNpo42DuFf9lbWcaQJoeo8i9/CCMv+x5nH2S5BiAEILR1QBTVS939WFjq1fgayv1yVX6xwwHF3wUv3dq/2hKuebtkP1amAiAEILRdQBTV7sT+FE9Xvh626/EQLBsC+eEHNoZw2W01Vx7Y6KMkSfNrvzwEQAAEQADkrrfkDa92DlFtr+EQpomPbjqYD7qwy7pfRAenstZw+yjfBYeyv+6rQwAEQAAEQO760G4cBPE6bsafs2rnJIqHe62Eak5pcCwHfS0Dm504jtU1tyEAAiAAAiB3eQLK6kPXyaxVvbLN6MPAqfIHIUS1u9h1dt6q3phKnRbDl32XCiAEILQVQDS/DQPR2tLa0od0dLLJuG9CVKsv3aj2Vzew7FVjEDe2DCAEILQFQFSvEmPcmdIa0/NKOGlzr4TIfi2csrNW+dbqqlWEc9naCoAQgNDaAZH9zAl2ky6tNdUvxHJRfm+P9cpW7QTpYKx2YMXsQle0V3isF0AABEAA5KOemC3GIPXWy8f784o2cuP7MU6xC+f8tVb9wU6K2SyEdAaAEIDQegEx2jHZeZq08pQzIcfY+/STAb11jmmur/7TZRWjCRMxqABCAELrBESdxD6cVGkLqXYdHDP7kwdOwmH9fLy3rhv3sQUgBCC0QkBkK30ZtJq0mfw4GdtPuY9lxYdNDWxmyb42AIQAhFYGiGxWx2OhS1tK9uJEDHcUQLGro1sYmxpYsnf7sb/ci9MBBEAABEBusZrqjZOUlrS19H48Znd528NlYHFI/c0NLOXL/9PFDqkABEAABEA+mOanSdQo0gazssDpP/oDQzQvPUaNtsWBtSI41Rf6hBQAARAAAZAP3Qmy22isTWmbyVM5ph/3SK9stZGz2YElPw3KxlAAhACErg6IPpRu7EnbTe+jsfqID4J9P7Cy3YHlJnIv8q5dAAIgAAIgP3w1XgVRb0hbTvZ3s+huuQlRrGwUGx9YsqvAucAMAAIgAAIgP3RHvRNzZSnSxls2FePtrsn1TjiPYGA1T904BxACELoeIGbmRoMqbT/FrtzbnIrb2SkatEcwsKS17tiqAEIAQlcCxBdJaivSo0hvhFt94GBcycUps+THMbDqh0lqAggBCF0DELULgv6RrKbvTnNS97/s3d1LW3kaB/DcneTiHPYqIS+knCRGTOJJYqpJdPJiTh1fgrFbNcRSd6/3L/AgzCgKMoWZnXZ2Sl9TW8Z2a99sqdNRpII7pWqFyrJQWruw0KuFvZel7S57EteqrYl5Fc3z/V4UL07UX2qez/m9HqeZzTpeJ57IdarkMPS6NC7BVtbFAAAEgAAQAJJh+MoZs+mZSkpqVCeQeVRH54n79GwlNZiNWoRynsUCQAAIAAEgu9Yeky3uVzOVFTZqT2Q6LIoz2QSXrsIazOh9MWf5HhQCQAAIAAEgu92sB0RLiKm8GJwJ566THHKDT4S4ymuw2h/3mTkAggAQZL8AURn8glXPVGLUYXGX1ViszsX7zBXZYCZi4cs1sQNAAAgAASCfj+Y4+pyGyiynjCpiE72fjOpwZgfv0VVogxm3TfAbAAgCQJD9AIRz23mvulLLKcOaHRbXjsXJXMRe3INDDnh0HsFnACAIAEHKD4g6bLRFVUwFR+c3OrdtS9fIDY5wldxgdVi0luO/FIAAEAACQHZE609U6PTH1iiWJihukaHzH+6jE3PpdLFRUSzDEgEAAkAACADZcXfuTFTs9MdWNCGjMbQxSmfw8E49W+kNZk22MgxLAhAAAkAAyLborcIhe25tofM8Vktq2oM1Wy1eHUugxQan4NIAEASAIGUDRG9LhDmGRMw+S1DNGHx8WE2jwVpXvNSCABAAAkAAyFZRtQsBFUMkBgcfNLj4EEelwWpXm0cDQBAAgpQDENZs6wuTKacyl1beLnrVdBqs8bR5tAAEASBI6QFRuY2WCEMpbvEPVi2pFjfGfDoAggAQpNSAcG67JUqqmho8QlsfiSUDW/EKDgMAQQAIUlpAuIjR6KZUSlmDJ95Z35MI0uqDhAWrGYAgAAQpJSBcxGI0kfJD74x3N/2mrj/hpSVIiLebAQgCQJDSAcIFLHZafpgdsh9HlIqW7r5GWoIEeJsZgCAABICUChBVQDTS8+PLI0plSpBEo45U20snCAABIAAEgLBR0UbMD1+8v6laoUwL0i/Q6oPI3c0SnXYGQAAIAAEgbtFmZin5oXfIftTIeMhRKhtOxRo1xAQpzfHuAASAABDygJjtFhMlPxidJz3/8X9AFMq6/lhQTUqQYLwke9IBCAABINQB0Vv7IqT80PjjnSk/FIqNHoiitumkEKYliD/mVwMQBIAAkCJjcAphFaXiqfYKrcdrNv1I90Fqj7fyEY7Um+CIl6DTBUAACAChDYimUWikdfMdTjR3VG/zIy1Ie7NopvQuMFqfEOUACAJAAEgxd6Jhi4fWEqSosbn+WK1iR2RNOlp9xBYS2IxuFoAgAASAFLEeh3eQWoDEuu2f+5ESpKYj5jNQeicYvXjCDEAQAAJACo3KLdr1pKqm2dfWVbVj/GpTkGNdvS5aW9KjvM0AQBAAAkAKvB032URSGwgZgzPe35IesvpckLoeaoeahIo9mheAABAAQhcQnbWP1gNAtH5h2wLenYAolS3dhB5PmO6AemMuNQBBAAgAKWQCxJ8IktoAog7zOxfw7hTkyJetNlo7KtWeRACAIAAEgBRw/xlM0FrAq3LbezuOZvAjtSO9ur3Voae1J99hcQMQBIAAkLxj4m2kFmAxBkf8iypFBj/Sg1jHvoh5SZnKmHmrDoAgAASA5DsfYOVJPYGQUTcK3S1HlBkBkQWpbekWaO1I54K9fg6AIAAEgORXTv0CrQkQLiA2t1dn8SM9inW81U5qPyGjdfQFVAAEASAAJJ/5gHDCQ2vFUWoH4dGsfqQn0uvbHLT2ExrshR/iAkAACAAhCYjeZqdVJ7WeWE/dHn6kBDnWQ+xodyaQcGkACAJAAEju5dQlRqit4D3ZpNjLD1mQ2pZOo5vU6cScv+DtLwAEgAAQgoDI5bSR1ABW6gis9pq9/UgRc7yZ2KFYGqtY4LwPAAEgAIQeIKzZbqN1BJbOGdv1CKzdBrGqu2K09scwkb4CT9QEIAAEgNADROvhA6QqpDqY6GxS5ASIfFVLpyVCahCL9cfDLABBAAgAyWkAq89FagCLiRo/fYZUtkGsI8dbrbTW8mpsvAmAIAAEgOSycNNoJLZS1dGW4wDWhiDVXYKf1iCWKe7jAAgCQADI3h0QrxAiVR1VoURnkzJnQGRBGn5rpHWqIuuPRwAIAkAAyJ61wsTT2kLI6H2xjpqc+UjNgtS099J60C+jtYk6AIIAEACy13i3g6e1AkvdGO+vy8OP1FLeqh5LhNg0UawRgCAABIDsMZ4TaHORqoyM2/i74/l0QDYeDUJtMwhn7TMDEASAAJA9ZtCJnWGi88S6qhT5AaJQHusSiJ1o4uYdagCCABAAkm08xyXQ2gLChfjOpvz8SAvSctJuIrUZROXvCwEQBIAAkGz3mRYftRn03vqjinyjVFbX9/ppzaMbRKsBgCAABIBkm0E3kaqK6mAi+1OkMh6q2NBtidI68D6YCKoAyEHKaPL1EABBDg4gUd5P6xBFszX3PeifzKN3NLtodUF0VpuBICBffb+29ugA/l7JZ2/ezrz9z8TehAy9m/r7vybSX87+uvZmCYAg5QFE47SbSdVEdZA/1aDI34+UIFX9xLogbMgS5A41IOvzy5fzftHYK0l6deA+20MXZ65Lqayd2/vaP0vShQ0DlyVpeA6AIOUBJCLSOmeW1Vtb2wvpgGyc695KrguS5yxINkCGlp5PTf18ufi/8uSzG+nMPVqczn43vnT7H9dW8v7+sw8kafLgfbY/SBuZzAGQp5I08iz95bz81c8ABCkLIBrHCWodkERPXUEdkNTRvVWnhCipA02YsBDmSgXIxKR0ZlBaLn4M/+3I8EZGRi5MPvoqy5Vfj8jlc7YyALkn23F6bv7x2v3cALkAQJByAxKxFPzw0kO6BMvaXGAHJNUFqW1vdhJbiGXPbxYkCyCvv07fP39fNCA/jEjbcuZFlktvyJcO/5LD5+bi+7F9BiQ5Pf06rxf8W5KuPR0YSgWAIAcCEI3HQmsJliqY6G4o0I9UH6ShW6D1hjHeeIArDSATd9IF/37RgDwdlkvpg9u3J2+NDMrfcPB+5ksXbw0OT+bysZFv7qf3FZCF25I0k9crnkjSh9Fc50sACFJ+QNgI76K1uVrugHQcLRgQhbK2o9lBbBbEbtSVBJCzbyTpzgVJ+m82QM6PXh2bXUiezTYsNfDtoDT8cuPLm1dS4zrvMtbRgR//uXh+YE+yRr+VpFvv9xWQdzIgH/J5wXm5pT8NDAEQ5MAAovVY3KSqIRcUuhtqC/YjtRDr9zyxWRCvEFKVAJChJbkA3rgrSdczj+Cfm52fW5scOT3zzc1LZzP/ka/IJXFpw4eBpTNyb+Re5kL68Z+suXxDkq7sPyB/ymvgTn7/pnK9GIAg5QeEdYtOYh0QX2F7QLZS2xGj1QVhdaJNWwJAxmU7Xv0yJVfBZMYyfu/ux5mNK3M/ZKz7cq/j+ugmEE8k6cnNYj82hwGQv0jSmfsABDk4gKi9FlqnYLGhRHdLbTF+KJR13SKxWRC/4GaLB+SxXMf+OPCN3GF4mKHmjc9dl6Q7kytvVyavpYZrJrLMpUx+7FbIl96az/yBSL5b/zhVPTR2cXV++eL4Z9csrD+Xv8ticmFhYXw7IK8vLT+cSJ7/5Pecff9wfnn6aibfzs9OLM+vXto5QX51ennx4fvZzW91Lpl8PylJD8bknzi2y1T60NWJ1fn51Yujmz/k8tjYogzI1GX5BZ8P7w0l5cuXp9fHAQiyf4CwequP1hIsnSdWX12UHwqlokPw0uq2GSweddGAjJ2WpBcLAy9lIzIIc+5vkjS88mh1/ez66s2ZQUm6++PuF968IEm/bgKSlKn563rGz8P485mfXm72K16urXx35bsX9x/vJOR/7J3bT1PpFsB5Ax8k50kyDtFUHY3goMho1BmRM+PReMzMmWNGo5O5/Bn7SwNuUkkDCa1th51ebMGGUqC0YFOgEC5JKeGaQBoSQguEhCcTnjHEqpm19q23TamU6cveK5mx7H63vQPrt9f61lpfQzi2oQMt642BLCQAYo63Lkaa9jaHTCmepLENT5M98iHslo6hahvbXorYdd4FX0LRdwTCnyL2Js+2nh/KtRHrBNNpC2fcGM58WC8HPuhaWnSL69O8v68+FkPrrGkgFtt+m+YDjC6vDOzp7JFPnf2zDQpAFCkUQErvqOR1kG3xw1N4kG2eALn+Y4W8jt86fuXp2bwB0kWIM0BR3T37OvJnNcTZLGyHm55Dw50OyYYLjYSIhUaAOobY/n8PbWCt7HEf/Z1C9K/TnfISH0wOCtZEBYCY9Tr+mncq0XhyUWg5sS6VXzK8ZOC/7/EL5oM1bOGvqUfiaITQ7uQpM55HXFwp6dkJspfWktpvpmwP0cF1nTAlaWkdVQCiSIEAcvJG5UlZacKym0++u5s3QC5ce1onLxPkbNWVY3kCxAaWxyK8ObuaCPFIGyC9xLDBcDve8B8zJuyUS+2hE8G9FbKDJp/ff5vcBt9zmejvlqCbbnvAC2TqTyHTq8Yk7WwXLZAd0PqNE+x3OnHbZgwMKfLau+2xYAJKZvTXIHxv6I1tLoF9scI7rHyo/S1rsT10zLVM4lp9yQBpThtjNYJXLbrXLHKW2IfQmdS+K8X0MbdiLkyfZ7EX65w0DikAUaQwADleXXVTXgbImcof753OEyBFJf/69v55eYG3+HzVF3kCZBve+32g59t7QbFJ/uaCxrO7KD5HDv4fHAFFLxWKZUR3k/BuvwcqNpt2bBMB0gzqdcykdYRsM/bW1HHjk74YIX0v/ZOTky6cGwHSqCGW5sHdwQW0HoRaUvPABWd9MKQdnXsjGRTlhfUEQg5HyDpmmeEA8g6Bt94WdIy61gFHHlT/HfN+N6BUBxNO+kdT+ecHcBj2fFbTez+mQWKyCE299/tX4fLIHHTQpjRnvESz3d1mGjVZ+5F1cQUgihQEICeuqB7KyxVT++SXr/LlBxDk7m/nHsrqYKni2p/q8gPIpIVXhNRfoORC0ohpbE5E3MK/w1vErpVoGLejEQMN2udZe2AhW5yuCBAMAvNyZbiYUEdyB/hMG7koLMzxpnmAgKHhZzcbhkCL2/kOYMVoeM+U0UPI1mDadCFY0Ca/sxLkd8D1BkJWOWKZd+DzMDsj1YZRWFxaeWpmOcxh2GBXSJvHgTh949icpuJsFBabhp7c3qzvjEc5VBkHoIleAYgiBQFIueqGvBIayi89fnAxf4AUXfjv4xp5+bDKHlUeywsgn0CJDbJ6D171pcOwnMTiS9KMNGVbI0SqVKIbrAD1hNPpbETXv92XNc9DBIgL9HWXmVO+qLNTCZIUxkvzLixisXI/RVtEZ9qwE6wibgiK6pbYfUHrYZX/np/CCrex5OAvWMF6auK+SgrjTVn/NMyhY6/i5XpYyGID2yIRxpvSnqbNwi3RNmj9UQGIIoUASGldVZ2stGDxw3N5b6Fzcv1XmW2jF1+pqs4HIAEwQGKc3kOvjBRi3qnJRGrUlbGTkHFzZsuPjSk70HEzlYsLq+0Nq4n3EYk8ELIsZCH2G4hmWjQO2kXs2DOTReI9ogUi3jsMNUsLfTAPhrNG9ssD2YMWbpERL9QcI6mc8kAcGJ/GKABRpAAAKav4QV41OcpuPv7fV0X5A6Sk5O4vz2rldQrw2aqaPADS4UmUxHU7pcOw4mryOu1SmBC9BB1wP9mJYmErYZFWJheAMNht3EjnDBCPqMRX1KSRvSncwBETUGjESSTNx2aMwJ3ONiTN0gAjT9goYWsH+TmVDSBBGGEiyTgC4jhncgVIO3TedigAUeSfB8jxalWNvN6iz1bcf3AE/MCTCX++f1le2+jHK06VHx4gWFO9i9ehy1uEvJH4xfUZiC7NsTSkloIDHvY0MQviG67fjCBCunIACE3V42Z4/5SWyREgCeNivJGoW1k3WBMhI7s2Xt4BkuxTKcOAtcIuyJpIPnQAAXTzQp9gF6xiPBtA5loI8SY9CDdgY+hAgNANRoc2GLTpCOnUKgBR5J8HSGmNzMrKltapfr9+FAApKvr66p+P5LWNfvzOk7pDAwQd/3YhcHYU65BI/OJOG0h6WfZ6DVnIVPfLEdSwvOwuGgjp0eYCECaMIU2G2LAt+pkA8WmIms0v9PXA2u2iAAtez6YBxLiIBHH2d+/yKzd5QX/3iH36YL36bAAZ3sIsyaTwA8Juu2QFCGPyB54vxEZGFi0KQBQpDEBOnqqUlxfm5OXH+WahizbIhWtVtTLLRn92qfSQADFjAO0AhshizKq/R/qADgDIXtolvYbsMJJ76EKyA021gcp0DufgwqIpRyubX0HW6jOrbB0IkB38MOMkadJkTbMEKFO/nT2kxOt20AI906Q7G0D0FvH2WHHhEbZZAUIHV7ctidEVgChSCIA8fForLw8WlwRyNAApuSc3H9aJmh/KDwmQeYy1tbcIAm/ojbN5AKQLN6UTCjvCltg6GCDoFZpsfsNuwGdW2codILr+ZAlkaHOKftvPZoZrBkI0D5CezaQu4a4X2QAypkkFyCARLJJ9AEKPYmCbJvLXSGcnnpmuAESRAgCk9JZKXoFEpXdUv10tOiqAXP294oysYqBLb6tuHw4g7eGMV3C1/vAAoTdhgNGEvgb9bHmZC0DYQNqpAFslZFt7KIBgHZYNxpiQF5khxBj3u1y/h46sdVw8phF6bC+SOvF99gEIGljJLqy3RNg/2gcg0Q14oIuBZdd7k8mq7IEoUhiAnKy4VCazGKxn174pOSqAXLz2TGblTL6szC33JQMgPgvoZs8bQdaw1sfA4QFiWoLhXolqm3GyKe65AIRT3MGAPSmu9vMAgnVK9jJ4IeVV2h0CDhAbv4lufy/RZx+A+O1JWzwUmwhiWc0GEDRRvDbus7FXAYgiBQFI9VOZJYF8ef6PexePDCCn792vkVkQ9OXcCqelAyTUCS/I00GTINqARjIMK1eA4B56Z1TU27OYJu7IESCczIB1MBbNBEjP3EEA0aI76uC/QTYDcN3AhVtFW0HvD0q0QoCsZV62wf1ZXiV+9sKU3dlcWHpCJgL8pO0KQBQpCEBKb6pkFoP1/bmjisFCgMjQh1Wr+v4QAKHRBbOZrOFdFkktnCtAMBn8uXiV8UjbM/sCBPTsFGjZcFqRregY6Nv5gwDC1sTtpnJCyNsePr54FfoMSQR+4RwRiT9guKNErWEKc8s9wWwAAUC38DmPCkAUKRBAyiorZebBuqW6dveIDBAkyDff/XRHXlFsZ1Q3j30+QLSgJi2zya6eBjw1avfQAFlJdkDRWJ3Q4uJH9+kD2gMtEJqag3f8lTSNbsZ8cd+BAMFcEk8uf4Y0Nb6FVa9A4mC2TEhU/4piXS0JDxgmzejE245Bo+dUNoBsiiYKRfuUKCxFCgKQs6rL8lJ/5Tf++PniEQKk6MG/b8kskPfUjS8+GyAMHnwR7kipcdVCiHP2sACJrsOAbQxKg3kQLQLDDD/6uFrCNyYCJLAxyLBuHgbLS/nTNTeq3p12mmaYbACh4A3fsGnkChqaG0LuYNowH8Mmhh2awdAB7vSoITQids1sH5oxjgshYCNw/S0lTJm4Qww2XnNglUUzgxEDvcasAMHbWWefrHlaCeNVpDAAqVXdllchxepTv/7n9JEBpKjk62//f75cVk/wxJVH1Z8NEC134GyKugbFqcnMVu+ecI6kXVp9rc7IRGfz8vp3QPrxyA34YUEYvUst4RsTAdIKqnVyVKtta9WwRximFiSkBvvwYI741Mp2FoDQVDdmgkTcU6OhkHVmBOGVKkvEEJ4LaR2uTVjMGsNWULR+wGXq54Pa0PvpsIUIBRFbwXrSuF3+9ZepS1nFpI6Wodl3y/XAK9InAHIfgGCiiKXL5HC4BmA8BSCKFAAgpZceyUv7ldapfrl6dPwAE+T6n8+qZfUIi2/nVHwzBSA0Hna0nva230yIOlMRhny+9OOjdme7remWwlRqXp6m5W/27u2niewPAHjfhAfIPkFUgkEQI4UCInLzwmURXAILKGYxu/u+f8FMiDAGGmKT1m1LCbYwFDLlUigthrKUgCRQU1tISgiJAbaNSZ9IeLYxlB/5zbTTK1XUzODq+Z4Hw0w7M2fGzvczZ85tOTQYurQDPxm6WEAIpq6ZicbT/n9PDges+F9wj8OfKIHQUd/fTRCXB3rujS7HvLhy+1eP+DscDnnZwRhf6wPDP7LdEKXB09MHZxgciM7LwWT4BOWSoB8fAYTwl3Dwji06Y0+n1gEQSGcASJqwFLHxyIvabt3gFJCrxVVoVYIkZWYVpHwhIMN0TJfZY9q6LjMdMU7GQSy2TWzcFrJhQDpeTEuOpRGzodOAyD2xW3mH/BORYJh6b7KDndB255+B2K8RmM4QMGGL+WR1J/Jt2Eo3OxYWY9WmYZodDVj+SmaKbf/lMIyw08uOODdDFepK61BwjtoX4g1d8JA2vTxKlNBpv9lhrZG/M4Tm2GKKGoERVWJSv3UosJ8RE7kSGkxxPzCFMJMnGpAlAAQSh4BUt5YgVgWS3dJ8lUtABHnNVYh1Rj9fmpP2hYAsuFx747E/UaXJ5R7/2t/38JyVTetdtpmotlQeOd49caJkIQ3kgMB69tcp584Hi/sJGaf7H4H1drkMfRvu1/6ugNsuT/jFktLqMq2Ewnun7cBtOT7eoIx/m0+aR44bLR92nJRpfBcLj9uL7Y+ZKHq1xdT1MjgXCX1In9Hj7LOs62In+MDIJbfhaPaDwWrrDH9GmlymiXj19diKkd75hok+T7XLM+cfs57QuDz/BkZ6VLpdVgcAAok7QJLKEXv9klhd86BWwCEg9L5qH7ciNilIeUbhlwHCTG0er2DR/8k5oD6ViI+vWBvBcSrOx0RomnVM+16nGcawmBkAg1EbwxY1CxGbREyOOBC1hGG9arVSES8/zDKp0h0qoo7i/0Or0XnJ2EPuejVk/L0sqnWq3sgjRGcjJucKlU4Ze00GQic+8NXXGwABQOK90MmvQawKpKT94ZU8Dv1gGvI+bC9EqyHC3fbK5C8CJBzgYsMjwX1AM8nxSU3cWExEW/ORYxOffJdGnPJq7cSnBHH6auJjOyTiHeyj1y1GKiLOaZyNHwAIIoBkCnMR60Zd0FbMZRWI/x3WrbYStCqSMtM/o/d9/Clt+U8+SeREfpC+SQJA0ACkOgOxKpCLpXUc9gJhJwW5X1WKViVIavZnjGbyrQAx4vjeLgACgEDiHZCkyvbbSEW+pIb0x7V53PqRkFfbKETrReC5/M8YwfkbAbImw98pwQ8ABBL/gKSU1SBWh16Z8cd1jgERJNx4kJWJFiAlGQ1J/1FAtuVPJwbg9gdAIPEPyPlcxDpRJ5eLbv3MsR+CBMHDNsSGw2rIOL0W/Vu9wmJmaYICCAACiX9A0rLzU9HqwVDUdv8a54AkFNcjVouellWW8t8EhKeWXZAAEADkRLosLENtJMWq5gTOAcm7V1eGFsQpwtOfPL5VCQQSAALpTABJvp1eiVYHhsycloo87ksgN/9ErBlWcn7ORQAEEgCCNCApJULEhgEsTP/jJvclkIQrjTVoTSp1rqS1MBEAgQSAoAxIaoEQrTE4ku9m/XqFe0AEN34XVaMFSLWoGgCBBIAgDcj5/Gy0+qGnlIuKr/IAyLXiR3cTkbqSmb+d2gwLAAFAAJAfGZCktOxc1BphVd2/xgMgCc1tiPXov5Bx6ojuAAgAAoD8yIAkXxYWoNX69EJuXfMlzgGhBaloK0CM4vRTnz0AEAAEAPmRAUlpaC1H6839xezGCgHnftB7rP0zG7FmWKePhgWAACAAyI8MSOrtjEqkot65y0IeGmExgNxsqUFsSpD8jDQABBIAgi4gSecrRdVoRb2GmofX8wTcA/LT9QcZiI2GVdB0EQCBBIAgDEjand8akAp6SXczeGjFy5RAfv5ddBktQMr/ykwGQCABIMgCklhYloVW1Eu8I7p1gxdArv0qakCrOqmyqToNAIEEgCALSHJlUTpa710Sy5uK+QHk0i0RYuPx3n50pwEAgQSAoAtIWW4OYoO5F9T/cpUXQH4qFt1BC5DC9rJKAAQSAIIsICn5pYgNAZjC9CPkoRmvIOGn4kdliE2LnpVfDoBAAkDQBaQ0B7GO6Kn5Vc2X+AHkl7YitK5lWk1pEW+AEDqjad7L8w1C2K2m7V5k4sFgl9U4AYBA4g6Q9PQi9DqiCxJ4AeR+G2qjwghzSnkDpN+G49MrfN8gSzg+uYZMPDgcwXEPAAKJO0CyWgvQGgEwrbTuHh9+MIDUoTYuZU5rDn+A/I3jozM83yA987RSPmTigXoaxw0ACCTOAEkVZZWh1XfhYnZdBU+ANNfloAVIYk5WOn+AvD0jQN4hBMg7AAQSp4A0ZZSjBUhmdgtfgNxrQQyQc9ntWd8dIEqf6usB0erMgwQAAoAAICwg9e0liAGS08j9hLYBQCpahIgBUtrW/r0Bsonj3c+/FhDSguPOQQAEAAFAWED+Et1BK+ZdFjbW8lMCEVQ0Ci8gBkiT6HsDZIIGZP5rAVk04LheAYAAIAAIwoDw9ApLUNuYjhog9Y+QA2QKAAFAABAogQAgXADSBIAAIAAIAAKAcADIY9QAya2v/yJABhbfL3ZGLGuVXm2gTpog1T6HXb0wGAcQon/BS4arrhVeryKiIluh8Tk2zcr+qB++1mt2bOrI2PtBQZLLNCDSnt7e3mEiEpAFn8MclTUmszq7w6dZ3WWXCZLUOXFcr6Q3Jnvi3GzetU2H+TAipxjpXaSXdjUOhzq4l07vmsPhU+3GvV+JRa8/zwtr9IGDX+ldc5hX+2O+qVXb6bNeHIg4N6Wyk7lWGvumeZVd3//ebtcMEycA6dHQZ6aK2Wf/Ap1/nybyzBa9TCfLYfpaqoiI69oLgAAgAAiUQM66BEKoKMo1EY5nw0sU9ZxZVDieW516iX5jT2rvPwnIJkWtq0Oh00ZRb7WhX/jMM4NesjXr2dZFxNKZdWpWstVntb2Pvh+emKwbOC7XG00mk5WJ9Cwg3rd7U+KdvTF7OCCTM13uY5lkyuDeVgdyrDSZXJM4/spNb2yai73VDpel1OyWeJayjocI0T6jXGpsdXtDIu5b9uvU7xujpsRivWXsZTw/1B5qnsQW5lxTkinLvL9kNDxuorPmnjdHQfjPOn25tnb2noS66nfOUdRKP7Y2b5CJZ/dsvXQeCM0SJZMZjOGrFQCkc1NqkEn0li5d1LGXXLNiid7wbCb0H7SwR62vYuZn9LW0bNLLg28OqB3J1pHJpgJAABAABAA541dYOhzHLYuhxZkRHKcIOtD9K8PZJJc9J2MBGVii/3od3EhJlwL6FoKPyPNDwS2db4L0LEiDK58atVHP2Ho8IplZQEbMKxZ5YJV+n33sJxzu0I7lfa+ZtcRK5MbOmKd3m+FV8KNRT7Bru4qO18vknn8txeRkcC6UA5nt5Ksw4jW9XrPm6g58ZfYNfcWso4GF45dh3A4PpoN5o4LmkR4cl/bMzQbWd5tWCWLfGVjoMK5GAGIhlrbYrT/Yw8Wt/b5gziRLw+zKlzg+bV879q99hmGrUgn7lQ7TMAACgCALSB5frbDSoRXWJwEhj+gn+PCz9xgdi/YJTGFkQuHIlFP2gv7jxfgJQLbpKB8GxECHbxYQNUXH2m69x8lE+8nxQPRXzDMLBreFVkmmi7ofNiINOGQBmVxn+Hrlj9rvNgOP3yoDEyaHZj9ImNVDzOM/4Yvc2BVTszLJRG3x0c4kQ9ERS5mKzta4FQ8BojXSgb9DTBnE9LdGpdp4gEy9ZQL2SAezzY56zRnKmixUBnNs0Jt3T3mOaH9x8ZuAIKQLx8fGmP0HcDkgbHSeno52ROaWAeT4gLlmgQNMBYeKIaT0l+VDFovsKaNPbwiQ/7N3bj9tXHkczxt9SbRPidpEqZK2rFoiyPaWsJtN03Q31W7UVrvbrJqnPu9fMCMr5lgGWbEExHY8MhjbYPkCGBtiYWwsjCUDMjaWsBASwlwUiSdLecZCeBvt73fm4nuwaaxsOh4lxExmzpw5iO9nftexuIU1e8z0buLEUnRdtYEWQFoAaWvVgbzmOpDLsqsDaQwgyiegQZtcUUh6SkMY6zZr3x8fPjaY83v4cG88ESApHiC2XVTmhDFmcC6AKvaZ6d48fDzIhzQhczblKfW1OH0+gJZqxz8+Pu7nhBiIAo53RJ2BLXy+3udVPaFlLWvJ4UOD2XcEe6kh0xv1ucGA0K7AyT4zU1JPCJef3Fwy53LmJ4iSrQJAXipY+24w7hjMMCROjRxjOGSOgPYvRqoBZAjO96468wuo8I5tsEOyzqVBhMKmYB2FwdZgZwKHMUNgDeTeY5MAoh1i1WtLw1EH0uzxIpAgMZw+gGMU+QJA1Gp2bC5v9s+haXMkQCwLV9O6YWbHPlgF9YIEkCG4442elUHvCuMEvM8nQpqwcdw7YG4BpAWQNlqJLjeAtP+jWQC5J7tCwvaHVxrLwloCEfKK/qdV0MppUEW9a29JCIuH50HtsvUCJAnSv8t7xLhZ0MmFDMM3YdSmhbB3yFSsz/iHz8IihEhZWLA9wbAFWUWC8AGPw5nHZiGenwAJHRKmHKJZWATPJiUAWfW6NYK+b4EwDxQAomOfZzkTZxshjA2o8ZK3I7gAHHWgqQIQ2PpjMPaIG20gIAWG4bkIrNuA4Ptzw94e3s+ndMFnNxEBArfm6xVWkVWx6i2Mu/Q6wF7ZKQAEBkpzGG0PwscpHmJkA9aMhwzJwU/lWU4ECMz/KMCZMtaMKQL2SFRYV4OpBZAWQNrk2QuraQCRXy+s9isN9cIiTAwejlVi2uwC6FMSlZtT4leCCo+aNVsnQDC6sLGEw8KJYRh5DHfrwSzx5iQDgZQSpDiNl4gAcSt5uqzhxak0EiVHT0RMoKPNzJ9clMZb2tDElDHRfXg8iLG6ABBWPVvksVucFTiWgQurV6oC5Bf+AjEPfjNtpSdQq4Nnz2EKBD4kTMH8DJSfkwCiSNPBmVkMyOjc/DF+YNVUEUC0h8L0+yXn1iOYTI8wMwbWXbUgAQRww5/b+wIMFnPVdW0BRLYAOX9Fht14m9dMUXbdeL/paMwCYdCL84hPlw2B5G+EyhR+GAyJHq4+gGBIfq5kZIx4jIAu9tUu7aisA0HDhdCLr0zBgGXJrYSJwxN8lEhOtxPqQAgDx6hiBYDsiHdIwFo4ku7WDKMOVgPInpU/ATvNs96wcDZIPOunH7PwKSgNg8yzSgBZEewig4cujXAUGFZ2vQQQ+5K4P4d4oMEMMI0s0n3rwa6bkQAy9EQ4PAP80yYbUZ8WQGQAkMuXP5PXa1jfu/btvTPNaud+84Ks1vJCR0d7QwAhTAI09Yh33SThMdlV3lgKNXd3tC6AEJBSdVCQN1B/eNBeATsAXS3sWoyQegEyJilqso9ll8srLpigXbRL6iskXNaJRhbezFhGHN2M+VDSdA0g6y8yVWIgcfEQdDFFxHVzA2/cODVusIgBhNkEtU+IAOkTc6M4DNyI3GKewqjmQhaWBDRmALgxjrc1VLw7MyDkjFGAOERjA5ebnQ4T0gJICyAFgLR/0iUv0Xu3q2kvlPr7A5mt5aXLN7satECs+4KhwJjwobrwREuUIzarRpPX1g0QJey2RMI5fgtHJmh8HowYDGN7/eFMnQApVKIHJkFIC9WEJKOHKdnQHxTnTgYIMWX0cAcjMwpWlZAAkpJMLOSdSyNMN5eHa+1oKgGi3pKSrdC5Jn6TBYoN4iRGwebY8BuEUTSbduEgGkSXKicxiUy6/wMdq05LACmqRN9l2UU3H0vSLUszMwN9jg4FgKhcEquO0Z5aj9ZY1xZA5AmQrnb5vRO9Wa+0/eLf1+UFkA8+7OpuECDU09SjFMR43SDIk9KQdm8+3nc4Uuq6AdK7DPo2oRW3CQUYHvi4TyK0dCI16xxtECDmbThNBEivMTq7sLbjcHhUdQHE5hzfmps+cDgAgUUAKRSMLLCs7rk0XYuahmpqAgSMtWKA+ED6N3FqGEVSW6RhxsAy6SkHCGHmiwGyDwBJVgNID8wU3WhxuMMpaUgt2COegAiQfsl4JCt0XdfjTlsLIC2A8Nu57mufXJKV6J27/vXfPm6CBfLOGQDIH+X1euA/POy+3RhACLMET94DqOwJlZTRS3Jxh6pQY1EnQPQlVR10e4TpRYzS7aGVE32uADktQEyBzfWigU8ESGa1f6BweFWAzFRMd8b6KgukFCBTAkBynophgpUWSAVAqlogCHMXRtMV5UOmDOUAgXXlIs/oumpdS6QFkBZAqJze+ezyRXllDnV//cXvmwGQ35251XlbXvGku5237zZqgSixsC4PKj8I0p3ko9dGWriwsZ2an1+v3wLRH8EB8zOFbX83xAfDGefcOn1a9mRPC5Ak6rR98qV3fr4eC8QUx+uNeda98w5LDYDsw/7t5aLpLieZUwAEAPzcUXzXL0Z/BUB0C1Tp4bZKZpZlKgCC6zo8l6LrOhlsAaQFECqn97s/vCovgNx4cOvzplggH//Q+ZW8MtrufH/3YoMAIcysHcuksXqQPYhRgFgxt3c+ngwYc4ZkjSD682ClCwse6bWrSr20jRaUjjFHZrD4ri99OoAEPFiQHUk7jblwvI4YCPJjon88P3yYs+4rqgMELjW0SYqmS8qTYesBSAzYMBnoLblrckqAuGCFMcl4S8UqXhTNTM+nNZcBhO4yRpZpKrC/BZAWQGA7e/HGT/dlJXpn7/x06y9NAcjnP3bePyurtbzxn6sXGgaIEbR5TEkCrJjGSptM7Rzz/5/rqwQIgU9Ds5VB9B6WXRwvH176RxPFvlDT5DQA4XowUiOEuMenTgSIHi41JPbRmq4BkGCpHBdNtxGA2KYBVc7KKZwGIGATWXCFo2pWt19lZv7yGVNS+bexYr9VB9ICCMrpu3c678pK9NrufvPDR00ByEc/d8rLmGvr/v4k92e194GgD8tvAoneSFNF4uBBeGKcL9pjjqsBJMuyOmkcQ0oACM3Xna2VEgV/nYtSzXopQFwnASQGajxpFGQ0WwqQam8kTGv5fFfyKoAEWKkivNak6wAILQ9JvhaAmCbgZ4A3fzzEss+qzMdfBXlYvYgdtXItgLzObXVmfif6FgKk7cKfr3wlL9W72vHjp00ByKffXflAXkvZ9fBSwwAhTBD0Z4YbYNk9/tUTGSCCxyk8jVcFCLYxFIWMwxYffDNF3L1vranGjHJPTCcq2pIsq1g7CSDDMLsdoaCvGCD4TnSLvroHa1O0J2oBRF/SEfG0AGEQm/360wPEni7iA/uUngLTf56oCyA0HQssl4H8mwYI2dLax6bDvw1+pLFBsir8FgLk/P1/3pCX3+Vi+7++bApAvvxWZvkI526e+A74agCxYXMpJ0ilUIidAbXbSBThoRwgTAg73PKlcGRVLQEkdgSD1H5sIzhwhQViLGmlWwMgZg8tAud1f7eQhaXcEQu/Szf3Iu13zk92oEYQHT1GCtevBogTls9uPD1AWK3oAEtJ3rw1MPF26gQIQzgHgMfwxgGCXYs30r8NgLhpEqLvLQTIuasd1+VWiv7dn95vBkD++uCavEpqLnScWHlfxYVFmGVM+oGHWOG1GejC0g3y0jRbLY2XsaFWzGUYwncAlNq5+1BCErQxInzhVvMcdTNF+FaJxCz15CjOAsMkomM43kRe7cKiEADcvShK42Ww8TwOX1aPjS4sS0YK8dQASFjHslNxoRUj4QK+0dMAhHY18RjFu1auOEljAGEtftpMEl2JG7wnasSOLDEx/JimwxVrJUCsXrewrjlsd/zGg+jkvw0AhOhttlHu/0aXR2A2JfWYs/SFNNm3ECBnL7Zfk1fxApaiv//aTZB3zrxz74HM6gjfu3L9fOMAYZgo/8YKh/jLjUH0qS3NqM25RxvQVgDERJsM7viOV70su6gVAEIYDRoEOpc/bLPGkr9YWIeVNzE87pDNZgtOwADx8kQn7N/BrifNQUeM1A6iY6BBG7WOWpNPWYVOBAj5H3vn9tM2lsfxfSN96DwWTakY0TJUU0ov0+111U6n3dl2Ouq0u+2MptLs7sP+EbYiwJGpEJESCGlRLs1VToZcaBJEACMSJEhEuEigCgmRhAgpT5F4boVKO1qfY8c+dkIJVUqo7PMCie3jcyzl9/E5v9/398PaGdupHrFs60ZFvTqBX3nJ6nR2z7pwzQ4AIYhOdhpv7HZ7dDLAE3RPAGEQBfQvZO9yt8M+kcoG8YRpTwDZMODq8LJlBPaywGUBm4Xij4KVGZmlfQl3pUoBMsEgfwQ81yQzK3N7BdkUDxBA+mmb793wgbHLYa3PP4t+8RJkT1BbPkOA1B09e0VeGQDrr/5y75tPAJCv7v0qMxlIw2+7TrgsQKANR2x7F9gkws16UAApkivjA4GbVVxzTc4WN6YIbCbC6g/j7J8MkEgboSrO7YPZzbOlNy8Ue5rbESAE9hrkAsGDfsZsm/MRYQUyXhzI0oCISi9h/UKbnuFLsIfcYQXCmDEzW7OQLTkY8XzMCoS5mZ4V/sXZOooLewNIYYiXDZLrL4oTyLCFD0l2gFyUrggg3fAZm+Fz1SQqsT4HCCBvcU4zeSBaF6wWJnoDGQ34/V6M+AwBUn9OblL0m00X//oJAHLywa/X5SUD+enMrUMfARACGwUG1D/Of+7Ou6AtNPgSjhHGIrIAYUARTHFnjOc50xuIYX1F/wRBYE6dlixaQ1/gJbDq/Tob95XmFYMi6W+SIHLsAkhtJcAPBMd9/ELg7TMuFxaBLbNKRFytXUkzTPvDxA0k5mfNb04ypV4/e1MyMO+I4xq2yzc2UdQs8LbrzVz1XLVLv9IlHdsgTKZYDiApF6uzh7OeSNj4Wdsi23CKDmaUr3iAAGUmn9QrYcDNHNGYXua6EsWnreMTJWJYMuDmwKIO6lltIraMRqx1eYXnGnLUPp37ngACEg+zKV8OhFkmJUWRwatM5TnGDhZAjlxuPS+v2KGfGh9XP45Xpfr7I7nJQG40nz/8EQDBsIkQRef5BQjYWB/LDEUCW7kYhs3TQ2OsoZyj6ay1eIajPTcUWKM7GeoM00PtTv6HN6zL0WuBtSWqJ9nPlQZZfk89CwSWqOxMmbIVoFoGtRhZG4IF/kwpmt7k/ezOTpqGaw2Apvb8YiCyGGLexWdpmsvdwXwfDdHvIkvhZXEaegJ7vklvBSK014gNJKgcKyHpX6CoWfG9raNhijlviQ6NGEt1IBaKTvDRUG8yNCUsjrI0vWziuym8zwytBf5czOteckuhgRGaHuVzG89SdJjvfCxPhdn88o4Qtc7MtpB7xgwhPCYawPRkgloKRLboxCpX/YTBNp1JCWOf0zFDB891u6JyIApAKgbIwVt6VA6QL643ficvu3fi1CcIw1Kpvr3fKq8o3kMXWhs+CiCwhhQm1PSD/zgsHqPoDGDe+TdkeIbHmmb/JUSKQazr+Yx1mv8IpSVvop5povwPE4rhLM87ONoIN0G6ZW/Y7fF0S7oA36dfW6ZLNOSgbOB4FFQxJPguCbRzYbgmY9Qy3rGD2RhARyM8JLYr0ayd1uhzu2jWosdiKvNB+M8Y9UyIBsD+Nx61GLv4jwQ6HLYDcJ2pUoOnAKRigGCfL0AOH2+9JrOt+yv//Ef1AdL2tzsyC8I6cur0rt6z8isQQmo9Cd7WEeLjUgtHlF5MSPpADpY3cyKLWHo+sfOQMIkNL98rgY62dAutZLg7PBeCkA72g7P+wNklA/rwcyl3YSXPVQGILAFSd6zlgvzCsD7BCuTHn6/K6zkeu737hMsDRGmyaPsKEMdUchjKKwfmRxO5bK/HVDzyIrq9PQjLA1u2mTaDFGEhuse8oUxCN2sVm835ZAqeNbWZCXduF98Z7MMjulxCF3srHYrJ0/c+nMmOJstIhAjriC4U7mmf41xSHdbtmWUQjxCwgtFsc2qj6alCSnJ1/9TkZjgT8o5IRD/2qeQ8XCamp7yJ3EKvhagtQI6ebpHZm/O1J/e+qb4T/cHdGzJL5t60e9SZAhAFIPsCkPSkxq2ZZYx0IeAm1QYNGaeKVUu8vmAwDgMONoJM21jku7Cuu8DJatLsWkKywwyMadykrh+z03GNQa15yrqB0u1at5lkTna78qL4647kWtCsAfd027JSfeXU1oaZVKs15rh+FXrJC9p4MMhGUYDRBF+xIRBhs9tMoRdOZ7VuEvZqdr1DBSL9OtKtiQ1gRMzvBj2T8fX+mgKk/lyjzPLx3mx68HXVAXLy32dkFoR1s2nXICwFIApA9gcg/UDv2ZnuDwulTfRcui5aUuvEVexhtBgRB+OThbSbA32gVku/0c8dhvnWPH7kZB+S92WcQg7g2kGR/c2TwiG1HqxzVqSlV+C6YxqEjeuRK/viaK8kJaQecyRg4RtHRjiBD2isCUDqbjyRVzrFQ7f+9ehSW5UB0nbp/m25ZcKqIPWXAhAFIPsCECcESLcfNc1BVmeTkVhsG3eJpMCXIWdCAZIYXyseAQBJ29BzyUl+FEa/uBvzoLCjZH8mubMTw1alADGVA0hWetafVjFApl+hR33WWgLkepO8BHCHT7Tc/6GtykuQtod3ZKanOdLSeEwBiNIOEEA29bAwWS7kd8PXc1aDU9D7fC5WBAmajdPrJSAJIt4py8tOUDMM13SKAJJnutC4g27SHGO+WweI8a9GJzzJcFwjFARwQFFskGqPev7I2sTG3ERBMLn92dEM1P+QSQybWXL5WDGmDYxmIwFHIwFIgtP4UCur3i1WATVkRABi0GnhTMMJPzxqyNcSIMcbz9bLyvTVX7jzsLpadJWq7eLds/JS9Dc07h6EpQBEAcg+AgSYUj0w99jbJUAQN/BVsJnCcL78DPdNDJaQLDJjE3wKvEUAYlYzXBi1Y/3JToYI22ok907aqy86JQYWwD0D3I6WccgAN9K4g5Mk3H1iPRSefBAnx7gANnBgER2NGCAxEu31dQDSsLMDWYGAHTE/HIRlDRx1eWoIkC9PN8pMi37tP1WuKaVSnXz8y015+dArWrgqAFEAsp8A0dB2mGISc4JqYgY+lWZJGG83yHlpTvKhyiBDpaETAQjYcZrjbXwfs0TZiJbGl4NsAfjW62JwtCMPsGVlD4KUzrghxB4DWn//U87Ml4bxigAyAbanDPR4cXBOyCXXtgggJOVkZ2oHayB1toYAqbv2RF5e9C++a/792yoD5NJ/n8hM0H/tTAUTVgCiAGQ/ARIeKNp3+Bb/Kr0TQFbB1k9YUPuYgBmOWFCAbKQEwUuCMeG+F+jdBQd9cEyQew6ClYyOdab0gn2xCKKFnR4jKgLIJDd0XnJkh+6Y3g4EIIYEL1CCmXwDHTUEyPVmmTlBGloe/fCXKhJEBVwgrfIqBlJ/upIJKwBRALKPAFkXcp8NaNHSJ1KApIF7wm1E9JigEI17EAGIYRXRVwCAbJRuE8HEnVQHYupBv3qYXcaeZzO0l5FlfhggTpAnGe9DRbQxmH1xAgFImOcLlgYOHr21hgBpaJVZRvf6s3d+PFlVgHx17/tz8nKBnLh9oV4BiNIOEkDMFmSFAEy5b2oHgMz4oY8dsdGvcT53JQuQDJowchXk6M+WpDsEWfDJFVSZ3wO+gauBGbCmeVpWovFhgAwD9KF1LwnsuRZm/xQAgrIPFAbDtcs1BMiRK7dlFkB040lVnSAq1dePf74ur4Qw18/cqFMAorSDBBDfBGLLgXvbVdgBIGNBaXp36GZfEQBCptCULR5g8t090pqzIELYJaojCEu+QBV7AVwSMhF7Bsgst7uGAMQBCpnhKYIHiNaBXAwO2lI1BEjd5eZbssqnePh84+/fgoVD9RJh3W+Wlx/pyNXm8wpAlHawADKOHPey7onyAOmF9UHmh4UGvRebaR4gcXG+ZSga0QRWxAgB3m7XyLLQy1wWOCTmiqsTfNK09xXIezRijG0dK0JZTAgQG5r2BKx6fIO1BMjxJpmVtW1oAWVtVVXbwVI9/P60vBZxR09VlABHAYgCkBoBBKwFgrEdAOKFupAg0qDyO2znAeKeF7nMHU85aUbIg3AFrGMMcbQbKMsY4xkVI/YOkFCZ6rYjQiBvKUDAZHyFWgLky8ZT9bIyf/Xn/ldFJYhKdfLi3cvyciMx7xyHFIAo7TMFSA9eti38n71z+2liWwP4eSs8yCNGNBiUzY4bD+iWvUUU5ahH99Zs4wWNnpxz/o2ZNMVpxoa0ScumQNMLvYbeoKWFgFBTSgI0QGuCaUiIhRISn0h8pjG7enLWWtNpZ3pBSguUzKwQ0s7MWrMgM99vfd/6LoO5AQKLYrqTgSbioXQeE0vuYWBX9Vv4abxwgKg2YcdJdg+UDFIaLVeAVF2q51YajqpbT2/c/VtFCbdAmri1BVLZUXdLwAOEb8cTIMRGTsEvnKGqyWQDBBxXiVz0ddIkFpS5AWJWwQqDyBJlLRwgJhj0jsfZPZbwlIGtHAEiePjyFqcAcuJc47NfS7UJAka5/qT1NKd2kaqv7C34lAcID5Cy1UCkM+w2NUBte+QCCJKmooiYymA4NpjWQMwi9ij2bWRp6rKl970LAkgU5e5aZvcI4qkQ97IEyJlartUEKaENq6LiwoPfOObEe+anvXl+8wDhAVK2eyD27DF3AQg6N+vb6kVhfNQxmCVenyeLiB/lYdzHJjqK8wiyOqj/3G0TvQwAUn2pnmPZTDrqSmbDghasem5ZsE7c3psFiwcID5AyBAhBJVW35Rk5nwaC9JPQCgwedC2hr3Bn3ezIPQpKu2vbB0DC2V5YSjk8NkqULUAEt5u4ZcMSXK79z88lA8j1Jw3nuWXBunTnNA8Qvh1bDQSlUlwvFCAIIQYo65PpeFHqq8XcF05BVSWmKhQgBNYDCRVjdZiDUZFCysJWngA5c6eBW0vomov/fXy2RAC58ODRFY5ZsJ62VvMA4duxAch0hsaRgGHiMlPBAIECfh5PwUfEMGdlXvYBRo+7pnPeAALkaz4NxAGzwpNzzNMfYIf+uTIGSFVzE7dSOVVffXWjpUROWD90vuzgFn7bH90UHAhACKOS4CUvD5BSA8SEnHTTj5YJlSlc3AdAwI2hakEV4NBCZUGSyHnZtC8d257sOEfrIyh5vCoPQPpQ6kQ/04KFrFqrVCaV8gRI5e2X1zjmh1ULEyqWwoB19vqTxnOcsmBVtj49fRAAWfKHN73yWVbKoUF/+PPS/t8A1XZ4w951pHK0a9xmcwzyADlCgBBRKLKHGKv6VTIzIciuAIkyljV9sNKUnHLYWskAE7OhQBDGlFRr7lBSO4ER7BFtHoBgYYglWToShJiFs3cmC7GXJ0AEpxprOeaHdeX5g7MlAUjLjUeXTnLLgtXULCg9QEw2iRhlHWUFUQ0E8hur99CMMRwfNh2pHDV4cdwd5wFylBpIFJqsnONpA9NfqBKtm/GoEdP25XwA0blt3akv4VSOFAIbhaNYbAxxrl5eG0zasCKsp1m3aUnpIxAXGlFugBDYsgwVOk/N1o4qHcoHsTLeRBdUtb1q59Y2entdZ2m20X9+VsexRIptTe0HABA5VbsTD7AUDitYffmKkN5DOC7ZM0CI7W8b4cUSv4TdYApjubJtq0I9fthWJ0YTBh4gBwkQFQqu+DJPYEY79USuoSBA2VryH28IevXCz/kAsq0hJW93qBWJDT6mkThzXKEvRKkoap1oZSsVPSgVUrewdmHGxGd9b7poLnKqkmwTWHT7dbYGgsnJ9NyMISl6L77QT1CZAkRw+lUztwByvuGPeyWIBKm48Ps/GjiWzLj2aXXpARKXwQ3JmWB4iGVT1lrStUQPHCBBmVgstsRLD5CPAzlOOGQkahpLwBWR9xE8QA4MIAQqHdhLyiIWsRMt87EYigkUa2RD4QXfiIYEXxdU+QACHkKhZWTdJo85IRU0dlqT6ZZRA2uGN6Wb7yUk1KE/JCs9zY1RVRJJs8RCwm4kPZ05hBaxU+EicWUmQAhM1U8FxrtGfCNUT1y2RCcHLleAnGzmWD7Zqrbnv/xYAhXkx84Xbdyy/t1quiooPUBsYNm1ganV0TfqogCi+mv+3T4BYhpC0mC0xCasPACJsvJpCM1aggfIQQEEM/pS/+ktSkpjm72ZOUjyaiBWM+s6WKc2OQliR5GVymSArk+oi7BPpMuge9IHDVkaCIG9+ZIxpGw2lRu4XAFS+fBRG7dUkId3OktR2PbXJ/WXObWFLmh9VHMAAIEpgHIYegoFiNoOXq/Z/QHEThnRVg9HA+kDQoOMKBQKPVpj4goTD5BCAPKFCRAlTE6iZwLEz0znDhgwQgtjeqsBE5nFDCiILbF4MpUJjAEMMABCYGuu9KVC12tmqRCDl2SQSCg2r3Wluk270+eEAX+6m9FNHycplcTHNGER0J4rTI+p+RRP3xDVBpFlAcRx1AARnPmpgVtbwaeuwFCQiiLzYJ39/dFFjgWBvGyuOgCArIA3BSOKBghcPrq29wUQKNFhporNw9FAEmB9+onyOEugVK8OHiCFAOStU2+O0eZG1YTZaY4xxeqsTO9M7WCD52pQqne6LC7nSChZTJzAVKv9TlfAYgm4zDJfz3SqfPm402l2M52kCMy4OgYvDZidMtsbBj9gghOtR2F2WcAwW06Fd5vAGMUCMYcP3cFl/vhamarADk+syZxbYDjJFLo6KgW33GDcD5v7PGymeko8ISawVCLwl3qZlQ5H9Xrne+uRA6Sqo+42tzx52+s7fygaID8/e3m7klP/t6sv9m7r3DtAVGM4bsawowQILAFkd+H4yOFoIA4ymR+PDm+W8wApEM3RlMyH3wYxVhk/zGjC2BXJ47MzSwMs+Y4ZQ9sTE9shLQ0DeiwlxlrMoGPjwYmpRDfGPkN90c1OLdpHl98xhqE/Do4HF2dm37G7wY9zoSmHNVUqXWXoyhw1DgadWZrMGBL8pP/u5BGDCcOIowbIifONzdyy5ddcvH+vaIA8ft7KsVJSd1pPHgBADMN4TlFzeADRjuD4elSP44HD0UAgrxy0zJLjRXkrc1EDYfzO/Jb6zJTZ7Eu/+5H4zp2x7w2zay+C2H3IDEJgu82O2P3GhwUQwclrdy5zShRW3Wy60VIkQFr+3cStKHRBx4sCFNU8AOmKWxPLkzoj/dSrjEadAuaWMBgMytwAeTMAesTVGS+ZQTu/nLBOp4J6lYZuPyCAXQkGMjEBou6bT+gM6t3eFdDRMo59Bb91uSXAIJh1QjvNxFF3H7KamHSJyb6MiRPd4GqrMa8GAsOLe630i2/bJbkfDxC+HVErCCCVD+svcaysXuMf14tTQSru3a/lVi2uU421NUUCpGvp9dCYQjLs3phJhmdpNzxeF5DcGx6PR2TIAZDo8lufIjIyJGJZpuOLnpVhieLjup/eS7V5PIAApBsOJFenAaITxYYVbk/PTt6FGjFvxvENE7bQi5O5NiMI7Yx8aCyiWFn/PJoKK+9eiIXfYaYl6fvISEw+xQw377YvfI1E+sMOdR4NBO64KHZogHizUnjzAOHb8QKIoOZiLbc8eavbnv/SUgRBKipaOrkWhd7RdLWqOIDM+fW0fwnpnUQCdIbhsZiRWggBhOihnSXd86kz6nFfysVleBFlpTCxPDMNKYDMvE8e8iXyEWRwAWhAIQzmQhX7s08re1Y09Lj68E7y6DL4E0Ldcid1XJMOVyb6PCR10Lk68CknQKwyHI/RHSZH8iXe4wHCt+MCkMr2ujZuFWY91/ivfxYFkMf367mVButkQ+2ZE0UBJPEJekT26mVI2A8HoUR3MMT+mDYLIF9gaC5pRo6NH2n3StWqBMWtR5Bg13igP45qizEQ2ZUESOQtkPC9AeSIqcgjpYkQmI5UhWFLQrw3hxvWIuSBJvK/YVhDCPemARKwr4OeGhTXLKSzIhE6NxXbAaZMDn3MCZBQqsYcmDeyYKkJHiB8O8YAgSoIt+wx1dee37i7b4JUVNzt/O0a1xSQm4WsMbIBMg1rKDhF41brrB/GWTkNGIEZRoMTYEFu3g4Gp5ZVWQAhSdxp+zA5ipKduJOGoiAQ6eJPwYQ1MQPtPziq0BAKToEvmm+OYDA4jvxThlB3sXd2MvQtkH+joasfwGUe9NgBnBnLPu/Fe/v/TGgHdJPfwH0DoymACCO9eES0PO+ASo4+mb9IhYK9pEuTH6Rw+gAgWdsq6om00UopAjNb6eMDCfl2vAFy4lYdx4KqzwMVZN+10Sv+DhQQbhG3pqG2oLT/2QCZAIvySAKtvP/P3rn9NLFvcZy3GR4g5wkCGgxYMBu0gGxubrnIFmFrQI+6SUl0nz9jJo04TTFEEpAWaEoLDRBAoSJiuGeDCUoUaIIhJkRuMeGJxGeJEffJ+a25ddoZet3n5MDvtx5IO0ynPxq6PrN+33WxfRgRklfBczbxWVgcx/kllDj4e/uRlQboqfoUJsAJXteO4g/zY16Gt7ug8enIGz7FseEBn4UlXcjFF5ebp0H5tj1B11qwan5T5hEKhJUgd9+sbt878W1JzLO0ffEmTC0L22qTNtDMZ1GYI6byf0VByWe+CbCVHwuhARDQ0LugJMHunN9F7+kePHHehwAEN4BQyUUpeI0FSSz+4/q5CEMQOubnm7gFICVhKSAaAPmKbtTN0G1OGDHdg57NCVn2chovp4pA2PVO4Ti3Ku8fPZCGMsCFrNvC+FDOJ42XE7ewWOOKQJNNmLTwWjMAGZYVbRQWDTtUJ9isdv6K6N16EQI/KQDiWRTeaxAeC11U0HJMQ+KSnc2aAGlCH4Tl8/Dw8Gez2cKat2f+W5mYBCDE/mcAiStPxWw0Um7WvYIIQxD6QmWNAa+sg8TsMPc4VQABufytmAjLCfMUhOmggepAFt5I9VZOCDX4e/U+xAlv06pJcNK829eoA2GXONE5Q7+tCa0vykMEMnFzC73g+TOVRKIEG6LeSKMMEMQd4Veb45KAY+OjLFn06dcCyMGwUu9vnbaePO9DAIIdQKikoky8yuISi+sjDEFoGgUgl/AKQCp04QUgKoA0glq84nXLbV3S+OfAhYSSOG1H8UHPe/Ro0KSoGOcYFyJRz/IRAFmXnfNEv8QrX3MhsKyLWGth2a4nAb9V39DJX2UNZFtaXMMWAgG/BgfrbUGP1qaZhQXIM/LNeE18coDngACE2LEHSFyFoRSvurjcrMgmE9L0hWtVmE0iTDqfFeYOpz9AYLhSs8N7M3/YJ3EgtEp0+5jYYnXfxBrfeq/Tjdy++fURAPFWoj97zrJjjJZEzprbxKuBGjKm+W3i7JvWXpfLimD1qFMGiHwuiCM83GDMkDSyjjmikBB6PrKrL/b396cfbLdCiteoiwCE2HEHCJWUcRs3FaQ+P5JELJpOv1tdiFUAEluiDzfN2x8g7cj5jn/33chZCAMgHIpgzBvowZ9G1qSIJUA6F3KaAgLkQ59mq8RlsyKcgdBgVAsfrsEX76bGdvb2+o4AyJ8sO8zvqrX5BDGaAGlcVUzIs00BQd4TDYTYsQcIVWLIw0sFScus+SX8prw0fea3K5gFIMmZYadY+APE+YhlZxXjOqygojeGARAY1QB1flAwrlAzONBW3oUEkJdqgXyUZS0tg4eCvUJXcqsVCeuz1R5FtWNAgKBQpP+pzxJUAOn9IVe8cByzCWm/2w0EIMSOPUASsuvx6oiVUFh/Mz38DCy64F96vAKQ+FJ9aVyUAHH0qAHSZQ8DIBvI18PN/ZYGQCYiBAg/BmRdNniiyqltfGhBsOgZ+eHxeBaCAWQMAWQicATiAvHHJesk0FhxYJMAhNixBwiVpivCyi9SpzJqbp0JOwA5d/1KBl6bfaduZyRTUQLkK2QqfVVEJMN89UfoAGlh2QXQQFoUE6bhH/0j8sAv/NJ4QwTI3CfVTDn1eJ4pxI/1of3lwc7O9o5gAJlCVPwYMALhIOf3sTcJ4J2FAITYyQBIbKG+FCvHGF+WevdieDo6OrmyJrUMq6LL+Lz68OfF+ANkcY8X0WV79RnylUIHiH1LFKonjD5SNxSC9H2IDCAPoXRwxGvonK42v3OaUMDQ/EoUKUaDAeQpy5r+ChiBcBPolDZvEgBUQj4mW1jETgBAqOTM23il8ibl/fHbOTo8fly9XJudjNOHFJemz4uNGiC9276lfOC8vwQV0We9Yvkw33GEYVZMPoOfFt1SfQgAZCEcgEAfw65lh2zOIe90bNmWTKxxVZriEBQgr1jlmqFE3R8g9rcIhC9kgCxCtcoLIqITOwkAiaswFOM15Ds3634lHZ6Cfq0qJRerQYQJRboIduz8AWKHbKlt2aF3w+7Rq6AA6VuWnr2GigmQDpoQeZ7LJOLeQ4U6LynY0L29eT50gMCmGDuk9N1wrR2/Vaxa4KKhRiBNUBooySi2aaO6kNCG/lq3NxJ7akGXnGMIQIidAIBQicWGG1jdXMcXhjtZKv2+vhCvrmGldWVU9ABhlptZtn9S8tcT0ESQCQoQtlXytWuIDkKz9V2Wtcgj/Kweb/8S8P9toQMEelX1zSnbiLRLkFJYixF2nAQb7A8GEAbFHGZRoeFWzBqtTDYVXSEZju+X9URstfVmY95FAELsGAMk7mxqJl46elpm1a1wMnnPXK/NxEtBP23ISogeIBxjhw2iPodYs4f8OTspOO+AAGEfCROjINu19QBaUjEzkBW1LXTu7Ybm6bubwoVAnt51hQqQbmiN2ObTANhmUbc2nDbJpIPBU4EBwvGBUp8AtCWjVjPFSUVP+IaPcMrAorhZdnJqCglAMAUIlVCoL8TKPcaVG+4V0CEiBBT0f+oxK9gv0ldQ0QME+dZDGA3V9WV/bmYJmtCyu+J06IC9sNAN/dhh5wRwwvRFbEwFfRXZbxuDruUnkHnbLCkKM+Dgxwa/T+xxIQBkpQshqd2nj6ENhuv6tVycQaswvm3a3Gx6aGKNwSIQzgYr6tv+MLcC3eSb1QCBbOSOqSFkW8KoLLc43Jbv9WJuJwAhdowBQiUV6bDaxKISc2pDHgxCx6Tfq81OwmsDq/YS9XcABMKOZsXYQPNLaR8nAEAsSx3yS8x70guss2bvdSzrsm4Os80FmwkOENcuOu+pr3pt30OEm/DjXhs/joovEun7K+gWFjfpLTrsX32vFtFf+mQNW7q2FkWB3goRkeWAAITYcQYIFINglWNEnc2ouhYTEkFo+kx+LWazf9N0Ee5pqgCCvKRjdkHkgfmRol7bjfyzxr+wc4E1HvZuCS+x9D2WuuKin209JtEBfx44EB0wOt6+JpBlAVADnQxbZYAsI4C8VV79EPQO3wCE4abEYkWfZW/3GIW5tT+c3+Vmiod8M0UJIE+kXljAPbewtq71DWiN1eEHkB0ZHqau582j01K7YMYGWQatiwQgxI41QBIKDaVYJRlRJamwiRViCYi+HKsPJ/68ITfu7wEI+Hnbxt6/3a0j46OPHd4m6bYWj0drWqBryzMwx3DzA+OtI5925r0vgAkc257xkVZ3x+6E4jDH9E55Po2MezbgWMODtbUhuUJv7qVndF65mA8dnln/ASHc8ppn4LVq1cu7a+4R9+jDbsY16xETyRYHPAPT8jmv1tbGHNLa2r+suVvday1Ohpkc/Tblp2q83hkQbGd76t0kIy+fY5y739amGwhAiB1rgFDJ57Ny8Rr2HWJTRWiiWJeHVY5BbHlqYYSKj8YWFu8rFx2Hkwd2xgcHHKcxUglKA4WzDg4HZxjl1CV4ZPv+5tDp8j0MD2cGO/mriXM8ZPfM2FVXYDQmOdlUx+BpY+cbJ6e8Cud/pl0RHzHdjkNno7Ae/zGLnMZHIi/eypyQ2VIEIBgDhEpLKcKrnPBUUdWt4OWENH0uvxqzDKxc3flIFR8tgPhEC77HOO1zfRCg6XeZo9wzpzpP/VsNVqgO+qDO5yd39FsF/su0LbyzCUCI/Z8CJL7QgNd89Pgy3Z3KYG150a9vVRlKsMrASi7SRdxeUxsgxLAwAhCcAUIlZ6eWYbXTn1hYH6wnFh1DV96pLcYqAysxp740gQCEGAEIAUh4ezpZv57FyVPGJmf/nv9zwBCEpi/erT6P1dZebJk+CsWHAIQAhAAEU4BQFYYivKrl0rJqrgXaxKLpn65Xp+A1ReqULisKxYcAhACEAARXgMReqsMsXbVMF2gTi475xy81deVYKUOJeYYKigCEGAEIAUjYlpAdlfc4hu7ykv7y1aMIgg4X4CaAxEc5HIYAhACEAARbgFCnU1KxkkGo00V1+Uf05aVpOv1mNV65zXEVtUUJBCDECEAIQCJzIKmZeHnM3CyoBtFGyNX86pQbOAkgcWmpWdGVvBCAEIAQgOALEIoqqcesKdaNX7WFdDrm3PUrOrwqQM7e1kUZgBKAEIAQgOAMkPjC+hysVOPY8tT7BWdoNT9+ulZlwGuIVFJG1BIYAQgBCAEIzgChEnN0pXjlHV2qv3nRPwSBFop36nKwEtCT8gzlFAEIMQIQApAoLDlbV45X644c/c2LF/wV9Mo7tdlYyUGJOYboh2YRgBCAEIDgDRDqbIauBKtykNPZv19O94lBaLrgfnUGVi0UE4r1OYkUAch/2LuzXjmRKw7gmSRSG0XgNxCLSiqoEAUQixgNi0yDqJFsh0lnQuQW/TJPiTz5/l8gxfV4zbXvRnez/M+TbcnuPtfS+VWd2hAABIA8cS+Ozzd1+lp28pefXe1+c4OJv6mfgbQPowl2TwAQAAJANg7ITk442dToW7a9l68/buZ99uzHf2zsBhO5CifZfQdAAAgA2Togu101bGszr9Txf/7812fv/fj+xSvaSpsSlPuTDBkACAABIABErod8UzuQpJa/FII8uzmA/uOLV0O9pZ1ossPJNDcQABAAAkAAyHivYrCtS6Bq9vef/zLyMR5AD5tt+eHTie5AAyAABIAAECFIFm6riyW35OVrIcjv/vziFd3Y/IPQbgdAEAAEgEwFyE7eh1u7SJD8IuYgYv7B6k2dg7Gn8wOAABAAAkDeNXX2NN/UXiyp8395/cPfDmRTfsgJ59Pd4Q9AAAgAASDvBGm4u63L3Tv/zb9e8nZTfrS9n+wACAKAIKYFZFxY9uxNraQ39L/DpuYfUsXIlIMEAAJAAAgA+SiIn2zoPIQR02FTN7gLMacdIgAQAAJAAMiHAtPyfjtPKukxK7qIbOcIoZKFEy9zARAAAkAAyCdLrKTvNlJQjZSVuux4fCtzEDULg4k32gEQAAJAAMhnmzyHahNzEDMYCn281YOwbRwDUYtDMPVRHwACQAAIAPmssHrH8vn6uzmdR/fazS8ddyiN9ZtpBIdU2wEQBABBnBGQnZ4fp680c/Oj9dmH60usIIzXLohsiXHB9K06AAJAAAgA+aLXEYeRteqCqtXE/2TtXI+HyFz1yo9ie09/vxaAIAAIALlHudlTN1nvuoBkZNxNPl9eZvmKExZgctbuAAgCgCDOD8hOrki/X+vtvIoTseiL3axSRfhqE95Z8elMdwwAEAACQADILZuxchqvs42ldi7P9FsSZsU6E5Zs9xSf6aZlAAJAAAgAuW3TTsndboUHJIyMuO1t3Sqr5PkaE9Ya4p9tnzIAASAABIDcOlKvOV/dO0uSHdHIkb+S8BrbWEY8uOd77h2AABAAAkC+1voYonU9MqVUPsuMr29Vymm6rjaWbHthfMZnXgAIAAEgAOQroZfUr9Y0Gi/u2GxlZNxfUxtLyRivzjmLBCAABIAAkK9OQjoWlmspqJKd33m+RanY+wPqKwg9OHjnfSMMgAAQAAJAvrEDND+463inUGsYze62wXEPubmONlbXH+MzL2IBEAACQADIN+J5NrBKW3xFVcyYeve6qV4rB79efsKSkR352fuPAASAABAA8u0xeX4M7GX3sSS9IbS8b2vK8cLAXvb+M1mtyDE+/5YyAAJAAAgAuWtMznhmSQuupklA3Qc8c6KPCRsLNlNx0hO5xK38AASAABAAclfYEQtafbHVtPRJ9rD9yEnQB5W+0D6WbDU+Ly6yARuAABAAAkDuDLXyabrIPpZsNB5LnYdaoNbiby2zj6W2+SmwL/NZAASAABAAco8wC0YW+O6S2gUsrx4xeZLNgpNyeY278apIcrED9QAEgAAQAHKvUpwE1Ku1hVXTgvvZIw+Xi4SZWy+scWdknMWXe9sEgAAQAAJA7rm23LrD7RcRzjSsgvPYeXTjTdYql7rVghLW9n4YXbLxBkAACAABIPetqHrTh5GzkD6W1vhh8LRnosaEh8hZyNqP0rlHr7uodwAEgAAQAPKADT5xGGZLuGFRbb2j9/TZg2wUQ7iIh0IkJzqwRr3sNwUgAASAAJAHraanR1bOfYer2roHMtH6hRmHp2Luq+mSGYS0vPiCDQABIAAEgDxsUN55x36vK7M1RNK6IGTZVNVU3tm5+Oes+SYsK2Z8CtMr3FkGQAAIAAEgD63QrRfyvTnPiqroreCjnLbN1uVhX5rqLBOWVDsOh+gqV14CEAACQADIwxeo65z6mT2/TpZq1gEj5eTVVG0D6hfJ/O43UYw2ZixNrvPpAASAABAA8piKmkSMR+2sKqqs2aVHvf1ZFvklJ+UsqC1lXl42LuPl1S7cByAABIAAkMc13pOY8GDvqLMZi1ep+EL1ufaIyZJTeszN7Nnc9a4nhfhC+yu+1wJAAAgAASCPLdlOExA/reZww4mWlC73ikQ766dYdUBIVM9hT5b0/od/zS8BQAAIAAEgjx+VG11MqFteeRoiG3XAWdCY6gWgKnwmoLpywlqX+oOXXXv6B0AACAABIE8pZWMbntK8MqSrFVO76CmJE+0y30Cx6pxR94qrIYqZ+ZRF3fUXoAAIAAEgAOSJzRQ9SXlIikS/SjFt3JDmzSWPaYwbZ/0ji7trJCwbVUQHbx6bigEIAAEgAOTpJdVog/AgZgGXHRPL1t4djt4VjqRIWpLSYx91F+4haVVAX7HCnsmRFAACQAAIAJlmZNx4oRiW25p0ieImy6o1fmBfXO2uQ71yTweaJhc6lC/fHJE8hkE3n/uBAQgAASAAZKowM1FSSVyZqiKdtZSqRpK54ZGkVy6m1j6nB5bWpnbWhHeKqjtNdHrVB/N6oASAABAAAkAmjLFDH1K36KzzDMxlRTPsfdAPM9iD9G4e0qY8pF7cmrp6DkRkSdXNOvJPR3LuTcoABAFAAMi1Q+tin9E+yDrH0CZUREw8dDNpYp9SEtQzuh9XtQuPn1ietbahTbk6IamaZVeFSyl3M2eGL1sBEAACQADI9GvMThN79ETyuElMY4L9tbKqi1KaRR4dSJTNbiS+25l14bITz+N9JxKeYFlGzLScdp+6fdjnRWXN8r8ZgAAQAAJAztTMsusi8HzfC+J91Tn6Y4uqpFlJ1RSR6/t+njadOdc3ZnW7Km8SzuOsFrMv5dFYGnZbZ2kuEnajrHW02f4fAxAAAkAAyNlWu1UjGUt/z4iXR0XTOpamKvfrasmKqhlmIgpp4BLGfMFQa2pzf11W1P66TF1C+ZjwvrUtXVXvnfDNNGsfR7nfU5KnWfV4dgEIAoAglg3Iu8KoWXbXxDnhvOdkHJ43beKYlqFrX27WkhVF1Q3LdOyu2o9zDtJzTlxRSW1TX8jL5KMiltM1ReAT3vdEzJrKpvpmwobl2Em1L8Wcg/QiYz8o68Qx1PlnCkAACAABIOdHRBJ10hyLZDzOJ4aBUu57bh5EUZqm8U2kaRQFQT6qQYfh9G4IX3eOpWvLseOT9W8hod02mUjY70XCrCfvE47jDxl/TFj8QETCAlfbmnYlHoAgAAhi0YB8MuDWDPO38XaUe4SzUxiGbw6HYxieKCO+G0RxKaYotmnpqqJI8m7JIUuKoum/TTBikbAvEhYZHw6HN2PCYoLi5gtOGIAAEAACQC5fWGVZkkRxHUP9GONvxZ9L8rLZ+GbC6hf53mS81IQBCAABIAAEgQAgCAACQBAIAIIAIAgAggAgCACCACAIAIIAIAgAgkAAEAQAASAIBABBABAAgkAAEAQAQQAQBABBABAEALkrnt+EtPJK+/z/QgIgCACCACBPCfnfv/4k4ru3v1+3H29/+iK++/WPf3j7nz/JAAQBQBAA5HHxP/bupqeN9ADguG2YMWN7sGzzamziAGEnwC4QCG/hbSGNAjibLNmIJo42trHXXlkrL5DDaM/toZd+gKqt1MOeKvXaU6+953P03nPneYY4gEwwW63JzPz/0rJLXlaZSDw/npeZCSRURVTPuRqQg6zSLDWdH4gDCAEIAcgvmYBkCoopKlYD7gbEbJJh/aPEclEAIQAhAPkFSzsheyRVYiXvAWIbYlQPAIQAhADkuoWzqmkoYhISOdbcD4h6NkUxDJsQfxxACEAIQK6XVk6bpnIUswZRJdvrfkDy1UYJf7ZQD6mGnH5VowBCAEIAcr1xtVq06MgfWx+NdE5zPSDlCz+ay4bkFlCoBCAEIAQg19pCLxXk/nmtLpZ3/HHXA5K7eGo3MNAjd9KzBwBCAEIAcp0t9OOI+PY7F86KUTRd1j0HSDCYKIr1u3QJQAhACECuUSYvNpFj8WglYhqmmgh4EJBaWuAZqQAIAQgByDW20OUZ3mJCC9bEUpZZr3kQkKC8EabYCSAEIAQgrRdOiLEzVA4GA2/tUTTqQUDEQWZTrQIIAQgBSOsTkLLYO1cKcfs4r2H9Z9iDgORVYecxgBCAEIC0voXeUWxMO8JygI10aJ4DRI+JyVdPDkAIQAhAWq5XbqHXS2JQtbfRlfyB5wDJiXO8choGIAQgBCAtTkByaXn0yjbD3kY/KnsNkHhe7v50BAGEAIQApNXiCXkPdsVetTroLLr5JG9zQLSDktwBUR078wIQAAEQALmB9HJd7ptn3u+ox8QImy65GpCOTKNarVSu+I/kIxbzJ0EAIQAhAGm1wNvzrwEJZxULFHFTiIsBqRcaxWL1kCof6B7JZoIAQgBCANJymYLlhVFvbHrYjzUx6hkXA2JceJmU/FjvcPAzwAAEQAAEQG5gC70iF/+zjcFTrxUMMQWpegSQ958YsWMAIQAhALlGYXGG1+ypnFnTEo92/7Ap4solrGavJFSLsU5eKEUAQgDS8hZ6LnR2C93eVU/LY1nHLgakGGlUVFXldB5iqNkTACEAIQBp8Qxv1n74lX5ukFVMw1Dzve4FZKDUqFzOVQb8dfk+KUtSHudOAEIA0lq1umFNQOrloNZIF3ejW9+OH1XcC8jFN55o8Y60Yjr4HnwAARAAAZC2b6F3yNcoHWXPlS/K9Rx/wLWANHmUSaagiMMDIWe+0BdAAARAAKTdnWSVC2eSTneUxbwkVvISIMGafJqi4sybCQEEQAAEQNqclguZl2ZEqlEvARKsFAWmRzkdQAhACECu3EL3q83mH6e3RyiFmqcAObFfatsRBRACEAKQq5IHdo1IrHCxWFG+FuRY8xIgAflSW6UKIAQgBCBXbqFX5Vtc87XwyfnCpYJ9JCnjJUA0+UR305FnBwAEQAAEQNp8hrcg12zeNqHlrWo/4133ECDMQAhACEBanYDIxyYqsWbTjFrMfr552EOAZOQeSHEAQAhACECuqFcu2aj+pgNtVTzU3UznNO8AIl8NzyksAhACkKsnILm02OjoyTXfX4/IKYj/wDOAZOrSzIIjn+ACIAACIADSzgJyC90oNN8zDtvPPY/VvALISV4eaS52RgGEAIQA5KPptYJ9VLf5T2sVuaBTPI66EhBN/5CmadF4h9wAMRWHigkgAAIgANLOFaxKj3wPX+bSI1r2Sd5eNwLSWT5TrjKQPTp9onvEoQ+xBxAAARAAaeMEpDcrBkw1cdldDwH7JG+korkPkGZ33xuGfHrLAYAQgBCAXL2Fbg2ZPeXLfoFWitlTkLj7ATn9XEkPOHXBDkAABEAApH3Fq4Z8gdLlN3rE/eJ7cjOUc+ESVpMUNZR17qFlAAEQAAGQ9q1gWfMLywf1I7ddy/dKiSlI1OWAGIpSDKUL1ZyD338CIAACIADSxjNYCb9VtXb5XXN6ZkD8En+nm94rFa34L5ZIVDs7cqWMo50EEAABEABp40h6ELCKfuyuaz0akLlqF/30ms4VjTr+EgEEQAAEQIgAhAAEQIgAhACEAIQAhACEAIQAhACEAIQIQAhAAIQIQAhAAIQIQAhACEAIQAhACEAIQAhACECIAIQABECIAIQABECIAIQAhACEAIQAhACEAIQAhACECEAIQACECEAIQAhACEAIQAhACEAIQAhACEAIQAhAiACEAARAiACEAIQAhACEAIQAhACEAIQAhACEAIQAhAhACEAAhAhACEAIQAhACEAIQAhACEAIQAhACEAIQIgAhAAEQIgAhACEAIQAhACEAIQAhACEAIQAhACEAIQIQAhAAIQIQAhACEAIQAhACEAIQAhACECIAARAAARAiACEAARAiACEAIQAhACEAIQAhACEAIQAhAhACEAAhAhACEAAhAhAqP2AnJh//ut/yaH96T9qNd5LdDPFs8rP/+TL0Jv95R8/HWu+kkkOzuCvgIhuJn/UVzN/evcHcmr/MiJHPUQ301HR+Pvv+Cr0Zu/+ZiaivrD5jsU85/ZH9ZiFeLqxEsq/+SL0aj+zic4mOhGb6MQpLAAhAhACEAIQAhACEAIQAhACEAIQIgAhAAEQIgAhAAEQIgAhACEAIQAhACEAIQAhACEAIQIQAhAAIQIQAhACEAIQAhACEAIQAhACEAIQAhACECIAIQABECIAIQAhACEAIQAhACEAIQAhACEAIQAhACECEAIQACECEAIQAhACEAIQAhACEAIQAhACEAIQAhAiACEAARAiACEAIQAhACEAIQAhACEAIQAhACEAIQAhAhACEAAhAhACEAIQAhACEAIQma5rWndfX/9gMplKpYbOlUolk4OD/X3d3Zqmu2WUlRfc3cIF6wBCAEIA0jxrEO1PDo3Obq1tLs5ML00M77988eLL3z9+/Pj7x6IvX7y8vT85PjW3vL6xtjcylBQjq5Md0Swnk6nGBY9P7t9++cVX4nq/l1f81Rcvxz5c8OxoyrrgPg1ACEAIQM6MpP3J0ZG9jcVlwcbhk1dfv/rx9XdPV+/f393dET2TH3d2d++vrj797s2Pr75+cng4sTQ9s7K5JcbVbsfNOvqSQ/KC56bGJyb3x7aHJ8eXpuZmlldWFtetNsWH9cWVleW56Snr72R7bGx4ckJSsjZr0dmnAwgBCHkdEF3rS41srM9MTY59++T5629Wf9h59GDh3p2H85/dveXr+vxCXb5bd+fnH965t/Dg2e7qN6/fPD+8PTw+t7ixN9TvkMmI3p0cWVtfnpoQbEwsTc1Yf/jT2ZTWfF7WNziYGhrZ2lwU2gxbv21ienl9a3Tw079gAAEQAAGQX+/b8NGN5alxa87x5un9nWcPFu7M35JqdMl8XT6rrkY+37nPfbc+e3jvN492dldfP/92f2JpZn021f9pz0X6BkfXVqbHrSnH5NLc4ubeqPUHvsaSlNbdn7IgWZlbGh7bnhyfXtwa+rQnXwACIAACIL/KhkdqdnNuYlvYsfto4d7Du2K2cepE17l877vwo/Jf1m+6NX9n4cGOpcjh2PCUNab2f5rfmFsTj42ZiW1r5F9aWROrUP+HQ8kh6/+1NLy9vT2+vDYyqAMIAQh5BRC9f29lafi3/2PvXpoT1bowADNDB1AZQYkWFkKwBAIq8RpFI96iFS8xWtiVNoNUddWZff9/9GmS7uTkmM7FG7Lfd5BZJ60DHvZea6+9+Jm7usg2z1NvxHgh4y9580/i56vVSO/2eq6odi3mt/dyPlMwdGmu205DFiKbVzAYOsxFBLlasERP0gwnwQIQBIAgwQeEi9UMZd6ZVNrZZjK1koD6PBvvWrL6NSfx1Hm21bvrTCWtkOD90q7ECQ3rZm7eWDVZ2HLXGMNyglwvSnPPTfcjYQCCABAkwIBwy8ed2b0eXuXj8Uc7nh//m+b5l6x+xOOn7crkciaWMj7Y22GjNcMbSGo5we3q5AoT5jIlzetKdkMIAxAEgCBBBIThEiV91r3vtZrUyXbceEeSEyqVHQ0vB65VPeRrOcPKZc38xy31hd3/rVjDlrqe6sT8dMISgAAQAAJAtvEs5aMFfXr5v142FXrUg9pdnkrs8Wb713ig2P2DtLuu2pPrmmnepGVuX3+Ty1iSaRargm8OGwIQAAJAAMjG+zh8tF6cXt718qGzELVjPl5K7Gdn5+3h+HK1l7VnQ8KrQo9n6qXEnr/pcD8tDlZ7Wf44aQhAAAgAASAbtlxFq7Y4vu+1kmcbVsu/jsgZlb0ajh8MJyHsr0+JizXSmiSmG/whvu9Y1XYVtZzxQycaAAEgAASAbHT6oV8SF/e5Zz2o/ebRkHj26tf1g1GL7uWtPBzJlHVFtDP84b70SNVwJdU5fCMaAAEgAASAbNB05RQfflTazdUQkr3z8bseEjpLtnp3C20PbVlstG64rlWPHXrZt/ziJdGuHngZAkAACAABIN99EW6k9YdfV/k9b12tX4asentvjHp0ly/lq3ZaVy0keNoHWS79Hv8zLABBAAhyZIAwQq2oXOcumvHQgRYfbxciyfzVchlSlnf1ROUbhnvjp7MYbKxmSK6d4QAIAkCQIwJkyYc2n/TyScoPfPxuy1ouQ4YLN70TQiINVRJL/lh8vGpgyNg3nnUwQgAIAAEgAOTrp9rK4vS2/bz48AEfL4Sct3LXkpXZNiGCo5tqXfDfRKowG3VEU61xAAQBIMgxAMLX3cF9+3xnp8032sg6SeUrHc+ObrOcztX0rl737VBcoTCfqZkwAEEACOJ3QLiq2L1vx/2xc7XGEIqK5yuXXim2rec919dmYo2nfRy+PB8YByinAxAAAkAAyBc2r7iMMZhcpX7fBuVPQkJUa3h5U9hGj+vqA5tKIUL7PEJa8tJRFoAgAATxKSAMlzCmP0ZJ/+rxmpCO6GxatFh+YMtTHN/zsUos7UmlPZ8LASAABIAAkE8fG0zPx72m3yof6whZDVu8uO1otY2abjm5JCllgT6SRC3TdfZKCAABIAAEgHzu1IFcEMe5fOgI/Hg+XHg+ulsYjW/XvtloQXTtBH08CTeM+dJMAIIAEMRXgDBCXetU8tQZdQR8/DGkObp7+OZBu9UHVuxEmD6qcI2iV9zfkEcAAkAACAD51INpcdtOHsXq49VGViie7U3E8jfmm3B9Q1GrPH1sYSKOrthyGIAgAATxCSCxsvLj6jTk8+L52kVIsjVcfPmdnImVXdGJMfQRhpHTkr6nrmMAAkAACAD58OSHtshlU8e1/Hi5ALfZvpVs+UvVj5qmlGSWPtJwmaJn7GXzDYAAEAACQD54G7fNSTtJHZ0eL4fTT3Mdsf75SkjUmmsNjj7iRArSvMADEASAIIcFhO3rl7nTp9bYo8xq3y118dO0P3mHR7jvmmmBPvIk1K4RBSAIAEEOCQifnk1a1JEuP16dLGz2OmL1M6sKwZ5pmTB99GFrpucwAAQBIMihAGETWnfYDFFHzcfTMiTensxLAvPh8kOf2gIdiMj6wNpxHwAAASAABIC8V/3g6954dIS18/UbWaeVTvHvAweZSEESqywdkLAlU9ztVSEABIAAEADyzvNHtqbD/FkQ+Hju6B1N/jqUnZVtxZDpAKWqK+VdLkIACAABIABkffWjdjO+SgVg++plDRLK3y7sd9tz+Zru7qN1aZ8RbK+YYQEIAkCQfQLCCOX5XSsY21evBGn2rt/r0BVKitpng+UHzbD1G3d31xUCEAACQADIuuq58ZDLBomPp2ass1T7TiysqZIzGctNR+nghckU3dKutrEACAABIABkzdlzcfx4a1TAstqQy1bmlsz8p+lVd/196eAGpwptU00wAAQBIMheAOEL8/uLeCh4gDwfCVmob+oCfFnSArd99fI6UFeUKgBBAAiyD0Ai9rRyehKc8vnbu6aS7Z//btYVLC99nJMTP9tPp5oOC0AQAILsHBChOOglqVAg+Xge8t766b6ajRU1vFKEDnQEY1biAAgCQJAdAxLVuj3qJKh8PG9j5e+8Px27Cc0MWvfuml1JY2BFAAgCQJBdAhLOiJ1RQHev/iXI7fNgE7avS07g/aBpLj0zYgAEASDI7gBhG9KPVtD9eNzGauY6q0lRbFUR+wxNQJi6qcoMAEEACLIjQLi6dJcNhYLux6Mgyd7CinJ9UU3QhKQq6Vu+ZgqAABAAAkD+tF85czL8WAlylrpaGI6qyjQxaSxXWywAQQAIsgNAIqXF8JQMPx4NSV51ZmKCJigJUamxAAQBIMjWAYmUF5UmQX5QqdH4HzfBkCSIrEnbHFcPQAAIAAEgT36kF7lzkvyItyczV9p6YdnfiapSnQUgCABBtgpIxJ7mUsHvv3rp5E21r2d2wtnZnCi/HiksmgUGgCAABNkiILw9yCUJ88NMCzRfnhG2BlkKsrW70gEIAAEgAOTJjzgVIsqPwePl5xGbNEEiqlkPAxAEgACQLQHCPflBDB+h5Gj85MfSzvRAI0yQollnAAgCQADIVgDhCrNciiA/qFX9w/p9rRSf7hajRAkS05QGA0AQAAJAtvAYYJ1pJUmMH8ukLiYz+2UwFF8akCdIhgEgCAABIJuvP2rz2yY5foSoeOvnaz9Wa5CZRZQg4cTNVqaaABAAAkAIB4SrKXenFEnnP5Z+vBlMK1gDK0bSEoTuK9oWBAEgAASAkA0I23fv8ySdH6Tyt4P/DFCMFc10hChBapK6+SWMAASAABCiAQkntEmLpPUHlR12tf8WAKJFr8yTBAhTlza/YQqAABAAQjIgTEz9cUGOH8tP2swN9P6ab0JWJYcjSZCwY9ocAEEACAD5/pEAqzMKkXQAPdm7dBvrNv+ZjKs0wkQJYs82HWoCQAAIACEYEC7d6cWJGmAyGnvO+mGCbE0SM0QJwhtmHYAgAASAfPcAyGCYImj/iqIuJoN3i+Vc2SRtLJY47wMQBIAAkG9Flu6bJPkRyt51i++360aMWYmoQjotm3oEgCAABIB8pwCijvNnxBw/D4VC57lLPfO356mu1IgqpNM1L80CEASAAJCvF0Csywui/EiOOu7fZ0AlRMLKIGx5tslsdwACQAAIoYCwzjRHnRDUwBu/mHgfdOqyzsyIEjbbfZOpWAAEgAAQMgFhG8ptkyg/srezj+aVMBFrViLrRHriRv0+mQAEgAAQMgGR9UmepAm81Gllqn18e21U8xzSyiDfP5EOQADI/9k7t58mti6A983yADlPJQiRVApEwAIiAiKgoKKHiBxUgsajz+cv6E4DTDPwGUwAS6WhXAptaLkIqA0gEJBEMYiQYEgTIxdjwhOJzxojevKtmV64tFOmFAsne62nMrNm9gyZWb+9bnsQIFQCJDyt8DJNHeiS+KuFijwRCeN8RQFdaRBZSnleGAIEBQGCABEfwMpRpJ+W0rSG+5m/laIWuwrJKHd/aooOiUpI3GsQCwGCAEGA0AiQmMSbsVKaHJDYc8VJ4hZsj0grz6AriJWqSA5HgKAgQBAgYmtv0gqzKfI/JNLoq4WJRSKn2TEF8lSqKrGOZBXnhSBAUBAgCBCRAax75+JpckCkl26UiXcrMsrj6ApiHU1URCFAUBAgCBBREnns/ima8CGNvX4lM1J8WjlTmUVZEEuZGYYAQUGAIEDEVGClFJacpCh+JYm+ekGR70+GqJSyld1DU4rPI0BQECAIEBF1RqnK6yco4gcfwDrrj0sRmlueRFcQK7xAEYEAQUGAIEB2j3gn3aFpDUWJ9PSfxXGRfv2LIuLkeWFUESRfmRWGAEFBgCBAdsug514ooaoDJPryNUWOnyGd1IIEuj4NEpqlLEKAoCBAECC7BfgVd+NpquCVnrpeluJnfCZUdracsk+DRMkTwhEgKAgQBIjvEqPkwuyTFDkg0virhSLWwPLA7DHa8ui5ylwECAoCBAHi007k3EqPpokfkkv3lXvoLA/LVSZFUeWCRMQVxCBAUBAgCBBfGfSEO7FSmgJYp9MvZEbuJaQTV05XHj20SJkiQ4CgIEAQIMJW4uytEqoSICey7+yxoCpHHkdXHj08TV70+wGiG/n01MLgu4sAQfkPAiTq2N8XaarAklw8V7zHlo7wJOV5yvrR5Wmy3w6Q4SeEPGvEd9e76L89YBAgKIcVIKHnlZejaepB/+PSHXnOHiNROXLKsiCytILjvx0gbc8IYR8csJl+pCUDo4fvfR6pZwkx2Tt31zT2adkR/lfjvFb9BQGCEhSARCXcvCiRUASQi+nKPX/dQ5ZMnQtS4GcWxBdAGH11W9vSzvk0o5oBI9nte5rNVC45Ra/3ramb/GDR+/3eNM6BnW49bG+zDnwzTky23XVbXhIyxv/68ZCQfxEgKMEASFjGvct/UAQQSXT2tYKiPScyjhckRFIFkLAUPxey9wWQpcmFvr4uowcAWsBOfq/0+VyPVq11cbK6MtHdYmwWVvz6HQzu8J4A0nvoADIA92IwmQy9fgHkKwDkMQIEJRgAiUy8e5GmEizJ6XPKlIi9h3SSr5yna0GT1Nsp4fsFkCkzN51e9/QgpmHzD5/P9TTZIqs2YRdjtp0bonn3N4VZalwKLkCY6kb/XCMbMKF9qOnbi6pWBAjKYQQIOCAlJ2iqwZJkX1PkB1BJla9IpMsFkaX554L4AIhxmTf/VZ4xrMnPhNT5dED6CFEbQDT8KbSDgprD9bDfJiLt/KpiZOZbMAHCWOwjbzr8OWJaTciQ63+EAEE5fACJSbxJmwNSFtD3zcOSi2n7uq3cr6/bCgOkeR0goAX/wdMYGp/DVNtXDMsGNvGJ3W6fsK4McG5Mr1FIs6NhYeGZmIw8XI22IpgAqbYSYtrwN4IlujoNAYISdIDIcu+VSKSUOSA5Aa1HUqQ4FkMVQEKT5f4s+yIMkFcfCflYQ0i9l/jSHMy1p3w81jNAjQnHz/ERjiDrQtN8VfO3Vr2YGfsLQgxBBUhbHQzhF0DgH2ZQMQgQlMMKkMiEu7H0LOPOlWCdK04O7LMeIUnKs5S5IOVpYfsAEP0HQvonu2DeX+lp9d+ZCOnyZZmIEzBgThmuNMkqGCgSGfE5AICAB9LuD0A6+wh5KFobAYISbICE5d27SpX/Ic2+Js8JOKRDWRYkJFMeuQ8AGQdGrPLJ8CYve5+DORcMS6kqV+GwBy5CdPkCiGg5/AB5AACpQYCgHFqARCTfOEUVQOL/LA64E1CWWZ5D1aK8R4rKckMCB8gXsNA9qhGNt/ATo5rQEO0jwae66THMxatdbsVPAMikoK7R9lbndkB0bx/N1c14VvWOWyx2Qtja1uHh4SZmC0AYW1XtzMbOxEPTjHXO+mFYqIaqtadhztq9HT/Gnom5WnuP+0w/hmcBnqZJC4yo85a7WbfXzY0Mtbrie9WtFlsNEKfFqz5jHLTX/Xo02NqMAEE5KICEpJamn6DrOyA3y3IDXswqX54WQRVAZAmJEQEDpJVLn6tUQ2DmRrwA5JuZkCeCTzWXQ19zdSAauTorQWeh8QvR9I07p/C1n1mNWs0a/t3ZR/GcNbBwFg1f2PVqEyC2ejiAZU3dW1mhmzfAVg3Lfrd4G/Hrspnfbe7a3N02YeJG1rDtTio2OivIWG5Ez7hU53S/Q5+db3Fs6VEbWC3XBgLHLey827djBv7GWM2aDgGCckAAkZ3968xJKUXLYJ0oKYwLPPx0NE6RStWSikdy/skJGCBdYKDBjE+1Awq87V8gxGwReqq7wdpPuGx6hYGQeeHEAczz2x1W1dLn7hx5sn0S31mzta2kxQWQb3Vq1zb7Zo/IoMmtaR5s9hhwsH2zP8UVhBtfc29TT/PLkPzYOqB558okW66UmF/wN9q9Rb9+djsjx7Sb+9geBAjKwQAksvQ6XR8ijL1etg8J8JDzcv966/7zEqGIkwUIkHeEaJc5R2SRkEWvjNASjWArSBWXQ3c6IKPP4Y/3IgBifAaKfSsNtQMsWdwRxVqAyTvngbAg5jYnQNq/q4nasNjL95q8dYXBquBPzcNPI58WObq82Jmeb/oOd/bxV8XcYw0ZcPaVtIAF174csK78BNaRNR4rn1mWO54bkO3bcY7Jl9we88fvZg2HBisDLtmUgWWJ4wD12Og2dS7cx/bOP1vu405vWkKAoBwEQMLy/ldykiqAXP4r8fg+2NOYgmN0pdGPpF2JCRAgMMXubQG7uPQEbKs3Bb0ZZtpCYSku9c4ZUWap8fVPOIFduMxqEyA2OKiO9xiMX7abYDi4s3OIEMOEvqPDyJlrHiAgn6tg+v/+I/xacGYv3oM1ftnN/2wAE927Mz3SQFzNfk2rT43uy1VP84qWevjZzY3IdIxzWSBbY0dHx44qsdegpP3JI26Wdy5aOIXKzibY/rAN9PXb9a2G/k8On+QdF837hQBBOQiARMTdpyqFLo1PL96X7IUsWZ5L23omaYEB5IOWaFd4MzjvPYHBqMBf6O8RyKEvgOmder2x8X7maS/Rmqw+ynTdAKkE095ncWsyOwiiegMA2UzbOwCy+Jrfx0eUHPE0PZxOs8FXD6tUdvAJ7J7DDXSomC3lw8x7OPqLc8s4GPMBHb9jabMKa9vFNNeB/nIlbIXNxlUgyJjjYKO7Cmv77W78auG3gf5bg7tQCwGCElSAhKbeSj9JDz8AIGduyPP2w5yG5d3OPEqXCxInPxoIQF6BSXto5M0stzzHG29P7ixMw6e9P9ScF7Ap7W98vQBugHBI+Nnqsr+exPEs4yX1rU5VzqTPODIcvYTUuuBgBPepf/tZRrvcqQ/XKEsLbnIxKn0FFw5zJNYFynhn4e4WO11k09W7I3QCZbzMVqLUuK8IAYISVIDIkv86Q5UDEl1yIWF/msiPJpTm01XJm6fMCAQgX4AaFQ6rx83ivTdxLILd1Xnd80a7FSD1T23NIgCyBB6IeVLYVfEEiHrKZaFfmFwXad3iMIGXBBeyvVulA4brnd02yigcsuI+ZAPud4jxARCGC4I92myu5MZY8QWQbSwBh86sQ4CgBB8gkaU3pVK6Uui3svanh1x2VplFVxo9vDQufO8A2WgHNjhzvesvvfecM1w2wTzj9aHmTOwCt5j72OMaLhNdMygCIHwOpK+7gxENkPYm18yeKxuedp1t8ZX7Eq2sR/6e8zDmB7es66ua4k/s8loscCprtQ+AdK6A/rBrZEa1biZkQCRAVKpl+KcNI0BQgg6QkIxbJTStYiKVZN8pKNone3pckXCcqkrekKzbRXsGiP4TGNlBp4m0mISs4iiwYdmbb9HxlJB+26hOp/tqedewSDYjPj4AwjgW/zWtDY2LBchmJ/r/2Tu3nyayP4DzBjy04QkCNJByMwLLReSqgApikHhZFANmVx/2af+CmRDKMcUQm6BcbANUyiVcBMQCgXIJ0KRCoGgCISTEqsTEJxKeaTagZs+ZaaeddoaW2sL+fud8X4DhzJkzk/b7mfO9Irc2Q7nZOZpWNdUbWFkYg0sc4mNPi9IaVbszOmekKL8t2E6p/wzvd1x3DEBM/XBTpXYYpdADUnkECGi1ThtXFve+E4AQOROAhCf9XoqVB+Ri9tVUf3kuolLlxXi50eNu5/sMkD2oEufsWRytcDfSIZTSDdqhsn4uVOrDukHT3zkMrKC8ixUvAEJ1omq29JvRps6TAgQFTzHKeAAFjSk5ecL5Rhz+iEkmh2P454Ld/Ka3xwez0gKxeBxA1PASH5xMd6ZhVELRA0CmB3+ObKmGe4eVBCBEzgQg8fLLsVgB5ML9tFx/KX3JlbR8vLLRI5OTI3wEiA5l1c3tv2dk/0cfVK9CGYMA8AusO2lLqFKXu22DKGrOEbp6nAkLUGDW8JVJpVAttPsIEDPPfc9MduhieQNqPZuw8dzWlXfO9RR6R3MMQAbg3X0zOf5WQEAqW48FiG5uWOmUeUgAQuTUASIpfnAJLxf6pYcp/jM7ZZbkRWNlw5LmyuN8BMgiUna1nKD38xnBz67pq1Myt5MgZ0adhtPYqPT7Jy98IFCda9oWmDzxJ+M+AgS1p5rYMzrJLHD13VAW7f4SgxA2xHeXppcG1x1nrA2wHhIRgHRu0fTYrOPvRgiUpWN3IK0v4a6mdlQ/WNe8OkoAQuQsABKRfi8RqyTCc+X+s2ChMpQpFVjFYUkyE3JDfQJIm/sbea1B8LP7Sk/TqnW3w5pVxoXCKexd73YgbFwtAItoE9G34xtADjdoerQRTcMJ5U4QACx1qN4J27rcAAEwxTuFPUcEINZ/4CWctjXTvfaqYGIAQcmGowPMFdDDIAAhcvoAiU7IjsUHICEhIYmX5X5sJSjNTSvAKw4rKi8vwieAoKJOo984+TLaQrd8E3YMM1sNdyRArvSaOb3d/oHL/fYAELvNCznT+xt8AghyxA/Pe/zWwYt0o2UNatiJlQtCfBQGSCO6hJNN7/WSfYMlApA2uKnqamXujCIAIXImAJEUp10Kw8qCdf1hjB9LIIbGxfxyXfj/MRtWQUmcLwDRjsIXcmefx6RSpGYJYDqfu9R9Qpatl1xGIHM+KjRl8hYgjHJ/StMf3bLfV6Cef+EJIAqUXzjgRXsqQFm/QsWPepa8g6foRQDSa3Y3SP3gl9jS19qbL4oAZAWS4pmdpwQgRM4CIOGptxLD8LJgPfKrxo9MLcHMhnVNXuQDQFBBEZQH4VCQ1g6oR4X7nzcY4K7AzYal7rMHwjJaFbWTGrfN12oyWTwBhAKacZoemRbwrLQ0eQII1YxoYPEGIKYxuM9B9OtWutXPZb+a8FEoJ92PT6EYA66Luxpq/w71cQCph/NzFrl+AhAiZwAQWcl9vDqBlF6WF/mzE600/3YRXp1toxPSw08MEICyGrYGeH4D+Ka+NC386d2EurHeVV2boYKtt/tDBlApFLvFp6f506cpMYBYzPa9TM8EVK3drtc6oJ198cIAAZT2H5ShzvEOzLoUU9Qd6Zyc4T8akNEM1Q7Wc8QDOl07+8si7ZJFwpLnYAMFatkyWxqXn9B0E/u8RAAyhIBqIy76nQCEyKkDpLCmHKsg3qCcxyX+rT5SWJ2OVz2syFSvWvnyAWJBSRELzo5ngArzdsyI2LDm3MuZMD50Q+c7KMaZbdQPfWnFNp8Rea41IgCZ793ds6J/zqJk8ffuFiVIItVMj8Vq1ByzA6F24IZpuFmNEto185urn1zaKRq7Pq/NIz+6tonDQyNEyZNlc6MG1eAdWPlcr+P2PPSGubVV67INmUJhaoajWYWlbXO3BS7fNl4EIANd8BEYIWbb1QsdJIyXyBkARJJxKycMJ4DElt3yUx0sLrMupiQOK4CEFtUUnhgg6y2M+4HnRNilaaVBxBBU59yJw6boIRFatj5OQFEx2Q/Pp+wDUMkqWiECkDaoWvufbdcZvsGzRsxuwVPtyLeuGv/cP9wmDhCUz44KcY0tD24b9r88dyPRa3jal6YXdYNjcNjYAXOV9hmk10c+7W8vNC1/76MntOxUh6hM/Ee9fmxEwTd+jdcygQbv3/ejNHvVjG2tYsUUd+Hwrmc7q4YP8CoEIEROHyARSY8v4hXEe7PKzxuGqNSqa3j1JcysKZCeECBgg+epttnwbb2lhLYgqO6unm8l6nnJCwHuHd/kitEigHQAEYDomAzxFqY7lGpP4GLTfbYptcfsQAClHnzDjGILOrYs8hd8xOSZ1DJXmTDbDlqGPjqdwjlwwNQT9kCHix3MarsEI3P2zlkiAAFU2wSTdQIpVat/W0sAQuTUAZJZmX0Oow1IUFDpnWp/h93m4lZQUZbsTRF7HkCs6OW90eXl3wg1664IQLpRcUB+2GyDnksC7xqd2zbrHMXMF9+gklX82RsgCZ6jGdqPPtuazS49e6cRqOcO3rJoGkXuB9SsY4vLxjgYtbsZAKBajXO2prYtT5f3XKpwKYy7NuXfVa9lTXUovraz6akNFm/mmtX2woo9q2xiOz+KGY5/9XaDHd6iqrc6/DIQFBNCT0nLZtjTW6vd3Up6iXW5t/Xa12zaEq5XSQBCxE8AKaopi8WJH7HX75X4uwB7oTwFr76E0qzK+BMCxGJe23TLorAcra2LplY0Q0XKr8EOdJ020R62NVoop2YY+1CJuoY1gfl1o1bDdh08NDYPDk4ZtT1C/UCgtp83D9W/WGtDGh80sqfZ/C5a4+Q8N44yqadn6gdfLB5ZdW6dqYBO/bquyTC0ftBAOUrqUj3WzrW6poUpo9qksB2Hl1EcTK4adjZdkIoSDU0DQ9tNhtVJq2MWCqgnJ60CAIFM067tDG6/tSrgPso4zS67fcC4zkY3g07H6glAiPgfINKMGxdw2oCExN79PSna7y/kcrycIMFFaRUnAwhgX8eBi+Km3NO5uf+9G4F7Fg1/uOsYu6Cxu68ogdntzZ2AxmLRAKFZ2GGUxqIA7ivlL5H52W6xKARLQKL/KdirAMBbI7AddkwLmBVp3O+eWYrCZa2iD8o2j4K7T8AbfdwDJgAh4geAyPL+KMUKIOf97gKBkp5WiFdF3oqEgvCT7UA4Re2qLYGofkOubZN3n/UFmn5zKMgXwEeNyMWcCQG8OUHwOBC+T8HDQHQaoeHguKXYN0C8u3X9jQCESCAAklmClQskJKj0ck2u37M28quy8KrIK0vxwgki3BPdWwHUap9b33ER6Zyg6aF28pX/DwkBCB4AKa6+i1kWyB/ya37Xp8XVSXhlgkjzSmQBBghFWUdoesurkatMow1AvvMEIEROFSDS3Bs4lXIPCgkruxXjf3+FLCYGLy96cIbcc0H8XwUIpV/qU3rjArb+pFVHhB8EIEROGyARWY9zcOoFEhRbXhWA0oehSTUVeGWCFNZ47sP4iwABVNvU9mqPFyO1Y2N7gACEAITIaQNElne/FCeAhJ3LDkTOhiTrAWblsOITPHuSfnUH4uL//uVxRAhAiPgXIPHJ2eexAkjinbQrAdgrXKnGrCdIZExWRKABchLQAMIPAhAipw0QSUVleSxWALnwZwB86MHBmQnpeIVhSfOSZP8VgBAhACFyJgCRXvmrLAinSlhh1++lBCLnT1aSEo8VQCT5MfESAhAiBCA4AyS84F5OCEbtbINiyx7lBSJeKjIFNy96cY3HLloEIAQgBCD/1wCJyHqcGBKCEUDOlz/KCIStKSL9QSFWXQmD49IKCUCIEIBgDRBZ6v2LWEXxXsyuKghEuJQkt/oKVsVMJLLqXCkBCBECEIwBEhqffPkcTi6QoNI7aUUBUfSF8ny84ngjK7PCCUCIEIBgDBBpZuXNWKwAkng/ITCmpsyEVLzCsMKTkyIJQIgQgGAMkPBrf5WH4GTCCsn5MyUzMC6BhBQZVgCRpFZGEYAQIQDBFyCSiOIbZb9h1c/2+r2kwBStiq6UYxbHm1ElIwAhQgCCMUCiiq5e+g2rWrxlj1IDUzY3KjkNs55SBX9HhxKAECEAwRYgofEFv1/HqhZv7N0bAcoYD0+tzsQLIEV/Z0YSgBAhAMEWINLCjIc5eAHk5lXPJZx8ktD0aswSQYpvF8cRgBAhAMEXILnpjy/gBZDs24GKts3CLBEkuCKtoJgAhMi/7J3vSxvZGsf3Xe++uPtyC7vQxdJ22dpN3e3tape2drd7ub0tdKG7e7GX3Xtf379gDoM6IUowkMSJGvLDjEkwiTEaNfibJEJUjD9ACYIYrQi+Cvi6RZSW+5yZzExMRjtpm25xzmHZTmfOrzk03895nvOcMwQg2gVITd3vlzUFkK9u/qu2QgCpafheWxtBLlbdqCUAIYkARLMA+fTa1Z9/0hRAvrxdoX2E587daqjRFkA+f3Kt5mwBhOtoIYfCE4CQpBogVy/c/lJTAPnp54Z7FTrzsFZ3/bymAPLZhSvXKgYQJmpgR8be569l7FlYT+sP3r7NwzDtSRD1IQDRAEDuP9HU56Q++svlXxvqKxWUpKvTFkDOV1+4UjGA2NsR8kff32/FnnAiPk2dRDTG3tRkV2OgxBDSm4n6EIBoACBVl25+pCmAfPtr1Z0K6em9p1c09kmpq0+qKweQjfcLkADwg/YP+PUrJ2RwLE1FIlNuAhACEAIQaQ6pe/pQQ18DwQD549KPFdLT+qqr2gLIuStVT84KQLJBhNi92ORRcOOEHF0ebJ80Nil2trtw7aRMgDDZbvuHpBrQnyYCEJJUAeTBfx5+rSmAfPfH/UcVktM7VdWfaQsgdbqnZwUgXBihzg5BQBUzNAV5B9eQV+lZ1No4+6YAYV5srM9zHxA/JjfWJ4wEICSpAcj/fvunlk4yqShAHl26oDELpO6x7qwAJAVwWD5NVscMiGURWlGS+udgnKy8KUDwYo8z+uGIhmMBIcM8AQhJqgDyg9YA8kvFAPLNkwtas0Ae/HZGAMK4ASBx6uQlcnsvQqYRhDzTCg9dmbcBiBWhgQ8JIDDwSQIQkghAlADy91/uf0MA8s4A8visAAREnz2tr30wLR8fB8p0KTx0vxVAGhHa/cAAMkAAQhIBiEL6upIAua89gDw4KwCJIkS3n/JLsiAU6YEuoRhDAEIAQgBCAPLuT/bQnAVyrUyAZBfTR4WL0B2x9KSgxw5XKN4WT6wZFQDCZNfSATlOaXpmJlUg4qn59bZgeyx77B9+R3rjZXA0cJJEukab24LWtE2qMjDWDgAxuwOBgHJA1DpCzkYKbxXZKM7Q7XL1mRAacUFhl7cQIO5R8/pM6jiouhLrL5tDS5IjrCMw24ZQsh2XflHabtMRdHV9frZHvmWMxfA6zNL4fqP4go6xhSDU2qHsgQvMLPIvmQg2514UZbEH8FA0ztjk/oyZYeCtbuX+EIAQgBAXFrFA/hwXFrPIOvVBWYAPVwyGQaxonLXf7zToDU6/qb2pFCALeqclLQFjS69/JqmydzkMBaGkJVcgsW34psGQXFlSMjYWR/wGvkx4PC+nkaQf7yI0JJNJg2IUL+dDqN9BzQAotrNFzyb0ST8L+IHCfkNcBsjk3C50wr/7TBZ/78JI/j3D4y3CW3qgEDTtxKV9xWw6NLfirhqczv6c+KzbTNPB7uwe1EO/EnbNj0WEXP6tHoW+v2h1JmeonvEwzpLc7CgciqX8UPjDzcJQMK0F/RnIEoAQgLwGIP/Q3iI6WQN5d1FY5S2iv9Aj9EreihdKgh4zIGMeJKepjmKAOGD675N8Kh2DCK1MiqvXq1I5Q7xFnHFHpJubkwoeGr30mF4RGtstaH9f6Yc0xCJDQqh5paV0DVxOy0weIMGxjHivM79swrgyBTlH+HFIGQpLHw+eZUYHCmvOw8E7BNfcAYvvmWL4zoJcR6tLYYUfaslNvxKzhBflrrfLQ6Ef5IfK6C/szzQBCAHI68N4yT6QdxTGq0GAlBfG27MHoi27+7dBoxYZigMksIZM7/CqD6tWs3qAxHCB5GBwuJ+GC7Pgh+GG4doytL68SiNLycFWdugCYmnPaliPNdi0hvd9jOhpmr8NfygdYhUADY5gLxC0HbaVLK/zheH/8Gdj3gIxbAIsWI/QSK9gVdmf4fc0TQ0PhvHdOf6mh6bZfGE6XNRqP+R39u8NbyZx/WkZIOY9FncWZbCFtYXlPzNnnvJBRfojRYA0WqCqXY8BN+URnYjZXmEoVoReZniytAr9wUNBDxAXFgEI2Uj43gDyY1W11nail7mRkJnAOi9O4d0wK86AHHMHKBMXtleMgxRbjtQCZBoUkBVWq9NgxBiEgjO4Dd7hYxwanFRYzEBJM24ttYHdVnt8To5LgIjHsxzXoxTK28siegke2HegxPGNIJC7xbvYitCBl+M4G38jJpg3UwGoeA7kONwnvNEUMpkFk6cRjAZPFGdmuFQzQgMTNijNHG971sKOjPJepB7MxFWjBBDgpnPfdTgah9dLgBVhmuF/7TvYwFMECI3YCADIHnRiUy3/oBkPRRAbNtPt2IjZsfP9McIQJUPdpf0hACEAKQGIFo8yqRRA6rUGkL+WeZQJQ7lB5yNiIOwEqFkzTM6zoTgWXixXzDIIWUIlQHgctfMqTFFruzCnx3PrLOTud0nSVySBHLS5O0rxzVFpmNnvTgh5cBTWSYeY9IEE9/K59qHFNaqYIIVRWHkXFij8uIP/G+g99tPhR/NBLv+eFA4IHheyO+QorOOdNVpD/E0oYZyC/G4JIFB7n/gTBzPF14FLwn97SlsAMUCQfsvL54jDdURYTjECNHyh/FBE/fCXHJ+FWZCisN7uaHsCkLMPEHyY4hcaO0yxYmdh3XuqsbOwPi37MMWebdkX09QG14G8SolSNSYwQRVApiMIgYnB8MW7cc2HcGmDi9UuUf+KJRDUl96W2gxBGWGN+7QwXhu06HTznLLCHH+hNEdpGC9yNufbfw5G1dQkVcQzo7zx/aQw3mPjggOIj2SA0KPik3XAQKOY1wV4PFC0QLYYoTcO4KxJ8OvNAVb2eXrgBwvYBOkRFolIGC9JagGiwePcK3Ya711dnbYAcr66utzj3OexcAqrCK4R0H/umMSDiQIzYXNWFUCYRahrQyoZAqFeg8qycbyR+oS5sw1PtGXzxDgguv5PA8gGFHoplJkA/d1WBZA90f/jXUWos+QM3x4f6LXtVIAcG5cJ4MSEQwLInPR+ncAqu5QNzBGTQwEgGZvImC2EPPzSuxdg43FLQzEJ1lhmlgCEpPIAcrX69t+09kGpSn0PpFZ37bymAFL2B6UYnhomYT6eY2E2Xxy42oUDZb2qAGIP8UeA5MNPqT6Q5FFcXRqHOM17FRFyBKq5KjOrG2bhyfRrAHLYKR9gstaqMMVX3EgYFFuxgWT3z5YAxIJQr1EtQAQvmrADBQPEKQVbpQAZnWJTDNULXe1SAEiv9M5mwWtHUYuApEF5KLzDMJoxAhCSygOIBj9p23Dv48ro6S3dDW0B5A0+acv7raJYtmxw5ZODpByc+yg9n9vwqQYIPoB9YMi6LiTrHEyhg02giCkcXOTZSaQUfhAJA2KHZNVssopLLicDhIlj0AmeHup5BIijCiDSTvSWfSHWS6yO6zqayc2HTCoBYk+5FqPzfWZ/IUA8HeI7HAHRIuIYrFsBz76YAkDkj2Thz3TxTriQHjvzpKHAhhvKEYCQVBZAPqmp+/2ypgDy1U1dbaW+ia67pa1vol+sqrlbJkCoeVDCYeyj6oI5+I7owfLmhjsjFpPH46NVA6Sbj4oVkxOHqO5jgFBj/OYQ36vx0o8/jesRGy9Q54S45HIyQMagnyMijLIrJWFYrwMI5pxJ3NDYnR464N8zTKsCSCq09yqSgfwD7DGASHvEc2HotzwIUOtu+lSAjMKo8n6/II301oKhgAdolACEpPIAUnv9v99qCiBf3Hz8fYVk/oburrYA8khXe6c8gDDUc1B3P8cInqZQ3vqIRnZZefuaSoDYNlFxivILxcxzM78Dz5CxFq8HDLN4/VnuTpQ/g/c0gNjMkOWgzSykYGtpGJZ6gDCLmz5a7u1rAWJvtyQL3k4JIAv+4jGwcOoAssMifahgKHL4a1kMAQhJZQHkTs2/v9MWQB7+UFMZR9PH1xvqP9EUQOof118s1wKhsA8rx1C2ZdC6WSGEKob1frd3u9lqxdKvFiBToKTWmaiU+gJZISKLyrqDYR4hQ0WNL9OILph2/5+98/tp48riOG8JD4n6RJQfSpWmyWqjLCmbbpNtt0k32aSblarspt0okXbTh33av2BGCHORjSwsGWM7Hg1gBoOMMYbYYPFbJkjYln8ECQshoUygisSTpTyDIpxWe8/8nvEYG1QrYcejEGDmzvjea3M+995zzvfSMANJ7QmQApjw5jbxcCoc9/sFCBqCjPvBZxvTDkfrSHmAIC5RpW/zRczRkujWB8gC0CEt90E4XZQ9XgIgEQyQFs0MZMGoMxBK44tDFF2jRyUAqT9/7R93jAWQv397tTqxUicuN946ZiiA3Phr08l9AyQ4woUoLdlIMsHHBrmxjTYHGIqiaeRp1wfI2EyxD2QDW9JFSJOQDnGaQyCaBS8DOTipfnGHmXQqtEogZ6QtuRdA+KwL9RE5IEC8uOVtkXkaGsqEygMkbYYGuKA4EXytD5BoH+chV/UBqggga5ildqWpwJULGxEgTNdWJ+gZzAj9Rk9FVsZI5+qLWVQDSDmAHDt1489f/c5ABDlad/e7K9UByKmLjZ8YK4/wy/+ePrJvgDArJOm0oJyUzMDlA07z+WzErg5AEDZ65lRxFJaDJLtLGTqwoyBasqnWA8xjm7wp/wrJIyPRPQCCCiB3MueXjgkzRD0dDCBRPv6Wa2d/eYDAjWRQ+CVcAiC9nbzIyh5HCYAkMUt/UizVwWNz//8AQT6G8SmmFygjKqcJHzFXTNIws9QAUhYgJ25+e9dIWiZH6+58f/lMdWKSzj4+byiAHPns4Zl9AwQRHU6SXKCxvRrl1cgpbMXbs8K4WRcg4C5Zk0zmOzEPJC8lHeojhO6ThQyFY6ibJAe8so/aJtZCHyDIN6fJ7Z6y6YVhAUDelgVIgFuJ49upAcjzYHED5vFrv9sRypcCiGsCU5Q9CECmQE1FvnO2DxTpOYCkcJGZQwkQZPWIx7Z73urTWYfybLXb/AovVrBb5IWzgzvxTJppPnfVAFIOIEcabj25ZyQtk6NHv/j3xerY+fOf3j5trBnI5QenDgAQ0N5ddg2IaoIE+1RiCbbwfToAGYJ1I36VGjHg1F6Z5crin5a3S1sTdlzxYP4wYftvljiBIBN9w7IHQIIwiVEmO1o79cKw5vHZ9rIAmZPjedH8qgwQXIs2HQlHoNKmqM87M6gPEMj8kOG6H4CwIxg9KZUL5A3HExrPCJtThxIgS5sDY/zx2ja64rfnC26TpsgWp/gsneVivsmR0ERopDvAdTQffjE6utrd560BpDxAmh787WNDzUAu/HC2OmJYTeeuG0uMt+HSxZP7Bgg+3uLR3gJJji3whtn0ihcWBLvq3tCJwiKszdg+8ytNS7CuwwEE8f6JFpekesVwyYPslBhz249H535GTa8uJyhlCcmHBWyi23P8OpouQJhVTiFKuRaOn0kW7TKC8Nm2/nIAwW0bE+KerAE5Cgt20yVjxd3kXsFV5SOR0dCcfhQWIhYxB0Y8Ug2pJbYygCACcmBGhYxEGuQgVzN8V0CGf+BQAqRL664a86d61f5xTlH/rbQpShCi4kILvb7tpB0+YRS8v+ZExsoUWtdMNYCUBUj96Ut/+o2hfCB/uX/uZlUyCb8+Z7A8wpMPrjTsHyCIaDVzerIvhXghIAU5DrvpeXOv9MJ4uYRxci5rNTHRBOk0izMQIg6qtIEhhgZ6DOU3UjCZcI8k0rOwdjG/rrO7BwqBwQh7fKi/N98urVuUAAgsh49TCoAgbgRbvG4G6x72JZaJ7+wBEBjcPgNbz8YjijBeogc2Lsm6LNtqMPkApjGQxO0Pr5QK4yWIcWwCQ/l5L36uyZ1LJTIVzkAICiZTE9AVTG8Sz8yaRWjsAFkWXexO9rCJKSacxSEPK+uqMQTn8ViWxhicsNii7DhbhBWtX6ha/FWlADly6vIPnxsKIJ//4Z9VySSsv/bomrHSQE4/KtuRujOQXi7E1ilqSqGePmxw/Y6FVEcn2a3jA8FjYlAb7xy3J2yk8+WWABBEsDHYEGklMb3umI68M5NzYCo8eNy5GehKrb3CN4Uy6pgkXvGEfD23MR15hm1F25agBqULEBDm6suqn2Bvk9belBMb/CznK3skFNsDILBs5VxeG54MjJJtkpQJIqyAh9EXHf5V9aJ7/jnm4/j6wnqkjxwY0AcIIjyAxO7NN2tdMfvWqg7dSgAEEXnoigGpKzY9on8GcBja6PDb+g8ZQCIYIE7bytOnT1922sTduMwRZTiVoxlC/iTPD/Bk2SrIbuJ/AfyhaXMIAp21owKAnLj64wVDAeS3955UJWG84cpDg6WBNDV+XX8QgPB+ypG0+CdKL3COTNhKtc8R0PGBEJaYaA2cc4V1Sc6dYBz8Hn9Cdp4dFq2XuFNObpc+m04wUX5ZHp0O2ndFLS09gOD5ULM2ZncS1/Vd0UNdb7U7EhYDBBHpMbGdY9Mt8gwE5cWNARkVlSwBON/8HP8fmvSXmIEgIjvO386Pvl9HK52BECgp7+dIPg/sSJJaYXGLw6VDCBCzfaenp2doKhOdTAg7QC4rtvHtTzocySWxqR7I8nnjU7zl8IRcjRyVA6Thy++/MJAX/Wjdx3e/u1INX8XJS4236g0FkJuPmw4CEDz0hfTpZ7KGLJufa+a3Vc2CM/dnr+hb5kNsocTwKFdiNeYGZXM/Z9kQIujMeJ+wbDHgX4dlMILKJUYEm/giQ2nHkfhXIckQG4rlvFeQMydQFg/jNUkj/bianb2aJxTGdDZtQsRQgqvfIOcMjyt2beJyTYQ9slB6kzPNzrdhdpEkX/mEm72Tnfxqi+ahzOQo17jun6YQxsYw12OgrdU5K5fCM5jhCSEfvS20ES7ygbhB+FfmJ+d8Erqixy51RdAidQXu7RB39h06jACRYySYnml+4DFHK95/EyvPLnqhf1tZ9dimu7dGjsoBcvyb/9ytMxJA6u5UJwzrzO3bnxgqj/DYH8+eP3agGQg7FQ5GJT1AsFvzueGAvSWD7aJ1Me3mF5WYaLDgEktQO4Vhe2vSY4ESYdExigsyvYVk7E1rKt0zTwl7SzE9QYfdvh4e6tdZh8AnXD1hh72jdTLulq8jVzaY00RXUblgusiWmDI6J3EFmcJMLDAZ51Ij2VwwKz0LLS0GpyzCS1szC612Rxa/sC8aFlzf0DpPej3gSLvV2vbQ6uikPZCK44dtpxcZvl/c6eAQpWoR2hmKpux2x0LBo9NkKh5Oy8Dx4XbKK1Mu6KqO2OTUrKIrMJc9i+uBtfDOYduRkANIi/xOE1SWR6Fd+f4rugjcT2QXpQrwIAetNXJUDpD6pgf3DBWG9dHv/1WVPQmbPr1+xlATkIaL5aPOdAGCeGgghcXCf+oWLytfJsRVaKQo4WVpzXn+G826WJNkGLgv1us1lVjHFq+zlOa6NodbrKZO3ZEOQXA1LJRUe6SsIVLYLW07hZuRycJqn8udp7wWk+ZB2lpxP1NCi4rqpq4x0vaeTleUqs8hAwjfpDhHEHNc/waIBCdTSB1kN9hfI0flADly+pKhtpQ6WnfhfmM1dgT55lGVNLY+1OPE2fJRZ/ozEKQ1dLIICVJfR+p7VKZYdUHBI6L4B52X13sKQntXs+RJQk00VPQiSLeOSO9mYn/9sldDVQjTLV6iq34d//F7BwjXkiSECpBbij4VNG/gGw8Qmj8HXwJAFMI4XEmawget/XyID6K5i0Sl5cUb9D5F+nfuceH9A+TU9ftGC8NqvFEFZ8VnDw0WhHX+XPkG6wOkdhji+BAAQgixvYPisiMVXFvLc1OM+WQyCbkwZGIG/5QsUPGZZBrUls3D+NeZsDgPQZalmfGVVdsvWy29XqX9zjpiMzSeI8YjIdvLjl3J1vt2W/wv21dXxmfmWUV5eibmgGAKyhVNPLWF5hwebbQwYpfCG8uh0HIkb7WoBlgmJr2x3Gmb8AemXNQHBpATV380mB7vvSef/fpqWMcvGi0I6+bj8g2uAaQGkPcLEER4QAO5WdiAnhMk41P3N9X5IiPZAfWJYd7zburZkCX4/RkZCTs2TtqfmRZk9EUnU04O82u279IybyAs0E24kp3i1bV+1XyC3g2YpTt/VuCF3l6TZf1Hg64PCyDHrz35ylAA+eju/9g7v5c2ti2O9y36oPRJ0YqiRy3VVq+1vWpbPV5tT2lLf7dSD+fcPtw/YoagjiQiConGkGASEzVo1MTYKPFHgjbgD/wJihyQWpWCTwWfFdH2cLP3TJKdX57EjnVk7/XSTGZnZg+p+5O11l7f9TSbf82RlNR0vHLoopIIHpgAhADknD0QhuoBLsgwdwh01dgtcqv+vNDbA1qrTMJcVUffAPqmpNXbKxlIzdCuzi3uTDf7buMeOlyhH/ESxAUoo3JuobrOSoQgtQt+dxrw6muqR8x+E1ueFhRARKXVL9KwAsiDPyoLeF9OK9Jz8cqhxxdX/vMDE4AQgJw7QKbA7/rm/UCALNcrFHCXtAKa5dhCs8fsG/QcWPqlNeDD4gGz1WrRQ0+kxeMZqABAhuq8AIJvTkAtBUnzsHXVDLcQf1zwA8gCUDJQDDYPsneaRUpQ2GooWtOw3g0Le5onuBOw4FPxRb5iHW6AZz4YBAWQgtTbV3ECyKX799L5jzaVVF3HSwkrJTcC6S8CEAKQ886BUDNgZfYI1PsA0jtmGoOSMg6T28bGN+dkpkngBNTLxtxvTAKlnXZY42mcnTo2GEbnbOBCkl4GAQgo/zE6mr7vmGGaHrRJc7NkrF/bNbFoPwTEkbchAPkCumiuL9uH7E2sivyi1wVZgxG05uXWBVffZI/bG+rm0DMKQCTpsa81dvYONcFR44yQAJIC2qJfwogg1x7znwSJu45bDv1JZgStgQlACEDOHSAGEJvStAQABK7BB7SvsTK0vwEvuKgTwzBKAAn9XxwDOuu+AHE0FCBuvuhb3a5C5yKUfQaiybSln7uY9rObIN4OmC7OVdl1wQuswRDarEewsQ1mTuRc3Mo5tUrrWVUzKSxNWebcEbW9AdXyEgRA4v/1EK8s+rUXT3kv2UjJyXuCVx16WST9FwlACEDOHSAU+NXu0b/yeSDQCzm5DoQBapqKMW/5DWgQQIuPEYD4BJbBECcQh9escVunGcoJ8vfyaRQg4g8T7DlqCExL7EHBFEDPwKi30EdnsrHTmILQkXr3VteA4ym1gAAiKq/+LQ0jD+TS5Qd/5vLdO7AisxKvblIJhZE8MAEIAch5A4SBCrzirVMARArW+G8qn8jLECCCDQWIpA4pm3GBgFdTra+uZ8w9Ic0GChCbwVOZ07kDjjnpMqaHK5j31jt1cGixwB1ivinowBStXUICSEbqvatYxbDuP08v5zneVIRbCuRKbiQPTABCAHL+AIEbdm2nAAgYLJ5ECj2lINBkRgGygtTrd4AuL5pe5M4T9T50QYBYp3282VD4WgP0gr29YmeQFgI1CnSed5EpqMFNBgxCAkhi9utbOIWwYq7yngRJyn9WjlcKpKC6KJYAhNhFCGGBnVGKD6cASBNYq/0aioFNVBIEIMZ95Ow0kGL8248CYA9Xjw8g9WMICmBnAS6yNt7tG+hnrfVwvsglYdesRiEBJK7k6YPLWJUS3n3Kc1/0jNS8Aqz4EV+UXiEiACF2EQDioH36+lEBBBzJZ1hhE1bdBLQ2ozt9AFlFl3bY6MZmYJDxIOT1zR8gXhtp9nU8g9WIIdpSQn15Yz86BdCHme5lhASQiurHWFWCxNx8n1rAa9Vf6btsvPqhJxXnXiEAIXYhAPIJgUZUAAHbdhta7D6bcoCw0zEKEMRGYbH6PDK+DzDC7AwNkDVwAc4xgvuJp0I8EkiBaMb6kEt+AImWOSEBRJRc+eYaToK8MfefZ/JaCRJf9KwkEa8USGZ+AgEIsQsBELDz1Th/CoDQoW0hDECOQw+X60IDZFHuAwjY3kUvhXikhtDXnBcUQBKuP826jBNArj763x0+F/yk68/wEsKKq0gvExGAELsIAIF1IJ6yvGgA0hV68ZYchAYI4wo9/rDjHwGyCQvYj0I8UnPoa64JCiBxv769ixVA0h68zv6FxxhWRmouXkJY8SWR7VomACEAOXeALMBIVGP0ADFAaRHzsMXPPi2zeY9ggAzBMnRLgK3Y2fEnAaQLJOdpZfATqQFAxIFTGLZJhZREBwGJ22lYdSXMel5ZwZ/LEF+WV4jXJt7k4uJEAhBiFwIge2JkpY8GIO3grNml7fUzFZc3Dw5hrcHa8mP/4b2eXVknAaQWeiBrYTwQ41zAFHR8tWzhCyCJ+a+zsEqCXHv0Xx6TFkn57/DaxBtXkFkUSwBC7CIApAus0/UmbsmNKgcCyGPWBt2GOSmJ/qEjzPgTcyCz4ZLoYIzRRYW5plAAElf69i5WTaXS7v6ezd9G3oLKHMwiWHfSI6u7JwAhADlvgNihlqI2eg+EgT//m0fC3CwQIAylBVUfjnAlGicCZC/0Nl6GAqUlGvt5fYWRAkR0Jf0eVh5IzM03r0r50q6KLa/KxyuClZSbnUgAQuwiAGQfMEGxTZ0ihAUrEAenIgQIRSnBnluzMnqAMFSNJEwhoUzsq2ERMEASil/ex6oS5NbttyV8RZ2S8vMwU+LNqCoREYAQuwAAaYcVFvUznphPVADZgDGp9kgBYoCBqAXmFACBIlv1IdjTD8hi2RQ6QGLL3j66gRNAYu7+ns2X+mFGZiVeSryxhelPCEACbMKpJswQHEDalmHnplnqVB6IEpxuWIoUIAwsEg8ndHhiCMsJih09ZenQanVQ6V0KuoEY7UIHiCjl1R83sHJBsp5Xl/OTt0jATkgxIT07XqgAGe2WyBd++h/a1Eq3RDI46yTUEBBAGIZRQZFb2sycCiAMq5HbVItCgmGYMABhWElEeonxHx8BQBgKgu6j1wVhDA7Yy5Bha9RX20JOQUAASch/iVNTkJiYtEcPC/nZh5WcnVeGVRWhqDSvSCRUgHx1rw8bP/meHVv1bIVZiCwoagQgPwMgLdTm5qa0o63LMDLLVt0NIvqG0fUDWWMl2JXtnJi6Wto47wlpBXsgVK0Jjm+VesbXth3V1UXigVCLsGKwe6nd/VFG3fG1m/7Iuh37IIZFfxvl/v8w7ZuGr7CniLAAEpfx9vYNnAhy49/vKyt4ieeUVuf+gtUeLFFOejIBCGItINGp0Ug0puA4x/ftz58/b2/PmuYXDJsMAciZA0S8Ktvb29uy9XwSs/gQW1TU6TwQilLvsWIkfb37zukJpXZ8x72cH4QNYVEq2GaQdrh0yunpiYPRGitN62sjAAhDNUFQSPb6tUdr82AaH/u4/DoMwnW3jB5NTDuVuqGtAZoeYoQGEFFizvssrPoS3rqdV8ZH5iIxv6oQsxR6db6IAMRnyhWwUeb4YGivP+icGZGfMJr2CUDOHCABJu62daJDovNAqE4rhyHjsNU8wL5UhfVAGMol56agP1xdH4SvGjYjAojUIQ6Q0JrhzuxIOAkVs9WiZ31dAQIkvvw/L7ByQWJ+e8iLpvuV3PRSvJrZFj7LIABBbE5D01uedcDfZsASJnEbu6zI9wlAztJM4kDZqvWdfv+vJUqAUI2zgwFEMkvDA4ShllYk/uM1tohCWAxl2Nagt7HYPScYk97/kopmneBCWO6F8NVzvCR5s95UVvz4yh9f/i47BSt+JFXmxBOAIDYfXtxuQ0GLV00yWdPsrhkwZJchADlDm1n3rrGaQf26dbZuKZDqi7SvySxF6cCXMoUMAHV7A5soETrsPXqvYyNptsp6uQs6zcGlG+7xqrpDH3KM8u0WTwIGaPVq0D+HUQvbxdYDiq6WQ6Pnc8NNx74uttTXnfV6L1kGVreW1AKrRIdp9DsvH8TgJIiV9uJh4Y/3JUwufleOVwr916rIc0dYAGQSCqmG/Iu2udeMr+zLY7Cjp6GXAOQsbaG1hrUN+3j/iEod7BR2tphkrSrPUde8TPYX6haO1MlMU/5EoKaHWj7sWg+tuzbZ/MKBLz8ybpKNBW7xBeO142O2npVVx/bsWN+SwTuDzhqTrAZ1HbrABdAGuJS2T7btWHV8lvXNUJR304X73zbXxta243ClZ2e5tV9L/Swlk6gAElvwCi9FxZibbyqf/OhqGlfxLgevVlKJObnJBCCIqb+7bxkmNiWn6Y86bhFQKmB/VAKQM7PgVTVo55v7WK1G2sqyRwxyupbxvxB83Tmh0qqUjbXIXcCw2hD3hG80KnXaI6cBnYL/nUNdALxSO4/cH6z1fxj4ss19Rqds7Aj5WEIAiCip8DVWO3kvXXv849XoCderMKtCr6gqjyUAQaxji6b/z965/zSVbXHc3wo/QPxJg9xgQNQI3IqiUcfHnauOZiQ63pgh48Rw/4yz0wCnKaYZkhZaadOHfZE+KG0FGuQVHgnQlFcCIU2I5RESf2rizxJi0dy993n1RYeWGeZO99m/0HO6zz7HxLM+XXut9V09uxm/sk0BYOGtgAMAhwiQv3jQSaShU80xnQlE9MEf6d8BWbb5dJYLD/cI/18AKb3b/OREEUmi7rdfVFQd0ZxeqayuIoofxTXVOYR80gGiXFxEMcpo74Q7HGc3m6PBibbQF0PyRINrqM0dmXyT8L64griZ6GePe8LDlVyNTrpbgtZ0gJiHht3hhZSXzRprcQ+vBxOEIeyrQSR+F4+oWtikF1NviyoSO6gkMLoablNNDMW5qnN61xXfAMA4z4hsp4xFIwAB/o2XA/B6QQSIOP4+IyeASMpr/nuVKBfk4fWfbxwxfnG5qa6MKIA0SnNJWk4DiParQjHRTo2oexQK41TAhfz4xUF40OPf2000965vfqMCnt4RsjB316YcQcqq8sIverxLCAPatg6jwui3CHpFDEB2t9Eko9+ZGHPQujt60NmpvhH+BelSKDZtdL8D3qoPtWMwOR1TaHnLZiaE6MNq9C1ceLCX9TF2dnZQ2o3f4XC8TtNt7VQAjYoDiBmJGllFgIijUAFS+v3PP5LkghSdvP209miCWI3VlfeJyuEtqavMpWoyDSC2OQA+vZ3jckoskCATMv5AmBcWUhrXOCVu0xTQxEYHuWyUgJ76PMYdfLQnACQc5DtJD77nl9SNCamVw2zThvZhADaUW/gJHCGKGnLwc9zpfR2Uc0KaqNGN7/gmMWEzTbFoWwNksYSA+l8nqyoCRBx/OkAk52penS8iyQe5eOflkSIYJQ3PbpLlgFypzEkAJiNAvjqR4gSTG7kc/Q1lR3px8rxFsLw4233gU2AKfTsrAKQL5c47cLajzG1Fdb8OP15oUwBIzwqShfAy3aT7OCotoGR647JqAJd6/ablATI3x2Tue2OUC6WBfvjUNgD/zqU5C2YfA7Q9Zv6GEnpP2oTcfX889Yq+BIVVE4Sm5YsIEHEULkCKbzx+dJaoTazbT2uO4oI0PpDeJ6uTVIM0p5BPRoDAn/H+dYrSolYHIADA1LCeoocRFELsrBA00d55HKHegnZ3jwcIkAPNtwXWlis+QD4EKWpmGW0OmXmAoPERHo5OIEuvYuq+lFuIMjiNZtoLr13kAeKXA9nc7BePSof7wjHPsDo4rE2NiA8gxk2inTMXVrgbwXk0yjfwKuOsVam0p8Y3ZyDDpnCkRK+f9sPPI5RYByKOwgWI5FztK6L0TE5cu1N5hCqO4nrSIiA5OiCZAQLAa6ap8xKzczWPD1SQFIPMpFb4y93/mWLyKZ3Q2vfyAAHy7ShKm9FiWQnNxxk8ZxCeb0kAiLGFuXYIOQzYBaHfwY9tNKrrpag4NOZzNg4gkGjs3pMS0myL4tM4k409FtbrY3fE9MPQjfGNMi/ZEpeFlUqHaQf8J43qdLp4eEADZJYwUfwQAUIeQIpvND86SxA/is7eflGXfxlHVYWUrEYgpfWVVyRHB8jaLmOlg3iraZE5+GKBlpyPPYMIl/boUnCCEQggsg2amY50TzVOJXMQEzQhYmylMT5vR3fzoAC7tRuAbkZUj6beIok8kwAQTtnCBf2aT3oOHin8sEO69Lyj2CXsaJPNg+cenMbbmahNAXzvKVFMURwFDRBJec1PD0+QNB5CFyTfKMipesJa2ZZUVdSfPjpAZFz5rg3tPY1wpEBuBJP6BI29kc+TRcV4HTQHkDUta4WRitGamT2wwYPtVh4g/QbOVI+gWAUqBn6fwAmaCskAmKY5gDi5vadx+Dzq0cyvEo1u6LTyDPDAJcbeZgfIQJKCUaBTR4kAEUdBA6T4++bnBLkgRcgFybszYWN1NVkOyOmGitwckMwA6ZjhzDBS92jlrLpTA+Q4DK3sA+CbUPDr5ILPCCBOXhgCXtrNrWp3YOPOAsQY5vegZqGPs4+2uULQyI/wp9HeUljPAkQe5L0N5LAMxA0ZATIJPZ6I8FRIyEitzQ6QbpQrtgzHfh+WRxoziwARR0EDRHKm5sV5kvRMoAvS/F1+LkjZ5aZbhNWAVNaf+gMAYuF/5G9Aq8o3AJ2TARmupJh9DYBvvYsd6x8AcAQ5gIzxK6F8Ke6zFnopgVEOIAmV6F9WIK/gF/o2AKb6uTXXl6A9/xplAeKY5cGC99R8qqA2A0DcAPgnhU2omTF4I1tWgOjUaLdOp9OZXQsj/Sigvy0CRByFDZCSe9InRGnyQhektiqvTKq7laQ5IHXVOTog2QFCJwOknwNIzIv7M3FDDsDOu1SA0MkA6TsAIKNORqeqdRv6Dwp+SaSuvtnOAmQnzq9JeXBsfu2jJy2Hl95iwv38LVFWFy6TPxAg7+BiA/x8FZLCcokAEUdBA0Ry5sLTqwS5IEVF16433zqduzUtOXPzWT1RDkjJfWl9qeTP80B4gIR7UrsCqZW/44EcBBArvINGB1+EvbROQyOGVIBAguhXnbiqZCoQTAl40z4IlgQhEhoFOFxZAYJyAdhHoWmq3QinTYoAEUdhA0TS+PLOCaIIgnrb5u5JlN6T1lYR5YCU1VbknLCWF0Am/RAHvTFh9DLmOQ+AjEMPxAGvjsK/3rZ3wpKhOC4PSQYI8kGsq0wDOH9vCkDQZliCVkk7enZlVoCgYpFZYWn4jMZOESDiKHCAlF7+9yOiNrEu/phPX5DyGsJkeIu/k96THAtAghYULDcIg82pzQMgKAbiG6co/RIESG/6mikAwdm70XEVcoHUyTlTyONwhITj8TEIGXu2GEg7kk5pF1b2wmkeESDiKHCASMp/eXXpJEmSWFdf5e6ClN5rulBOVBH6mcraU8cDELMaWv0M/5vzAIgLLjVmhQDpgj//M+wfpQIk4TJmj0sASBtO7xIe5gMAg1mzsEyDAPTp+Z0wuxwSaFEEiDgKHSDFqDs6UZlYt/9zM8eutCVXHhDWCb30lvSK5HgAYh9MqAPJByDCRhGuCoF3oFEr7MghAULT1LSR10DhTobgCnPCcQh6Kdvt2QAyDx2pAQFCYQ30agwiQMRR6ACRnLn5K1Gy7kXXrktzTOUtu9zUQJiISVN98TEBBJeHtOQPEODjkGDlK9F18MOe+ZAeCI1r0ueSknlppMau5qPouMY9ZsgGkHXocoR5B+TNDgDyYVELSxyFD5CSRumdSyRJKhb98GtuFXLF/5I+IKuPVFltZT5F9/kAhKbmHQB4hU5SeqaV6OEBAvYXsAOjj0FHwodFtbQoot3ZzreZttnpdIAozRwzUBhmPdkJakXI2GTTe6MeP3wWG5UtiP4VxdDZG7a/R8LBfVairI8IEEIBIjnd8PhREUlRkItPHtflYh/La6X5pP7+jSPot5ruSSTH5YGgPhrANz+D7H3raNzTH88NIBqgntx9qzWHUFVHC7Nt5HKgHh4mqwHRwzT/NaxNB0iXOhK3wXsazAg3q6kOEAqt98dHowarqQt+lk8z5w8AiA0ViiyY4HCtzk+gPiMdC6KYojhIAEhJeS1ZvQn/ef6nlzlsYpVdfnahnCgH5L607tSxAYTGYXTQM+BeH+oa3oCfu3ICiHdfAWROlQo3E1kxM8KI0U7UxGplMzIUjiwtG8GyMh0g8EC91OLxRAJw6pYypYF1tA3l96o33JH+PRl8PBXjgBwEEBRDV3SvwPGtA9eW7MdEMUVxEAEQSendl3euERUG+eHFg/uHr9b/pZqsPoT/qH2QHzDz80BoanqD6VmoYTo1TecEkA9BtkUUALKxWc7+WyfWmFPMN0v2VIDQ1AiuYJTjW++Z0t4m68RroQ5xrYvlx0EAWexIqlvs2HSh6LwIEHEQABDJ6frHz0+SVE546Xlz3WEzsc5VEFYCUtogvVvyxwAEWVs13268HyKC7xyrkgEFY8uhoR0P+9h6dLm6P8bkQ+06EtWkIE0CPED2eDHFaQC6rdZO3HYQ7CztskKJcEnD6raFpcdOIKLDp1s7oWnnu97aPAFWgH2tzUSn6rlTlGH6I/u9f2OR5nigV0Emvkl791z7fKtbi8/ZsqglzP8QAfI/9u7mN430jgM4N+AA8gkEMxo0MICYQcPwPmBgKGODAdmmvGmwbHLwKX9BLm19WKnaQ6Uqq1rRJtrmkjanHKrd7apqLxtZ27SXnKP+A5F63l5yKWM7+N3GZnh9vo8UJX5hmEmU5+Pf83t+v4dkQMwU/yhGUkG6aW3k022dkW6YqC7u5pImPRDMK4Ac/OHj0dthdvrn10f/Gk6rP7w5+ssXw9n64Pmnf/7+yy///u37r785ReDw/dHrn4dX+nT0cRgkPHt19PHVSa7jj2+Ovnv25MPzf3z/nz/99Pabs2M9Br//9tV7/dO/+vjdV4enB3v87fVf370Yfsezr959+/2/f/fTm68/XD0eSvfiR/3r//3Nn9/+eO7C/3t99O7XV//vPX9/Oj69ev7DIYGzDwAhGBBriSNpEWvwoKk9dbTjaQuaGiWqhJAWeNpsDCAHJ/PwsCn6hQ/On+J0Eh88ffrF4fCjk9eefcPBMAa4fNXjaOHFyxeHT86vGh3/Sf/0h8+X+/zr/Jsevnj59PDJk2uXm06//vL4ps6/6OAabp7c9QkAgrG8gJgdUqfhIUmQULUyUma8pHaLRC1gOSPigzM+VyOQ83PpxUn64OIse3Dt/H1w/YUuvuACJtdN4gc3vPCGO7v96we3vYDkAUBIBsTs40lqy2vSz0fvjNBelw5syDRJfpgV8X7noN8KCAYAwSACEHOJbQdXCMqjm1K7dx9v65C6DFklhN4m/3AwAQgAASCEAmLOdmohknZieco7vO/27IZNYUXFTpIfbpmtmwEIBgABIPfdvRmprHpIqgYJVvsR+jZBbF5+K0tUCboj+7ASdACCAUAIB8Tq5lspCzExyOBJ/ble9rY0CBXeChOVALEqbNwBQDAACAB5yPo3txuzkJUG6RVujjDcUpcn6xTCqMqPVfICQAAIACEXEKvS214jSRDP6qNm3n7jco7I5YlKgPiY5ng7BgAIAAEg5AJidqQ7ySBJaRBPeVO4obO7XWG1AlEJEHegVzIDEAwAAkAeOFzxStVEViK9ckOaw8t0JaIOkbJHugUrAMEAIADkocNGh39ZJqkplmUt2ZGuW/enAl2yEuj27FZ23JJ7AAJAAAjJgOgT5846QVuxLCb/dvea06Joucv7iKogLHSlsVu2ABAAAkDIBsRW5x4RthXrkVi4PHU6Il2WrBaKJY0fv+cwAAEgAIRsQMzWPLvrJ+mE24Eg2iVBnPEumydqA2+dFSgbAMEAIABk3BikKG6vEdRV0WJabTEl+4V0gCgWidrA62U4IxbsAAgAASCkA6LPn7UEUecTljcD0TMwHEWWsDMI6bE6YAEQDAACQM6t4GR6NXIKCgfPGWps8vXPgjgLrJghqQDERoVVxQpAMAAIADFkSnFIYjJBUlesUGNHKJ0EHa6s2M2S5YesFY25FAABIAAEgAxmUamTTBAUg1iCjR3muG+JMyuKWaIKCCm5Z1TCB4AAEAACQHRBMp2cnxxBLJZguaUL4sxqWpqoBia+AGvYkScABIAAEABykgfZyiUsRGXSW6riKoqENcCiBVExbMMyAAEgAASAnOYCOjmSWvOaPOUdVla1AlH7ryihZ2DBCwABIAAEgJxm0gudbT9JeZCBII8J8yOqslEDCyYBCAABIADk8ypWWheEnBAkVK08Vr0kNTDxNsW6kQX3AASAABAAMoxB0t22n5ieWKFGJZAVAhQ5ftTZnrENvwAIAAEgAOSsJj2tbftJ6O4+8CPY2Jcpc50L+whpgmWNqpzBDSMBCAABIADk3MhzrVRo2QXRH8+f7Ovnf9jynFAnIg3iUFjDG9YDEAACQADIBUHUzXJwuQUZPJwnlevFj8+PsuabTJGAjbzudM/41ToAAkAACAC5uFEn0K8tdUGI3gtrvd3MuocPzKXdy55Kp+NaxPgDFwEIAAEgAOTSXBPpJf1LfUhhsLwnKGfrVlSEk+jlFsQns5Po9wVAAAgAASBXSgp77dTSptItpkS1ddaL9/iBM2zYu8SpdHuJ4ZRJJHoACAABIADkSkFIgWuVQ0u5jGU5Tp/Ll6o/HAVOKC3tiVLONMuUJuIjAAEgAASAXN2xE+UrtaBlKf1ItXvSlWyAvc5zy9pT0R3eikxohQ6AABAAAkCuDhsd6eSWryLEYtJbKF636WrwwJPIMs9D9bkgToxGAAJAAAgAuXbdI9PdTa0s3TEg1QpTuv6ncack8suXCLGWWG1yi3MABIAAEAByfeY1z1aqoaUJQiwny1edm8MMW15ll621uyu+ZXj1IADBACAAZITFD76b9HuWY0Ov/gzB1b3bEx3egCbRSxSE2H3yVmSSpy0CEAACQADIjctYWa21GlySIMTjr/X5uu2OdTstUHcuSUmIzVlkOWWiHgIQAAJAAMjNQ+H7tdjiByGD20+strn4nas5DoVRs9RSBCF2b1yTvZN9DwACQAAIALmtLF1id1cTix2E6L2vYrVNYaRaOjrOBkqLnwmxuYtNLj3pLpEABIAAEAByey6d7ydTngUmxGJaSZTbbHzEZLIjL6iSb8GrCh31sBb2TvxtAAgAASAA5PZBZZqtamJlcf3wpHL7gbzzHg+s8gX3IvtBSZxQdJkBCAYAwZgxIGZHVO5vD4IQy0KuXpnWqq1mlrLd6+d3mQ1HFzYIGcRQrDSVRA4AASAABIDcXU5Q4Cq1tZWFI+Skc3tfjt4zGWBzF5pc1r2QyXQbFRH5KZ2RBUAACAABICMUNPvi3Z2GZ2WxBLFYPLFcRVBc99+Ya/fFe4yygMl0Z4bVpna8CQABIAAEgIy0LlJiNrZji7Shd3CnwUZLjD9wMceRZ8Twwu3orQuPA76pFbIAEAACQADIqGWF4i9qa6dNQeY/+Bjwsd7e4uvWMX6Y18TsIlWmW6nwBqtM8YYBCAABIABk1OENi63G2gJs6dWNC8VyHTU91lYk2+CBGcW1INl0O50WNWmqu8cACAABIABk9Bk1Kot75TknRL81TzCV7KtZtxEPLBTd9oXgQxXj1HTfFIAAEAACQO6TGVD4/vZcE6LfVyKV3OTiPoMemA0o9JwT4qAKQk+OTvttAQgAASAA5J5benl2uxELzWkqxGLyrK0mW4wUNSoX4CoGVLnoc8wxH950gAvnp3+HAASAABAAcs/hLgb6u1W9x+K8GXIcfazmNhnJa2TI4FJkls/Oa3sTRzTDcOH6LIADIAAEgACQe2cG6KK8v1dLBVfmjQ+Pv7y9L2S8Rs+m7nyYm8BlDfincNbjajNSn03FCgABIAAEgDxg3hrMqL1Wcj00P9Xpxz13G7t9ITuR1SZXPcyp8RlN1Dff1QA2TvLO6q4ACAABIADkQYS4olKzst2Yk1bvx01Lkq2erNCTChOc3izDykX33Jw3ZaPTvMYXqNnFRQAEgAAQAPLA+ctBpbnOTs1vWpk1IpYVU6LcrvTCUdcky+jsdIERmxlqLpIhDm+cFfn8TLcYAxAAAkAAyBhhSJHvVpLrQdMsl7IsK6FY9dEGN41TPJxKoCtGZr+S5S7JW1q4PmPKAAgAASAAZKyfyr0Su9GqxTzDbVDT3XSl77saBB/dQN41nQe2Uhl2Qz9yamZLWTZ7PcI+Zor0zKMgAAJAAAgAGXPQBUGstMv+oGfqhnhCifXkZoczdtvu3dt6eVELFGnH9BGx2Z3U4K9blOcinQ9AAAgAASDjT2teielu5sqxRGhahuibroL+9dpeh5Nn0HadyggdLaJQTscUDbE5XL6iLIp8ek7OSwQgAASAABBDFuWVuMDu5Ropf9A04QpD/dqW0FpstdbeV+WCbzb9cl0lSeCESMFLT8cQm5OOpsNMj8/U56YcBYAAEAACQAxL7Ep8c79dm2QgcnxNPfSo5losEy7OdEeUKyrxajOQyftc9okqZrW7vIrEc2ogO1fFjAAEgAAQAPJ/9u7nqYksAeC4JOlkOiQ0CcqvhABJxJZQICAQQARhRIQYlHVEjT+SmFQylUMK2Krpw972tJfZvex1L1t72r3tZf+CPexhL1O1f8/2e0FxEIQgELrz/YpTljg101j0p1+/97rP8ZS6MZNc+fD23uP5ibv97eeOyHfX2q/dujn9dOr5h/jQncUr8LqnLjEqMAcic8uhi1pB3NYbWpg1/yMRc7RzxZ6mAiAAAiAAcr6GRBdmk5EPbzfXV6fvnuNAROBxe2L+8dSbJ1tDk0vjV+YBuV0x8/w+vJIYmVsc7znnu1lq7/jSbDIRGR4xhbp6D1IBEAABEAA5/2vm2OLs0OC73zy/93T6+9v919q/ZTDynfjX+2/fnVhd33z75FVi7P54uMt/tQ64x0QkGR9cGZq8P97beS5DkbbO3o05E6ZXKyMzy6GuK/kkRwABEAABkItZMBRanh3aevfoyZup1embd/vb61dE0NHe3n/r5sT8+ubrZ+/iibGlaG/X1XzJbFtPaGMuuRUfHExMLkbD3/Iew7ae8PjSWGRwMB4ZmTG1vLIvIwEQAAEQALmwPQudPdHFuZHI6Nqj95tTj1envz8tI+YfEHbcmph/ur755tmDdDx5Z2kj3NV5pd9QLg44tjAzlhh98TKSnJxZjNb7oJG28Pji3OTQ1uiLweHJmYVQV+eVfpMVgAAIgADIhZ5U/W3h6MJcMp5ee/Do9fvn0pHb/bX3lrcf+Tbz/mv9dycemnK8f/3swdray+E7S+ZluOr3e6yQecC9seWZka302ouXW5Eh04FouPNr//d+v6p21uSIxF+l19KRsfsbsR4LHDCAAAiAAMilXJx3xRZnk5H4y9Ef0mtrD16/2bw3tf746er8w4fToocP5+dXnz5en9p8/l6wkR59uT+l0KZ6LJg5GgktmKOvwVfygEe3hpNjd2buLy5sjEej0Zj5Mzq+vLB0f+7OWDIR/0Ec8OhgPDEysxzubLPKQQIIgAAIgFxiam90eWl2ciQ5nFgxMXkh+lF+iAQakcSQONUujoc6PXaoJ7a8NCcOOLJlYpJO/3hQOp0efRVfSQhb5pbMQYfVjg1AAARAAKQhkrR19fSGw6FQTF6NmxflsVgo3NvTY53r73qnxs0D7pUHHBNHa36EQmHziC18wAACIAACIEQAQgACIEQAQgBCAEIAQgBCAEIAQgBCAEIEIAQgAEIEIAQgAEIEIAQgBCAEIAQgBCAEIAQgBCAXkuqQafY+02qOL9I0TfUDCAEIAciZz6yZVNYsVbK1IA5n9nCpssuZqQQdfgAhACEAOVM3coYsULAzINsp46iUatZVcAAIAQgByFkGICWvbhjmh9epNhsguvxnn2vADyAEIAQgdRdMKbUTqTu113wjEImIkq0ACAEIAUjdFaq6objd5pm0L6PaHhDfzvX9vF6fW98nxMKCAAiAAAiANG5yudtnDj4CAfNc6m4J2h6QciaTKcoPs9JuRy5fEyTlABACEAKQ+qpkFcPIt7jMIYhRLdoekM8HWapfdew5+xQ5MikBCAEIAUidU+g7hpg/L3rFLIjLYXtAvpguz/SJG1lKdhtACEAIQOqdQjeUQGUgK27lBAaaDxC/Ky9WofUVAYQAhACkjtRi1dANd8qj7Yo7OflurekA8ezJIYjPCSAEIAQg9Uyhy7kPr9PjNyUxhyK51uYDxJMT65it+tcIIAACIADSmPyVnLxzFfR4gh1yLtm2mwm/AkhKIOouAwgBCAFIHVPoTp84d3bI2XSv3BCx3XyAiHVo3MIiACEAqSs5dW7sFA//uqkA2a4yiU4AQgBS7wAkIxbvKik56hA7CnVzNOJoNkCcPvE0E6vuJAQQAAEQAGlIwbK8eVOS8x5qISDmQ6qF5gLEXwyYXwTdm/EACAEIAUh9U+hKbn/zR+2pivmyv4kAUVtLwg/DXdYAhACEAOTUOZx5IcbH7eea0yuHIAN2BsRV/FSm5HSlAuL+lemHZdcOAAiAAAiANKI9OW3eV/x4UV6RGyJ8LjsDkvf6Dsq7Ffk8Xl+3dSd+AARAAARAGpCa8cmFu5/eAuIo5+27mXAfEF3Xlf0fur7/RpBcxcKbXwAEQAAEQBoxhd4h30O4e3D3v1AVZ1jvro0BOeqNUoHyngogBCAEIKevIJ7DqwQqn59kxYIkdzZoX0D0X/XxtbbejlYAIQAhADn1FPpvxakz//n0sb8kNqbrOyX7AuLd6dvZ77rXl5ezILqVb2MBCIAACIBcfpWA3ID9q/0PN3JiCJJv0WwLSHfhU2Idlqsj56292DZQVAGEAIQA5DRpcg2vkisOVD6rwy1+M1CwLSBfPLDEkcnm5SAkdwNACEAIQE63hldsoFO8gUDusx9V8Zu6z6XZFZAjHmUSbJGC+HY1ACEAIQA5RRmvLi+89cNrkuS4pNJEgHi2s245BKkACAEIAcgpptDL7mOXtRrm1bjaRIB4ij5x1NczKoAQgBCAnJS/Ih8BdZwgSnagmQBprcoFaZa8hwUgAAIgANKAKXRDV65nvyggb+dY9uG0ZwJEy8n5oDKAEIAQgJzYjaxi6LrP5dEOpVbEu9ENdyrYRICockGB0eIAEAIQApATUjPi/bWHNoHsn2jLeu0Ri00EyDYjEAIQApDTnk1b3HKYsX3UjLJXPrW2Y7t5ABnYEcvRmAMhACEAOXkKvSjvU3mdR30y2CLX8lYrzQOIS877HDzXHkAIQAhAjl3DW3tu+96R8+sZ8UmLXo+fBRC1KAYghp615AMVAQRAAARALncNb86QL689+tMD2dpK3htNAYgaFC+1FQvPSuxEJwAhADkhbdcn58mPuUnl2M3L1/SVVDsCoh6kadt7hVJKfjFMMK35RHcAARAAAZDLrDUlLrndqWOuuNVCrjYECdoQkFzLQalUKlv17W+erFp05wuAAAiAAMglphYDcoRx7Bkz2CG3RdhrM2ENEP2YZ7fofSUNQAhACEBOOpW6ag9yP/aWjVby1oYgahMAotfuXxWtumQAQAAEQADkkqfQDSPffTwPlaz+tUkSK9/COmoA4q6WWv0eACEAIQA5aQ2vfJOUcf0rL43SuuU0urvbb3NAdMW3E2gpblt4qAUgAAIgAHKJUyCFXadZ5iv3bPytGfFHnAUbbQXRCs7DlUqZYiFocSQBBEAABECoMffzLH8EAAIgAAIgRABCAAIgRABCAEIAQgBCAEIAQgBCAEIAQgQgBCAAQgQgBCAAQgQgBCAEIAQgBCAEIAQgBCAEIEQAQgACIEQAQgACIEQAQgBCAEIAQgBCAEIAQgBCAEIEIAQgAEIEIAQgBCAEIAQgBCAEIAQgBCAEIAQgBCBEAEIAAiBEAEIAQgBCAEIAQgBCAEIAQgBCAEIAQgBCBCAEIABCBCAEIAQgBCAEIAQgBCAEIAQgBCAEIAQgRABCAAIgRABCAEIAQgBCAEIAQgBCAEIAQgBCAEIAQgQgBCAAQgQgBCAEIAQgBCAEIAQgBCAEIEQAAiAAAiBEAEIAAiBEAEIAQgBCAEIAQgBCAEIAQgBCBCAEIABCBCD0jYD84affk0X7y99MQDSixmQC8suf+TZszn76jwBkwPj7v38mi/bLP5Rct4uoMXUHlL/+jm/D5ux///2TS71WMMjC6XwJiKgxtWhiBPLPP5JF+/lfSna3+//s3dlu2m4exnGfzMhoZAtpJDMsssViLMBmMZjNZjEBwiLAJlAFROAAKdKcVXM0FzF3M4dzCXM0J//rGdshKU3XNAnY9Pm2UtWqbfJT1ffj11sQOk//sHYgf+C/4e/Zv/9r70D+8s//4WqQd/vPn/+GK7nobP31T3/gP+Hv2r9wFxbuwkIId2Eh3MYLQBACIAiAIACCAAgCIAiAIACCAAgCIAgBEARAAAhCAAQBEACCEABBAAQBEARAEABBAAQBEARAEABBCIAgAAJAEAIgCIAgAIIACAIgCIAgAIIACAIgCIAgAIIACEIABAEQAIIQAEEABAEQBEAQAEEABAEQBEAQAEEABAEQBEAQAiAIgAAQhAAIAiAIgCAAggAIAiAIgCAAggAIAiAIgCAAghAAQQAEgCAEQBAAQQAEARAEQBAAQQAEARAEQBAAQQAEARCEAAgCIAAEIQCCAAgCIAiAIACCAIgTzTCBYCQ+7rSalVo+X8zlRKdcrpiv1SvtVqcQDwUYhqYuZJX1WRNbAxca9sC1bw0cYGgfAEEABAGQry+kgVA41mnXi9U0ezVP7Pf7id36Kftn1q/u51dsJinmm41CPBKkvSsHxVgDj62BxR8MnJg7A1da41g4xAAQBEAQAPkUExk382KSjd5mJ3eLmTIaGn211yvLMs93n77xvCyXe2rfMIaKNru72d7eXqXFYr0RD3htN0KHCu1arppJ3K62TwOrzwbuHg080mYLe+BEppqrtQohCoAgAIJ+d0DoQGRcr15FV0t9vVAMtSzzJSGVSnGc30/YkZ+yf+r3+zk/Z/2GUtdaW/uj2c7UV9FEutiKBz1xUsvHhAoVkU3YA2+UoT1w1xnYmsz/bOCniR8G5uVyf6htTH25SrBiMxZkfAAEARD0ewJiH4bnrv4+uL6x6CgLHMcRD2YQx32+nH761YcfrbWVVx1GBrfJeifs6hM8VCjWLrIfrIE3mlEuPQ78xWjfH5jr9ixGJvrgQybfiAd9AAQBEPQ7AUL56FCrmF4NBjvF6PEc6T9eOImf6tM667eO0kvl/mijD7KsWIkxPsp9A/tCnXw6Oh2sNaMnpwj/i+c9/v1+vyTI6nBmDqaJZK0Q8FEUAEEABF0+IBTNRMa1TPba/Kio3ZS1/pPES9bRr66szoLMCeXhvakv57lWOEi7RhFr4FChnr7V9bWm8in7k/W/dl7nT5OkIPe1tb5cVZuxkBtvSwMgAASAAJC3vNMqUmiKCX19r6glSZJea8ezNZWUJK48nH3Ul/bprCBDuWBg+7TVXDc3Sr/rDEy8ycCHia2BJd7QdqbO5lvxEEMBEARA0EUCQgfjjSK7NTejXpew1lLyjdbSZ+d4JEmQjdn6OuEcl1Nn1SPcyWe25m7U499rYMIeOMWr2kdzm64XwgEfAEEABF0YIHQw1s7NJzvNkFNvvpI+O59lHZgTXVXZTPbV+jhyJkMsLlsWlzezYVkgH7ZaxLtNbH0AoTe6v9mm8w0XGQJAAAgAASCvPxQPjisie3M/6suk9J6L6dFORJJKvaG221drjfDJnzakAoVmLjPZKH3Z2XqQ7zrx4+m7VNlQdvt0sR1jAAgCIOgSAKGYeFOcTxajXomQyPdeTI8RsQ7LZUOzDstr4+AptyF02N5sWQN3OemU81oTp3hr57Vli60QDUAQAEEeB8QX6uSu9puhtZg6x8nvv5Y+u85s36k0SSQr8RMdlVPBcZHd3ll6HE7VnXJg+yEa25CbPZuPBQAIAiDIw4DQhXxmdVhMT7yafjouJ0qyMZskxNYJXgBCx+ppe2D7dt3T7D2+vB5CkoJtSDRZiQAQBECQRwFhxtXo9Uztcv5zLKbHhnCl8miSzTTfmRC6kIsuF31eON/Ahw/sT8nGzfQqH/YBEARAkPcACbbS04kic867Sc6jx/FrQLiusdET9Xe8oB4YVz+YWlk4fvPI2ea1vgvqQs/mznlBHYAAEAACQH7p0kc7PV2Pumc4b/XtA3Ohv9Cj+fi7EEIxjeTUVGSCdMfAjiL+sqZnxcLZHoYBIAAEgACQl7+8I1yf6xtVIAl3LKaPL2kkOVkxs+L4rZ+UoOhQhdV3/ZJ9CcI989obke5wPU03zvRlUwAIAAEgAOTFt+3WovpMJSWX7D6OV1RS4kfrZbXzliuq5WUlYXn5cM+u6wZODXd6pn2W23oBCAABIADkZVcCYjXW1HruW02fzmTxo91ebETot/IyVsmYMzUluXBeZ2CpZGyuk+0zvOoegAAQAAJAXnLjVayWWGsy4crV9GlJ7RqbbbUV8b3NwPOJVuZcPbCUUu/NTOXkT+QDEAACQADIz9/GGq/PJ0qZIF27mh7O6zwQ0nj1Xb3WwOxE66UkwsUD25+bJKizSbodoQAIAiDIjYDQ8VpmovRSrubj8bQOwRuLvdgKvursVbxuDyyQXpiY7KqzbbIZAiAIgCD3ARJqOgfjbl9MH2/IIi1CNlGx8OtXBoKVzFaz+SA8MLA9cam/2KY7DABBAAS5CxCmk8wuVGc1df9yeiCE44c389ovPqxtDbxdqCXvDGw7VzLubnNxCoAgAIJcBEhczN70U36vrKaH0zpESlau2eYvnMeiYmJ21y/5PbHfOpqYKw3N21oIgCAAgtwCSKAd1UclgvDQavqwCyH8qd5iWY29dBMSaCauR92Hv8JLA1ufLsdrg0yBBiAIgCA3AELFq9NN2Wt6PJ3XsY7Jo5UXbUJ8sep04c2B7U+a66+ztZN8gRQAAkAACAD5wVuv6ivT8Nqx+GfndeSZ/oJry1SoZg2c8u7EhFRS9HnrBG/IAiAABIAAkO8+h11I6jNZIkiPLqfOgsr1d6v8Tz5XyBTS15pMkl4emJR6u0Hx/Z8rBCAABIAAkO9sP8L16Mc+52U/Hp6z45VJsvETp3XocC161+dIL8/rDFwamWw7BEAQAEHnAoTpWEfjvOTt5fRwYUDd7Is/fNN7oJU2Fd7z8zqbkPL9UozRAAQBEHQOQKhIPbpzth+E57PfsWhtQjqB7+63IrXopp8iL2JgaxMyXLOvexQfgCAAAkB+cfvRSG4VWbqI5dS5li6oi3kt/L39VnU/kgnv7z8eNyFEb7bKxXwABAEQdGJAgvb2Q7gMPp5ux1K2yTH9zTeXzO/6woXwcSCkOzTZBg1AEABBJwUkkltqh693fjnrKVEybq7aX7+hNyJutTJ3QX44D8FwvbvbCgNAEABBpwOEHmcmwxJxScvp4eUm5dkqH/nKxM7A5KUNbJnJK8tqBIAgAIJOBQjTul2rxIX5cXjVR9daUGNfgNmMTlSOuLR5nX9BbqRfxQAIAiDoNIAEatONLBGXtpoeCBEMk+18fl0gmP+wkC+Pj8fbsVQz2wIgCICgEwDii4gDRSAvczl1Lur0dtH28f28kao+Ei51XvvaD7+Y1gMABAEQ9H/27uW1reyOA/jd3aPFFVpdIcn4YlkP9Jb1tF6x9by2xJX1xhKKvDAIKiyTXcVsUkLpOpshGcgMDQ1TaGZaSoe00HbRB8ykgW66STrNvtD/oVRSMqmdcWw9bkzQ7/vNJos4cC/W+ej8zjm/874B0Zqd8r7ErepwOi3rRA7asTfX3Wq3nHLFwVb3gTmms4fLvvdw3S0AASAABICcK1+lap2CZ5WH0+mhwmTP9/pYun6nphSkVX7eyRNLRdmm/rF0AAJAAAgAOXf6o72qyx/nBMntK69OhBjiG408t+phHEt0aikRgCAABHlvgBj9vaSVrbgf0/HUUak7S+LYj+NkgGNs5Z+YsfxRbVcEIAgAQd4TICZ3rxha/dF0KoiUb7h21qLHxRwj8MSvrkVpq7yUDkAACAABIP+/eVDet1Pw43WnqG7NdhwOkXjeqSHWZNOvByAIAEHUB0Sz6ZxcxEdnPNUVqnuNHKEH5kLhpk8PQBAAgqgNiLBpkyvS6q9/nPlCPkz/QElIVB54uvITLgf1AAQBIIi6gAjm9WqCkfk6Pi3olN2xw2peIvTMHKvs2QwABAEgiJqACKasnPAQmn5MFgSCRjG610nQEWTS16S4t60HIAgAQdQDRLPpqpLyg7MOm8HxV3G9v1VPOCgJwvbTbgMAQQAIAFELEGFrvZon5Ueg7/VPh1F9sKUU7BxHSJBKWq3+7gAEgAAQACKY1xVSfugCB+3Y66/h4zlIlZYg3HgOYgQgCAABIGoAojE766TqV1LkwBJ/U8YxxA6Vyd29HJ3n3+8FjQAEASAARI35h1PJ09m+O37Qk/5G9MxCshgdC+KgA+j4z76siiAABIAAEOKACJvbSoEj5IfOOuz5zw2fYtyrJEgJ4ig2YwYAggAQALJ0/yulIjE6ZyG4sR/BtxaRDX5vnZYgobA3JgIQBIAAkOX6twflfQchP1hoKPu+V74x+Fr1CEdKkGR5VwNAEAACQJa5PyouFx2Uzp/bB7LbdEEf++3y5FZ0OgvpXK7hzQgABAEgAGThiLvNJCE/OCYNqrbNC29CcbeSOUZJkNCR1wxAEAACQBbewFtqd0mNmuz0Vrb0jr0E2XTRzii9jEg1uwZAEAACQBY9AFLrBEj5cdLf2HnXbrSdQ7lCajbGEmmbEYAgAASALJQ116SBCaGqzUnfG9W+k9Mbh9UCKUE8lbJPBCAIAAEgiyygB+UCHT84xoWGPf8lpx/EWKsbkeispHOcVPTuagEIAkAAyPwL6PHmPqUDhMw+UHyXFf0Fo8+btBIChOlCyY1ltmIBEAACQIgCIux4DxyU/HCcHjnNl4+WJluzGKIkCBeor28CEASAAJA5Y14/InXwQTrp13auqtekLJPOvJQ28yaqS3TmBSAABIDQBMRkU/KMULl/0sEkbri6rHdYz0uEXsukM29MD0AQAAJA5lkAiTUrEiVA7APZN8OpB4Ov3CC1DMJCSW9GA0AQAAJAZl8AyViSIUZpuThy5NyaaWbm3NsndTkIC9RtawAEASAAZPYClrNrpXTqmrMmLSnNjLTKCYmSIJ6E7NcDEASAAJBZT4DE0qSuAGGOwcyDpDbWatDClSX3ShoAggAQADJbC5NMm1IBa/ykp7dcMzcONDr3Jk2xCM1BrJ2aEYAgAASAzHYHoeso4KF02mHSAmv283IZS7rgoCSIJ5F2iwAEASAAZJYCll+uUPKD2YdzVfmFWOtmgCMlSLi8KwAQBIAAkKuL/KV20kHJD91px2aa5w0Zt8vhEEdpM2+ublkDIAgAASBX9+C11QOkeiha+5bUfK9oy6IkSHVV9OTloAhAEAACQK6agMTlArUeijHDfO9IjHsPSB0nnPTlzQAQBIAAkKt6YG00HKTGxpNbV/VQvKjRi1whtRNLl1NcBgCCABAAcvmX6+1qnlGagISGvejc1RntzuFNSj2xxlOQSjMOQBAAAkAu3WG02yzqKH21dpx23AusDxvdk3V0SoKEGhYzAEEACAC5bGB0dXKkegVa+8c7i1y6l7EopNryclw+Pfc6OgABIACEEiCaWLlAyg/7oOozLOAHb/CXk1ZCfIxfVfgwA0AQAAJA3r04nG2QajXLWfvZ0mJ3tm6ty6S28jIWUXx6AIIAEADyrrXhaC+ho3QExD449i80AZk2VaR1QTpzFC1zYgtAAAgAIQSIOZu0UyrrSyd9p5lfMCZbs0DpxD7HAkdzXm8LQAAIAKEDiOiX8zpKgIwnIFFxUUCEG4e0LifkdMVmSgNAEAACQC4s69cOQqQ2Fp30XQtPQHjeSG0K4ol0to0ABAEgAOTCLrxKgtQZEPugF9cvDogQ9XathMAd/2oU5ZQWgCAABIB8fzzcqtG6B30yAdnil4jJWa7Quhgk0LEZAQgCQADIBScblAShq1o5yT6U4+IygPBR71GA1EYsT7E5z7FLAAJAAAgVQMy1A1o3tU66KC7lB29wpfcpTUE4j7Vq0wMQBIAAkLe3YEXlAqWxkDkGcky7HCB8tNXIkXppLNzcAiAIAAEgb98jtd2ltQJi7a9vLekHb8ymEzpSRaxA2i8CEASAAJDzB6tTvQqpNu7SaSeoXxYQTawVpsUuCx+aAAgCQADIW/3J6zlSKyC55HpGWBYQ3pyl1ZSXscheXANAEAACQM7t4W2GGalj1acdn2FpP3jR7y2S2nrASd1DIwBBAAgAOTcQVvMeSt+kQ8P27vITEF4obdQDtJbRK3u7AAQBIADk7Jm4jQMH9vAu1M9EpnWYkMvVXSIAQQAIADnTx10ukJqA2AfVmKgGINq494DYTt6iNwNAEAACQM6ciKuTquR7rP1aRg0/eMGcVRISqSlIQPYBEASAAJA3u1FTvSKpCYhOnSX0qb2+JqlldI5JB9lNAIIAEADyXR3Glw5QGgK50PD4hlYdQISUtxuhNAXhpEQrCkAQAAJAvjuFXuvSOsxw0nduCuoAwptccoEUIJy14xYBCAJAAMirZFoVWkUY9SpYPC/GWsUQqX4mjnDWBEAQAAJAXlWwYrJVR2kPr31wvKNVCxA+5W0EOEKAcLpCeweAIAAEgLyqYK0n7ZTaYE2vshVUA8TkrOeJ1bBu+kQAggAQADKtYHkLpCYg0ulNv1E1P3gx1iyGSLXknbWGBUAACABZeUC0QSVACpCQqhUsnk9tHFhJ9RGTZqxhARAAAkBWHhDjetfOUbsJRFAREJNNyUuUdkGzSDWoBSAIAAEgPF9qF0lt4pVOjtxrKvrB64PlioPQEghjua5zDYAgAASA8EKsl9fRustW8evVBES44U3mSAHiKLZL1wnIZ48+xccZgCAfIiDidj1Hagk4NFR3CYTnM5Z6gBQgLCFHhWsE5Nf//RofZwCCfIiAmNeTdlJ9TCbH0FX1g990lhMcqaP8gSO38foA+fQvo19hCnLVS/rti9sABLl2QHbbBVpLIKe33EZ1ARH95SIphJkjOUtDRbUA+fqj0UdffiDD9C/++OADXNh59PLHD+8//OLR1f/y3r8f33/2yeRvt5/+9P7zbwAIshQgmpgcYcSWQKKiuoDwN7wNUht5mWe/Wbo2QH7yxYP/PHj2J5U/HX/+/MsX8//UV3dGd//1oX3QP37yeDTNz2YYFP4xGj1+Ov2p34xGD58AEGQpQNa2uzlKp6h1oaGlpLIffCmrRCjVsDhPQomLSwFy7+e/e/785WczVF3u/XX0yx9+O3pyb4Zf+dtf/e2fLyf59vd/+ObFx5f875+Px9u/rwggnzwcje7+6M6du88ACHLNgGxlw9SWQFybagOyZpNJ3SrFeaxH28alAHn6P/bOLqaJbA/gvlkfJPuk0SXXeL1qvF7Ddf246qrrxxV3NdcV193sms3uwyY+bPRm3+akgU4zEmITii2Xph/0M/2g5ZtAWwgtSYFQhQRCSAhQCAlPTXyGEKvk/s+0M51+TFvYFpGZ/1M7PWfmzGT6/53/1zlWPGXuyA8QckAx7SAc0wp/IR4mK0pK7ViOwMkSNFAUElgha+ZJclsBop2v2VQ0Y94L99IfXp162yACRJRtBshXPz08Iqy9pIpcBUJLhbBWM9kjOfX4dvmfAYh5hNbxg/k1pVaGnARJeJFXk/+Vb4FzwlSckqvo0y+YeVtG4GdlcwHafLi3t29bAVIzNOZq2lRcxojQxmqcdiJARNlWgJT96+6XQguBXDlQdIBc+eHxcUE9xjMXfsq/HiU/QMiwFKlAyS/k13h6qtUMitE8Jy8gRFyPkM7+cnw8stiuwASZ4beA1j3d3kICMOsItb7YToDoKYRWNtMhBDf6tmClIAJElCIC5OC5X78Q1EqyJ58XuBb5pitBhAWQyrv5i2n4AWJqR8gDE2dP3sCGxi4NAD9Iwie35zdBJhGa7osjqqUbR5X5Qu8kEeprKmTG7p/YboAMLxcUDU/eigGbcgQpAkSU7QdI+aVvz0sEtRDW1Udniw+Qw6fv3hHSniCSM19U5c9l4wWI1gW6q9eOkLwm30scZZWpHY3m9TfZENqoS/hyekCvtvJaLWRhHp+PAJC+5c1ZICTcqKrgdDcRIKIUEyDHTl84JSSAfPbs8aXPiw+QshM3K08Jq57/ybmDWwZISAGTbA0Og6zleYctSpuD1vMkobdNm/O0fsdNZR2QgoXj+LN/ok8AIC0ISWdFgIjyEQCy7/6jb44ICyDfnTtUfIDsr3jwzUlh7Qny9ET5lgHiRMjqI5xyhFryvMNOVM/57MzTOgCq9ANjV2CatPMDSt8TY2PoGke02vtqKINPmnf6njmElH16EBMXIAOjsuqwP61589SYTPaqgw9zzbHRGdnYVErBOGlwzXgbAk2MK89iMIwGEZpY1esdTS+y2FiGQLV3cKxHzbJY75iFu3biDpkuPq3eV+2sjsZMIkBEKQVADtz47UtBuV4++++TEsTQcSnhBWG5AiX3HuWNovMBZJUCQ0FL9IKmlOV+hQ1WoyUBBJJQK5YNuZtHEAr2Mu07ACCdvHlWBqPVyPDo9YS7TUfp2qYHU1U22Rd0W4FyUrfR6LZ2JgFiktUGKZ3V2M8NsWhGPcs2Cp8m602RHd3WoI6yWT1jHJOp3w3HdEHrwkB81NVtRqsKIcoIVwxmuOzI2ATd3madnklgaMPoxlWENmi/3JvWvK5hjm7eZvW4NCJARCkBQC5/d1EiJICc/P0/18tKAJD7R4VVi77nTOX39/dtESCLCLnDBDFkRCiPO2gB+dhABUmM5nPtdCNkZBbnmG/PqR9jKqTqin/02tjSkYA2VedzqkpQuzYBkIW6ycQhlTLpIlN/kDItqZUsBSadcuZnaQ9zbNSdLFqJ0Ur9LfeK1WkxGu2Yjv2NssftnzZO+5eptBmqZUeE5EshESCiFB0gB8/9elwinJmzZM/5549u7S+BC+vz299dFJQLS3LxZt40LB6AxBKRCsM0Qsqcb/BQcK6GAxDNe1s4Z3uwbJSMA2kIV9fV8cbJY1IkjQOkB/ghnax3LoI2l6V6gRxcdd7FWCDdc/AtaKVLTTzMcijqDYwGT2SkG4Pi/UD69XxwVNfvrLcDAxhLoR7Gi9yLL/tx+aOK1uoN3CumWSDaBfqodSMODSWNHA+nfSDV/pjAI1K0L8zRgJwVASJK0QEiwCSsE8dKYIDQaViCCiZJjldd2SJAwE5YHgbN/qIVFFzON7gdxVICBsO5Vx/RM8uTkBqND/T79BR/nlUSIDAK6k3cIDC6uBYISZDqur51oMRaKBQyafHJ+ihaVbcOEYQlAhN8G+OPGoSj67SH7Z0SbiujxAS4oaDXMNTMLg/FD/UAN3Qu+p/aSdEsJQmtyTQEfOi3hEIDZjJ1+NWYQePYkmicwbbFEv5VExpwwfUGoUMaLQe6kcJLp6TNj+Mh60WAiFJkgOw7dvqqsLazffa0BHXo2JS79KDyiKCe5PknFQe2BBCXFDuPsK7DnqDVHC9wLzWSGpQARTuWqz1o0iVzY6P/9ewifFR25MjTZQGyZkQoghtmtsVHBtpB986zX2mASBcs9LcP2LEV7xYCu2PCEj9NzTSrrlnpkyJqhr1KvA9OY+5LHBuR0gYEfYlkFlbKkCxgSASxHYFXVmmBcbij8RYd2bOw1K+86nhj4kUXXjZGBIgoRQbIgbOP7glL7T37o+JQKQBS9s8fHgoqH3rPqZ//fmgrALGAerUO0LWBI6qcaVj+OV160LzJ1u3n79DJ9f+o+htz1XmwAMF2QAOrrzN6ZKbxAqTIeFM1fPHEhwga2tqSoAOJ3VVpy1IFACAB1rCJO7UAFPUMUJrcYDAlLsGTxgtmhLSTJdAsNkEs9OfsabwphS49rINLBIgoRQTItV8eSgSWhFXc7WyT29r+eO+ksNKwvj16eCsAwcm73rhmG6RypmHJ0Mx8ikaHyX0DyrH+CDceAGZCoI4oACB6sEAmX/BTLBMgHjWjncGGmKaD9jWAwv+xjUy2jLVFpqQ0d7iCrYI69s7AGqNqcgGkGU5qdbDPY0AH147lAEjKcxuG1oM1ux4gpHnN4LeQu0N9+8O+qIHc0QDZf+iru5VnhASQI79XlSSLd+/eaz9e/begAHLmwoPyLQDEoQDFl0iu9dlylcwN13rW0iwCkmhsVcT4OmhAS+om1kFalXS60ripAICQrWCtOHn/qVkKCZfYUYFRYOxIRNvBOmAOm4BkS6nVIM1tCAUbuNaTuR8hJbPsLm2NUY5cAIkButY5DqolAMFQYQCB8QEl69W7GyCmaEN9l719ZUQ22rgLGBIad+uCEwPkjgZI+fWbQltK8ZeSZPHu3Xv2qNCWU7z39bGyTQOE7FRhZ0r8bzFsZf02WVz44yoXkQEQIiCNWHh6vAYVO+E3GAz6WM+sHeeuNuQHCEn0YthMNAzPFwqQZOrxIELLtAoeBR1ud40lpHo6vYQRryYM47GP6dk0L8Mc2DKzTBdXOwCkJRdAAnDlJKNoECBfXoBoTat9b8LhMXjSL3c1QJqji0Yma9k96fR/8giZCha438FHBMi+s5er7ghK6518/tu1kvBj71+Ftpyi5OHXt8o3DZAwdhgxC2CZ4YuO7x/So7ObMkISJGFaocI8PV7JkZStVfcv4gh3qACAkE5MEHlrZ0fzZgHyCpRxIO5tQ4iy6RgBTTbZlDruZkxOpJt7O5VAyBRQRs72sAH8EkESHoB44e4GOeaWi0nNzQEQc0ekf7JbWVuLdeuH3QyQpi7uTjCI6g596gAZotPEe3c0QMpunPtDUPvZ7jn//G+3SgOQY4+qhLU1sKTy5vX7mwWIGe/jZJd54zIIkyy5nschsRLMHl/vaLPzxDa62Ek8Bg9eo1b5ugAXFqGOvo9PXJeyOLJyAmSWAUgXSpe0GnggX6+SDs0oIvHht1jTu7St5QII3J2UU2qOsRFfrZ4XINqOSSPn9LsZIOZI+sP07WA2zKzYO6d2gwVSduUfPx8XVPHC+au375cGIOWnBba3vORO1eUbmwUIjnogihF65p99iV1tFI2QWTNryU40quWLoVNslIFsBgVtDOcHCD6lP9qP3R8qhYHcFEBYC2QcbqSrxZeUcChj4JpV1xyeVUpb6dAMrsPfCHC6+BxkLoBEYMCcx6kNoERFIh9AyCFc577c3+mUySK2XQ0QbS8NDeNMi0EfHaSfcvXO5YdFqlKhrrwhHbzW6Jx5JwNkf1nFiaeCivxKnj39y9nSAOTwie+F5Q2UXKyquLJJgPjtGTN1afasKpPSyBcsjymUWYPjJtCX1qT6VEvpSsL8AMGY0qodXbjCY3J+awABU4RyEtqkZK0r0ajftGNQ0SfoA95NNnO6aBNdeAAyI0eqD5w/N4BAHqXTiXkAYgCCUl6/unl+XvN/9s4ttI3sDMD7ljz1ccuWkkIJhG42m9KwkNK+FMqSzcO2lDg0S+k+9KmwlLzNYCwdIRthgRRLWgldrCu6+CbLEpIlC8sGyUaWbLAwBmNFNgE9GfwcYaI49PznzE2jkW2FOLElnYdcxqMzxzOj/zv/PeXuaYCEyG5904fIYJr4LievLkC8pFnmuaeprOVQ9ZMu9FwN5POHX/ZXIjoGyN1LAsgXD4f+1FdNbW/+4YeHD7oECOyad6JLwjCaOhRHtxfZTeV2HfjYOLun1FqqjKVIVCI/YQPnughAuHmPYMOeej+ArGIZvta20PYDiHmB1a5h0JMs0PxqVOEjHQCyDlW4JE7jGstOl88ACHGSLHM3CmLfehcgKsjRZ4Nc3BukTq4uWa47QJDyW3S1AHLr1p/v9NW2+afnd397OQD5/Kuhb/uqufzNv/5492F3AGm8xXvigtSlDlkVitqEY6xTGSvE6Ha0Sl6QETyZWO8dLfLlqy4IEMQsa1i2LdE9iwEyM3keQN6Y2LOrrIhXeYmhCZ6ayTqW+0qqVEq5I2EKk8ctglM3xrfL6gCQ0RhJUkF9ABDob8myJeld/sSi90NoIJ9+nA+Q2//4pp8KOH1276fnl1MK68aNX9wf+vvv+gogd3689WVXALEVWRJMKn61rVgo+hUcGqhmGukoARAzYYohRS8zV64DToI6iH5SyheZfZPoXIDgM+fdbHvHEU8Qz2M+DyAMZPmtXoQgTBHPQDAFfl+lNMo3fpaNK3ybsYLkEAwzJNudOuo7AMQX54tz4VHoaRNWHsIT9E7mmoTu9g5AfvnP/zz+rK8A8r/nl9GPkDiUHgx911cA+ew3/7p9qyuAuLAU0zdbvuZzWJopNA1MKUlQydhnC0oHWROvmfhKO+BrIAK2ebqm1nUGSNZi41ZUxBRo87ojiBuznAMQxEBWRlDgDKp6ZVhsCBlhpxrWVICPQBxvQOgkxSAPZ/Cu4tvkVzCALWNAxrnsEuTEMlNfpmYxZYCYMfnGaJFIlN3s6SisLASbGdvNlXaPpZFvtXYiVaaRoc8J6fh/5VOVcsElZn6OWpvlSiHT8gjt+UZmlN7MVKWSsopKqdlVKpdSShl/9myoVC43Q3lxJrvX44FOZ2zd5oHB2TB9lgYte+mqlEsu2nKsCldsmRV5XYVKpenUIXRFAPL034/7KRGdAOTXlwOQGw+ePu4vgNx78ux2NwBRGfD3JmyTAAQxWAw62sOwVCfaxBnbScQkHO/avd0gjzMuq9XqLCXC4Kt+5yKTYOliinQGyNpJzgnSQOWMSggkDpC949mq2Wo9SwOxQQnew5QHYDRqKU2oM62znCxNWWHJo028zDn6ux3jRRrn86Ae2XShoxrv8YepJnwqb6jVwGUbA69OJWNGPssq8HGTux3KAFFBfeBjHaynsNDbYby6Wfj9ym3HG8f14GGilQO5l/WDJJH+loVgvajCf6fXZvyBnW3DKs1QVZWWo/qAf+dgT1KTH4UOgwdHGEbWyKHx1Zwxqq7QN3CyHN52B6aNCxG5ObJamTiccQcC+tm1PaFZZPM0FoPwKnZnMwaDprpWJ+rBtSyDGrvbfsf0Nkn+sM3jK+6pJBO+zo1v7fjn9PuxYsp+NQDyaOi7e/2UBoIBcv+yAPL7p4/v9NO9vHnvydCzbgBS0JAe5S1gOGBZbbsZJ8kenmmOQMxCu7NiYxrLwyiMfZL9MLxEN+hQAmSl2RkgGBtvw8l0bhe6fNTsSH6pNORrLCyHo7EzAIKYeQhQNtZ2I5Giuu5m3TJxhieJLkfSucUdEnhGgrTAJcRqFhaTueSL2CxvPkOMAYPFUds9nknLVjJH2oeEJwx1aGGyxN3LTsUUS6/wzV2ITKXVRtbR0yYsHxHJ6rY9RRlas8RbChdAmTJoE4PHEfA4z5QP+E5f7mUv7PJHjHyE4KGYo2SD4pUvvWhqSegAtlcFdUSt54t31lrbJzsXjWKs4f4ItwqDPAqRPELLDKmWHOKCFIn+SVKm3F5JUERQ7A+2v+u5EgD5b98B5If7vxoA5EMB5PuvuwAIgurlclgsslBaSm6R0LMLi+GzxuICq5dt8Zm9QEstXqOhQZ2pe1g+6Dv6QLC4JvJDS76cQYWv5egB35EQnaGBIFR8Ry9MTz5xtQr/Ok2QJmRb4wNsyoe0uwgVDFpemOt2uCu+kBVySe6Lv2Cgxtv8lQGCGNsEzG56hf90q2u9H4XlT8tj8xrQUostSO/iOhyhpAaAbGdyO+I91YQnmfyh2PWR3RIc83ZS/Vg3IsnMdEwgZA1qxFeuLs2JbS61cEIbowQ5lfHDRBcaB4BY+Me7Aiv2gNqoFwBiDq+0RL+vqa4EQP7SdwB5cHkA+abfAPLoaRcAycD3VV5hfZ5tiU2lY1fvnvafPabdejmLjoStYEA/e7BX4W1lByZ2WN2u0Dg17DCxAWWW41QImGZ3LUrajjNGxLw2zLn9TTHhhxHalIPG/ITGx7ScaIkfl2XCzGUwUrQMbxU9fNl3RpeMc2JheOxl0idY6OhOdGVDHteZqnHp69qfI2aGs4SjhNS7LjndnPyZoEmzNW/DInaxym+ladtfe5qUoO8BgDAV8gT9Ebn6CFY81iA9CmLdvUEeAADkZBmIENjfpk0eh0v5KKkWsLVDoR5s1UAM8LTm3r6jexWH9Q1sGjTGLe7V25R48ch2wrFd21temCFJqrQ8c9o9rCGLNWlgDNO4cwsAZF1IkppWAEiYvlv+aJ2+Mo7KACCfBiBfDADywQDyqAuAmNcj621lS8xTCgedzYsM+cd8zQQZq4lKIZQR4jghHftdtR0g1Y3c+mtyVtW5OmKoGfamnHal7A3EeMqR8PHuRh5+WF3NrYtVrnTrkQ2PIN7NqUROXRtXJytOn2wmLM1D87vjtXBy4w0jadLLOCtTI8e18MRGKi+E/iPGslE0nO5VzPJJGG8pt7hZM4wkXJJZvEeReZ1SxDByTU0cb6rhko10+jXFVmY9kqB9RPDqVz09ABB8c8epVhaUBWQkAA/Tkr26B2T5klcAiBZsgbFQJusaIQI6CkrAWMSStRTiRJSvSjWQAFZOtAZXJuukamsQfC+zR5lsozJG+hsLWURE+rPGStarqnosBlBqaG8bs9XpgpbO7FLWCSNLlkIAEsc7DP9iM5V7edwOEGJIZY2J13ld5nVxRyicNgBIzwDkj30HkL91AxDEZ9LJRCKSFyy5cIQJkktXpeE5wV/dlGJWn2RFVZ/XbOtwbUQS1X1VyWdQ2yT8AtCk1zdqV1iP9CqyRavwYZX0I3BFm9lnU5wEX8FrrsouoNxPEZHJfaMKzwCd8blrCBAmFKdK5MqmRXrcQyyHCfEQBJJruNoHR5wylyOmPVtRyxkg47QYvId45tekGggwJEFuZxW62sDZpmCenN0gBHkhDbJmlxpIal494B+aj/hXpK+AJc75VUp2ePSTbQChmS6znFff5jOwgfIAIAMN5LprIN93mYmO2qvrdkGM9xmnw5LkkLYrt7Kn00JaCKEEQfk/z/yNOvxQkV2dj8ivqjgrElaOWn4B+R/X3YSFaJVnaldq8WXvmiSyGg8IW9BX6G9NAeI4orsYJs9ZkPZJH2BEzKti3LSdAmSuyZ1t5YgVVHFn50hsLqcI5sFS5giJ7zcYtAK8ftKeB8IBZE4KhRaA5MDENjfKb7kYVN6sDgAy8IFcd4AMvU9P9I85IDewiJge6VF3rcbH9IFgmRoSAgwc4byA0yZEQmkFtU8HPNliJBrIcFGA6AhVAkS7IZS2MTalGoh2VTiblv/dF6LSJ8FMxdfwJ0aq8KS49UhDAZvaOQDRFqUvqhQgNmIRW2zdP6CrAJBBFNYgCusjRWF9igE7wXHbQJj3OkBAmvpqfj7MdS4itLUlIXQ5qULi2OVELwHIOBKKTiXAFa61iFJ/jRXrOVMNpCieTXSCaa9wtq0uOkGqUEZnRZoyawMXxtI5AAm2MEEKECfQ0eT52I/wggDpr0TCry4xkfBOX5Uyuffk62dXGyAQhXNgHugffQAQ4gg5cPNBtTUuYoBJBiQ6BwNuDb1VooE4kuLbAeWR2RnJ2xJmhShtqoGslMWfQjV+PLHwfxuoJFz2jy/aVsjz/+ydW0wTWxfHeaM8QHzCCF8wxyMQED4VUBRFPo4KB084iniMGi8PJj4YMedtGiMMoaShCVWKNIXSm6FcSqHQtBQJaMIlpZXEpiEh3IwJTyQ+0xjnePLNnul0ZgoIRaaM7L1edIbpdJfL+s3aa63/0klZ1bdNAPLasClApgF/VnBcdAC5efuKJAZJmewSQCCTMpHcjawTPfrWPFA/qUf8gAIgVGrAM6kMVlK/CibThwEVaofpA3MrJw6gq7A45c9fX0n50p4g497q5kQgrznpeCfImnP0M9U1bOG1HEQnHeZx1trBMhTt3wXIPP83lQsQatzJUNR/kbejhXUKNi2sNKG0sI7DBpCMSLWwoh6AbJ3RRrZvAEL/pJ0NwX6bj8Ek8yQolQr2DIHi29Yxxk+HAwToLvMAAkqp6uY4EQgXIC1+PkA0L8EFNEBGqJLbjwOsTVL1xNrvAiRM/o0LkNm9mW67tRrvRfjUeDOFUuPN+usaXHLueZGq8UYdIDjCB0wAoR8ZfAN0b6abPvHuUwgLeC8nDIgQIOsiEO13ANIi3dB2DBBqNIF0WoQAyYRrHogkW8B5IGegmwdSmZYl9iosZFABhHpeUHVSjeK64KnBUNu2l2RJ02Roo+jHIpDvAASf2Bgg89gOAbJA9Uk6RQiQrMyraKTtLk0kTINvImHWCQQQZGICCIUQ2RLIpdc20yFITS1TQfse/I/YGUAiikCcVFu67f0Sz4aYftYdAsQjPoAk5J65mwoTQA7nPboo1Ez0zOLTsM1Ez81HAEEmLoAAgvhAxqF2lQbIMCWTrCIjE1AL62cvFCwCwQJUEiZgNPAs1BYS+RYWqAeTukQIkPysBzlQRSB5VRf/EAYgySmlkAHkXHFBEQIIMpEBhHTT1SDZ8YwZLglqaq0kTfp7qBGQuPA5kHGqq2NkwxTNzpPosyIESOGJO1B5vcPpVUd/EwYgvx69kwMXQEqKi04igCATG0AwWnO3iRmv4gJlWQPkgoAXHolGBKIHbRvzLZutLnKAuCmtX43oABJ3pKDiMlReL73qYZEwADly9AFkACn7/WQSAggyEQIE+ONnL5kjsIfVO24AfPjC6bUQLgIxUqLxE7sFEBzrB40lvWrRASQ26ULxOQlUSZDH5RcSBAHIH7/cgCqdJMm+8ntyHAIIsj0HCK4JezZvA8699h2zbwR6xK0uStqdO9pYuAhkoYaS5t1s5JOaN2lkOxGIed3MXlyNiwAg8QeLSktgGopOAqTibKIgACm6dT4PJoDEZJ+6uZUqDAIIAkgUAKIhpuU8hAyBdnRT6NAMvK8N9FLUqXYKkIgiEMxDyTJqN8vRUPIqhggAIqNm9s6wIQgemBoXQwSS+Nv9Mpi0TCQHnt7JPSgEP+Lyb8ElhRUjuXo9CQEE2d4DRGWRdkyPhLyrbAxky5saWVVEoCOiA9Ijk9y+UuH6QDA9JQ3fuMZ5N3UzmxOhdE3s2wcIjo1RrS0OBjoG+6DULQaAJJy8fuowTACJefLguCADQRJzb17LgCoCSX+QdggBBJkIAKIgHf2y29Mir8aNzb7OHmq2oIx94ncwrXxePDoRCN5NDVbvsBvoN1QP++aW2U0rINzbNDmCY2qtZ1sRCCanh5V8M+s12MK4t7FVWjcqBoDEJ2eeT4cLII/OCCLHezCt+BxcKL50JzcRAQTZ3gOknR4Fonwz0NC5tOKnD1o46XJ5K80PP3fbSMAcCI61N1KKXApbp3u1e8zduQyG0Bq57yyt66h50dhn2RZAcGZg1r8DnbMNiwp6eIgIABKblHUjDyq3l3o+UxAtk6SUistQNaLH5BTnJyCAINt7gKjnmsJVQxR2Dj9wzQB9tmZhxwCJMALBxm1BWeA6nc5K/9ca2mRbGGRXWr09gGCOT/xPaAmIAiAHcx+kQpQEkcSAOt54QdpA7uVAReLsy8WFcQggyPYeILjRYeE5V9M3D/8CLz1/ll9YK1wEArrh9bM6vse3jrJ7atTsKpov29vCwjGNy8+52bNFJyYKgCQWVJ6GKoue/rgiX4g63sJbcKmKxUiu3T+JAIJMBAAh3fva2EroCf2TjVCFfd3whqpikvMmboBSKdMqe2xcCauu9YELpoJ8ALipJzj+HVTWTnIgBS5QMOACilxtnUoWaX1zbexkM1xjXqTP19JjaqkelWX+mmWg8fGLKgQdzVong51Py3a9KEbaxsYmFD0sgWkiiOTA03JB6ngLwER0mNpADp9K+TVeOIDgXot/uS3qXk/fpxzsivRFMpvSMoqIsXcRCECIUW531CwtvZzW6lV4uHdVdwG/O8fvxFN/9fm+cno1cP2E3WngYYm9AF/Qen3NnBvgcsJrNnKO+ReAci+Z3uyueT/ZMOogxg3V/DUZW6ZfNAy5Agv0eHP9hJf31lRcZfYSeu4UdJne86LR9nl2esSIR2VOwTYAEn8y5QpUud8DT+4JMRU9PuvPsgyYvo+S9Ltntixn+wGAgC2D4Hy3aJqzVto0sJGPIly+TRuBm8knzX+isrxqn8upQQDZECGkS9Wo1RrKsYY7VyMoYrISYa/BScO4Hpp3HH7BFleHX0CDgVoSvSbutdSrNdQX8I1vxpzjvCNOtUyC22FYdMZsbgMgsaAMSwJXGVaaACOlEjOLS6ACseRS+YlEgQHyuj/qXm+CBMjHDc7PSZtoSfDNADIYlZ2aIWlT7RwCSMRGTXhalqOwcPcBknTmBlx796lV1wXQ401OqTgNVRFW9umKfIgAAvbQZ9r3GiBU9Y5tAQEk0l8mSg7dgYggAEAOnqiESo/3QHrVfQHkFAt/qUyFSkox+1ppYQI8AAFbIH0Lew6QV0CUVY0AEqEZQGuhn8DQeOPdB0jchfvnoPJ8B0rKz+6+mMnZm1AVYZEAOXV7636a/QOQrp4eRc3eb2E9N/UoxtAWVqRGNe5NqhARBABIbOGtMqhGeR9++vfu96LHZf1Vlg7VFlbGjZT/wAMQHNPatZtmLqMGEAwz25uxn+RBWkQA+UJ3fKAARAiAHEk5nwdVB/WTRym73ouenFl6GaYcekx2TmXWIYgikCBG9hgg+HeXgQCyGXVBADLYhgAiCEAOZVWmQuT5QBLkYWH87qdAoJomFZNdUrqNuSr7DCB7voX1U5l4ALJEybmjn4gwAIkrKIVrKGHG4/KC3U6C5P/36iWodrAkV26fjI0UIOo2oo1bySR3EnL6qVATeDfmHrObDRsABK82EwFN6Av6iQk951FS73W5HatO/uweOdHt7upfC/97kJkJM3ujAMH2geEyJxHAOQCRv3OMeThln7iW0HLeo3rN3tXVH8D5AFH5urq8w5pNHnRxIzHlcHQTw+wSsDUC9Eoa7W6HvT34MhUx5XZMeWQbY7WNWKNz6Hgb0Qz+/drtmApvQeNatbO7y93VreVk3o3OCWrOndPl6NeGv8/I9Bh5eYtmPwHkXyBR4kMBiDAAIZ+eyzJQEuSH7NDxP69BJWosybt6LDlSgODOeqVyjnVNIwNKv40Schhb7FX0vDXVW/pc6vUAmfL7+0LaRvoGv/+znjlSPf/g73lr1SmXOSpF+pcflLq3JsWgLUwvaGxQaQmloAPzSstn5kAz5Pcvfg0BxPDyi8Lao/xnKfRGZotyPvTSBVdfb73JpOgd8HEAUr3a5zeZ/IPLaxv+MRIN5Kqs5FJ7G0OjgMZnlL0E1raiID/Cc3Xw1uAD9fjfbJQrx+1+5Qw9l27C719uxgKNgzpyoR9GN6kwVrs6lDrTW5POshgaZ1ftrq+fVWHER2WPVWHp6+cWdck/zyuoy20t+wgg2u5VD8ldBBBhAJJ87Cpck5BSHx3b5STIkWOlcEnxSk5vay5XWASiBfJzrHudskqlAziGT3x5zSrO2cbDAaIZJU9PhbaLZsh7DAcPWhZbQ/KrbqbIVttRx5x8w28dc70GQ7GD5gaVnUwIojaRdx0PAmRAz9zhWR8zVO4deTDEeNlJZr1NitkQQNS2t8GzSs/6P0XZki60qjolQ7s28kZTLbQQ4DJYv/5b6Fth6lxfNaTpIl9Nk6WbXH2bd742eEvbhvPp9I1WVp92LggZVQP5bTe+COkqudnqZN+rWuaTWbya/QIQ8ldM8/Okjn4+gCRklV+CCiDpVQ8vJO5yCuReDkQJEBIgJcX/i40YIPo3pKubDh1+Jh2VHccM1Hgd3YeVQeA8nz1fB5BZVtKOdNZ9UulMECAe4Hr/z965xbRxpQGYN+ChiKdGza4StVmKaJo0bdIk2mZ3k1YNSqNcmqhSUmWTtzxE3WjfZmRhDjIRAgmo7TIyBsbYsg029wgwIC6SDcJgJJCFhGIIQvITUp5BKN5G+/9nLr6MTQZwXzozD+AxnjlnjvD/nf9u+m0jjs3mDKuCNcaBFu+G9cbBIRDlnnR52pDSlAEzO7b6U9ysG5IP5B1WtnMJonfJKAPEJAKkLorFw2uiPvzl84gA8cfh1OSkAtjHK76Ka0i6Vr+7rwOviorCzA6DDC8LInsd5PjEHvy1pmdgvcmMHYcc2QDSKgOkaRXrs24J3GrMIu9blgR0DFF2mUV9yvI7yw5s4Fo7W9O7LA1j/djpvo1xTJsw9ZM/DUB0fPyRACm89Ph6qaacIM9vnc9rV8ISrKSoKX6Uf33vy4MDhMPOcNWSK2EHxJsPZCQ/xPZG7DGOM/Io+3s8agHCb8LHB3mO49q7QBRuCRdiCdXZOhvHxTzxnoyeCQAwg3QnJ1Lgd/GkGpScKRQyIWEL3rRt4ax4+62AAiCYlO6bh2H55l5hilah6mpvVaeN94KwNo8qvoqNNezyXC1MlQRAOptXkwABCPhWQ+HBLo4xYtvupTaYu3ERptca2B8gBnjo5UTM6EFONCUUY3YOIA/WJmJGy8vXOMEwkQDSaoBFGuMsc4jeuOgHsWN92WqYI+eoh2WIcn8SgOjHHwyQTz7+ukJbgbyPLv8lry6Qz2/frdAUQMqefHr8wAAhjAd2y3uSUO8G6VkP2+721YEJWiqOMBYsch1QCxAQ6qwXq5mCXOwGue1tF6+Ljogbzky797xJjrFaobtvqZ/DkNSgRwCIu45uWQeTNbaTAAljf+0Zobadxd3rkQHywk4vqoY7dCj2uzPul4IxhTDDMNWmJEDgQrFNBbGCWI/zwpxbYKniwX0BgnpHO97UAmvCKuPdQjhT0fXhQJgs8RJAgD7ddLaLaMlqEabbCC+3GaF+XyNMZUoHiA4QNQA5duKJtjzAZU/v3SzOI0BOfXb/+5NaInDRxcpzxQfXQASdYUU8wfpECZJuYMAWDfMqAVIHr3raxGqmeGeTVdx2L+1KposMQT4GUrlDeDlaw4KMjAqy2yE3gkCAmN0x4do6TB94mwGQZfpKmrWV/kCARHnhIgIahmshixVFngvI7N4UgDjDUn4HAKtDOomBUmTo3x8gZq+4fItUFcv4sCUOM52Txg6iyY5apShATIvitFDpG6Y3WYCniMfE6bY0ySulA0QHyPssMJUXS7VUT7H8WV6dIMVXH1wp01Q3woobH39beAiAMFMgrkYFi8lbkMRDwfR62Iwd9AIvpw4guMFulq8cFnDE1AKXfDO5jOGgabgWJQ6MgzQWStt20VdiGC/r5yU+wFhNoXSA8KhgWFPuKQKktUW6aBZOtvezyMPQrqAMEJNXWoPOlKZCoK0ZJJbmBMi62EyCGfMDACcyxrFjFMGYvMDYMI/ygQJkSspJDMAURukJLDMbkodH1Ft0gOgAUfM9//LBXS0BpKj0+aMv8hjIe+y8tuqYFBWVXzn910MAhDAjUZDPgqQLm1h2NbM8YQvszjc6VQHEFqCCWhKE2yAIp2xiY7h4KEayyu5ms+j3CHaAKgSDDUoO9Y4WSQMxz0pCl4A20zCTDpA5mPZ4hmYj9AOR3ptM9kHNfqyb2dYRGSBNsm6SkBvUUZbC7Ly1+wHE9Kt0ZRBY+L+MwFuCsE7poooKRk+tCBBfm3TpDAxDY6lrI/D2mDx8IzxnQgeIDhA13/Pjp+9c0NQOuuzpiS+L8xjE+29t1TEp+Or++ZJDaSAWNMWvoJCKjYIETEooYgnueEKh7g7VAEGPs3N1JiwcM9VO2Emjz2MXS577qxayJtftgv7wCl8EplmXcQNOMKrY6JK9IWmZ6GRU7nkqA8RrYA1vsgAkmYneZZb97Rki3chb20ZCdtR8QjJA3PLNkA6Rl+IDhYcblGapDIA0y6bBQUXEGZ28EBggmu+WYEEtIkCc8odDMHc3figYh3tMSaO/nDUd1QmiA0QzACm5VHlRWzvofNqwPrh69k5ZqZYAcvLuA3UtVZSlTKZALr1BvWP3FQguyYLVnqiKbLr3enqaalQDpHaTZQ2uXulwmVk2YkQfxEyUxlFtBCayfCX8oGug8NwwgOSeEfkQNqMwJkqAVMEHAukAGQAdpjnjpukA2YZPeLPBK9A4G+8b6hmaTgPIeDJSi2XNyQeaNii96LkAgi7yaAZAbOugPoVTYrLQCVKnAIgdVqQPH73tHShA0/LwGGPwqw4QHSCF6mxYPxRoy4b138/z1tf2I2rB0hJALtw5ffxQACGM/RXG7hLB77sm2ksSg36znPCmFiCWPTbzoCYsxrYopBduubeJwoY1CRIY5mTbw/5CQRDlowIUXC3ZNJAqeWQZIOuAh6lDAKRztM+ZnGlWgMQVD+RtVwmQDSVAuKH0lEaCXo22rAAZp96fF5mjGxZ0gOgAUScDT9/XVDJ6Edqw8lVQ8dR3t745qalKil9Vni8+pAZCo35mCPV1NywIPuAQ5gO69uIDkcigSz1AluDtSFVz8phyiMFOwe7ZLZSAHauKrwQmw8cZJgHS0krjlOI8w4DK0sOoBMgg4GH44ACJzWJ4V9Q9uBGpj+YACEj41s21lAcatjKHB4gNUB1dSZkBpoIEcwNkBB4iWp26ntucDhAdIOoy4c5d++aMhgBysvzZrb+X5IcfJf88e6esQEsAOXnjrMqejgqAECawReuX1IG42nRQgASbsBRHwhrkHZ0jOZzovQGlCWuWBr0a5SMmj8EwvL0as6l9ymioKM34WHOxTRxNbIwuMCEXpv4RdQAZNbAG78EBsoGZeXM7E7zDwb02ZwfIKDzxWuoDKeKQDwSQdXj+7uR5EBZu2kJyAgSj4nqsXNp6Eh0gOkDU+YEf3tEQQAqKSn/JW0HF45crb1RoSgGpuK/SgpUNIBPvQAbGyALsx4UgVYIBqRGxwMjOCyVAyDxcMax0ogNXXNuZt5d/xcYwu26Ty/xAI3VrAHwiNobxmNFTPGliDXa1GkgXDdM6KEDq4LmcbeL0NnMAJMAqvO/k8BoIAR3P1ZU8tw9hFFZugNStp8cnM0ct/6EDREMAOXb5Zy219C46c+E/j6/mxYZVfPNvTy5qSQEpKvj+p3OFhYc1YVEbVretkRbfQAnF1YuZ3fjHt9kA0p2S8MHsLklhvHOsMlEiVfTxWCBxN/MvmD3SWLuEdT0IMwY0e4N5GQ2MWoCsmJL2LvUACcNcZoWkkdwAwanN7vuFPhBAuhDMyXOMc16P5TZhxSKijyRfhw4QDQGk5F/XbhRpSQqWPv/xXF6agnx4/vYVbfmPSq88/OTQACFMN8jSONcA2oFN+Cf9DaSvJM+y5YEQFKxS4fUY5sMJ1XjxbfdEzn9+EhtkWf+I4l0fXLUdZc00IAk4trwC0KpXDZBgK8tOy4mKhDb/eD9AQMlJwi4XQDCR0O/JG0BG2JSFZWIYQB2w5QYI0yxUhtEBoh8HB0jhR/celWvJDnPml6cnbuYjhvf4Z5XXT2qrGv6PnxYeQQOJ9bBszQoIwnlB6Yi5WfaFkB1OOpuzRGExE1hikUpcUtvFigAhDA8XmudkOwsxctSH7pBkYDuoGX11mcNzIGv9r1vZJTpKP9BgYCslZe59ACHMa7nsCcx95HVIFUDmXUkGJnzZnegE8xbZ5JWEM5IjAIRpx6qPq1LpyjCM+kquhaUECGEwlqF1hyRRqxdT1AGiGiAll65d15QKUv7s8aU8uNGL//HgkaaMf0UFP9z+9ggAIQxWeoVNv180l3CTtCggCC5uzJstjJexYAbDwG6trda6ymIFK7EfyCLcyDnFU19zjG9b60d0jPkndy205NNLc7Y+pgRRAFrEJPURe6IwioF1yhh6rwbCvAVlwjA70cnFHNYqM43Iej9AFkB8+6w2TJhEa1Z2DYQEATOtk8FaLCxp5HemuhxHAQj6meA5xzo50s5vO6VSWDk1EKbajHFbDrqelqBnckEHiA4QtQD54NTDKwWaygXJT1/CY1/8pCkXelFBxf3vPjyKBsIkhHyIQVnOgUQ21S+OJALLbE1vFoCQMFU7mrerQHlpeCUChDCdEXqftfDCYnht3cWO4wa7BT7i7V9YWBwFadyxrXQE80KjDyHAFVO4aSsQ1QD5P3vnGtJGtgdwvyV+qPhJ2XZR1q1IH1u3rbUvbx+7Pm4trde+qGW3+2Hhfii35X6bENJMiCIVfN9IHk2iQfMwPpJgo5HEgCbER8Egghg1FPwU8LMi6+3lzjkzmTljYm8TlzbeMwfazcw5M3OSdP+//N8ksQ5yVuxmX+hNC7XF4GcBpBE0/bBb9965FhSSvgMAQqg7wK2H263hsN8S0Cfas1IyYdHl3CWLrcGR5U3qM1Y46BpfBwCEhO4lSefWmH9ufmTZwzRIwQIgJLn/WGgfkiJARN9cfHZBjA9BxOKylw9uHrqcybG73z28gFUVGPH1+7dEhwIIsQqbZ4zHhXaPVwo7SlECf8qxnsQHQhgDSrZR3ngoXkyRJP5w0CxiZkfBhRPwlAI29htqT/L0LsiMlm768R0ITT5PAyEM0Sk2107RP/05ACGJOZimNwVii/+zIj1AAyG6tug+gUxfQM/OYTQQal90Ogw9bFtM3v9BGghJuDwa9PNsxwIgkZlYSO5uH4/H4ZHNs752szzk6hIgkgpAsu/+XotTQac/Jxs9r/R+bQleCkhdwfFDAYQkQkBM/dvI/VJ204no0sGOyJhEsgWLwIIcjT4/s8JoboErbNEwQYHFM838bIxYFoeYHHaTPTADXMTUKUa+azxjkSSRqOoYhI2RvjMoqChp4lzHWqVEytq9QAAxk0oRpsTqMrMbtWyQFrSaVTPk0DQlhN+zt/B3SpTehDcd3KSv6QuojEqJiRZX231c/V36d/BIf5+U2X7b2sh+LwQZZLv7+tlSwgTdpXZQmxiJFhlbZWBgWvSpmR/aMIeTXaxyUlsgmcc3eweZlrqdfbsL3TgAZNrrtIHP6IOHsdiFN5vAPyBlk7dHAEgKABEdP/sbXsb8soqTPx0WIEUn66tysbL8Vd1OwXWUXAMxWuTuZRebtEH9d0/2Mbo22kH9L6yVy+dgdBap8rrHpuMrGv0rrWsOs9VArfC6ZyOsiNQGV8yOTceCd3wPOjWoU6px9+jG2rrct5Msk4GiEfWDc3kgXkLd6nV7XZzFomvFvcx61OEeaH+Lod0t4yT0nmV5dMPRanlHP+H1uFzOVZBvlqFL2Tc56aO25TDHeinlSh6iK6U3jsm983yZPxELuQObjnW3L2xM2D/Z7XWHaLk+vexeYYNue/bk7mBvMsPMwFhrYGMjYPbpuCyZGbnbxy5+G5TL57n8mTmfrDW6EdiSxbT/l3kgjWMfF0JIhTHtBqvc0gqmbCmusunfCgBJBSA5N5/fwQkghbnV9YfubHvxSV2ZGCsTVt13KTRzTAoQ4KNVI3Zn+KJxetLIW0EgDaHgishkcw97FZIxSPQYJpp72UP4xzA52cvr4cSXqiQ7B/5S79sb7zLeVtCnGiebI0SSycRbsI9VUxvtQRckLoWvwTqjmjhg/wdsiExOS+pzM0xMGl4TByxOeLfgq5gw/Bmy88sDRB1a26DH2uhHb8jVm7jEa1IoNG84nphZE18nLPOvG2JPDHUJAEkFIKITp38pxiqh4R9/f3DISN6in2vwKoP1Q1VNad4hAcLvQYj6MNH2hPsWkTxxt1/m8fygiS+SPJ4Hg33PIQ/YaOIrMtmDyAMlP/ImyQOXkgc4dj+1IfLAt5vkbuQnL/3U4zMdIP6hzviQKpQak94T2t+mEdT6l7xnVZAB6HNaG/NbHC3Q5ROAllJ3bMQ7uNooACQlgORdrqnGyoaV++KwKsiPT+oqceKH+IeKhlQaqSQHiDCwGF8eIAvShHrGLSG+HgFjGf4VD054DfKOJPIuNal+3QhcHjsgBMM2Q+GzJxIRnOipAURUVPCoEiuCHFYFOV9wGysFRCwurz+bSv6+ABABIF8QIKOdksRh16HK1HsY3RaHSjOol2ZTcQbBkFICovBI4rAOICwBkn2tphqrqk6FL+pLDxGIdQwzBUQsLqx4XCQSACKMzAWI9L25tbV1ITpsNylphWRqHgmnmrOZNE1sBPkOsGChbR/XqUuUVuG7Sw8gou/P/IKVRQa2tk0fICfO3L6OVQSWuKq+NF8AiDAyGCBcO/quYHSIRsgs6uHZ2Vaz2oVOua9rF6h5oHknfHdpAiTn6vPruRjxI+vUi3tX0y6pmHPtXEUlVlWwCi81pMZbASACQL40QGQcK4g5DwzSndKiBEGsU1oJWi6MsXBpdoTvLk2AiE6crqvMwkkkFlcU3E03Hb2oAHQixEkBKb+XYgVjASACQL4WQCAnerdg+uZqb/ILBsBkSM2dAEUSTAbhu0sXINk3GqoLcQJIyauHF9P0guRffHKpDKuw57KKn4tEAkCEcUQAAhDydh3qILJPAQRxl4MoX5NR+O7SBYjo+Olfi3GSiZQKcvJmekV5fzp5rwoj2FK0vf78xzwBIMI4OgABHTB3ASSW2GDeP8JhHXSqR3Q63QiYc2upV7pmolmrAzVpJJoZFXW8wxm21NpgaFm+4pvjRwRPzIVhKQCDtV3eMYvMRfYsHd7lUFDHr4WiDc9N0BfGVuTtlrkkyZrqbWuovT0UUyUkB3VbqS3ILC5DhgPk2K1ztVj5hUtePbtyIp0IrONn79eW4cQPceWjVBUQASACQL4uQCiCjMPKVvGWyFp729KiFbySOZ3ONpgqYqde2aOq6KBzFRi8OuHxYLy+S8QateunlApTX5snhCgnhuhSm11HqOc9emqyhe39aJR52vpMCqVJb1+bRUCgo54cpeT/tnlXb1JoPixthPdTwuVwtkwplVN6Z3QERUjP3OgqNQEuGpZ3ZzRARPlX6suxIkjly99v5KXhQb/19DecPqisrMLqx9dyBIAI44gBhLBLkBZgflC0E5a6fM9PF9H7TPwTy3TBNVW0jztnGh5gBbsK5CS6CKueuZ45PbKL3McW4BQT8OSlbcK6qojPLll5Kkqvw4Zsx8G1Qut9o+cSXJROa0YDJLuooe4UZkV5T59PvTv6idM1d0rwijd4eDplb5EAEAEgXxcgFEHkQGK3MXVJQGsZulZy/76U9ZiNf2IF2rC0q/yzSyxBVKDqon8mjgsbfdai5y2XDnehAGlTjSEF9iUaH0KQ6V1eHn2nJz7X28/Pj7QFyQwGiCjn6u2/YZUcV/Lieerd0fMuP3lUjFfS5aVzN0UCQIRx5AAyC+xStvB+gIxplEqoDEiVYPQ3b0qUdGVecKgYgtXdp6H6ohyWu/zefjjr7EIBEoS1e4GAb4Eng1Bd6VtbmQ+a7bDNjYOngZgBbxTOqJOGRQtSF3gRYqKzKTC6CAs66uMWrmHYIWa1dcQlc8BOBS0DmQwQ0bcPfi3LwqugScH5FEN5jxUV3KvGqohJ7oWaKzkCQIRx1ABCSXogtE2hfQCBv+JhHkgIWQvDeJmYX9Bv5g0U2Ex9fxesvBgjEYAAfaPJ1/g6vA6bxeigx36RuYEbkMukRQACUbMGXOl0N03JuDr+ZLMSqh20kzxG3ds2S0/AlmdDFvpgGwJNHslkgGT/5f4drFoT5r56lmpnqW9Kn1zCirJZpyqefi8SACKMowcQ9RSrdaAaCBj/I4yX3APzu9t0pSySGBhEuo+pmMYh8dK+1JIeM90fma6lRVJKDsWEDRQgEonGQs/1uMHRYFyf0QE4SaPxJxFuxRJNngmgq7S44tmPRg/AiTaTASLKv1hTjlWTvbKXDTdyUmPsuYfluVgZ+qr/elkkAEQYRw8gJAFks6I1DYCoN0Eau5Urbe8FGoSFBxD7NpfYPtBGRwyTqELzYQ4FiC0WL+KvhcpEvCeYGVjTnEiZ/3eMYgQ0FaWb24ILLDRHMhkg2UUNj7DKkMsq/+eZlAJUvz1zu/YUVmXci+sL8gWACONIAgQ4ETpH0wBIN5h2dHFtX6DQ30UBop9HWqtY+FYpkhiRcujyx01R8bu1wtX0gQH66oP8EsCw0Rpwug8auC00rwFIGTIZIKK8y49rxfjIR3FhSWpVefNL79cVZ+Fk5Suse5pW918BIAJAvroJi4gC4RxIAyArwOQ0hkr1fi5gFwJEIUdmDQ5gbZpEzqiBuhBFADKKNCHzAReJnJlsYf3w/BFTSiTSBXQLoIWJMrMBIjp+5VkVTgQRF798/l/2zi2mqWwNwLxtfJD4pNExGmWQ6IzOGcfrmdHRmVHUyXFEPJM5xtGHk8zDRM287Z0G2KSQhiYUSmlDS6+E0hsUSsqlDYWkQCiXpKQhmbRQQtInEp5pCEVz1lrdu9292pbLadmsF4N773WD9X/rX/+//v9mxpdBjt797eWDIjZNT9Hj+7exQ4AclsIECDyI4qznAJAAZX6IZZGwPQoQDzNvSBCaSLpiZDs0v8xHAcJl8sYFLfCUetICTejrSXKQNHIos0mkWGGfN8i8BsjRr8+8KGOTIb3o7avnGW+xS89UPL7IJhvR5QeVF04eAuSwFChA3GEzQvYAgRJeoNcORooYnh8R4ihA3EyZr4X27pWZ6OuDyDRuUkcAUjfE6NasJ2xxh2U93h2M2XepThatUrYI7TAD+Q0QrOTua1Yd8hefff/yy9OZemA9/e4aqwzo116cO48dAuSwFChAUICr6hwAAkW1VGBiFHTNY5wJEEaZQFZyI/N9Lro9mBwgM4LwmRYsKBW7OcmQYCOcmC7wYa+seQ4Q7NRXVd+y6Z7c2Wvv/vvPjMzER25e+Z1dwV4uPn59t2R/ANLuVB1mEj0EyC4DBEr9MUf2AKkhkpdQCoDMJn/daP8kQCTITJPsfiA/eZ1T+Q4QrPTSq6tsshMfe/vHj3cyEZN3Pq9gUx704qLibyu/OYntB0CsS16BcV4nT/MKOeM1LcnyUFrybKb5qfzq0k7nSmkzuYcPAEC00Fit0GYPEF5y4c00ojMBQpqTv7+EfxIgrdDaQjgTR1STHCBSO57vADly7z/Xy1l1U+79y0vnMwHrU3ZdISy++ubHUmwfAKL0S1EwB89CmpckVuSYn39lQkgIl/OrSzudKzikvgMAECs6R8KzB0gruoZeWx1Tmq2UT22iBoL8rGzNse9X6+vD76cDiNyfTgORdrfEdmE6SOY9QLAT39x/xqbcUsXQl/d0BgaQF1dZ5YF17bsrOSZMyRIg/VQsuTFXOqE4DRZ4PgJkhiA4k3kGkB3OVUi4syHlC0Dg3W2hn7J2Z2UDQRcFxYmqXYojLHRvvbE1xfvpAEL2p7KBwJC/YzN4ijrzGSDYqQuVD46x6aym7N3rT5lBSm5eqbrBrhAmz+7fPo7tA0A6DEAEN87O1C5NxC0VkiT3FSAxDWYsbbMFSE6tpKxqdwBCxnTqgABEZmDmA8kCICQOz748MykaiwcIGa5tKdUVjbRG9L7kXlgkikUv/b+dje4IINj5c7+XF7HKl/ev5z+k32x//UXFw4ssUsuKim5UXjiF7QdAGusIojvJ7orUuhi52/YBIKQv5NJK9hwgqhmXuH13NI1BV8i3KwARDQwoDxxAluFlvgZJDkdY6CeFPkOAhPdAhNuZPUBIHAXRakzy1RIcUnNhAgT7/sr1i6y6b/2+6lZpuri8n12AWQjZpICUZZ+FMEeAwDu+9uSSmZjbV4A4wJId3muA+IYIwjCxKx0eiF5o3hlAYOzyzYMGED30wRIu0ruSrADygUjq1ZUKIE54WKaR5QIQHbxxaEyyoWgB+OP0FyhAjtx8+oRVMcvL/6xMdxvk9JePfiljV5jJHEOY5ACQTbBWk53sDnAITt++AsQKmtDtNUDkTQAgoV3psB7MXPduACQIxKflYAGkfQaFLPSo8Vw0EGQV77VnCpB6pEeM1uRwhDUhiDeCkGrUrRgXskIDCHbiVsVD9hxiFRcV//Su4h8pXVZP3v71zQNW6R/lT369je0PQHyWSFK32DILALJ8AAEChI1idwBi3jWAeAnCe6AAoh42ohCG+sjWJCuAyKEPFHc6U4Dg4yh1lZjMHiAo7i/RFj2J9E11h633H+FNwr4CBQhWeqmSRVGfwEDf/vH6ZgpD+vG7V/7FrhsgZ5/d/+rkPgFECVZ6wyFADgGyewAhR9YmUZpaYUtUtc0GICReDb8WDNczVJpBPZkCICTOQ964AeavVb4wmwFASNwKs14J12ltp6NJw3WgB1PQt13TwjDNkx16daEABDv/xZsbxey6T3juXlJDeskPn1c+K2fVDcKHFbdOYXsBEHlI79BNDdjplVtjF0EdXjESDG7EOLGoRSPDACArSvDALmEKRbFeZ5bFe0wqZ6esDrMslQVcOWjWOcaDsUtEq9fp1mYiNSmDG4ugiWZnMBiMmEOdE2bd8MBIJgBRDjh0+sHoYXa7bHCjPXosoR1EVmpnULYMxIIeDDiY4LXjHEQ2fHlo2DE7EncsTvJmp2B/1fTUqYIiADzuHJohMjlAgmDYrq142TChd1iHx0X0N5IR0QKAuGkLdEnUygQIb0A3NaEsGIBMjpvN5jXH9Gj/Zjg/uXRUkhtAcNJpQRlqmzrCf1ISsaPfZFCm1EBwMwKWcZoXrtIXaunyzGeigeBylLhW2OUSSXCVdtQrJMbCjmMSlLtd2h/yoTpJ+9qct2eGLBSAHP35+StWhVU89v6vM0ldsX4+c/8xq/hx+UHlpdPYHgCkvrrLyNf0GDxtjZQwn/FuW4D2z93c3rb0iRivjnrb4CozgAfbFm1UKIrXvfxVvsWmY543qxd7PYoeDd80mdQ4rZq2Gfmrhoa2ucGojJ31m/gajUJgo908/dvbDYAFHtiiO7zz5DXPG/mgu+5u8acAopru9WhWFYwejBuNvZF4rupagWAOYMnn3vYC4VZnbAOtBOJqUi8bjS683RwQGAyCtpUOpqwYWXd7FKsahbG3mhr5OpohoQL096NlhEwCkGBTGxgi/+MQ8yzfN039Dj4uU0bfCUubCfwOpKBH297mKECUf4MhKYzzH1SFARCiU2EARTMmpW5tN6z5mCFwswEIji+gJORcj8Xfvfihf96zGs0BlQgQEm8fQlnWx4ybk7WjcytePtAr+K0ZAITEQ4ZwwinBfK+pAfZdow8/EKHL6By+qaupuWnSJjBwCEJfMADBSr4/98tPrEr+/b7q0tfJVLFH11k1D8U3qs6UYnsAEPFSJx2RgWMaRztsByNKA9PvPrz7ogtcNUgouswm+tJhbVSZl/lpkUEIphKVkI3oYxuPXh/NBvr/epbRxlI1xmwR6RwTNi71o3BSlRYgfbxIGxb6Ov3fKKMErd6A8Zg6qERFkbAUcXqUHQixat+6hh7LLMOhgB43mIQAopnPFBOkKREgLpeljprs/ihBRJORcQqNa3CyyGFmRX6SBggvQA2prmurMAASWzr7ZDGTkp0GAjiuoKaJy+VSk59aAyHx+m5qujhcbl24NwI8I4Dgrs6Yjgv9EuoJSqSLOCalu7BQMEdYGHb83hU2BZ8tLr74rDIxpgngB7scsC5frTp3/ugeAMSFloPQI0DLS9pCUquaLttMOTUZH8MOCsWeALyeqwmvt0hY0nG4HKWbfTZk+LTGu8KoG6E3i399BUhcD6WC+ALQR9LTv2SC/9rQiVUDo0EuXMI8GOfOs9K4BPq9uZUWIO5etAFGAxMMRADSGQVIAKAFAKSGy2glPo2Q3QsA4geSgqtBon81cpJW24OmzBg+2PegFmzMGRIlHGH1BKCY04Q5GaBrWrCgPjYYkTziIr+hmEiAc7QGsomGhNoluiT5DhArNw4fmvUOCRlzsShLDQTsHzbjwlBVk2kAguM6Rez7Da6MjrDApwseZjO1EvoBaV+KrbJuXVVAAMFO3P73E1ad3ZT/WXEhbu/92a1HL8pYFcGk7NVvd0qw3QeI2I0uZznlcvsw3D3XOcES8W3JYHIERYdWq41xmlTJZFYOwfFvgAcbtA2EANKvS9uqHoDfuynLhB0qK8vKep9PWc2F5pREAU/0j/hqfK3agJHiAKzLuCDx+XwTfFqsOLXaIXhsLgYtjtDaUZMSfrjgtjnTAYQQCoHuo6yXLULBH2hNDRB8RBsCbNQ4ZKAVZxKAjAmJzlqejzfUGc05hJvBD8L5kKpeLmuGkvIjqlImA03U9cEZCrYnAATN1WCregGhWBcWSiNwrgzD9lY5bw2KRyH0G6rZkkG2G0E92g41BRD4uWBNJe/wU+m88xsg8i5aQ+MaBJtL0x14QswPGXhj1RH5a4RoZA5rhYOSREWRAOS3/n/snVtMU9kagOet9cHJeXLiYCSeGTVeRh1EjrfEo1EZnXiLYsYTL++TzPPeaSqLtKaRpNSWsWkpvUC4FCpQGsotFBKQcJEEQpoQihgTn0h8pjGi5vz/2nda2tJpz3HoXi+6N3utvdeG/X/r/9d/mRG5NDzQKuqL3kWZ/JddH4vWSIuDYEh8AlcVV9FW+hTw3etl9LFHheVLtdkjVUGHRxh7J6onhg/60f9VJpPcAETz/dHzNwspoPCb0j/KleEgO47efVBSSCGV35Serfj3Dk0eAPKMz2+Nn4drkSs1ShReWES5opN5YfEmLPzsHuOBKyAWZ2DQAhONcRf1wKdqsScI0/k1bmzC28RjwywbqGXoCtULa/Qvcdpb5oUFR7EWuCiOHzEM8njjD3eNW6QP0k74MO7JjQFCFF5YJBEgAJcx+gMkxQt+KnDe+oYTUkyngRuXKL2wEkxY0Cx0ur7XSFuP+K7mXdxAtahivKHTk3th8SYsnBInrnARHPzKAZL4y0nI8YIzro1JZWWZ/rhddhX8IcTXiWdCt8paLS3Rns5V2V3gH9OqN/GeeMLrnxhq0UdCXtkj4L1q5bsxdIB65QkmHrG0WPpWEz8DJhzRt1RO+JuTTuvrBohm58nzlwuMIA+PyfyPdh6/W0glQIAf+09c/9e3mjwApK4bBF+/8F3gwp+v77YJN15qt6IiDw966U53LSg2n/rpp0aYwQFYKyq1fBvIz5mPwufIfX9mKoM5piA1rPokbrzomblkUnbcECBNNu4JyHtRcUiugaRy46UAaejnbweKWRW3C9IKi9AA/wiEaUVrny2tGy810NCRPqLqN4a9a2egQ7PwO6hrF/PAJrrxwpRiXPd+DFOIf+UaSKaQIcojstGPE8GU7tLNXE9SdMzsEf4uANHs2ld++UAhhYPs/aPi+K7togZ2/fal4oIKQL9acWqHJh8AwYLOZpv4ETSJGYA2A5AWO0+KKQBQl00wMLeKX9gQHH1UfGiYOcQ9ohwZFvHtkrHMIGRMUQLE2wWr9QwCgREg7aP8xEgYjj64sgeILizIm1c6toqzuHzCOkLim3M0ijallAD5LC56MUz6Pe52+NH0Iq2dX4qWmCQACfC5y4kd+BNo/vsDRG3/D4Bodh18WGAEOSsQZHsR8ONMcUEpYFcrjuWEHwkAsWF2oSlpLYXhU02bBchwpyD8mgPQ3Ss4HE0L4psO26lMyYhSczn8WHbyuZW1BkUx6q0BTcOXCBCCsWSvXfYMAKLrEkfzzFOLWdYACYgj6atYHXWqjcMDNsiWoaBSORfSAkR8V4QZH6b6BBMbkifNgPMNoJxtABBpSvYgzGhaBYgKkOxa0b7yAtoHoTpI+eGi7ciPk9fvXyooflw8ceTYTk1eAGJaAky4JC083CC4OWYVib46Awt9tOvbnoI4npgOcW2uF2SlXmktqMX9kvaFMcnt1w/yMTjFdwl1wv07ahMAQpg19I350Bq2pQeIFLbtewPSPpQ9QCTNqM/A6j5TzynQtjpk9gvc3G9JCxBZJPoahgka4dlAp3JPSSPVzQtF9lJFotvheds6VYCoAMmWICfLCygOW6vVlnIE2XX4+v0yPC4gflQc+06TH4DEP3F71ULrd4OMyx4g6E7U7eEls264QWiNVhCuSoCQEerh0v5+RXDzssBFTrHLWwPLfnIlAQiJUL/MRfOkJ3OA1L8Coe7PBUAmDayVmtYib5U+PyHOASFzgOD2UwNg0NOhNEaZQLXRkXQAcUSh94oKEBUgWRPkcHlBefNqS69cO/lz0fHrd8oKyn/34tkjp3LFjwSA1FVznkpCM6L7rO2vA4RLOaFoK0oTFuMIcSFxDct8GG9XYvFqTxITFvPY30HdON3BEMkUILjlwvblFCBRgzJpex3a5DYDkPgs964HQeOYlQW0PA4IwXFpAeJXAaICJPt9kKOFRBCttrj091u7D1bcKdEWVPzHjSOnc8aPpADp6JeOvbC6d+ZAAzGB6Gt7NSS1yh4fWe/GMjgefEtJEKVnXmHwoEXWRR9OsomOHVcjy9QNf741U4BgYu8cayAWp1hwi7axzWogHz/AO+IB8qdLti8Fb97qUAGitjwDRPP9sfMnSgsmLxZMtPT38l9uF1AFdJjy3vs5if9IZcIKyFa/WG60Zl0cSDYA8S5hDhRHTGoJ4+BNTOHeNjEi7pmVrTIzsi4O7qL12Xjx3ODaZww5m5/LECC2l4CHaQEgE7kyYckDMcbpHgjJHCBheMOLRs6EVROWORPMYzQ8UQGitjwDZNvOUxVnLxaQOD1wpfyXRyUFVBDlp7JH9859q8kfQDCqwi0r2TbyAr2w/jpAsDzTi3Q+Qnib+jgGzi2hU9VkYrZykkQD4U/bmjE8o8WRGUC8cJf2ML/XbYjmAiDTbmXiDAv1wtoEQEKg/S0BWH0AtzYZCefcwu68ChC15RMgGs13pytuXCwQHQTLYdzad/rQnZJ/FMqEf7r0n3sXcsmPBID43ivrrpkNQsBdSoB0pQMIDXlIL94wZMzTwLJ/Yqjvc11CNm4mOUA4hLgaWXbZlBlA+quEuMVpWS4SxtSkAEjb1CYAgopClawOxCz096c3YUn73gv4JEBOY6UsZgY3V5wsyxEaAdKtAkRteQOIZsfpu2dLC2FJrtVqD1y+tu+H7Rf23Cj5phCsWLAuKLu959dtmnwChGAmk6AYJO5r53MkpgBIWMda36UDCM2R9zKTmhUEAxra8Z7EkFyEk3GQ1AuJ5zGV7uxzHkRkfTYJDCQUNQoHxku+rMf/ujBTiPDwmEOEBwhGYzinNwEQO/oJPFPsoQe4NFrAKJmOpgSIhDzPG96zgObdFfMqMrYZOOQyP45+YNlqR1qAJJm9ChAVIBmasc799qhky0dFaNEJ6ypNiLXt3J4HGAai3fL8KD5za/c/c/vXsh4ghGmuwdQcDiItfjkL1sYAMcFivjsNQAhNZVI1JwY3ELtj3R66TUjPG+sA5YCmrDLLZDscO+x8yN0UK9uudtiEGMJREOxBzk/L9Kylz5sIELaG9441gbbwgosat0lbJ3aadJgHCGldl8YvDUAIo4eX9URgpANm7rRw842zQjRmEoCwXTxB/KBA1dB3tRoA4viFafUMi/El9gGWtdanB0hddGiOqABRAZJVO7fn2qUDW9uMhXPbe7bicBGHzB9vb/lMYDC70pvnD/2gyS9AkBmYUHTSU08c9V70TNWtMqk1EMaJMXnEYTTZU2ggtPKne9KLoeYk5okvhJS7FaOB6GA9Cj3jnE7YjI41wKM8NcWQNXbf4EgPn/IK0z7N1jkcNqwrN9bdM2rEQW0rcJrLAx7rUigDEkDYJ502u92HK3m2iQtrt2Ox6ze1MUfMM0GT2/IA4XSmfrjalJkGwhB0t61x+WLEbhvFHDDdPBMdtIoKvFCTIwlA2HcufKYQRrP0cNRA/Ug37ql3EKN3Av3LmnkcYMbECaPjsceXCiAmTEvrVwGiAiS79vOhh1f2b2UzFsysuOzGHjGd4q+HHt4sLd7ixNx74sjhXZp8A4QwdbO0WE50ZHJoBguQmnmtYSOAEJovq3qiU/9hbGOAEMYURGH5umc6vDY9seRkl42KYWCVXl0ZCofXorDgbotwCQIjmPx7UT85Nja18r6GbQvJDGsdEX/voo3G69VYpsPhKawU9CREn9aIG/GViXsg81WsdSmy8pSW4IjwW/Koz7Bf9JM96EX7SQAI6GIo0YPjK087MgMIYfqwxlQDTLHPjHeo7hPyZeErbW/tjC7GE7LxNrit7HDLSiSIfYXUw3FaRKRpaHIkOoB1R14JpYvQVdha2RlZ6k0FEKpIRVWAqADJNiDk8L0TF7cuQWBe+8882C3zZi2CCe/dwnY7mFjJjd9yGP6RqqBUqENW9ad6SLCkbKyBhJ2y0MCNNBDChPmSCfzoT5WOvKO0JlIVvaSxUmCTmau/oOOqSATCsq0K2uKggdC7G2jHBj6ggwJEnwCQF53L4tTcYiaV2Evx5PyCX9JAjL1CgQdfZhoIw1ikQhOs7ouUWHGarznIziUAZLknIFTp03WLP15rckojuVvEnOImoXjSO0cKgHTSJPEqQFSAZJ3e/dS9G2VbVaBSa87tgxfku8k7j23hCaO/8pkHP+bUfXdDgBDCDJrn+bI/LwbEauGMt1suNhUqiIUr6emkFQlbWfbtpIiFd0KNCxjXp+8W6rQ2BoLNSiN9rOcL/0PDjN4optYeaWrjha/hSVNPjL+h7z1XVc4NGojXEuCFbeNAK5cFmDHOwLOvKPNqh63s2+de8xMqrg0g3f/L3pm9tnXlcdxvkh8k9CQhWeiiHS1Y+77a1mJdIelai4mMJD8ICvMXKJS0gnkIKWiSaYhpmxnHAY9cBhq7pXVMGLfgZpjM9KUMgUAc58VPA3mOKVMKc86VF9mRHS9a7tX8fhjs3Ej3nu89h9/nbL/zOzzE8E/NT2i9D5ef4Uwcv+yvw9ferrUS/X19crH+l/1cUS04/P76h82DnWD/3NlPdPvhJ6tv2zJNrLdy2X3/9jhA0Lvaffnrdus73+98cXR8+eL6H/Z1f//Vl7Wjsj76ii5q64l/ad9A/dmLwxQne4imf34EAAGAXCHNrSxHDWdMIe6NO6rGE9lcRUFZmdIOJUFw9CCZ0iR70U46jEBwircfbq9uL++uNTefHGU3+Gyz0XjcESD12s8fv9re/mkTnwJfv99s3Nk4bN+PGo3/vDxwo7UfV56/2V7eXl1f+XXhndQL91caa8u7T5v/uNeeE2jx73eaa8s7T3978WzryL8ufNlc3XndeEb76O++/e318u5qc2Xj4ItbD4/H09MA/Fvjxqe1hW+ar5d3Vu98d/QMdLdnt3/a3XmzebNWu9dsPF46uP5gs/l0d2395xMZHhYeI1FHewieN9Z/PLzV0uP1tV30gOePFo4ltfhm/dXO9psTmeDr9xsN9LnFx/ilvFnZai9T7V83XuE6aKzsHb0pdP3+jVuvd1Zv3MPXHjxvfHx0cvIXzcaLjdbjNm/d2lwCgABArrAZy6KpkMM4jYV649G8yiv9PxI8Ys2M26ScPgGk5a6WtvY2Fuu1Nt91er4mOv7vydZHtVYSqbbPdfj1cmtva6n9attN6ot3Nx60P/Rg+WXvyeJC+43opHJPbtYPHrVw8+7GUu0o89BtNAp6N1Bk/wfdbak9SRH918uNJx+1/jwsPX19cWOxU0k73Pfw/xY36AecTDH06ZOthY75iuqtl/LyWOIk+htbe3dp3fV2WCOxWGu9Q5Xs/wt/ZuE8eY0AIACQU40nxbM6wxZih48voXKGQKfVAFowMWzbefH01fxUWMTpH0CO9XiPX+vslNrdZ6eEcmff+B3HXH9vWWr1Mz+x9PD6H9cWOhHqJNM6Prr+roc/myCdEtXV66e9oXdfab3TOznlVdVPFLRT0c+oKgAIAOTc01ihbC42XOsCuDfurxiVnYPpROFsbsimsTAwybhewef0FSAsNzQA+fd/+5pZlJ0GAAGAnD2NZZhwaAXcIcIH4ZsveiS8UwTzLfr4UG0/444IrPm0SdqzJjKUAFl4eP3zb2sAEAAIAOSqx/OaZkvOYVlKx7uvEjOywFm9cYltPO8khoWZXAHhS11zCTkAkIvYHRy5DfwAgABArm5J1QSJByHcIcCHzpkpvK83zgtMzSQiw3CwCaozQcQ/rR/rafsYRoB8/flfbwI/ACAAkO5kuk2jPjnbp3Xw7JWdSqlc708FrnQXMuwXTAPTl5s1izgAkIvZeZeQwQAgAJD3Gz+oSlERdntUevjhL7ot59l+JnSpckgwqwchaPhBqMkJ2WSPG8ewAgT4AQABgHTLFMZixmdntTfVWanylFdyXsHulmAui8dbEaosN0s5ABAwAAjYQAEyKgwbKg62nvSBC22P5eWmC5xkLgobqg6nboS1irXRTNGd5HAAIGAAELDBAgSvhJhVZYqVG1zp2StHSn/BUDqlOUsLZqURVjIlC4o5ABAwAAgYAwDCESaNlUyMdYe8c2lvWpZ5xy6aiE+UNFYzMTsLgSmIJMpys5LHAYCAAUDAGAEQDkcSNsQzzhFWHW6CiorXAmwK4eUEV/wsm7hD+NBFSxV3UtinVgEAAYAAQAAg51oKkXpUKVadN8jFawEVTeCSW1l5Y1gwm/KEcAUjTn9cFhbxOAAQMAAIGIMAwuHwlabCXIIl25NwGZ0Z5E3Fl/emPKVpHAtmR2g6PrfdES+6JKP9axIAEAAIAAQAcm6EWPTT8z4dO/CBvOk1j/SqgjXpeZ+dBRN3eO8VNZM2SXn9bBAAEAAIAAQAcpEzeqemM07dCINPN+HiH0KdSF0zKbvAzJAsnWd6GAwdaR+bT+stvP42BwAIAAQAAgC50P6k8FQhE9USIwydysKF0lpJhA/FaJcEywoIIYwWTERiuVn9JL/fjQEAAgABgABALrg/yYsQ4oswMtCO7os7yZzcaOneUoA4aBjPx9TMjCzEc1dWqjyuCfD73xQAIAAQAAgA5KIm9RqKGcqqZVqnnD7EI+qoTpmS3fWmkqBenqcFcxk3+kC8LMvdIeEgGgIABAACAAGAXCZKQiMvk047kxCCo86tVKYq8/QgBZ84ZFSVyaidQcdKtuaufI4U4qVwMM0AAAIAAYAAQC7lUQPGbM7vUzPEo7b64ol8Ve/qURS2cNKWTfljap2AOVGDVipflZkt/EE1AgAIAAQAAgC5JEIsXn01TzqZMZNFqCl/TmYLSHsXBiFSuDTVEhllwEwWer7A7nOUq+6wkj+4JgAAAYAAQAAgl97jKg0Zi6lMLEIIBhkqwRWMaJ3kfMXgVYh6LThgUqUylBoJ5g5y7DGiUydKqaw5KeYNsgEAQAAgABAAyBUOOBEpzLJCDg1DBIKBeVNCHcvPyI0hSR/64jyh0msozDmi2kExE+PD7vPPFPVBqXCwtQ8AAYAAQAAgV+yVSwKm4kQpYR3ETBYXZ/vwp2b1QaWwX31xvjhpk6fLpJMYDEJ0Ucfc9JTHIhodeN0DQAAgABAAyJVd6phLlp4oxezIpfbTp+KpK8fcxDWTRcTrMzTDhtmJeUpN9POgrNbUFTk3MauZlIwyoeIBIAAQAAgApCvHZNmmZuP+mFVLEH3awaqLRMlcWu4OiQeiWOlBDMHRMATB7TU26QcIBFonVZoe13ulDKl0AAgABAACAOnWPleFRzYbL5HOiJY4dPM92nKls1upTGpWbgpIBghNpcswHi87oj0V3LopoVX7HLnCrCY4xpwaB4AAQAAgAJAuMkTp1csLOYcPQUTXA59Kjzy0dms0UaoUZaaAeOADrzGXRlVM+WNOtV3XG70jIzq72olwWVS5w9JRRtU3AAQAAgABgHR1X5YyaDLIq3kHFbVGtF30qTQ8kCv1JTI5+ZTbmxQzRPFY2KZXtQSruyiYuz/wQIL95apKYw5JmVbXABAACAAEANL9EENF2KTPVsv+RCyq1hLHutOXnsPRRZw+ypFPqWQIHlI+owSLlCEbEpzLkLGo1U50Qy8XT9NFKTKTq8o05sCYkIkVDQABgABAACA92adkCZrdsmou7ydjTjQWIQR0pAj3otuOBAJCS487HJlyNas3uRjqS0cRNT1IcBUJxoMvuw4V/aKxIjjAHH1HZ49Yo0hwvqoyGD0hpYjH0FoGgABAACAAkJ5BRJkMmo36ag5jhKI75y2MvNet7ntSPIFDYXTkqga3zRWwSIUM1svhiZXJsMeoQdws+Uk0/LJGCFrHefS20BGx+mJIcAmPO0yekGVMzGTBABAACAAEANLLjrlQLLWEXDZNthBPlfMZB0n58IKzjiAO3ea+0Y6UO0IQOh2evUF+1J8v5VIFOeqFhyeVEhGfwwLjCUVSBRLszhZpwf4DwToCq2sXvI/SA8E+ivQjcqTiRZnbHAwoWCAYAAIAAYAAQHpOET7CiHIyaHYbsqpKJT4zMzf/gd9BJqhYzBeNRp3I0C9fLEYlSNT9np+bmalUqlnUCfcGFGPIk47yOGwyHi04GTYbacEzpwqmkGB/5gMkOI4Eq7J6xErLmEQs5LNCMAAEAAIAAYD0y6vyhcivKpKhsMtsMmoMMlVxvJCeTqd/hyw9PZ0uFOVZmV5jtHlc4QDyoyIhnz/KYa39r727920bPQA4XEuhDMlSBcl2LneJAKFZuHdoOxToWOCErhq4iIQEqdAg2M5AdOrUrVuXAi1wS4dD/4xu/YM6V+/rfDiOFVs+wAap5zcEOTsL4wsfveT70dvCuR2PvP3+t7/71W9++emCf//HP3x2wb++vuDvt4Osly8rZSVAAAIQgDz5nXXby2++/e7N69dv3/7iY2/fvn795rtvv/l5+P5xndpeT/vuC35T6QsGCEAAAhAJIAIIQCSACCACiAAigAggAogAIoBIABFAACIBRAABiAQQAUQAEUAEEAFEABFABBAJIAIIQCSACCAAkQAigAggAogAIoAIIAKIACIBRAABiAQQAUQAEUAEEAFEABFABJD9mq7n29bDWt9o21fzW63Hwz5ABBAB5CfUeLUZbdusai1IYzW63WYwyCfLcQMgAogA8rjGgyRN0zIZLOoMyHSSlmmSJsmHX2JJ0urmWR8gAogA8oj6r7plrPuuX2tAyrtL01a+7gFEABFA9m44S8owAimT2Xn9AUk/6/pLZbmZ9wAigAgg+75cXoy2drRa2ztpZ9muPSDdi/ednXW6RdFK0kjIZg4QAUQA2ffGuirKspXnYQgyuao9IM3x+fvG4/V80Zx1kvj1fAgQAUQA2avefLClo7tqhiHIWdauOyC3Jwr0FnkrDEJal22ACCACyF6zW+Mr9ItsPirDEGRYd0CyL152jPPwGCvNzwEigAgg+zTOAxz5yfAo3F4vFr2DA6SddcIQpJMBRAARQPZ5hb7slGlZrLa/6W5/0zpqHBwgx43wEK8sXgFEABFA9uhkEm6eo/l2KDIL05FGtR2C7AbkOMxjLlsrgAggAsgeA5AsvvqY9befw1+E1+it0/bhATIJV168A4gAIoDscVddhXtnt9kL60EG28/h6WB8eIDkSVwEAxABRAB5cL35INxUN+Prp1nhPtpd9g4NkPEozMIarAEigAggD67fLOLT/7gHVj8+zmrlw0MD5CgsBKnqKxCAAAQgAHmeriY35+6GGb1pZR/lPBKQ9nQVFsIkgyuACCACyMMHIItNGIB8WD3YCJualMmsUWtApp8aDq/G2Sy8BUo2ld3KHiAAAQhAnqPhaXlzC8V2tolDkKzOgMxOjz40mcwGcSestFXho1AAAhCAAORZXqGHAUiSf3x7PDyKn8Yn/foCkt51IsjZUYWnngEEIAAByDPUeBc+fher6cf3AcuLuJgwOxhArv8zzxoAEUAEkD0GIOO48OPm0/+TeLZUa9KoLSB3HklYXMyWU4AIIALIg1+hL+PS85sb8IZpveGNclZfQIrux94fJxVHId1Ts7AEEAHkwXN4wz686dlns3bHgyR8Il+1awvIKvvUctl8Mdkk0ZDWbA4QAUQAeVBh+92wkfu61//U9dYmST6uLSBZu9e+Ub9x3tzEY22rehYKQAACEIA8/RzeSdiDNhlNPisPX0w7l+3aAnLHVibxosuzrAcQAUQAeUDzUZreNas1fDGZnR8QIMfng3guejXPJAQIQAACkCd/hf6qVe7s1puRugNyvCwCnKNKDkEAAhCAAOSpG8+S3X7U8XD0rwFytUnjrvZ9gAggAsj9c3i7WyiS7mZwu1GE5SI7JEAa8USQZAUQAUQAuX8Ob1wyWJz2v2i+CffZ1tHwgABpXw/HKnkgPEAAAhCAPPEc3uxs14rB6Sq5XqDeOxxApkYgAogA8tC76VErbuQ+veN7i7M4BDmdHg4g64u4Gv0SIAKIAHJPvUV8TtVp3vXN4STO5a3qEa+PAeRF4LQcLczCEkAEkHt6f3TU3afX9rNudT+PPwqQ7CIuRZ+dHANEABFAvj4AWedhuWCx4xjw8SzO5J2NDwOQ3nIUV6J/PFgLIAKIALKrfjOOMUY7tg9sXBZxCLJs1xCQW4+p+lfZrIjr8Ss6AAEIQAACkCftapLEjdx3ANGb59d31GH9AEkHs5vl8UzbNGzqPqroqbYAAQhAAPKEtReD+Ap951rB4WlSv8PRdx5pm8YXIJVdOQkQgAAEIE/Y8EURz0LfOcC4XiWyHYK0awfI3SVFvjgGiAAigNw3ALl+QtVt7ubh/UZZnXX9AUnTpDjLl9U9xBcgAAEIQJ7wFfryouh2i6+t82g3R+Ho106zRkOQ6Wn3izqdi00+Wy2mFb4ugAAEIAB5QkDml81t2VeWefSuluGPNOc1WgrSXzS/aJll85OKb9kCEIAABCASQAQQgEgAEUAEEAFEABFABBABRACRACKAAEQCiAACEAkgAogAIoAIIAKIACKACCASQAQQgEgAEUAAIgFEABFABBABRAARQAQQAUQCiAACEAkgAogAIoAIIAKIACKACCACiAAigEgAEUAAIgFEABFABBABRAARQAQQAUQAEUAEEAkgAghAJIAIIAKIACKACCACiAAigAggAogAIgFEAAGIBBABRAARQAQQAUQAEUAEEAFEABFAJIAIIACRACKACCACiAAigAggAogAIgEEIAABiAQQAQQgEkAEEAFEABFABBABRAARQCSACCAAkQCinwTIVfmPf/5NFe3v/22dDsfS83QySf71P/8MD7O//OdPl+2frcs///hXVbUfku5Ieq6K9Af/CA+0H/9dnva3gCRdVbYiaflL0LPVSgp/CQf7ww+AtKfThqqbn578/6fn+eH3j/8P+tveJhyv6w4AAAAASUVORK5CYII=)"
      ]
    },
    {
      "cell_type": "markdown",
      "metadata": {
        "id": "wy8FMRcrX9sB"
      },
      "source": [
        "### **Set : Union (Merge) Operations**"
      ]
    },
    {
      "cell_type": "code",
      "metadata": {
        "id": "EC9402Z_WjHQ",
        "colab": {
          "base_uri": "https://localhost:8080/"
        },
        "outputId": "a79f77b2-c9aa-4a4f-f327-70662063ef06"
      },
      "source": [
        "A = {1, 2, 3}\n",
        "B = {4, 5, 6}\n",
        "\n",
        "print(A | B)"
      ],
      "execution_count": null,
      "outputs": [
        {
          "output_type": "stream",
          "text": [
            "{1, 2, 3, 4, 5, 6}\n"
          ],
          "name": "stdout"
        }
      ]
    },
    {
      "cell_type": "markdown",
      "metadata": {
        "id": "jMHbX1SMmf0Q"
      },
      "source": [
        "### **Set : Intersection Operations**"
      ]
    },
    {
      "cell_type": "code",
      "metadata": {
        "id": "-aJF6h4vYCRg",
        "colab": {
          "base_uri": "https://localhost:8080/"
        },
        "outputId": "c79f1250-7342-4b61-e83e-0eec972a91bb"
      },
      "source": [
        "A = {1, 2, 3, 4, 6}\n",
        "B = {4, 5, 6}\n",
        "\n",
        "print(A & B)"
      ],
      "execution_count": null,
      "outputs": [
        {
          "output_type": "stream",
          "text": [
            "{4, 6}\n"
          ],
          "name": "stdout"
        }
      ]
    },
    {
      "cell_type": "markdown",
      "metadata": {
        "id": "eqm_3-1BoGQv"
      },
      "source": [
        "### **Set : Difference Operations**"
      ]
    },
    {
      "cell_type": "code",
      "metadata": {
        "id": "aQEs1VqGmkOX",
        "colab": {
          "base_uri": "https://localhost:8080/"
        },
        "outputId": "d6bd716c-095a-48fa-b1db-6dabc3bf7bb4"
      },
      "source": [
        "A = {1, 2, 3, 4, 5}\n",
        "B = {4, 5, 6, 7, 8}\n",
        "\n",
        "print(A - B)"
      ],
      "execution_count": null,
      "outputs": [
        {
          "output_type": "stream",
          "text": [
            "{1, 2, 3}\n"
          ],
          "name": "stdout"
        }
      ]
    },
    {
      "cell_type": "markdown",
      "metadata": {
        "id": "mIjnddHYo-De"
      },
      "source": [
        "### **Set : Symmetric Difference Operations**"
      ]
    },
    {
      "cell_type": "code",
      "metadata": {
        "id": "-J0-aToioYRM",
        "colab": {
          "base_uri": "https://localhost:8080/"
        },
        "outputId": "49fd3c03-e3cb-4f9f-90e9-72cbdf091fcf"
      },
      "source": [
        "A = {1, 2, 3, 4, 5}\n",
        "B = {4, 5, 6, 7, 8}\n",
        "\n",
        "print(A ^ B)"
      ],
      "execution_count": null,
      "outputs": [
        {
          "output_type": "stream",
          "text": [
            "{1, 2, 3, 6, 7, 8}\n"
          ],
          "name": "stdout"
        }
      ]
    },
    {
      "cell_type": "markdown",
      "metadata": {
        "id": "mbsqsKDaXsAT"
      },
      "source": [
        "## **Dictionary**"
      ]
    },
    {
      "cell_type": "markdown",
      "metadata": {
        "id": "vGNF8MYCXxUp"
      },
      "source": [
        "### **Dictionary : Basic**"
      ]
    },
    {
      "cell_type": "code",
      "metadata": {
        "id": "S6ktDGoiXryo",
        "colab": {
          "base_uri": "https://localhost:8080/"
        },
        "outputId": "059a64b1-964c-4872-cabd-115e68b0b708"
      },
      "source": [
        "user = {\n",
        "    'nama': \"Kurniadi\",\n",
        "    'age': 18\n",
        "}\n",
        "\n",
        "# nama dan age adalah key\n",
        "# kurniadi dan 18 adalah value\n",
        "\n",
        "print(user)\n",
        "print(user['nama'])\n",
        "print(user.get('age')) # Get Tidak Mengeluarkan Error Ketika Key Tidak Ada Dalam Dictionary"
      ],
      "execution_count": null,
      "outputs": [
        {
          "output_type": "stream",
          "text": [
            "{'nama': 'Kurniadi', 'age': 18}\n",
            "Kurniadi\n",
            "18\n"
          ],
          "name": "stdout"
        }
      ]
    },
    {
      "cell_type": "markdown",
      "metadata": {
        "id": "X_t3fyZMYub7"
      },
      "source": [
        "### **Dictionary : Print Data**"
      ]
    },
    {
      "cell_type": "code",
      "metadata": {
        "id": "B5HpENUjYuAT",
        "colab": {
          "base_uri": "https://localhost:8080/"
        },
        "outputId": "96fe1dd1-8804-4afe-a58a-0377b274fb5f"
      },
      "source": [
        "user = {\n",
        "    'nama': \"Kurniadi\",\n",
        "    'age': 18\n",
        "}\n",
        "\n",
        "for key, value in user.items():\n",
        "    print(key, ':', value)"
      ],
      "execution_count": null,
      "outputs": [
        {
          "output_type": "stream",
          "text": [
            "nama : Kurniadi\n",
            "age : 18\n"
          ],
          "name": "stdout"
        }
      ]
    },
    {
      "cell_type": "markdown",
      "metadata": {
        "id": "g_tQ4RzUYKya"
      },
      "source": [
        "### **Dictionary : Add Data**"
      ]
    },
    {
      "cell_type": "code",
      "metadata": {
        "id": "RzBfWcBqYHpB",
        "colab": {
          "base_uri": "https://localhost:8080/"
        },
        "outputId": "33f89ea2-6a51-45f4-f652-c38032ff48ac"
      },
      "source": [
        "user = {\n",
        "    'nama': \"Kurniadi\",\n",
        "    'age': 18\n",
        "}\n",
        "\n",
        "user['email'] = 'k@gmail.com'\n",
        "print(user)"
      ],
      "execution_count": null,
      "outputs": [
        {
          "output_type": "stream",
          "text": [
            "{'nama': 'Kurniadi', 'age': 18, 'email': 'k@gmail.com'}\n"
          ],
          "name": "stdout"
        }
      ]
    },
    {
      "cell_type": "markdown",
      "metadata": {
        "id": "ulZt9-WhYa6y"
      },
      "source": [
        "### **Dictionary : Update Data**"
      ]
    },
    {
      "cell_type": "code",
      "metadata": {
        "id": "LyeFSv-TpGt1",
        "colab": {
          "base_uri": "https://localhost:8080/"
        },
        "outputId": "30b89921-1030-43a8-e09c-64d7349aa2ba"
      },
      "source": [
        "user = {\n",
        "    'nama': \"Kurniadi\",\n",
        "    'age': 18\n",
        "}\n",
        "\n",
        "print(user)\n",
        "\n",
        "user['age'] = 20\n",
        "print(user)"
      ],
      "execution_count": null,
      "outputs": [
        {
          "output_type": "stream",
          "text": [
            "{'nama': 'Kurniadi', 'age': 18}\n",
            "{'nama': 'Kurniadi', 'age': 20}\n"
          ],
          "name": "stdout"
        }
      ]
    },
    {
      "cell_type": "markdown",
      "metadata": {
        "id": "XM_KOFitY7Ix"
      },
      "source": [
        "### **Dictionary : Checking Key**"
      ]
    },
    {
      "cell_type": "code",
      "metadata": {
        "id": "Ldu_RPePYj-i",
        "colab": {
          "base_uri": "https://localhost:8080/"
        },
        "outputId": "87a0134e-075a-489a-9d09-91b615932311"
      },
      "source": [
        "user = {\n",
        "    'nama': \"Kurniadi\",\n",
        "    'age': 18\n",
        "}\n",
        "\n",
        "if \"nama\" in user:\n",
        "    print(True)\n",
        "\n",
        "if \"birthday\" in user:\n",
        "    print(True)\n",
        "else:\n",
        "    print(False)"
      ],
      "execution_count": null,
      "outputs": [
        {
          "output_type": "stream",
          "text": [
            "True\n",
            "False\n"
          ],
          "name": "stdout"
        }
      ]
    },
    {
      "cell_type": "markdown",
      "metadata": {
        "id": "4D2U8DjaZL9Z"
      },
      "source": [
        "### **Dictionary : Multidimensional (Nested) Item**"
      ]
    },
    {
      "cell_type": "code",
      "metadata": {
        "id": "lnPrPxtKZAzi",
        "colab": {
          "base_uri": "https://localhost:8080/"
        },
        "outputId": "e7c6e5e9-717d-4ec6-a868-ebed5b742f6d"
      },
      "source": [
        "'''\n",
        "Struktur :\n",
        "\n",
        "1. Sets :\n",
        "   1.1 Key (String) \n",
        "   1.2 Value (Array) :\n",
        "       2. Sets :\n",
        "          2.1 Key (String) \n",
        "          2.2 Value (String) \n",
        "'''\n",
        "\n",
        "data = {\n",
        "\n",
        "    'subject' : [\n",
        "        {\n",
        "            'nama' : 'Pengenalan Pemrograman',\n",
        "            'Grade' : 'A'\n",
        "        },\n",
        "        {\n",
        "            'nama' : 'Struktur Data',\n",
        "            'Grade' : 'B'\n",
        "        }\n",
        "    ],\n",
        "    'class' : [\n",
        "        {\n",
        "            'nama' : 'IF-09',\n",
        "            'total' : 38\n",
        "        },\n",
        "        {\n",
        "            'nama': 'IF-08',\n",
        "            'total': 36\n",
        "        }\n",
        "    ]\n",
        "}\n",
        "\n",
        "for n in data.get('subject'):\n",
        "    print('Matkul : {}, Grade : {}'.format(n['nama'], n['Grade']))\n",
        "\n",
        "print(\"\")\n",
        "\n",
        "for n in data.get('class'):\n",
        "    print('Nama Kelas : {}, Total Anak : {}'.format(n['nama'], n['total']))\n"
      ],
      "execution_count": null,
      "outputs": [
        {
          "output_type": "stream",
          "text": [
            "Matkul : Pengenalan Pemrograman, Grade : A\n",
            "Matkul : Struktur Data, Grade : B\n",
            "\n",
            "Nama Kelas : IF-09, Total Anak : 38\n",
            "Nama Kelas : IF-08, Total Anak : 36\n"
          ],
          "name": "stdout"
        }
      ]
    }
  ]
}